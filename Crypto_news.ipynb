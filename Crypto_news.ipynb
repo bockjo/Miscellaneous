{
 "cells": [
  {
   "cell_type": "raw",
   "metadata": {
    "slideshow": {
     "slide_type": "notes"
    }
   },
   "source": [
    "<script>\n",
    "  function code_toggle() {\n",
    "    if (code_shown){\n",
    "      $('div.input').hide('500');\n",
    "      $('#toggleButton').val('Show Code')\n",
    "    } else {\n",
    "      $('div.input').show('500');\n",
    "      $('#toggleButton').val('Hide Code')\n",
    "    }\n",
    "    code_shown = !code_shown\n",
    "  }\n",
    "\n",
    "  $( document ).ready(function(){\n",
    "    code_shown=false;\n",
    "    $('div.input').hide()\n",
    "  });\n",
    "\n",
    "</script>"
   ]
  },
  {
   "cell_type": "raw",
   "metadata": {
    "slideshow": {
     "slide_type": "notes"
    }
   },
   "source": [
    "<script>\n",
    "\n",
    "window.onload=function(){Reveal.initialize({width:\"100%\",height:\"100%\"});}\n",
    "\n",
    "</script>"
   ]
  },
  {
   "cell_type": "markdown",
   "metadata": {
    "heading_collapsed": true,
    "slideshow": {
     "slide_type": "skip"
    }
   },
   "source": [
    "# Query news and blog data"
   ]
  },
  {
   "cell_type": "code",
   "execution_count": 1,
   "metadata": {
    "hidden": true,
    "slideshow": {
     "slide_type": "skip"
    }
   },
   "outputs": [],
   "source": [
    "import numpy as np\n",
    "\n",
    "#Get all country codes\n",
    "import pycountry\n",
    "iso = []\n",
    "name = []\n",
    "for e in list(pycountry.countries):\n",
    "    iso.append(e.alpha_2)\n",
    "    name.append(e.name)\n",
    "    \n",
    "name = np.array(name)\n",
    "iso = np.array(iso)\n",
    "iso = iso[np.argsort(name)]\n",
    "name = name[np.argsort(name)]\n",
    "\n",
    "countr = []\n",
    "for i,e in enumerate(name):\n",
    "    countr.append((e,iso[i]))"
   ]
  },
  {
   "cell_type": "code",
   "execution_count": null,
   "metadata": {
    "hidden": true,
    "scrolled": true,
    "slideshow": {
     "slide_type": "skip"
    }
   },
   "outputs": [],
   "source": [
    "from ipywidgets import Layout, Box, FloatText, Textarea, Dropdown, Label, Checkbox, SelectMultiple, Text, interact\n",
    "\n",
    "form_item_layout = Layout(\n",
    "    display='flex',\n",
    "    flex_flow='row',\n",
    "    justify_content='space-between',\n",
    "    align_content = \"flex-start\",\n",
    "    width = \"auto\"\n",
    ")\n",
    "\n",
    "form_items = [\n",
    "    Box([Label(value='Webhose Token',layout=Layout(width=\"auto\")), Textarea(value = \"76171c1e-faf9-4646-981e-10dda4eb680b\")], layout=form_item_layout),\n",
    "    Box([Label(value='Main query (in brackets)',layout=Layout(width=\"auto\")), Textarea()], layout=form_item_layout),\n",
    "    Box([Label(value='Language',layout=Layout(width=\"auto\")),\n",
    "         Dropdown(options=['english',\"german\"])], layout=form_item_layout),\n",
    "    Box([Label(value='Is first (Exclude comments)',layout=Layout(width=\"auto\")),\n",
    "         Checkbox(value=True)], layout=form_item_layout),\n",
    "    Box([Label(value='Performance score threshold (greater than x)',layout=Layout(width=\"auto\")),\n",
    "         FloatText(value = 1)], layout=form_item_layout),\n",
    "    Box([Label(value='Domain Rank (Top x sites by monthly traffic)',layout=Layout(width=\"auto\")),\n",
    "         FloatText(value = 10000)], layout=form_item_layout),\n",
    "     Box([Label(value='Published X days ago',layout=Layout(width=\"auto\")),\n",
    "         FloatText(value = 30)], layout=form_item_layout),\n",
    "    Box([Label(value='Site type(s) (in brackets)',layout=Layout(width=\"auto\")),\n",
    "         Textarea(value='(site_type:news OR site_type:blogs)')], layout=form_item_layout),\n",
    "    Box([Label(value='Sort by',layout=Layout(width=\"auto\")),\n",
    "         Dropdown(options={'Crawl Date': \"crawled\", 'Relevancy': \"relevancy\", 'Published': \"published\"})], layout=form_item_layout),\n",
    "    Box([Label(value='All countries',layout=Layout(width=\"auto\")),\n",
    "         Checkbox(value=False)], layout=form_item_layout),\n",
    "    Box([Label(value='Country'),\n",
    "         SelectMultiple(options=countr,value = [\"GB\"],layout=Layout(display=\"flex\", flex_flow='column'))], layout=form_item_layout),\n",
    "    Box([Label(value='Other (thread.title or organization in brackets)',layout=Layout(width=\"auto\")),\n",
    "         Textarea()], layout=form_item_layout)\n",
    "]\n",
    "\n",
    "form = Box(form_items, layout=Layout(\n",
    "    flex = \"flex-basis\",\n",
    "    flex_flow='column',\n",
    "    border='solid 1px',\n",
    "    width='60%',\n",
    "    height = \"auto\"\n",
    "))\n",
    "form"
   ]
  },
  {
   "cell_type": "code",
   "execution_count": null,
   "metadata": {
    "hidden": true,
    "slideshow": {
     "slide_type": "skip"
    }
   },
   "outputs": [],
   "source": [
    "#Queries\n",
    "\"\"\"\n",
    "(electric car OR electric cars OR autonomous driving OR autonomous car OR connected car)\n",
    "\n",
    "((sport OR luxury) AND future AND (car sharing OR car rental OR car ownership OR car club OR car purchase OR car lease))\n",
    "\n",
    "((sport OR luxury) AND future AND (car OR vehicle) AND (rent OR rental OR lease OR leasing OR own OR buy OR purchase OR club OR subscription OR share OR sharing))\n",
    "\n",
    "\"\"\""
   ]
  },
  {
   "cell_type": "code",
   "execution_count": null,
   "metadata": {
    "hidden": true,
    "slideshow": {
     "slide_type": "skip"
    }
   },
   "outputs": [],
   "source": [
    "# Set up query with form inputs\n",
    "params = []\n",
    "for el in form.children:\n",
    "    params.append(el.children[1].value)\n",
    "    \n",
    "#Transform multi select countries\n",
    "if params[-3]:\n",
    "    params[-2]=\"\"\n",
    "else:    \n",
    "    repl = []\n",
    "    for i, c in enumerate(params[-2]):\n",
    "        repl.append(\"thread.country:\"+c)\n",
    "    if len(params[-2])>1:\n",
    "        params[-2] = \"(\"+\" OR \".join(repl)+\")\"\n",
    "    else: \n",
    "        params[-2] = repl[0]"
   ]
  },
  {
   "cell_type": "code",
   "execution_count": null,
   "metadata": {
    "hidden": true,
    "slideshow": {
     "slide_type": "skip"
    }
   },
   "outputs": [],
   "source": [
    "#Build and run query\n",
    "import webhoseio\n",
    "import time\n",
    "import datetime\n",
    "\n",
    "webhoseio.config(token=params[0])\n",
    "query_params = {\"q\":params[1]+\" language:\"+params[2]+\" is_first:\"+str(params[3]).lower()+\" performance_score:>\"+str(int(params[4]))+\n",
    "                \" domain_rank:<\"+str(int(params[5]))+\" \"+params[7]+\" \"+params[10]+\" \"+params[11],\n",
    "               \"ts\":str(int(time.mktime((datetime.datetime.now() + datetime.timedelta(-params[6])).timetuple()) * 1000)),\n",
    "               \"sort\":params[8]}\n",
    "\n",
    "output = webhoseio.query(\"filterWebContent\", query_params)\n",
    "print(\"Total number of documents: \",output['totalResults'])"
   ]
  },
  {
   "cell_type": "code",
   "execution_count": null,
   "metadata": {
    "hidden": true,
    "slideshow": {
     "slide_type": "skip"
    }
   },
   "outputs": [],
   "source": [
    "import pandas as pd\n",
    "\n",
    "def get_list(obj,key):\n",
    "    l = []\n",
    "    for e in obj:\n",
    "        l.append(e[key])\n",
    "    return l\n",
    "\n",
    "data = []\n",
    "\n",
    "#Get all results to pandas dataframe\n",
    "while True:\n",
    "    \n",
    "    if len(output[\"posts\"]) != 0:\n",
    "        for post in output['posts']:\n",
    "            data.append({\n",
    "                \"entity_persons\":get_list(post[\"entities\"][\"persons\"],\"name\"),\n",
    "                \"entity_organizations\":get_list(post[\"entities\"][\"organizations\"],\"name\"),\n",
    "                \"entity_locations\":get_list(post[\"entities\"][\"locations\"],\"name\"),\n",
    "                \"uuid\":post[\"uuid\"],\n",
    "                \"author\":post[\"author\"],\n",
    "                \"url\":post[\"url\"],\n",
    "                \"language\":post[\"language\"],\n",
    "                \"title\":post[\"title\"],\n",
    "                \"highlightText\":post[\"highlightText\"],\n",
    "                \"text\":post[\"text\"],\n",
    "                \"publishedDate\":post[\"published\"],\n",
    "                \"crawledDate\":post[\"crawled\"],\n",
    "                \"fb_likes\":post[\"thread\"][\"social\"][\"facebook\"][\"likes\"],\n",
    "                \"fb_shares\":post[\"thread\"][\"social\"][\"facebook\"][\"shares\"],\n",
    "                \"linkedin_shares\":post[\"thread\"][\"social\"][\"linkedin\"][\"shares\"],\n",
    "                \"gplus_shares\":post[\"thread\"][\"social\"][\"gplus\"][\"shares\"],\n",
    "                \"source\":post[\"thread\"][\"site_full\"],\n",
    "                \"country\":post[\"thread\"][\"country\"],\n",
    "                \"performance_score\":post[\"thread\"][\"performance_score\"],\n",
    "                \"participants_counts\":post[\"thread\"][\"participants_count\"],\n",
    "                \"site_type\":post[\"thread\"][\"site_type\"]\n",
    "                \n",
    "            })\n",
    "    else:\n",
    "        break\n",
    "        \n",
    "    #Get next batch of data\n",
    "    time.sleep(30)\n",
    "    output = webhoseio.get_next()\n",
    "    \n",
    "data = pd.DataFrame.from_dict(data)\n",
    "data.crawledDate = pd.to_datetime(data.crawledDate).dt.date\n",
    "data.publishedDate = pd.to_datetime(data.publishedDate).dt.date\n",
    "\n",
    "#Save data\n",
    "data.to_csv(\"crypto.csv\",header=True, index=False, encoding='utf-8',sep=\";\")"
   ]
  },
  {
   "cell_type": "code",
   "execution_count": 136,
   "metadata": {
    "hidden": true,
    "slideshow": {
     "slide_type": "skip"
    }
   },
   "outputs": [
    {
     "data": {
      "text/plain": [
       "array(['www.bloomberg.com', 'www.independent.co.uk',\n",
       "       'www.theguardian.com', 'www.marketwatch.com',\n",
       "       'www.rollingstone.com', 'www.businessinsider.com',\n",
       "       'economictimes.indiatimes.com', 'www.forbes.com',\n",
       "       'www.theatlantic.com', 'www.theverge.com', 'medium.com',\n",
       "       'www.latimes.com', 'timesofindia.indiatimes.com', 'www.wired.com',\n",
       "       'www.thedailybeast.com', 'www.reuters.com', 'www.wsj.com',\n",
       "       'www.moneycontrol.com', 'news.abs-cbn.com', 'www.rt.com',\n",
       "       'www.buzzfeed.com', 'www.cnet.com', 'www.bbc.com',\n",
       "       'uk.businessinsider.com', 'www.msn.com', 'www.cnbc.com',\n",
       "       'www.huffingtonpost.com', 'newsinfo.inquirer.net',\n",
       "       'gadgets.ndtv.com', 'www.thehindu.com', 'business.inquirer.net',\n",
       "       'www.europol.europa.eu', 'www.washingtonpost.com',\n",
       "       'sg.news.yahoo.com', 'finance.yahoo.com', 'www.investing.com',\n",
       "       'www.pcmag.com', 'abcnews.go.com', 'au.finance.yahoo.com',\n",
       "       'www.reddit.com', 'www.foxnews.com', 'www.telegraph.co.uk',\n",
       "       'www.usatoday.com', 'www.bbc.co.uk', 'site.people.com',\n",
       "       'techcrunch.com', 'www.vice.com', 'people.com', 'www.nytimes.com',\n",
       "       'www.engadget.com', 'lifestyle.inquirer.net', 'www.npr.org',\n",
       "       'in.finance.yahoo.com', 'www.investopedia.com', 'me.pcmag.com',\n",
       "       'steamed.kotaku.com', 'www.politico.com', 'www.nbcnews.com',\n",
       "       'www.cbsnews.com', 'www.indiatimes.com', 'time.com',\n",
       "       'sports.yahoo.com', 'noisey.vice.com', 'edition.cnn.com',\n",
       "       'www.cnn.com'], dtype=object)"
      ]
     },
     "execution_count": 136,
     "metadata": {},
     "output_type": "execute_result"
    }
   ],
   "source": [
    "data[\"source\"].unique()"
   ]
  },
  {
   "cell_type": "code",
   "execution_count": null,
   "metadata": {
    "hidden": true,
    "slideshow": {
     "slide_type": "skip"
    }
   },
   "outputs": [],
   "source": [
    "data.columns"
   ]
  },
  {
   "cell_type": "markdown",
   "metadata": {
    "slideshow": {
     "slide_type": "skip"
    }
   },
   "source": [
    "# Run topic model"
   ]
  },
  {
   "cell_type": "code",
   "execution_count": 1,
   "metadata": {
    "slideshow": {
     "slide_type": "skip"
    }
   },
   "outputs": [
    {
     "name": "stderr",
     "output_type": "stream",
     "text": [
      "C:\\Users\\bockj\\Anaconda3\\lib\\site-packages\\gensim\\utils.py:1167: UserWarning: detected Windows; aliasing chunkize to chunkize_serial\n",
      "  warnings.warn(\"detected Windows; aliasing chunkize to chunkize_serial\")\n"
     ]
    }
   ],
   "source": [
    "import NewsTrends\n",
    "import pandas as pd\n",
    "import locale\n",
    "\n",
    "#locale.setlocale(locale.LC_ALL, 'deu_deu')\n",
    "%matplotlib inline\n",
    "\n",
    "data = pd.read_csv(\"crypto.csv\",sep=\";\",encoding='utf-8')\n",
    "#data.date = pd.to_datetime(data.date,format=\"%d. %B %Y\")\n",
    "#data.shape"
   ]
  },
  {
   "cell_type": "code",
   "execution_count": 2,
   "metadata": {
    "scrolled": true,
    "slideshow": {
     "slide_type": "skip"
    }
   },
   "outputs": [
    {
     "name": "stdout",
     "output_type": "stream",
     "text": [
      "Train bigram model ...\n",
      "mid april income_tax filing deadline contribute crypto fall price investor win big bet digital_token sell remain holding pay $_25 billion capital_gain levy tom_lee head_research fundstrat_global advisors write note thursday\n",
      "\n",
      "bitcoin drop 40_percent past_month include 1.2 percent decline thursday $ 6,750 new_york close\n",
      "\n",
      "massive outflow crypto dollar\n",
      "\n",
      "lee write\n",
      "\n"
     ]
    }
   ],
   "source": [
    "t = NewsTrends.topicModel(data,\n",
    "                          key_idx=list(data.columns).index(\"uuid\"),\n",
    "                          text_idx=list(data.columns).index(\"text\"),\n",
    "                          lang=\"en\",random_state = 1,\n",
    "                          bigram = True)"
   ]
  },
  {
   "cell_type": "code",
   "execution_count": 3,
   "metadata": {
    "slideshow": {
     "slide_type": "skip"
    }
   },
   "outputs": [],
   "source": [
    "tok_dat = t.tokenize_docs(rmv_tokens=[\"'s\",'$',\"mr\",\"mr.\"])\n",
    "corpus = t.get_bow(below = 0.05,above = 0.9)"
   ]
  },
  {
   "cell_type": "code",
   "execution_count": 4,
   "metadata": {
    "scrolled": true,
    "slideshow": {
     "slide_type": "skip"
    }
   },
   "outputs": [],
   "source": [
    "#k,results = t.LDA_tune_k(max_k=30,iterations=1000)"
   ]
  },
  {
   "cell_type": "code",
   "execution_count": 5,
   "metadata": {
    "scrolled": true,
    "slideshow": {
     "slide_type": "skip"
    }
   },
   "outputs": [
    {
     "name": "stderr",
     "output_type": "stream",
     "text": [
      "INFO:lda:n_documents: 461\n",
      "INFO:lda:vocab_size: 947\n",
      "INFO:lda:n_words: 91367\n",
      "INFO:lda:n_topics: 12\n",
      "INFO:lda:n_iter: 5000\n",
      "INFO:lda:<0> log likelihood: -882722\n",
      "INFO:lda:<10> log likelihood: -682248\n",
      "INFO:lda:<20> log likelihood: -657447\n",
      "INFO:lda:<30> log likelihood: -648925\n",
      "INFO:lda:<40> log likelihood: -644385\n",
      "INFO:lda:<50> log likelihood: -640942\n",
      "INFO:lda:<60> log likelihood: -639500\n",
      "INFO:lda:<70> log likelihood: -637588\n",
      "INFO:lda:<80> log likelihood: -637519\n",
      "INFO:lda:<90> log likelihood: -636031\n",
      "INFO:lda:<100> log likelihood: -635909\n",
      "INFO:lda:<110> log likelihood: -635001\n",
      "INFO:lda:<120> log likelihood: -634224\n",
      "INFO:lda:<130> log likelihood: -634237\n",
      "INFO:lda:<140> log likelihood: -634315\n",
      "INFO:lda:<150> log likelihood: -634488\n",
      "INFO:lda:<160> log likelihood: -633643\n",
      "INFO:lda:<170> log likelihood: -633720\n",
      "INFO:lda:<180> log likelihood: -633399\n",
      "INFO:lda:<190> log likelihood: -633447\n",
      "INFO:lda:<200> log likelihood: -633511\n",
      "INFO:lda:<210> log likelihood: -633533\n",
      "INFO:lda:<220> log likelihood: -633361\n",
      "INFO:lda:<230> log likelihood: -633233\n",
      "INFO:lda:<240> log likelihood: -633041\n",
      "INFO:lda:<250> log likelihood: -632770\n",
      "INFO:lda:<260> log likelihood: -632861\n",
      "INFO:lda:<270> log likelihood: -632837\n",
      "INFO:lda:<280> log likelihood: -632675\n",
      "INFO:lda:<290> log likelihood: -632579\n",
      "INFO:lda:<300> log likelihood: -632636\n",
      "INFO:lda:<310> log likelihood: -632302\n",
      "INFO:lda:<320> log likelihood: -632920\n",
      "INFO:lda:<330> log likelihood: -632824\n",
      "INFO:lda:<340> log likelihood: -632290\n",
      "INFO:lda:<350> log likelihood: -632781\n",
      "INFO:lda:<360> log likelihood: -632521\n",
      "INFO:lda:<370> log likelihood: -633109\n",
      "INFO:lda:<380> log likelihood: -632631\n",
      "INFO:lda:<390> log likelihood: -632381\n",
      "INFO:lda:<400> log likelihood: -632797\n",
      "INFO:lda:<410> log likelihood: -632530\n",
      "INFO:lda:<420> log likelihood: -632892\n",
      "INFO:lda:<430> log likelihood: -632345\n",
      "INFO:lda:<440> log likelihood: -633164\n",
      "INFO:lda:<450> log likelihood: -632506\n",
      "INFO:lda:<460> log likelihood: -632427\n",
      "INFO:lda:<470> log likelihood: -632606\n",
      "INFO:lda:<480> log likelihood: -632193\n",
      "INFO:lda:<490> log likelihood: -632293\n",
      "INFO:lda:<500> log likelihood: -632006\n",
      "INFO:lda:<510> log likelihood: -632131\n",
      "INFO:lda:<520> log likelihood: -632436\n",
      "INFO:lda:<530> log likelihood: -631932\n",
      "INFO:lda:<540> log likelihood: -631718\n",
      "INFO:lda:<550> log likelihood: -631941\n",
      "INFO:lda:<560> log likelihood: -632008\n",
      "INFO:lda:<570> log likelihood: -631977\n",
      "INFO:lda:<580> log likelihood: -632396\n",
      "INFO:lda:<590> log likelihood: -632415\n",
      "INFO:lda:<600> log likelihood: -632030\n",
      "INFO:lda:<610> log likelihood: -632166\n",
      "INFO:lda:<620> log likelihood: -631344\n",
      "INFO:lda:<630> log likelihood: -631981\n",
      "INFO:lda:<640> log likelihood: -632179\n",
      "INFO:lda:<650> log likelihood: -631387\n",
      "INFO:lda:<660> log likelihood: -632209\n",
      "INFO:lda:<670> log likelihood: -631884\n",
      "INFO:lda:<680> log likelihood: -632470\n",
      "INFO:lda:<690> log likelihood: -631854\n",
      "INFO:lda:<700> log likelihood: -631748\n",
      "INFO:lda:<710> log likelihood: -631250\n",
      "INFO:lda:<720> log likelihood: -631361\n",
      "INFO:lda:<730> log likelihood: -630766\n",
      "INFO:lda:<740> log likelihood: -631034\n",
      "INFO:lda:<750> log likelihood: -631999\n",
      "INFO:lda:<760> log likelihood: -631765\n",
      "INFO:lda:<770> log likelihood: -631973\n",
      "INFO:lda:<780> log likelihood: -632125\n",
      "INFO:lda:<790> log likelihood: -632038\n",
      "INFO:lda:<800> log likelihood: -632197\n",
      "INFO:lda:<810> log likelihood: -631650\n",
      "INFO:lda:<820> log likelihood: -632386\n",
      "INFO:lda:<830> log likelihood: -631682\n",
      "INFO:lda:<840> log likelihood: -632319\n",
      "INFO:lda:<850> log likelihood: -631552\n",
      "INFO:lda:<860> log likelihood: -631422\n",
      "INFO:lda:<870> log likelihood: -631234\n",
      "INFO:lda:<880> log likelihood: -631266\n",
      "INFO:lda:<890> log likelihood: -631497\n",
      "INFO:lda:<900> log likelihood: -632250\n",
      "INFO:lda:<910> log likelihood: -632075\n",
      "INFO:lda:<920> log likelihood: -631816\n",
      "INFO:lda:<930> log likelihood: -630838\n",
      "INFO:lda:<940> log likelihood: -631736\n",
      "INFO:lda:<950> log likelihood: -630959\n",
      "INFO:lda:<960> log likelihood: -631142\n",
      "INFO:lda:<970> log likelihood: -631300\n",
      "INFO:lda:<980> log likelihood: -631831\n",
      "INFO:lda:<990> log likelihood: -631549\n",
      "INFO:lda:<1000> log likelihood: -631084\n",
      "INFO:lda:<1010> log likelihood: -630778\n",
      "INFO:lda:<1020> log likelihood: -630620\n",
      "INFO:lda:<1030> log likelihood: -630613\n",
      "INFO:lda:<1040> log likelihood: -630598\n",
      "INFO:lda:<1050> log likelihood: -631051\n",
      "INFO:lda:<1060> log likelihood: -631329\n",
      "INFO:lda:<1070> log likelihood: -631005\n",
      "INFO:lda:<1080> log likelihood: -630772\n",
      "INFO:lda:<1090> log likelihood: -630605\n",
      "INFO:lda:<1100> log likelihood: -630635\n",
      "INFO:lda:<1110> log likelihood: -630822\n",
      "INFO:lda:<1120> log likelihood: -631388\n",
      "INFO:lda:<1130> log likelihood: -631157\n",
      "INFO:lda:<1140> log likelihood: -631037\n",
      "INFO:lda:<1150> log likelihood: -630716\n",
      "INFO:lda:<1160> log likelihood: -630914\n",
      "INFO:lda:<1170> log likelihood: -630587\n",
      "INFO:lda:<1180> log likelihood: -630367\n",
      "INFO:lda:<1190> log likelihood: -630900\n",
      "INFO:lda:<1200> log likelihood: -630995\n",
      "INFO:lda:<1210> log likelihood: -631120\n",
      "INFO:lda:<1220> log likelihood: -630888\n",
      "INFO:lda:<1230> log likelihood: -631011\n",
      "INFO:lda:<1240> log likelihood: -630954\n",
      "INFO:lda:<1250> log likelihood: -630585\n",
      "INFO:lda:<1260> log likelihood: -630908\n",
      "INFO:lda:<1270> log likelihood: -631285\n",
      "INFO:lda:<1280> log likelihood: -630562\n",
      "INFO:lda:<1290> log likelihood: -630245\n",
      "INFO:lda:<1300> log likelihood: -631237\n",
      "INFO:lda:<1310> log likelihood: -630642\n",
      "INFO:lda:<1320> log likelihood: -630523\n",
      "INFO:lda:<1330> log likelihood: -630319\n",
      "INFO:lda:<1340> log likelihood: -630056\n",
      "INFO:lda:<1350> log likelihood: -630197\n",
      "INFO:lda:<1360> log likelihood: -630911\n",
      "INFO:lda:<1370> log likelihood: -630454\n",
      "INFO:lda:<1380> log likelihood: -630482\n",
      "INFO:lda:<1390> log likelihood: -629938\n",
      "INFO:lda:<1400> log likelihood: -630721\n",
      "INFO:lda:<1410> log likelihood: -630577\n",
      "INFO:lda:<1420> log likelihood: -630011\n",
      "INFO:lda:<1430> log likelihood: -630446\n",
      "INFO:lda:<1440> log likelihood: -630835\n",
      "INFO:lda:<1450> log likelihood: -629769\n",
      "INFO:lda:<1460> log likelihood: -629790\n",
      "INFO:lda:<1470> log likelihood: -630190\n",
      "INFO:lda:<1480> log likelihood: -629971\n",
      "INFO:lda:<1490> log likelihood: -630558\n",
      "INFO:lda:<1500> log likelihood: -629923\n",
      "INFO:lda:<1510> log likelihood: -629277\n",
      "INFO:lda:<1520> log likelihood: -630031\n",
      "INFO:lda:<1530> log likelihood: -630336\n",
      "INFO:lda:<1540> log likelihood: -629421\n",
      "INFO:lda:<1550> log likelihood: -629381\n",
      "INFO:lda:<1560> log likelihood: -629755\n",
      "INFO:lda:<1570> log likelihood: -629124\n",
      "INFO:lda:<1580> log likelihood: -629232\n",
      "INFO:lda:<1590> log likelihood: -629020\n",
      "INFO:lda:<1600> log likelihood: -628467\n",
      "INFO:lda:<1610> log likelihood: -629065\n",
      "INFO:lda:<1620> log likelihood: -629173\n",
      "INFO:lda:<1630> log likelihood: -628801\n",
      "INFO:lda:<1640> log likelihood: -628811\n",
      "INFO:lda:<1650> log likelihood: -628978\n",
      "INFO:lda:<1660> log likelihood: -629391\n",
      "INFO:lda:<1670> log likelihood: -629625\n",
      "INFO:lda:<1680> log likelihood: -629443\n",
      "INFO:lda:<1690> log likelihood: -628740\n",
      "INFO:lda:<1700> log likelihood: -628473\n",
      "INFO:lda:<1710> log likelihood: -629062\n",
      "INFO:lda:<1720> log likelihood: -628386\n",
      "INFO:lda:<1730> log likelihood: -628799\n",
      "INFO:lda:<1740> log likelihood: -628539\n",
      "INFO:lda:<1750> log likelihood: -628968\n",
      "INFO:lda:<1760> log likelihood: -628948\n",
      "INFO:lda:<1770> log likelihood: -628423\n",
      "INFO:lda:<1780> log likelihood: -628942\n",
      "INFO:lda:<1790> log likelihood: -628836\n",
      "INFO:lda:<1800> log likelihood: -628534\n",
      "INFO:lda:<1810> log likelihood: -628557\n",
      "INFO:lda:<1820> log likelihood: -628892\n",
      "INFO:lda:<1830> log likelihood: -628732\n",
      "INFO:lda:<1840> log likelihood: -628409\n",
      "INFO:lda:<1850> log likelihood: -628312\n",
      "INFO:lda:<1860> log likelihood: -627815\n",
      "INFO:lda:<1870> log likelihood: -627571\n",
      "INFO:lda:<1880> log likelihood: -627982\n",
      "INFO:lda:<1890> log likelihood: -627945\n",
      "INFO:lda:<1900> log likelihood: -628570\n",
      "INFO:lda:<1910> log likelihood: -627960\n",
      "INFO:lda:<1920> log likelihood: -627953\n",
      "INFO:lda:<1930> log likelihood: -627946\n",
      "INFO:lda:<1940> log likelihood: -628094\n",
      "INFO:lda:<1950> log likelihood: -628466\n",
      "INFO:lda:<1960> log likelihood: -628996\n",
      "INFO:lda:<1970> log likelihood: -628590\n",
      "INFO:lda:<1980> log likelihood: -628852\n",
      "INFO:lda:<1990> log likelihood: -628569\n",
      "INFO:lda:<2000> log likelihood: -628457\n",
      "INFO:lda:<2010> log likelihood: -628331\n",
      "INFO:lda:<2020> log likelihood: -628193\n",
      "INFO:lda:<2030> log likelihood: -628364\n"
     ]
    },
    {
     "name": "stderr",
     "output_type": "stream",
     "text": [
      "INFO:lda:<2040> log likelihood: -628519\n",
      "INFO:lda:<2050> log likelihood: -628459\n",
      "INFO:lda:<2060> log likelihood: -628544\n",
      "INFO:lda:<2070> log likelihood: -628270\n",
      "INFO:lda:<2080> log likelihood: -628425\n",
      "INFO:lda:<2090> log likelihood: -628340\n",
      "INFO:lda:<2100> log likelihood: -628557\n",
      "INFO:lda:<2110> log likelihood: -629367\n",
      "INFO:lda:<2120> log likelihood: -627756\n",
      "INFO:lda:<2130> log likelihood: -627714\n",
      "INFO:lda:<2140> log likelihood: -627656\n",
      "INFO:lda:<2150> log likelihood: -627478\n",
      "INFO:lda:<2160> log likelihood: -627473\n",
      "INFO:lda:<2170> log likelihood: -626669\n",
      "INFO:lda:<2180> log likelihood: -626617\n",
      "INFO:lda:<2190> log likelihood: -626879\n",
      "INFO:lda:<2200> log likelihood: -626706\n",
      "INFO:lda:<2210> log likelihood: -627158\n",
      "INFO:lda:<2220> log likelihood: -627085\n",
      "INFO:lda:<2230> log likelihood: -627281\n",
      "INFO:lda:<2240> log likelihood: -626679\n",
      "INFO:lda:<2250> log likelihood: -627400\n",
      "INFO:lda:<2260> log likelihood: -627615\n",
      "INFO:lda:<2270> log likelihood: -627224\n",
      "INFO:lda:<2280> log likelihood: -627243\n",
      "INFO:lda:<2290> log likelihood: -626597\n",
      "INFO:lda:<2300> log likelihood: -626782\n",
      "INFO:lda:<2310> log likelihood: -626702\n",
      "INFO:lda:<2320> log likelihood: -627063\n",
      "INFO:lda:<2330> log likelihood: -626546\n",
      "INFO:lda:<2340> log likelihood: -626577\n",
      "INFO:lda:<2350> log likelihood: -626872\n",
      "INFO:lda:<2360> log likelihood: -627288\n",
      "INFO:lda:<2370> log likelihood: -627051\n",
      "INFO:lda:<2380> log likelihood: -626738\n",
      "INFO:lda:<2390> log likelihood: -626576\n",
      "INFO:lda:<2400> log likelihood: -626894\n",
      "INFO:lda:<2410> log likelihood: -626886\n",
      "INFO:lda:<2420> log likelihood: -626985\n",
      "INFO:lda:<2430> log likelihood: -627357\n",
      "INFO:lda:<2440> log likelihood: -626570\n",
      "INFO:lda:<2450> log likelihood: -626849\n",
      "INFO:lda:<2460> log likelihood: -627166\n",
      "INFO:lda:<2470> log likelihood: -626459\n",
      "INFO:lda:<2480> log likelihood: -626805\n",
      "INFO:lda:<2490> log likelihood: -626793\n",
      "INFO:lda:<2500> log likelihood: -626571\n",
      "INFO:lda:<2510> log likelihood: -627181\n",
      "INFO:lda:<2520> log likelihood: -626941\n",
      "INFO:lda:<2530> log likelihood: -626358\n",
      "INFO:lda:<2540> log likelihood: -627604\n",
      "INFO:lda:<2550> log likelihood: -627363\n",
      "INFO:lda:<2560> log likelihood: -627651\n",
      "INFO:lda:<2570> log likelihood: -627559\n",
      "INFO:lda:<2580> log likelihood: -627499\n",
      "INFO:lda:<2590> log likelihood: -627064\n",
      "INFO:lda:<2600> log likelihood: -627105\n",
      "INFO:lda:<2610> log likelihood: -626805\n",
      "INFO:lda:<2620> log likelihood: -627068\n",
      "INFO:lda:<2630> log likelihood: -626358\n",
      "INFO:lda:<2640> log likelihood: -626642\n",
      "INFO:lda:<2650> log likelihood: -626878\n",
      "INFO:lda:<2660> log likelihood: -626988\n",
      "INFO:lda:<2670> log likelihood: -627023\n",
      "INFO:lda:<2680> log likelihood: -627049\n",
      "INFO:lda:<2690> log likelihood: -627383\n",
      "INFO:lda:<2700> log likelihood: -627501\n",
      "INFO:lda:<2710> log likelihood: -626590\n",
      "INFO:lda:<2720> log likelihood: -627238\n",
      "INFO:lda:<2730> log likelihood: -627820\n",
      "INFO:lda:<2740> log likelihood: -626946\n",
      "INFO:lda:<2750> log likelihood: -627123\n",
      "INFO:lda:<2760> log likelihood: -627341\n",
      "INFO:lda:<2770> log likelihood: -627172\n",
      "INFO:lda:<2780> log likelihood: -627546\n",
      "INFO:lda:<2790> log likelihood: -627169\n",
      "INFO:lda:<2800> log likelihood: -627292\n",
      "INFO:lda:<2810> log likelihood: -626547\n",
      "INFO:lda:<2820> log likelihood: -626751\n",
      "INFO:lda:<2830> log likelihood: -627054\n",
      "INFO:lda:<2840> log likelihood: -626770\n",
      "INFO:lda:<2850> log likelihood: -627088\n",
      "INFO:lda:<2860> log likelihood: -626965\n",
      "INFO:lda:<2870> log likelihood: -627293\n",
      "INFO:lda:<2880> log likelihood: -626917\n",
      "INFO:lda:<2890> log likelihood: -626735\n",
      "INFO:lda:<2900> log likelihood: -627079\n",
      "INFO:lda:<2910> log likelihood: -627465\n",
      "INFO:lda:<2920> log likelihood: -627074\n",
      "INFO:lda:<2930> log likelihood: -626513\n",
      "INFO:lda:<2940> log likelihood: -627535\n",
      "INFO:lda:<2950> log likelihood: -627373\n",
      "INFO:lda:<2960> log likelihood: -627417\n",
      "INFO:lda:<2970> log likelihood: -627039\n",
      "INFO:lda:<2980> log likelihood: -627468\n",
      "INFO:lda:<2990> log likelihood: -627582\n",
      "INFO:lda:<3000> log likelihood: -627242\n",
      "INFO:lda:<3010> log likelihood: -627084\n",
      "INFO:lda:<3020> log likelihood: -627408\n",
      "INFO:lda:<3030> log likelihood: -626800\n",
      "INFO:lda:<3040> log likelihood: -626723\n",
      "INFO:lda:<3050> log likelihood: -627615\n",
      "INFO:lda:<3060> log likelihood: -627086\n",
      "INFO:lda:<3070> log likelihood: -627208\n",
      "INFO:lda:<3080> log likelihood: -627603\n",
      "INFO:lda:<3090> log likelihood: -626553\n",
      "INFO:lda:<3100> log likelihood: -626968\n",
      "INFO:lda:<3110> log likelihood: -627263\n",
      "INFO:lda:<3120> log likelihood: -627787\n",
      "INFO:lda:<3130> log likelihood: -627475\n",
      "INFO:lda:<3140> log likelihood: -627221\n",
      "INFO:lda:<3150> log likelihood: -627394\n",
      "INFO:lda:<3160> log likelihood: -627260\n",
      "INFO:lda:<3170> log likelihood: -627539\n",
      "INFO:lda:<3180> log likelihood: -627354\n",
      "INFO:lda:<3190> log likelihood: -627651\n",
      "INFO:lda:<3200> log likelihood: -627236\n",
      "INFO:lda:<3210> log likelihood: -627512\n",
      "INFO:lda:<3220> log likelihood: -627570\n",
      "INFO:lda:<3230> log likelihood: -627482\n",
      "INFO:lda:<3240> log likelihood: -628033\n",
      "INFO:lda:<3250> log likelihood: -627344\n",
      "INFO:lda:<3260> log likelihood: -627702\n",
      "INFO:lda:<3270> log likelihood: -627713\n",
      "INFO:lda:<3280> log likelihood: -628500\n",
      "INFO:lda:<3290> log likelihood: -627709\n",
      "INFO:lda:<3300> log likelihood: -627144\n",
      "INFO:lda:<3310> log likelihood: -627816\n",
      "INFO:lda:<3320> log likelihood: -628311\n",
      "INFO:lda:<3330> log likelihood: -627740\n",
      "INFO:lda:<3340> log likelihood: -628218\n",
      "INFO:lda:<3350> log likelihood: -627808\n",
      "INFO:lda:<3360> log likelihood: -627783\n",
      "INFO:lda:<3370> log likelihood: -627973\n",
      "INFO:lda:<3380> log likelihood: -628418\n",
      "INFO:lda:<3390> log likelihood: -628517\n",
      "INFO:lda:<3400> log likelihood: -628445\n",
      "INFO:lda:<3410> log likelihood: -627849\n",
      "INFO:lda:<3420> log likelihood: -628269\n",
      "INFO:lda:<3430> log likelihood: -628329\n",
      "INFO:lda:<3440> log likelihood: -627878\n",
      "INFO:lda:<3450> log likelihood: -627794\n",
      "INFO:lda:<3460> log likelihood: -627939\n",
      "INFO:lda:<3470> log likelihood: -627782\n",
      "INFO:lda:<3480> log likelihood: -627130\n",
      "INFO:lda:<3490> log likelihood: -627661\n",
      "INFO:lda:<3500> log likelihood: -627574\n",
      "INFO:lda:<3510> log likelihood: -627429\n",
      "INFO:lda:<3520> log likelihood: -627360\n",
      "INFO:lda:<3530> log likelihood: -626998\n",
      "INFO:lda:<3540> log likelihood: -627344\n",
      "INFO:lda:<3550> log likelihood: -626868\n",
      "INFO:lda:<3560> log likelihood: -627719\n",
      "INFO:lda:<3570> log likelihood: -627518\n",
      "INFO:lda:<3580> log likelihood: -627803\n",
      "INFO:lda:<3590> log likelihood: -627613\n",
      "INFO:lda:<3600> log likelihood: -627161\n",
      "INFO:lda:<3610> log likelihood: -627025\n",
      "INFO:lda:<3620> log likelihood: -626682\n",
      "INFO:lda:<3630> log likelihood: -626999\n",
      "INFO:lda:<3640> log likelihood: -627281\n",
      "INFO:lda:<3650> log likelihood: -627384\n",
      "INFO:lda:<3660> log likelihood: -627156\n",
      "INFO:lda:<3670> log likelihood: -627392\n",
      "INFO:lda:<3680> log likelihood: -626927\n",
      "INFO:lda:<3690> log likelihood: -627242\n",
      "INFO:lda:<3700> log likelihood: -627292\n",
      "INFO:lda:<3710> log likelihood: -627028\n",
      "INFO:lda:<3720> log likelihood: -627652\n",
      "INFO:lda:<3730> log likelihood: -627469\n",
      "INFO:lda:<3740> log likelihood: -627486\n",
      "INFO:lda:<3750> log likelihood: -627309\n",
      "INFO:lda:<3760> log likelihood: -627452\n",
      "INFO:lda:<3770> log likelihood: -627574\n",
      "INFO:lda:<3780> log likelihood: -627038\n",
      "INFO:lda:<3790> log likelihood: -627149\n",
      "INFO:lda:<3800> log likelihood: -627034\n",
      "INFO:lda:<3810> log likelihood: -627749\n",
      "INFO:lda:<3820> log likelihood: -627429\n",
      "INFO:lda:<3830> log likelihood: -627776\n",
      "INFO:lda:<3840> log likelihood: -627774\n",
      "INFO:lda:<3850> log likelihood: -627611\n",
      "INFO:lda:<3860> log likelihood: -627800\n",
      "INFO:lda:<3870> log likelihood: -627888\n",
      "INFO:lda:<3880> log likelihood: -627425\n",
      "INFO:lda:<3890> log likelihood: -627544\n",
      "INFO:lda:<3900> log likelihood: -627544\n",
      "INFO:lda:<3910> log likelihood: -628135\n",
      "INFO:lda:<3920> log likelihood: -627767\n",
      "INFO:lda:<3930> log likelihood: -628340\n",
      "INFO:lda:<3940> log likelihood: -627655\n",
      "INFO:lda:<3950> log likelihood: -627186\n",
      "INFO:lda:<3960> log likelihood: -627134\n",
      "INFO:lda:<3970> log likelihood: -627052\n",
      "INFO:lda:<3980> log likelihood: -627724\n",
      "INFO:lda:<3990> log likelihood: -627357\n",
      "INFO:lda:<4000> log likelihood: -627009\n",
      "INFO:lda:<4010> log likelihood: -627218\n",
      "INFO:lda:<4020> log likelihood: -626888\n",
      "INFO:lda:<4030> log likelihood: -627560\n",
      "INFO:lda:<4040> log likelihood: -626901\n",
      "INFO:lda:<4050> log likelihood: -627668\n",
      "INFO:lda:<4060> log likelihood: -627609\n",
      "INFO:lda:<4070> log likelihood: -627292\n"
     ]
    },
    {
     "name": "stderr",
     "output_type": "stream",
     "text": [
      "INFO:lda:<4080> log likelihood: -627120\n",
      "INFO:lda:<4090> log likelihood: -626927\n",
      "INFO:lda:<4100> log likelihood: -627177\n",
      "INFO:lda:<4110> log likelihood: -626814\n",
      "INFO:lda:<4120> log likelihood: -627135\n",
      "INFO:lda:<4130> log likelihood: -627048\n",
      "INFO:lda:<4140> log likelihood: -626931\n",
      "INFO:lda:<4150> log likelihood: -627114\n",
      "INFO:lda:<4160> log likelihood: -627418\n",
      "INFO:lda:<4170> log likelihood: -627984\n",
      "INFO:lda:<4180> log likelihood: -627542\n",
      "INFO:lda:<4190> log likelihood: -627529\n",
      "INFO:lda:<4200> log likelihood: -627589\n",
      "INFO:lda:<4210> log likelihood: -627462\n",
      "INFO:lda:<4220> log likelihood: -627175\n",
      "INFO:lda:<4230> log likelihood: -627497\n",
      "INFO:lda:<4240> log likelihood: -627086\n",
      "INFO:lda:<4250> log likelihood: -627196\n",
      "INFO:lda:<4260> log likelihood: -626940\n",
      "INFO:lda:<4270> log likelihood: -627375\n",
      "INFO:lda:<4280> log likelihood: -626991\n",
      "INFO:lda:<4290> log likelihood: -626911\n",
      "INFO:lda:<4300> log likelihood: -626633\n",
      "INFO:lda:<4310> log likelihood: -626985\n",
      "INFO:lda:<4320> log likelihood: -627414\n",
      "INFO:lda:<4330> log likelihood: -627245\n",
      "INFO:lda:<4340> log likelihood: -627095\n",
      "INFO:lda:<4350> log likelihood: -627752\n",
      "INFO:lda:<4360> log likelihood: -627718\n",
      "INFO:lda:<4370> log likelihood: -627436\n",
      "INFO:lda:<4380> log likelihood: -626487\n",
      "INFO:lda:<4390> log likelihood: -627389\n",
      "INFO:lda:<4400> log likelihood: -627470\n",
      "INFO:lda:<4410> log likelihood: -627594\n",
      "INFO:lda:<4420> log likelihood: -627966\n",
      "INFO:lda:<4430> log likelihood: -627740\n",
      "INFO:lda:<4440> log likelihood: -627196\n",
      "INFO:lda:<4450> log likelihood: -627583\n",
      "INFO:lda:<4460> log likelihood: -627624\n",
      "INFO:lda:<4470> log likelihood: -627160\n",
      "INFO:lda:<4480> log likelihood: -627812\n",
      "INFO:lda:<4490> log likelihood: -627320\n",
      "INFO:lda:<4500> log likelihood: -626799\n",
      "INFO:lda:<4510> log likelihood: -627546\n",
      "INFO:lda:<4520> log likelihood: -627238\n",
      "INFO:lda:<4530> log likelihood: -626491\n",
      "INFO:lda:<4540> log likelihood: -626600\n",
      "INFO:lda:<4550> log likelihood: -626419\n",
      "INFO:lda:<4560> log likelihood: -627011\n",
      "INFO:lda:<4570> log likelihood: -627010\n",
      "INFO:lda:<4580> log likelihood: -626924\n",
      "INFO:lda:<4590> log likelihood: -627178\n",
      "INFO:lda:<4600> log likelihood: -627485\n",
      "INFO:lda:<4610> log likelihood: -627112\n",
      "INFO:lda:<4620> log likelihood: -627199\n",
      "INFO:lda:<4630> log likelihood: -626362\n",
      "INFO:lda:<4640> log likelihood: -626703\n",
      "INFO:lda:<4650> log likelihood: -627205\n",
      "INFO:lda:<4660> log likelihood: -626577\n",
      "INFO:lda:<4670> log likelihood: -626667\n",
      "INFO:lda:<4680> log likelihood: -627173\n",
      "INFO:lda:<4690> log likelihood: -627380\n",
      "INFO:lda:<4700> log likelihood: -626823\n",
      "INFO:lda:<4710> log likelihood: -627314\n",
      "INFO:lda:<4720> log likelihood: -626784\n",
      "INFO:lda:<4730> log likelihood: -626742\n",
      "INFO:lda:<4740> log likelihood: -626839\n",
      "INFO:lda:<4750> log likelihood: -626462\n",
      "INFO:lda:<4760> log likelihood: -626177\n",
      "INFO:lda:<4770> log likelihood: -626318\n",
      "INFO:lda:<4780> log likelihood: -626790\n",
      "INFO:lda:<4790> log likelihood: -626817\n",
      "INFO:lda:<4800> log likelihood: -626699\n",
      "INFO:lda:<4810> log likelihood: -627757\n",
      "INFO:lda:<4820> log likelihood: -627215\n",
      "INFO:lda:<4830> log likelihood: -627098\n",
      "INFO:lda:<4840> log likelihood: -626998\n",
      "INFO:lda:<4850> log likelihood: -626739\n",
      "INFO:lda:<4860> log likelihood: -626951\n",
      "INFO:lda:<4870> log likelihood: -626603\n",
      "INFO:lda:<4880> log likelihood: -626706\n",
      "INFO:lda:<4890> log likelihood: -626948\n",
      "INFO:lda:<4900> log likelihood: -627265\n",
      "INFO:lda:<4910> log likelihood: -627030\n",
      "INFO:lda:<4920> log likelihood: -626528\n",
      "INFO:lda:<4930> log likelihood: -626586\n",
      "INFO:lda:<4940> log likelihood: -626749\n",
      "INFO:lda:<4950> log likelihood: -626809\n",
      "INFO:lda:<4960> log likelihood: -626891\n",
      "INFO:lda:<4970> log likelihood: -625877\n",
      "INFO:lda:<4980> log likelihood: -626213\n",
      "INFO:lda:<4990> log likelihood: -626377\n",
      "INFO:lda:<4999> log likelihood: -626467\n"
     ]
    }
   ],
   "source": [
    "#Train topic model\n",
    "LDA = t.fit_LDA(12,iterations=5000)"
   ]
  },
  {
   "cell_type": "code",
   "execution_count": 6,
   "metadata": {
    "slideshow": {
     "slide_type": "skip"
    }
   },
   "outputs": [
    {
     "data": {
      "text/html": [
       "<ul>\n",
       "<li><strong>Topic 0:</strong> like people time come know think want new good</li>\n",
       "<li><strong>Topic 1:</strong> company service business customer pay year money offer share</li>\n",
       "<li><strong>Topic 2:</strong> blockchain bitcoin token create company use transaction cryptocurrency think</li>\n",
       "<li><strong>Topic 3:</strong> trump play house new_york family love home office woman</li>\n",
       "<li><strong>Topic 4:</strong> site people website cryptocurrency post user lose video appear</li>\n",
       "<li><strong>Topic 5:</strong> report russia state russian include law government security group</li>\n",
       "<li><strong>Topic 6:</strong> bitcoin police system hacker computer hack case steal attack</li>\n",
       "<li><strong>Topic 7:</strong> country year india china government company tax world accord</li>\n",
       "<li><strong>Topic 8:</strong> facebook datum company ad user platform privacy cambridge_analytica come</li>\n",
       "<li><strong>Topic 9:</strong> exchange cryptocurrency cryptocurrencie crypto bank investor firm market fund</li>\n",
       "<li><strong>Topic 10:</strong> help system network project transaction datum game team product</li>\n",
       "<li><strong>Topic 11:</strong> bitcoin price year cryptocurrency percent market investor gold value</li>\n",
       "</ul>\n"
      ],
      "text/plain": [
       "'* **Topic 0:** like people time come know think want new good\\n* **Topic 1:** company service business customer pay year money offer share\\n* **Topic 2:** blockchain bitcoin token create company use transaction cryptocurrency think\\n* **Topic 3:** trump play house new_york family love home office woman\\n* **Topic 4:** site people website cryptocurrency post user lose video appear\\n* **Topic 5:** report russia state russian include law government security group\\n* **Topic 6:** bitcoin police system hacker computer hack case steal attack\\n* **Topic 7:** country year india china government company tax world accord\\n* **Topic 8:** facebook datum company ad user platform privacy cambridge_analytica come\\n* **Topic 9:** exchange cryptocurrency cryptocurrencie crypto bank investor firm market fund\\n* **Topic 10:** help system network project transaction datum game team product\\n* **Topic 11:** bitcoin price year cryptocurrency percent market investor gold value\\n'"
      ]
     },
     "execution_count": 6,
     "metadata": {},
     "output_type": "execute_result"
    }
   ],
   "source": [
    "#Inspect topic results\n",
    "topics = t.inspect_topics(n_top_words=10)\n",
    "\n",
    "result = ''\n",
    "for i, topic_words in enumerate(topics):\n",
    "    result += '* **Topic {}:** {}\\n'.format(i, ' '.join(topic_words))\n",
    "NewsTrends.MD(result)"
   ]
  },
  {
   "cell_type": "code",
   "execution_count": 7,
   "metadata": {
    "slideshow": {
     "slide_type": "skip"
    }
   },
   "outputs": [
    {
     "data": {
      "text/plain": [
       "12"
      ]
     },
     "execution_count": 7,
     "metadata": {},
     "output_type": "execute_result"
    }
   ],
   "source": [
    "topics = [[\"People like\"],\n",
    "          [\"Company services & payments\"],\n",
    "          [\"Companies use blockchain\"],\n",
    "          [\"Trump New York\"],\n",
    "          [\"Websites and cryptocurrency\"],\n",
    "          [\"Russian & security\"],\n",
    "          [\"Hacker steal bitcoin\"],\n",
    "          [\"India and China\"],\n",
    "          [\"Facebook and Cambridge Analytica\"],\n",
    "          [\"Crypto exchanges and banks\"],\n",
    "          [\"System, network and transactions\"],\n",
    "          [\"bitcoin price, investors and returns\"]\n",
    "          \n",
    "         ]\n",
    "len(topics)"
   ]
  },
  {
   "cell_type": "code",
   "execution_count": 8,
   "metadata": {
    "slideshow": {
     "slide_type": "skip"
    }
   },
   "outputs": [],
   "source": [
    "doctopics = t.get_doc_topic(topics)\n",
    "t.generate_network(node_attr=[ u'country', u'publishedDate',u'fb_likes', u'fb_shares',u'url',u\"site_type\",\"source\"],\n",
    "                  node_label=\"title\", similarity_cutoff = 0.8,\n",
    "                 similarity_measure = \"correlation\")"
   ]
  },
  {
   "cell_type": "code",
   "execution_count": 9,
   "metadata": {
    "slideshow": {
     "slide_type": "skip"
    }
   },
   "outputs": [],
   "source": [
    "#doctopics = t.get_doc_topic(topics)\n",
    "#t.generate_network(node_attr=[ u'title',u'location'],\n",
    " #                 node_label=\"title\", similarity_cutoff = 0.9,\n",
    "  #               similarity_measure = \"correlation\")"
   ]
  },
  {
   "cell_type": "markdown",
   "metadata": {
    "slideshow": {
     "slide_type": "skip"
    }
   },
   "source": [
    "# Visualize"
   ]
  },
  {
   "cell_type": "markdown",
   "metadata": {
    "slideshow": {
     "slide_type": "slide"
    }
   },
   "source": [
    "## Executive Summary\n",
    "\n",
    "* By using intelligent text processing and learning directly from the textual context, the following analysis finds meaningful connections and relationships in a large corpus of unstructured data.\n",
    "* The analysis of news articles related to cryptocurrencies and blockchain reveals a clearly optimistic narrative\n",
    "* A large share of stories is concerned with the development of the *bitcoin* price and cryptocurrency exchanges\n",
    "* A smaller share of news is concerned with blockchain technology in relation to Russia, hacker attacks and businesses"
   ]
  },
  {
   "cell_type": "markdown",
   "metadata": {
    "slideshow": {
     "slide_type": "slide"
    }
   },
   "source": [
    "## Data Summary"
   ]
  },
  {
   "cell_type": "code",
   "execution_count": 10,
   "metadata": {
    "slideshow": {
     "slide_type": "fragment"
    }
   },
   "outputs": [
    {
     "name": "stdout",
     "output_type": "stream",
     "text": [
      "The data set contains 461 stories.\n",
      "\n",
      "The date range is 2018-04-03 to 2018-05-04\n",
      "\n",
      "Top sources include:\n",
      "\n",
      "1 www.independent.co.uk\n",
      "2 www.cnbc.com\n",
      "3 www.bloomberg.com\n",
      "4 www.forbes.com\n",
      "5 medium.com\n"
     ]
    }
   ],
   "source": [
    "import pprint\n",
    "print(\"The data set contains {} stories.\".format(data.shape[0]))\n",
    "print()\n",
    "print(\"The date range is {} to {}\".format(data.publishedDate.min(),data.publishedDate.max()))\n",
    "print()\n",
    "print(\"Top sources include:\")\n",
    "print()\n",
    "for a, b in enumerate(data.groupby(\"source\")[\"uuid\"].agg(\"count\").sort_values(ascending=False)[0:5].keys(), 1):\n",
    "    print('{} {}'.format(a, b))"
   ]
  },
  {
   "cell_type": "code",
   "execution_count": 19,
   "metadata": {
    "slideshow": {
     "slide_type": "skip"
    }
   },
   "outputs": [
    {
     "data": {
      "text/html": [
       "<script>requirejs.config({paths: { 'plotly': ['https://cdn.plot.ly/plotly-latest.min']},});if(!window.Plotly) {{require(['plotly'],function(plotly) {window.Plotly=plotly;});}}</script>"
      ],
      "text/vnd.plotly.v1+html": [
       "<script>requirejs.config({paths: { 'plotly': ['https://cdn.plot.ly/plotly-latest.min']},});if(!window.Plotly) {{require(['plotly'],function(plotly) {window.Plotly=plotly;});}}</script>"
      ]
     },
     "metadata": {},
     "output_type": "display_data"
    }
   ],
   "source": [
    "#Plotly\n",
    "import numpy as np\n",
    "import plotly\n",
    "import plotly.plotly as py\n",
    "import plotly.graph_objs as go\n",
    "from ipywidgets import widgets\n",
    "from plotly.widgets import GraphWidget\n",
    "\n",
    "plotly.offline.init_notebook_mode(connected=True)\n",
    "plotly.tools.set_credentials_file(username='bockjohannes@gmx.de', api_key='U8wOvUmXSdm9E9IB1l47')"
   ]
  },
  {
   "cell_type": "markdown",
   "metadata": {
    "slideshow": {
     "slide_type": "slide"
    }
   },
   "source": [
    "## Document Analysis\n",
    "\n",
    "*Note: If the following plots are not displayed nicely, hit refresh and wait until fully loaded.*"
   ]
  },
  {
   "cell_type": "code",
   "execution_count": 25,
   "metadata": {},
   "outputs": [],
   "source": [
    "import os\n",
    "from shutil import copyfile\n",
    "\n",
    "# Move templates\n",
    "source = \"01_Vorlage/\"\n",
    "dst = \"graphs/network/\"\n",
    "\n",
    "for f in [\"index.html\",\"css/style.css\",\"js/main.js\"]:\n",
    "    copyfile(source+f, dst+f)\n"
   ]
  },
  {
   "cell_type": "markdown",
   "metadata": {
    "slideshow": {
     "slide_type": "slide"
    }
   },
   "source": [
    "### The fairly spread out network reveals a diverse discussion of crypto tech with an optimistic narrative at the core ([HowTo](http://nbviewer.jupyter.org/github/bockjo/Udacity_portfolio/blob/master/networks_how_to.png))."
   ]
  },
  {
   "cell_type": "code",
   "execution_count": 28,
   "metadata": {
    "scrolled": false,
    "slideshow": {
     "slide_type": "fragment"
    }
   },
   "outputs": [
    {
     "data": {
      "text/html": [
       "<iframe src=\"graph/network/index.html\" width=\"90%\" height=\"520\" seamless>Netzwerk kann nicht angezeigt werden.</iframe>"
      ],
      "text/plain": [
       "<IPython.core.display.HTML object>"
      ]
     },
     "execution_count": 28,
     "metadata": {},
     "output_type": "execute_result"
    }
   ],
   "source": [
    "from IPython.core.display import HTML\n",
    "\n",
    "HTML('<iframe src=\"graph/network/index.html\" width=\"90%\" height=\"520\" seamless>Netzwerk kann nicht angezeigt werden.</iframe>')"
   ]
  },
  {
   "cell_type": "markdown",
   "metadata": {
    "slideshow": {
     "slide_type": "skip"
    }
   },
   "source": [
    "## Topics over time"
   ]
  },
  {
   "cell_type": "markdown",
   "metadata": {
    "slideshow": {
     "slide_type": "slide"
    }
   },
   "source": [
    "### Especially in recent days the impact of blockchain tech on businesses has gained attention."
   ]
  },
  {
   "cell_type": "code",
   "execution_count": 14,
   "metadata": {
    "slideshow": {
     "slide_type": "fragment"
    }
   },
   "outputs": [
    {
     "data": {
      "text/html": [
       "<iframe id=\"igraph\" scrolling=\"no\" style=\"border:none;\" seamless=\"seamless\" src=\"https://plot.ly/~bockjo/58.embed\" height=\"525px\" width=\"100%\"></iframe>"
      ],
      "text/plain": [
       "<plotly.tools.PlotlyDisplay object>"
      ]
     },
     "execution_count": 14,
     "metadata": {},
     "output_type": "execute_result"
    }
   ],
   "source": [
    "# generate a function to handle changes in the widget\n",
    "def timeline(y,date_col,colorby,aggregate=\"nunique\",timeinterval=None):\n",
    "\n",
    "    plot_dat = t.df.copy()\n",
    "    plot_dat[date_col] = pd.to_datetime(plot_dat[date_col]).dt.week\n",
    "        \n",
    "    plot_dat = plot_dat.groupby([date_col,colorby])[y].agg(aggregate)\n",
    "    dat = plot_dat.reset_index()\n",
    "    \n",
    "    dataset = []\n",
    "    for gr in dat[colorby].unique():\n",
    "        dataset.append(go.Bar(\n",
    "        x=dat[dat[colorby]==gr][date_col],\n",
    "        y=dat[dat[colorby]==gr][y],\n",
    "        name=gr\n",
    "    ))\n",
    "\n",
    "    layout = go.Layout(\n",
    "        autosize=True,\n",
    "        barmode='stack',\n",
    "        showlegend = True,\n",
    "        legend=dict(orientation=\"h\",x=0.1,y=1.5),\n",
    "        yaxis = dict(title = y+\" (\"+aggregate+\")\"),\n",
    "        xaxis = dict(title=\"Week number\")\n",
    "    )\n",
    "    \n",
    "    \n",
    "    fig = go.Figure(data=dataset, layout=layout)\n",
    "    return py.iplot(fig, filename='stacked-bar')\n",
    "\n",
    "timeline(y=\"uuid\", date_col = 'publishedDate',colorby=\"topic_terms\",aggregate=\"nunique\")"
   ]
  },
  {
   "cell_type": "markdown",
   "metadata": {
    "slideshow": {
     "slide_type": "skip"
    }
   },
   "source": [
    "## Histogram"
   ]
  },
  {
   "cell_type": "markdown",
   "metadata": {
    "slideshow": {
     "slide_type": "slide"
    }
   },
   "source": [
    "### Especially stories of hackers exploiting bitcoin's anonymity to blackmail their victims were shared heavily on Facebook."
   ]
  },
  {
   "cell_type": "code",
   "execution_count": 15,
   "metadata": {
    "scrolled": false,
    "slideshow": {
     "slide_type": "fragment"
    }
   },
   "outputs": [
    {
     "data": {
      "text/html": [
       "<iframe id=\"igraph\" scrolling=\"no\" style=\"border:none;\" seamless=\"seamless\" src=\"https://plot.ly/~bockjo/64.embed\" height=\"525px\" width=\"100%\"></iframe>"
      ],
      "text/plain": [
       "<plotly.tools.PlotlyDisplay object>"
      ]
     },
     "execution_count": 15,
     "metadata": {},
     "output_type": "execute_result"
    }
   ],
   "source": [
    "# generate a function to handle changes in the widget\n",
    "def hist(x,colorby=\"topic_terms\",logx = False):\n",
    "\n",
    "    plot_dat = t.df.copy()\n",
    "    \n",
    "    if logx:\n",
    "        plot_dat[x]=np.log(plot_dat[x])\n",
    "        #typ = 'log'\n",
    "    #else:\n",
    "        #typ=\"normal\"\n",
    "    data = []\n",
    "    for gr in plot_dat[colorby].unique():\n",
    "        data.append(go.Histogram(\n",
    "            x=plot_dat.loc[plot_dat[colorby]==gr,x],\n",
    "            name=gr\n",
    "            \n",
    "    ))\n",
    "\n",
    "    layout = go.Layout(barmode='stack',legend=dict(orientation=\"h\",x=0.1,y=1.5),\n",
    "                       autosize=True,\n",
    "                #width=800,\n",
    "                #height=550,\n",
    "                       xaxis=dict(title=x,type=\"normal\",autorange=True,\n",
    "                                 exponentformat= \"e\" if logx else \"none\"),\n",
    "                      yaxis = dict(title=\"count\"))\n",
    "    fig = go.Figure(data=data, layout=layout)\n",
    "\n",
    "    \n",
    "    return py.iplot(fig, filename='stacked histogram')\n",
    "\n",
    "hist(x='fb_likes',colorby=\"topic_terms\",logx=True)"
   ]
  },
  {
   "cell_type": "markdown",
   "metadata": {
    "slideshow": {
     "slide_type": "skip"
    }
   },
   "source": [
    "## Bar Chart"
   ]
  },
  {
   "cell_type": "markdown",
   "metadata": {
    "slideshow": {
     "slide_type": "skip"
    }
   },
   "source": [
    "### XXX."
   ]
  },
  {
   "cell_type": "code",
   "execution_count": 16,
   "metadata": {
    "slideshow": {
     "slide_type": "skip"
    }
   },
   "outputs": [
    {
     "data": {
      "text/html": [
       "<iframe id=\"igraph\" scrolling=\"no\" style=\"border:none;\" seamless=\"seamless\" src=\"https://plot.ly/~bockjo/60.embed\" height=\"550px\" width=\"800px\"></iframe>"
      ],
      "text/plain": [
       "<plotly.tools.PlotlyDisplay object>"
      ]
     },
     "execution_count": 16,
     "metadata": {},
     "output_type": "execute_result"
    }
   ],
   "source": [
    "def bar(x,groupby,colorby = None, aggregate = \"sum\"):\n",
    "    plot_dat = t.df.copy()\n",
    "    \n",
    "    if colorby == None:\n",
    "        plot_dat = plot_dat.groupby(groupby)[x].agg(aggregate)\n",
    "        data =[\n",
    "            go.Bar(\n",
    "            y=plot_dat.index.values,\n",
    "            x=plot_dat.values,\n",
    "            orientation = 'h')\n",
    "        ]\n",
    "        fig = go.Figure(data=data)\n",
    "    else:\n",
    "        data = []\n",
    "        plot_dat = plot_dat.groupby([colorby,groupby])[x].agg(aggregate)\n",
    "        for gr in plot_dat.index.levels[0]: \n",
    "            data.append(go.Bar(\n",
    "            y=plot_dat[gr].index.values,\n",
    "            x=plot_dat[gr].values,\n",
    "            name=gr,\n",
    "            orientation = 'h'\n",
    "        ))\n",
    "        \n",
    "        layout = go.Layout(\n",
    "            autosize=False,\n",
    "        width=800,\n",
    "        height=550,\n",
    "            barmode='stack',\n",
    "            showlegend = True,\n",
    "            xaxis = dict(title=x+\" (\"+aggregate+\")\",position=-1.),\n",
    "            yaxis = dict(),\n",
    "            legend=dict(orientation=\"h\",x=0.1,y=1.2),\n",
    "            margin = go.Margin(l=330,r=50)\n",
    "        )\n",
    "      \n",
    "        fig = go.Figure(data=data, layout=layout)\n",
    "    \n",
    "    return py.iplot(fig, filename='bar')\n",
    "\n",
    "bar(x=\"uuid\",groupby=\"topic_terms\",colorby=\"country\",aggregate=\"nunique\")"
   ]
  },
  {
   "cell_type": "markdown",
   "metadata": {
    "slideshow": {
     "slide_type": "skip"
    }
   },
   "source": [
    "## Scatter plot"
   ]
  },
  {
   "cell_type": "markdown",
   "metadata": {
    "slideshow": {
     "slide_type": "slide"
    }
   },
   "source": [
    "### There is a linear relationship between number of articles published and the popularity of the topic in social media."
   ]
  },
  {
   "cell_type": "code",
   "execution_count": 17,
   "metadata": {
    "slideshow": {
     "slide_type": "fragment"
    }
   },
   "outputs": [
    {
     "data": {
      "text/html": [
       "<iframe id=\"igraph\" scrolling=\"no\" style=\"border:none;\" seamless=\"seamless\" src=\"https://plot.ly/~bockjo/60.embed\" height=\"525px\" width=\"100%\"></iframe>"
      ],
      "text/plain": [
       "<plotly.tools.PlotlyDisplay object>"
      ]
     },
     "execution_count": 17,
     "metadata": {},
     "output_type": "execute_result"
    }
   ],
   "source": [
    "def scatter(x,y,groupby,colorby = None,sizeby = \"fixed\", aggregate = {\"x\":\"sum\",\"y\":\"sum\",\"colorby\":\"sum\"},\n",
    "            axistype = {\"x\":\"normal\",\"y\":\"normal\"},\n",
    "            xtitle=\"\", ytitle=\"\"):\n",
    "    \n",
    "    plot_dat = t.df.copy()\n",
    "    if sizeby==\"fixed\":\n",
    "        s=15\n",
    "    if colorby == None:\n",
    "        colorby = groupby\n",
    "        \n",
    "    if plot_dat[colorby].dtype == np.object:\n",
    "        plot_datx = plot_dat.groupby([colorby,groupby])[x].agg(aggregate[\"x\"])\n",
    "        plot_daty = plot_dat.groupby([colorby,groupby])[y].agg(aggregate[\"y\"])\n",
    "        \n",
    "        dat = []\n",
    "        for cat in plot_dat[colorby].unique():\n",
    "            \n",
    "            dat.append({\"x\":plot_datx[cat].values,\n",
    "                       \"y\":plot_daty[cat].values,\n",
    "                        \"text\":plot_daty[cat].index,\n",
    "                       \"name\":cat,\n",
    "                       \"mode\":\"markers\",\n",
    "                       \"marker\":dict(size=s)})\n",
    "        fig = {\n",
    "            'data': dat,\n",
    "            'layout': {\"legend\":dict(orientation=\"h\",x=0.1,y=1.5),\"showlegend\": True,\n",
    "                'xaxis': {'title': xtitle,\"type\":axistype[\"x\"],\"exponentformat\": \"e\" if axistype[\"x\"]==\"log\" else \"none\"},\n",
    "                'yaxis': {'title': ytitle,\"type\":axistype[\"y\"],\"exponentformat\": \"e\" if axistype[\"y\"]==\"log\" else \"none\"},\n",
    "                \"autosize\":True\n",
    "            }\n",
    "        }\n",
    "    else:\n",
    "        plot_datx = plot_dat.groupby(groupby)[x].agg(aggregate[\"x\"])\n",
    "        plot_daty = plot_dat.groupby(groupby)[y].agg(aggregate[\"y\"])\n",
    "        plot_datcol = plot_dat.groupby(groupby)[colorby].agg(aggregate[\"colorby\"])\n",
    "        \n",
    "        trace1 = go.Scatter(\n",
    "            y = plot_daty.values,\n",
    "            x = plot_datx.values,\n",
    "            mode='markers',\n",
    "            marker=dict(\n",
    "                size=s,\n",
    "                color = plot_datcol.values, #set color equal to a variable\n",
    "                colorscale='Viridis',\n",
    "                showscale=True\n",
    "            )\n",
    "        )\n",
    "        layout = dict(xaxis=dic(title=xtitle,type=axistype[\"x\"],exponentformat= \"e\" if axistype[\"x\"]==\"log\" else \"none\"),\n",
    "                      yaxis=dic(title=ytitle,type=axistype[\"y\"],exponentformat= \"e\" if axistype[\"y\"]==\"log\" else \"none\"))\n",
    "        fig = go.Figure(data=[trace1],layout = layout)\n",
    "        \n",
    "    return py.iplot(fig, filename='bar')\n",
    "\n",
    "scatter(x=\"uuid\",y='fb_likes',groupby=\"topic_terms\",colorby = \"topic_terms\",\n",
    "        sizeby = \"fixed\",xtitle=\"Publish-Count\",ytitle=\"fb-likes\",\n",
    "        axistype=dict(x=\"normal\",y=\"normal\"),\n",
    "        aggregate = {\"x\":\"nunique\",\"y\":\"sum\",\"colorby\":\"sum\"})"
   ]
  },
  {
   "cell_type": "code",
   "execution_count": 18,
   "metadata": {
    "slideshow": {
     "slide_type": "skip"
    }
   },
   "outputs": [],
   "source": [
    "# jupyter nbconvert CryptoNews7.ipynb --to slides --template temp --post serve\n",
    "# http://nbviewer.jupyter.org/format/slides/github/bockjo/Udacity_portfolio/blob/master/filename.ipynb"
   ]
  }
 ],
 "metadata": {
  "hide_input": false,
  "kernelspec": {
   "display_name": "Python 3",
   "language": "python",
   "name": "python3"
  },
  "language_info": {
   "codemirror_mode": {
    "name": "ipython",
    "version": 3
   },
   "file_extension": ".py",
   "mimetype": "text/x-python",
   "name": "python",
   "nbconvert_exporter": "python",
   "pygments_lexer": "ipython3",
   "version": "3.5.4"
  },
  "toc": {
   "nav_menu": {},
   "number_sections": true,
   "sideBar": true,
   "skip_h1_title": false,
   "title_cell": "Table of Contents",
   "title_sidebar": "Contents",
   "toc_cell": false,
   "toc_position": {
    "height": "calc(100% - 180px)",
    "left": "10px",
    "top": "150px",
    "width": "380px"
   },
   "toc_section_display": true,
   "toc_window_display": true
  },
  "varInspector": {
   "cols": {
    "lenName": 16,
    "lenType": 16,
    "lenVar": 40
   },
   "kernels_config": {
    "python": {
     "delete_cmd_postfix": "",
     "delete_cmd_prefix": "del ",
     "library": "var_list.py",
     "varRefreshCmd": "print(var_dic_list())"
    },
    "r": {
     "delete_cmd_postfix": ") ",
     "delete_cmd_prefix": "rm(",
     "library": "var_list.r",
     "varRefreshCmd": "cat(var_dic_list()) "
    }
   },
   "types_to_exclude": [
    "module",
    "function",
    "builtin_function_or_method",
    "instance",
    "_Feature"
   ],
   "window_display": false
  }
 },
 "nbformat": 4,
 "nbformat_minor": 2
}
