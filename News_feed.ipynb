{
 "cells": [
  {
   "cell_type": "markdown",
   "metadata": {},
   "source": [
    "# Query news and blog data"
   ]
  },
  {
   "cell_type": "code",
   "execution_count": 1,
   "metadata": {},
   "outputs": [],
   "source": [
    "import numpy as np\n",
    "\n",
    "#Get all country codes\n",
    "import pycountry\n",
    "iso = []\n",
    "name = []\n",
    "for e in list(pycountry.countries):\n",
    "    iso.append(e.alpha_2)\n",
    "    name.append(e.name)\n",
    "    \n",
    "name = np.array(name)\n",
    "iso = np.array(iso)\n",
    "iso = iso[np.argsort(name)]\n",
    "name = name[np.argsort(name)]\n",
    "\n",
    "countr = []\n",
    "for i,e in enumerate(name):\n",
    "    countr.append((e,iso[i]))"
   ]
  },
  {
   "cell_type": "code",
   "execution_count": null,
   "metadata": {
    "scrolled": true
   },
   "outputs": [],
   "source": [
    "from ipywidgets import Layout, Box, FloatText, Textarea, Dropdown, Label, Checkbox, SelectMultiple, Text, interact\n",
    "\n",
    "form_item_layout = Layout(\n",
    "    display='flex',\n",
    "    flex_flow='row',\n",
    "    justify_content='space-between',\n",
    "    align_content = \"flex-start\",\n",
    "    width = \"auto\"\n",
    ")\n",
    "\n",
    "form_items = [\n",
    "    Box([Label(value='Webhose Token',layout=Layout(width=\"auto\")), Textarea(value = \"76171c1e-faf9-4646-981e-10dda4eb680b\")], layout=form_item_layout),\n",
    "    Box([Label(value='Main query (in brackets)',layout=Layout(width=\"auto\")), Textarea()], layout=form_item_layout),\n",
    "    Box([Label(value='Language',layout=Layout(width=\"auto\")),\n",
    "         Dropdown(options=['english',\"german\"])], layout=form_item_layout),\n",
    "    Box([Label(value='Is first (Exclude comments)',layout=Layout(width=\"auto\")),\n",
    "         Checkbox(value=True)], layout=form_item_layout),\n",
    "    Box([Label(value='Performance score threshold (greater than x)',layout=Layout(width=\"auto\")),\n",
    "         FloatText(value = 1)], layout=form_item_layout),\n",
    "    Box([Label(value='Domain Rank (Top x sites by monthly traffic)',layout=Layout(width=\"auto\")),\n",
    "         FloatText(value = 10000)], layout=form_item_layout),\n",
    "     Box([Label(value='Published X days ago',layout=Layout(width=\"auto\")),\n",
    "         FloatText(value = 30)], layout=form_item_layout),\n",
    "    Box([Label(value='Site type(s) (in brackets)',layout=Layout(width=\"auto\")),\n",
    "         Textarea(value='(site_type:news OR site_type:blogs)')], layout=form_item_layout),\n",
    "    Box([Label(value='Sort by',layout=Layout(width=\"auto\")),\n",
    "         Dropdown(options={'Crawl Date': \"crawled\", 'Relevancy': \"relevancy\", 'Published': \"published\"})], layout=form_item_layout),\n",
    "    Box([Label(value='All countries',layout=Layout(width=\"auto\")),\n",
    "         Checkbox(value=False)], layout=form_item_layout),\n",
    "    Box([Label(value='Country'),\n",
    "         SelectMultiple(options=countr,value = [\"GB\"],layout=Layout(display=\"flex\", flex_flow='column'))], layout=form_item_layout),\n",
    "    Box([Label(value='Other (thread.title or organization in brackets)',layout=Layout(width=\"auto\")),\n",
    "         Textarea()], layout=form_item_layout)\n",
    "]\n",
    "\n",
    "form = Box(form_items, layout=Layout(\n",
    "    flex = \"flex-basis\",\n",
    "    flex_flow='column',\n",
    "    border='solid 1px',\n",
    "    width='60%',\n",
    "    height = \"auto\"\n",
    "))\n",
    "form"
   ]
  },
  {
   "cell_type": "code",
   "execution_count": null,
   "metadata": {},
   "outputs": [],
   "source": [
    "#Queries\n",
    "\"\"\"\n",
    "(electric car OR electric cars OR autonomous driving OR autonomous car OR connected car)\n",
    "\n",
    "((sport OR luxury) AND future AND (car sharing OR car rental OR car ownership OR car club OR car purchase OR car lease))\n",
    "\n",
    "((sport OR luxury) AND future AND (car OR vehicle) AND (rent OR rental OR lease OR leasing OR own OR buy OR purchase OR club OR subscription OR share OR sharing))\n",
    "\n",
    "\"\"\""
   ]
  },
  {
   "cell_type": "code",
   "execution_count": null,
   "metadata": {},
   "outputs": [],
   "source": [
    "# Set up query with form inputs\n",
    "params = []\n",
    "for el in form.children:\n",
    "    params.append(el.children[1].value)\n",
    "    \n",
    "#Transform multi select countries\n",
    "if params[-3]:\n",
    "    params[-2]=\"\"\n",
    "else:    \n",
    "    repl = []\n",
    "    for i, c in enumerate(params[-2]):\n",
    "        repl.append(\"thread.country:\"+c)\n",
    "    if len(params[-2])>1:\n",
    "        params[-2] = \"(\"+\" OR \".join(repl)+\")\"\n",
    "    else: \n",
    "        params[-2] = repl[0]"
   ]
  },
  {
   "cell_type": "code",
   "execution_count": null,
   "metadata": {},
   "outputs": [],
   "source": [
    "#Build and run query\n",
    "import webhoseio\n",
    "import time\n",
    "import datetime\n",
    "\n",
    "webhoseio.config(token=params[0])\n",
    "query_params = {\"q\":params[1]+\" language:\"+params[2]+\" is_first:\"+str(params[3]).lower()+\" performance_score:>\"+str(int(params[4]))+\n",
    "                \" domain_rank:<\"+str(int(params[5]))+\" \"+params[7]+\" \"+params[10]+\" \"+params[11],\n",
    "               \"ts\":str(int(time.mktime((datetime.datetime.now() + datetime.timedelta(-params[6])).timetuple()) * 1000)),\n",
    "               \"sort\":params[8]}\n",
    "\n",
    "output = webhoseio.query(\"filterWebContent\", query_params)\n",
    "print(\"Total number of documents: \",output['totalResults'])"
   ]
  },
  {
   "cell_type": "code",
   "execution_count": null,
   "metadata": {},
   "outputs": [],
   "source": [
    "import pandas as pd\n",
    "\n",
    "def get_list(obj,key):\n",
    "    l = []\n",
    "    for e in obj:\n",
    "        l.append(e[key])\n",
    "    return l\n",
    "\n",
    "data = []\n",
    "\n",
    "#Get all results to pandas dataframe\n",
    "while True:\n",
    "    \n",
    "    if len(output[\"posts\"]) != 0:\n",
    "        for post in output['posts']:\n",
    "            data.append({\n",
    "                \"entity_persons\":get_list(post[\"entities\"][\"persons\"],\"name\"),\n",
    "                \"entity_organizations\":get_list(post[\"entities\"][\"organizations\"],\"name\"),\n",
    "                \"entity_locations\":get_list(post[\"entities\"][\"locations\"],\"name\"),\n",
    "                \"uuid\":post[\"uuid\"],\n",
    "                \"author\":post[\"author\"],\n",
    "                \"url\":post[\"url\"],\n",
    "                \"language\":post[\"language\"],\n",
    "                \"title\":post[\"title\"],\n",
    "                \"highlightText\":post[\"highlightText\"],\n",
    "                \"text\":post[\"text\"],\n",
    "                \"publishedDate\":post[\"published\"],\n",
    "                \"crawledDate\":post[\"crawled\"],\n",
    "                \"fb_likes\":post[\"thread\"][\"social\"][\"facebook\"][\"likes\"],\n",
    "                \"fb_shares\":post[\"thread\"][\"social\"][\"facebook\"][\"shares\"],\n",
    "                \"linkedin_shares\":post[\"thread\"][\"social\"][\"linkedin\"][\"shares\"],\n",
    "                \"gplus_shares\":post[\"thread\"][\"social\"][\"gplus\"][\"shares\"],\n",
    "                \"source\":post[\"thread\"][\"site_full\"],\n",
    "                \"country\":post[\"thread\"][\"country\"],\n",
    "                \"performance_score\":post[\"thread\"][\"performance_score\"],\n",
    "                \"participants_counts\":post[\"thread\"][\"participants_count\"],\n",
    "                \"site_type\":post[\"thread\"][\"site_type\"]\n",
    "                \n",
    "            })\n",
    "    else:\n",
    "        break\n",
    "        \n",
    "    #Get next batch of data\n",
    "    time.sleep(30)\n",
    "    output = webhoseio.get_next()\n",
    "    \n",
    "data = pd.DataFrame.from_dict(data)\n",
    "data.crawledDate = pd.to_datetime(data.crawledDate).dt.date\n",
    "data.publishedDate = pd.to_datetime(data.publishedDate).dt.date\n",
    "\n",
    "#Save data\n",
    "data.to_csv(\"crypto.csv\",header=True, index=False, encoding='utf-8',sep=\";\")"
   ]
  },
  {
   "cell_type": "code",
   "execution_count": 136,
   "metadata": {},
   "outputs": [
    {
     "data": {
      "text/plain": [
       "array(['www.bloomberg.com', 'www.independent.co.uk',\n",
       "       'www.theguardian.com', 'www.marketwatch.com',\n",
       "       'www.rollingstone.com', 'www.businessinsider.com',\n",
       "       'economictimes.indiatimes.com', 'www.forbes.com',\n",
       "       'www.theatlantic.com', 'www.theverge.com', 'medium.com',\n",
       "       'www.latimes.com', 'timesofindia.indiatimes.com', 'www.wired.com',\n",
       "       'www.thedailybeast.com', 'www.reuters.com', 'www.wsj.com',\n",
       "       'www.moneycontrol.com', 'news.abs-cbn.com', 'www.rt.com',\n",
       "       'www.buzzfeed.com', 'www.cnet.com', 'www.bbc.com',\n",
       "       'uk.businessinsider.com', 'www.msn.com', 'www.cnbc.com',\n",
       "       'www.huffingtonpost.com', 'newsinfo.inquirer.net',\n",
       "       'gadgets.ndtv.com', 'www.thehindu.com', 'business.inquirer.net',\n",
       "       'www.europol.europa.eu', 'www.washingtonpost.com',\n",
       "       'sg.news.yahoo.com', 'finance.yahoo.com', 'www.investing.com',\n",
       "       'www.pcmag.com', 'abcnews.go.com', 'au.finance.yahoo.com',\n",
       "       'www.reddit.com', 'www.foxnews.com', 'www.telegraph.co.uk',\n",
       "       'www.usatoday.com', 'www.bbc.co.uk', 'site.people.com',\n",
       "       'techcrunch.com', 'www.vice.com', 'people.com', 'www.nytimes.com',\n",
       "       'www.engadget.com', 'lifestyle.inquirer.net', 'www.npr.org',\n",
       "       'in.finance.yahoo.com', 'www.investopedia.com', 'me.pcmag.com',\n",
       "       'steamed.kotaku.com', 'www.politico.com', 'www.nbcnews.com',\n",
       "       'www.cbsnews.com', 'www.indiatimes.com', 'time.com',\n",
       "       'sports.yahoo.com', 'noisey.vice.com', 'edition.cnn.com',\n",
       "       'www.cnn.com'], dtype=object)"
      ]
     },
     "execution_count": 136,
     "metadata": {},
     "output_type": "execute_result"
    }
   ],
   "source": [
    "data[\"source\"].unique()"
   ]
  },
  {
   "cell_type": "code",
   "execution_count": null,
   "metadata": {},
   "outputs": [],
   "source": [
    "data.columns"
   ]
  },
  {
   "cell_type": "markdown",
   "metadata": {
    "heading_collapsed": true
   },
   "source": [
    "# Run topic model"
   ]
  },
  {
   "cell_type": "code",
   "execution_count": null,
   "metadata": {
    "hidden": true
   },
   "outputs": [],
   "source": [
    "import NewsTrends\n",
    "import pandas as pd\n",
    "import locale\n",
    "locale.setlocale(locale.LC_ALL, 'deu_deu')\n",
    "%matplotlib inline\n",
    "\n",
    "data = pd.read_csv(\"crypto.csv\",sep=\";\",encoding='utf-8')\n",
    "#data.date = pd.to_datetime(data.date,format=\"%d. %B %Y\")\n",
    "#data.shape"
   ]
  },
  {
   "cell_type": "code",
   "execution_count": 2,
   "metadata": {
    "hidden": true,
    "scrolled": true
   },
   "outputs": [],
   "source": [
    "t = NewsTrends.topicModel(data,\n",
    "                          key_idx=list(data.columns).index(\"uuid\"),\n",
    "                          text_idx=list(data.columns).index(\"text\"),\n",
    "                          lang=\"en\",random_state = 1,\n",
    "                          bigram = False)"
   ]
  },
  {
   "cell_type": "code",
   "execution_count": 3,
   "metadata": {
    "hidden": true
   },
   "outputs": [],
   "source": [
    "tok_dat = t.tokenize_docs(rmv_tokens=[\"'s\",'$',\"mr\",\"mr.\"])\n",
    "corpus = t.get_bow(below = 0.05,above = 0.9)"
   ]
  },
  {
   "cell_type": "code",
   "execution_count": null,
   "metadata": {
    "hidden": true,
    "scrolled": true
   },
   "outputs": [],
   "source": [
    "k,results = t.LDA_tune_k(max_k=30,iterations=1000)"
   ]
  },
  {
   "cell_type": "code",
   "execution_count": null,
   "metadata": {
    "hidden": true,
    "scrolled": true
   },
   "outputs": [],
   "source": [
    "#Train topic model\n",
    "LDA = t.fit_LDA(10,iterations=5000)"
   ]
  },
  {
   "cell_type": "code",
   "execution_count": null,
   "metadata": {
    "hidden": true
   },
   "outputs": [],
   "source": [
    "#Inspect topic results\n",
    "topics = t.inspect_topics(n_top_words=15)\n",
    "\n",
    "result = ''\n",
    "for i, topic_words in enumerate(topics):\n",
    "    result += '* **Topic {}:** {}\\n'.format(i, ' '.join(topic_words))\n",
    "NewsTrends.MD(result)"
   ]
  },
  {
   "cell_type": "code",
   "execution_count": null,
   "metadata": {
    "hidden": true
   },
   "outputs": [],
   "source": [
    "topics = [[\"Trump, new, report\"],\n",
    "          [\"Company, new work, help, user\"],\n",
    "          [\"business, blockchain, change, create, entrepreneur\"],\n",
    "          [\"bitcoin,, police, hacker, steal, criminal\"],\n",
    "          [\"facebook, user, data privacy, cambridge analytica\"],\n",
    "          [\"fund, bank, invest, cryptocurrency\"],\n",
    "          [\"crypto currency exchange, trading, bitcoin, price\"],\n",
    "          [\"blockchain technology, platform, smart contracts, token\"],\n",
    "          [\"people like, know, think, good thing\"],\n",
    "          [\"government, security, attack, Russia, U.S., law, ban\"]\n",
    "          \n",
    "         ]\n",
    "len(topics)"
   ]
  },
  {
   "cell_type": "code",
   "execution_count": 41,
   "metadata": {
    "hidden": true
   },
   "outputs": [],
   "source": [
    "#doctopics = t.get_doc_topic(topics)\n",
    "#t.generate_network(node_attr=[ u'title',u'location'],\n",
    " #                 node_label=\"title\", similarity_cutoff = 0.9,\n",
    "  #               similarity_measure = \"correlation\")"
   ]
  },
  {
   "cell_type": "code",
   "execution_count": 33,
   "metadata": {
    "hidden": true
   },
   "outputs": [],
   "source": [
    "doctopics = t.get_doc_topic(topics)\n",
    "t.generate_network(node_attr=[ u'country', u'publishedDate',u'fb_likes', u'fb_shares',u'url',u\"site_type\"],\n",
    "                  node_label=\"title\", similarity_cutoff = 0.8,\n",
    "                 similarity_measure = \"correlation\")"
   ]
  },
  {
   "cell_type": "markdown",
   "metadata": {},
   "source": [
    "# Visualize"
   ]
  },
  {
   "cell_type": "code",
   "execution_count": 14,
   "metadata": {},
   "outputs": [
    {
     "data": {
      "application/javascript": [
       "window.genUID = function() {\n",
       "    return 'xxxxxxxx-xxxx-4xxx-yxxx-xxxxxxxxxxxx'.replace(/[xy]/g, function(c) {\n",
       "        var r = Math.random()*16|0, v = c == 'x' ? r : (r&0x3|0x8);\n",
       "        return v.toString(16);\n",
       "    });\n",
       "};\n",
       "\n",
       "\n",
       "define('graphWidget', [\"@jupyter-widgets/base\"], function (widget) {\n",
       "\n",
       "    var GraphView = widget.DOMWidgetView.extend({\n",
       "        render: function(){\n",
       "            var that = this;\n",
       "\n",
       "            var graphId = window.genUID();\n",
       "            var loadingId = 'loading-'+graphId;\n",
       "\n",
       "\n",
       "            var _graph_url = that.model.get('_graph_url');\n",
       "\n",
       "            // variable plotlyDomain in the case of enterprise\n",
       "            var url_parts = _graph_url.split('/');\n",
       "            var plotlyDomain = url_parts[0] + '//' + url_parts[2];\n",
       "\n",
       "            if(!('plotlyDomains' in window)){\n",
       "                window.plotlyDomains = {};\n",
       "            }\n",
       "            window.plotlyDomains[graphId] = plotlyDomain;\n",
       "\n",
       "            // Place IFrame in output cell div `$el`\n",
       "            that.$el.css('width', '100%');\n",
       "            that.$graph = $(['<iframe id=\"'+graphId+'\"',\n",
       "                             'src=\"'+_graph_url+'.embed\"',\n",
       "                             'seamless',\n",
       "                             'style=\"border: none;\"',\n",
       "                             'width=\"100%\"',\n",
       "                             'height=\"600\">',\n",
       "                             '</iframe>'].join(' '));\n",
       "            that.$graph.appendTo(that.$el);\n",
       "\n",
       "            that.$loading = $('<div id=\"'+loadingId+'\">Initializing...</div>')\n",
       "                            .appendTo(that.$el);\n",
       "\n",
       "            // for some reason the 'width' is being changed in IPython 3.0.0\n",
       "            // for the containing `div` element. There's a flicker here, but\n",
       "            // I was unable to fix it otherwise.\n",
       "            setTimeout(function ()  {\n",
       "                if (IPYTHON_VERSION === '3') {\n",
       "                    $('#' + graphId)[0].parentElement.style.width = '100%';\n",
       "                }\n",
       "            }, 500);\n",
       "\n",
       "            // initialize communication with the iframe\n",
       "            if(!('pingers' in window)){\n",
       "                window.pingers = {};\n",
       "            }\n",
       "\n",
       "            window.pingers[graphId] = setInterval(function() {\n",
       "                that.graphContentWindow = $('#'+graphId)[0].contentWindow;\n",
       "                that.graphContentWindow.postMessage({task: 'ping'}, plotlyDomain);\n",
       "            }, 200);\n",
       "\n",
       "            // Assign a message listener to the 'message' events\n",
       "            // from iframe's postMessage protocol.\n",
       "            // Filter the messages by iframe src so that the right message\n",
       "            // gets passed to the right widget\n",
       "            if(!('messageListeners' in window)){\n",
       "                 window.messageListeners = {};\n",
       "            }\n",
       "\n",
       "            window.messageListeners[graphId] = function(e) {\n",
       "                if(_graph_url.indexOf(e.origin)>-1) {\n",
       "                    var frame = document.getElementById(graphId);\n",
       "\n",
       "                    if(frame === null){\n",
       "                        // frame doesn't exist in the dom anymore, clean up it's old event listener\n",
       "                        window.removeEventListener('message', window.messageListeners[graphId]);\n",
       "                        clearInterval(window.pingers[graphId]);\n",
       "                    } else if(frame.contentWindow === e.source) {\n",
       "                        // TODO: Stop event propagation, so each frame doesn't listen and filter\n",
       "                        var frameContentWindow = $('#'+graphId)[0].contentWindow;\n",
       "                        var message = e.data;\n",
       "\n",
       "                        if('pong' in message && message.pong) {\n",
       "                            $('#loading-'+graphId).hide();\n",
       "                            clearInterval(window.pingers[graphId]);\n",
       "                            that.send({event: 'pong', graphId: graphId});\n",
       "                        } else if (message.type==='hover' ||\n",
       "                                   message.type==='zoom'  ||\n",
       "                                   message.type==='click' ||\n",
       "                                   message.type==='unhover') {\n",
       "\n",
       "                            // click and hover events contain all of the data in the traces,\n",
       "                            // which can be a very large object and may take a ton of time\n",
       "                            // to pass to the python backend. Strip out the data, and require\n",
       "                            // the user to call get_figure if they need trace information\n",
       "                            if(message.type !== 'zoom') {\n",
       "                                for(var i in message.points) {\n",
       "                                    delete message.points[i].data;\n",
       "                                    delete message.points[i].fullData;\n",
       "                                }\n",
       "                            }\n",
       "                            that.send({event: message.type, message: message, graphId: graphId});\n",
       "                        } else if (message.task === 'getAttributes') {\n",
       "                            that.send({event: 'getAttributes', response: message.response});\n",
       "                        }\n",
       "                    }\n",
       "                }\n",
       "            };\n",
       "\n",
       "            window.removeEventListener('message', window.messageListeners[graphId]);\n",
       "            window.addEventListener('message', window.messageListeners[graphId]);\n",
       "\n",
       "        },\n",
       "\n",
       "        update: function() {\n",
       "            // Listen for messages from the graph widget in python\n",
       "            var jmessage = this.model.get('_message');\n",
       "            var message = JSON.parse(jmessage);\n",
       "\n",
       "            // check for duplicate messages\n",
       "            if(!('messageIds' in window)){\n",
       "                window.messageIds = {};\n",
       "            }\n",
       "\n",
       "            if(!(message.uid in window.messageIds)){\n",
       "                // message hasn't been received yet, do stuff\n",
       "                window.messageIds[message.uid] = true;\n",
       "\n",
       "                if (message.fadeTo) {\n",
       "                    this.fadeTo(message);\n",
       "                } else {\n",
       "                    var plot = $('#' + message.graphId)[0].contentWindow;\n",
       "                    plot.postMessage(message, window.plotlyDomains[message.graphId]);\n",
       "                }\n",
       "            }\n",
       "\n",
       "            return GraphView.__super__.update.apply(this);\n",
       "        },\n",
       "\n",
       "        /**\n",
       "         * Wrapper for jquery's `fadeTo` function.\n",
       "         *\n",
       "         * @param message Contains the id we need to find the element.\n",
       "         */\n",
       "        fadeTo: function (message) {\n",
       "            var plot = $('#' + message.graphId);\n",
       "            plot.fadeTo(message.duration, message.opacity);\n",
       "        }\n",
       "    });\n",
       "\n",
       "    // Register the GraphView with the widget manager.\n",
       "    return {\n",
       "        GraphView: GraphView\n",
       "    }\n",
       "\n",
       "});\n",
       "\n",
       "//@ sourceURL=graphWidget.js\n"
      ],
      "text/plain": [
       "<IPython.core.display.Javascript object>"
      ]
     },
     "metadata": {},
     "output_type": "display_data"
    }
   ],
   "source": [
    "#Plotly\n",
    "import numpy as np\n",
    "import plotly\n",
    "import plotly.plotly as py\n",
    "import plotly.graph_objs as go\n",
    "from ipywidgets import widgets\n",
    "from plotly.widgets import GraphWidget\n",
    "\n",
    "plotly.tools.set_credentials_file(username='bockjohannes@gmx.de', api_key='U8wOvUmXSdm9E9IB1l47')"
   ]
  },
  {
   "cell_type": "markdown",
   "metadata": {},
   "source": [
    "## Network"
   ]
  },
  {
   "cell_type": "code",
   "execution_count": 35,
   "metadata": {},
   "outputs": [
    {
     "data": {
      "text/html": [
       "<iframe src=\"01_graphs/network/index.html\" width=\"100%\" height=\"650\" seamless>Netzwerk kann nicht angezeigt werden.</iframe>"
      ],
      "text/plain": [
       "<IPython.core.display.HTML object>"
      ]
     },
     "execution_count": 35,
     "metadata": {},
     "output_type": "execute_result"
    }
   ],
   "source": [
    "from IPython.core.display import HTML\n",
    "\n",
    "HTML('<iframe src=\"01_graphs/network/index.html\" width=\"100%\" height=\"650\" seamless>Netzwerk kann nicht angezeigt werden.</iframe>')"
   ]
  },
  {
   "cell_type": "code",
   "execution_count": 38,
   "metadata": {},
   "outputs": [
    {
     "data": {
      "text/html": [
       "<iframe src=\"01_graphs/Project2/index.html\" width=\"100%\" height=\"700\" seamless>Netzwerk kann nicht angezeigt werden.</iframe>"
      ],
      "text/plain": [
       "<IPython.core.display.HTML object>"
      ]
     },
     "execution_count": 38,
     "metadata": {},
     "output_type": "execute_result"
    }
   ],
   "source": [
    "from IPython.core.display import HTML\n",
    "\n",
    "HTML('<iframe src=\"01_graphs/Project2/index.html\" width=\"100%\" height=\"700\" seamless>Netzwerk kann nicht angezeigt werden.</iframe>')"
   ]
  },
  {
   "cell_type": "code",
   "execution_count": 43,
   "metadata": {},
   "outputs": [],
   "source": [
    "cols = [\"rgb(0,203,155)\",\"rgb(72,206,14)\",\"rgb(197,160,0)\",\"rgb(107,155,231)\",\"rgb(67,124,97)\",\"rgb(0,211,255)\",\n",
    "        \"rgb(255,136,255)\",\"rgb(152,86,79)\",\"rgb(255,113,49)\",\"rgb(255,102,167)\"]"
   ]
  },
  {
   "cell_type": "markdown",
   "metadata": {},
   "source": [
    "## Topics over time"
   ]
  },
  {
   "cell_type": "code",
   "execution_count": 39,
   "metadata": {},
   "outputs": [
    {
     "data": {
      "text/html": [
       "<iframe id=\"igraph\" scrolling=\"no\" style=\"border:none;\" seamless=\"seamless\" src=\"https://plot.ly/~bockjo/58.embed\" height=\"525px\" width=\"100%\"></iframe>"
      ],
      "text/plain": [
       "<plotly.tools.PlotlyDisplay object>"
      ]
     },
     "execution_count": 39,
     "metadata": {},
     "output_type": "execute_result"
    }
   ],
   "source": [
    "# generate a function to handle changes in the widget\n",
    "def timeline(y,date_col,colorby,aggregate=\"nunique\",timeinterval=None):\n",
    "\n",
    "    plot_dat = t.df.copy()\n",
    "    plot_dat[date_col] = pd.to_datetime(plot_dat[date_col]).dt.week\n",
    "        \n",
    "    plot_dat = plot_dat.groupby([date_col,colorby])[y].agg(aggregate)\n",
    "    dat = plot_dat.reset_index()\n",
    "    \n",
    "    dataset = []\n",
    "    for gr in dat[colorby].unique():\n",
    "        dataset.append(go.Bar(\n",
    "        x=dat[dat[colorby]==gr][date_col],\n",
    "        y=dat[dat[colorby]==gr][y],\n",
    "        name=gr\n",
    "    ))\n",
    "\n",
    "    layout = go.Layout(\n",
    "        barmode='stack',\n",
    "        showlegend = True,\n",
    "        legend=dict(orientation=\"h\"),\n",
    "        yaxis = dict(title = y+\" (\"+aggregate+\")\"),\n",
    "        xaxis = dict(title=date_col)\n",
    "    )\n",
    "    \n",
    "    \n",
    "    fig = go.Figure(data=dataset, layout=layout)\n",
    "    return py.iplot(fig, filename='stacked-bar')\n",
    "\n",
    "timeline(y=\"uuid\", date_col = 'publishedDate',colorby=\"topic_terms\",aggregate=\"nunique\")"
   ]
  },
  {
   "cell_type": "markdown",
   "metadata": {},
   "source": [
    "## Histogram"
   ]
  },
  {
   "cell_type": "code",
   "execution_count": null,
   "metadata": {},
   "outputs": [],
   "source": []
  },
  {
   "cell_type": "code",
   "execution_count": 42,
   "metadata": {},
   "outputs": [
    {
     "data": {
      "text/html": [
       "<iframe id=\"igraph\" scrolling=\"no\" style=\"border:none;\" seamless=\"seamless\" src=\"https://plot.ly/~bockjo/64.embed\" height=\"525px\" width=\"100%\"></iframe>"
      ],
      "text/plain": [
       "<plotly.tools.PlotlyDisplay object>"
      ]
     },
     "execution_count": 42,
     "metadata": {},
     "output_type": "execute_result"
    }
   ],
   "source": [
    "# generate a function to handle changes in the widget\n",
    "def hist(x,colorby=\"topic_terms\",logx = False):\n",
    "\n",
    "    plot_dat = t.df.copy()\n",
    "    \n",
    "    if logx:\n",
    "        plot_dat[x]=np.log(plot_dat[x])\n",
    "        #typ = 'log'\n",
    "    #else:\n",
    "        #typ=\"normal\"\n",
    "    data = []\n",
    "    for gr in plot_dat[colorby].unique():\n",
    "        data.append(go.Histogram(\n",
    "            x=plot_dat.loc[plot_dat[colorby]==gr,x],\n",
    "            name=gr\n",
    "            \n",
    "    ))\n",
    "\n",
    "    layout = go.Layout(barmode='stack',legend=dict(orientation=\"h\"),\n",
    "                       xaxis=dict(title=x,type=\"normal\",autorange=True,\n",
    "                                 exponentformat= \"e\" if logx else \"none\"),\n",
    "                      yaxis = dict(title=\"count\"))\n",
    "    fig = go.Figure(data=data, layout=layout)\n",
    "\n",
    "    \n",
    "    return py.iplot(fig, filename='stacked histogram')\n",
    "\n",
    "hist(x='fb_likes',colorby=\"topic_terms\",logx=True)"
   ]
  },
  {
   "cell_type": "markdown",
   "metadata": {},
   "source": [
    "## Bar chart"
   ]
  },
  {
   "cell_type": "code",
   "execution_count": null,
   "metadata": {},
   "outputs": [],
   "source": []
  },
  {
   "cell_type": "code",
   "execution_count": 45,
   "metadata": {},
   "outputs": [
    {
     "data": {
      "text/html": [
       "<iframe id=\"igraph\" scrolling=\"no\" style=\"border:none;\" seamless=\"seamless\" src=\"https://plot.ly/~bockjo/60.embed\" height=\"525px\" width=\"100%\"></iframe>"
      ],
      "text/plain": [
       "<plotly.tools.PlotlyDisplay object>"
      ]
     },
     "execution_count": 45,
     "metadata": {},
     "output_type": "execute_result"
    }
   ],
   "source": [
    "def bar(x,groupby,colorby = None, aggregate = \"sum\"):\n",
    "    plot_dat = t.df.copy()\n",
    "    \n",
    "    if colorby == None:\n",
    "        plot_dat = plot_dat.groupby(groupby)[x].agg(aggregate)\n",
    "        data =[\n",
    "            go.Bar(\n",
    "            y=plot_dat.index.values,\n",
    "            x=plot_dat.values,\n",
    "            orientation = 'h')\n",
    "        ]\n",
    "        fig = go.Figure(data=data)\n",
    "    else:\n",
    "        data = []\n",
    "        plot_dat = plot_dat.groupby([colorby,groupby])[x].agg(aggregate)\n",
    "        for gr in plot_dat.index.levels[0]: \n",
    "            data.append(go.Bar(\n",
    "            y=plot_dat[gr].index.values,\n",
    "            x=plot_dat[gr].values,\n",
    "            name=gr,\n",
    "            orientation = 'h'\n",
    "        ))\n",
    "        \n",
    "        layout = go.Layout(\n",
    "            barmode='stack',\n",
    "            showlegend = True,\n",
    "            xaxis = dict(title=x+\" (\"+aggregate+\")\"),\n",
    "            legend=dict(orientation=\"h\"),\n",
    "            margin = go.Margin(l=330,r=50)\n",
    "        )\n",
    "\n",
    "        fig = go.Figure(data=data, layout=layout)\n",
    "    \n",
    "    return py.iplot(fig, filename='bar')\n",
    "\n",
    "bar(x=\"uuid\",groupby=\"topic_terms\",colorby=\"country\",aggregate=\"nunique\")"
   ]
  },
  {
   "cell_type": "markdown",
   "metadata": {},
   "source": [
    "## Scatter plot"
   ]
  },
  {
   "cell_type": "code",
   "execution_count": 47,
   "metadata": {},
   "outputs": [
    {
     "data": {
      "text/html": [
       "<iframe id=\"igraph\" scrolling=\"no\" style=\"border:none;\" seamless=\"seamless\" src=\"https://plot.ly/~bockjo/60.embed\" height=\"525px\" width=\"100%\"></iframe>"
      ],
      "text/plain": [
       "<plotly.tools.PlotlyDisplay object>"
      ]
     },
     "execution_count": 47,
     "metadata": {},
     "output_type": "execute_result"
    }
   ],
   "source": [
    "def scatter(x,y,groupby,colorby = None,sizeby = \"fixed\", aggregate = {\"x\":\"sum\",\"y\":\"sum\",\"colorby\":\"sum\"},\n",
    "            axistype = {\"x\":\"normal\",\"y\":\"normal\"},\n",
    "            xtitle=\"\", ytitle=\"\"):\n",
    "    \n",
    "    plot_dat = t.df.copy()\n",
    "    if sizeby==\"fixed\":\n",
    "        s=15\n",
    "    if colorby == None:\n",
    "        colorby = groupby\n",
    "        \n",
    "    if plot_dat[colorby].dtype == np.object:\n",
    "        plot_datx = plot_dat.groupby([colorby,groupby])[x].agg(aggregate[\"x\"])\n",
    "        plot_daty = plot_dat.groupby([colorby,groupby])[y].agg(aggregate[\"y\"])\n",
    "        \n",
    "        dat = []\n",
    "        for cat in plot_dat[colorby].unique():\n",
    "            \n",
    "            dat.append({\"x\":plot_datx[cat].values,\n",
    "                       \"y\":plot_daty[cat].values,\n",
    "                        \"text\":plot_daty[cat].index,\n",
    "                       \"name\":cat,\n",
    "                       \"mode\":\"markers\",\n",
    "                       \"marker\":dict(size=s)})\n",
    "        fig = {\n",
    "            'data': dat,\n",
    "            'layout': {\"legend\":dict(orientation=\"h\"),\"showlegend\": True,\n",
    "                'xaxis': {'title': xtitle,\"type\":axistype[\"x\"],\"exponentformat\": \"e\" if axistype[\"x\"]==\"log\" else \"none\"},\n",
    "                'yaxis': {'title': ytitle,\"type\":axistype[\"y\"],\"exponentformat\": \"e\" if axistype[\"y\"]==\"log\" else \"none\"}\n",
    "            }\n",
    "        }\n",
    "    else:\n",
    "        plot_datx = plot_dat.groupby(groupby)[x].agg(aggregate[\"x\"])\n",
    "        plot_daty = plot_dat.groupby(groupby)[y].agg(aggregate[\"y\"])\n",
    "        plot_datcol = plot_dat.groupby(groupby)[colorby].agg(aggregate[\"colorby\"])\n",
    "        \n",
    "        trace1 = go.Scatter(\n",
    "            y = plot_daty.values,\n",
    "            x = plot_datx.values,\n",
    "            mode='markers',\n",
    "            marker=dict(\n",
    "                size=s,\n",
    "                color = plot_datcol.values, #set color equal to a variable\n",
    "                colorscale='Viridis',\n",
    "                showscale=True\n",
    "            )\n",
    "        )\n",
    "        layout = dict(xaxis=dic(title=xtitle,type=axistype[\"x\"],exponentformat= \"e\" if axistype[\"x\"]==\"log\" else \"none\"),\n",
    "                      yaxis=dic(title=ytitle,type=axistype[\"y\"],exponentformat= \"e\" if axistype[\"y\"]==\"log\" else \"none\"))\n",
    "        fig = go.Figure(data=[trace1],layout = layout)\n",
    "        \n",
    "    return py.iplot(fig, filename='bar')\n",
    "\n",
    "scatter(x=\"uuid\",y='fb_likes',groupby=\"topic_terms\",colorby = \"topic_terms\",\n",
    "        sizeby = \"fixed\",xtitle=\"Publish-Count\",ytitle=\"fb-likes\",\n",
    "        axistype=dict(x=\"normal\",y=\"normal\"),\n",
    "        aggregate = {\"x\":\"nunique\",\"y\":\"sum\",\"colorby\":\"sum\"})"
   ]
  },
  {
   "cell_type": "code",
   "execution_count": 48,
   "metadata": {},
   "outputs": [
    {
     "data": {
      "text/html": [
       "<script>\n",
       "code_show=true; \n",
       "function code_toggle() {\n",
       " if (code_show){\n",
       " $('div.input').hide();\n",
       " } else {\n",
       " $('div.input').show();\n",
       " }\n",
       " code_show = !code_show\n",
       "} \n",
       "$( document ).ready(code_toggle);\n",
       "</script>\n",
       "The raw code for this notebook is by default hidden for easier reading.\n",
       "To toggle on/off the raw code, click <a href=\"javascript:code_toggle()\">here</a>."
      ],
      "text/plain": [
       "<IPython.core.display.HTML object>"
      ]
     },
     "execution_count": 48,
     "metadata": {},
     "output_type": "execute_result"
    }
   ],
   "source": [
    "from IPython.display import HTML\n",
    "\n",
    "HTML('''<script>\n",
    "code_show=true; \n",
    "function code_toggle() {\n",
    " if (code_show){\n",
    " $('div.input').hide();\n",
    " } else {\n",
    " $('div.input').show();\n",
    " }\n",
    " code_show = !code_show\n",
    "} \n",
    "$( document ).ready(code_toggle);\n",
    "</script>\n",
    "The raw code for this notebook is by default hidden for easier reading.\n",
    "To toggle on/off the raw code, click <a href=\"javascript:code_toggle()\">here</a>.''')"
   ]
  }
 ],
 "metadata": {
  "kernelspec": {
   "display_name": "Python 3",
   "language": "python",
   "name": "python3"
  },
  "language_info": {
   "codemirror_mode": {
    "name": "ipython",
    "version": 3
   },
   "file_extension": ".py",
   "mimetype": "text/x-python",
   "name": "python",
   "nbconvert_exporter": "python",
   "pygments_lexer": "ipython3",
   "version": "3.5.4"
  },
  "toc": {
   "nav_menu": {},
   "number_sections": true,
   "sideBar": true,
   "skip_h1_title": false,
   "title_cell": "Table of Contents",
   "title_sidebar": "Contents",
   "toc_cell": false,
   "toc_position": {},
   "toc_section_display": true,
   "toc_window_display": false
  }
 },
 "nbformat": 4,
 "nbformat_minor": 2
}
