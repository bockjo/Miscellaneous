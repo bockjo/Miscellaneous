{
 "cells": [
  {
   "cell_type": "markdown",
   "metadata": {
    "heading_collapsed": true
   },
   "source": [
    "# Data prep"
   ]
  },
  {
   "cell_type": "code",
   "execution_count": 1,
   "metadata": {
    "hidden": true
   },
   "outputs": [],
   "source": [
    "import numpy as np # linear algebra\n",
    "import pandas as pd # data processing, CSV file I/O (e.g. pd.read_csv)\n",
    "import glob\n",
    "import json\n",
    "\n",
    "import matplotlib.pyplot as plt\n",
    "plt.style.use('ggplot')"
   ]
  },
  {
   "cell_type": "code",
   "execution_count": 2,
   "metadata": {
    "hidden": true
   },
   "outputs": [
    {
     "data": {
      "text/html": [
       "<div>\n",
       "<style scoped>\n",
       "    .dataframe tbody tr th:only-of-type {\n",
       "        vertical-align: middle;\n",
       "    }\n",
       "\n",
       "    .dataframe tbody tr th {\n",
       "        vertical-align: top;\n",
       "    }\n",
       "\n",
       "    .dataframe thead th {\n",
       "        text-align: right;\n",
       "    }\n",
       "</style>\n",
       "<table border=\"1\" class=\"dataframe\">\n",
       "  <thead>\n",
       "    <tr style=\"text-align: right;\">\n",
       "      <th></th>\n",
       "      <th>sha</th>\n",
       "      <th>source_x</th>\n",
       "      <th>title</th>\n",
       "      <th>doi</th>\n",
       "      <th>pmcid</th>\n",
       "      <th>pubmed_id</th>\n",
       "      <th>license</th>\n",
       "      <th>abstract</th>\n",
       "      <th>publish_time</th>\n",
       "      <th>authors</th>\n",
       "      <th>journal</th>\n",
       "      <th>Microsoft Academic Paper ID</th>\n",
       "      <th>WHO #Covidence</th>\n",
       "      <th>has_full_text</th>\n",
       "    </tr>\n",
       "  </thead>\n",
       "  <tbody>\n",
       "    <tr>\n",
       "      <th>0</th>\n",
       "      <td>c630ebcdf30652f0422c3ec12a00b50241dc9bd9</td>\n",
       "      <td>CZI</td>\n",
       "      <td>Angiotensin-converting enzyme 2 (ACE2) as a SA...</td>\n",
       "      <td>10.1007/s00134-020-05985-9</td>\n",
       "      <td>NaN</td>\n",
       "      <td>32125455</td>\n",
       "      <td>cc-by-nc</td>\n",
       "      <td>NaN</td>\n",
       "      <td>2020</td>\n",
       "      <td>Zhang, Haibo; Penninger, Josef M.; Li, Yimin; ...</td>\n",
       "      <td>Intensive Care Med</td>\n",
       "      <td>2002765492</td>\n",
       "      <td>#3252</td>\n",
       "      <td>True</td>\n",
       "    </tr>\n",
       "    <tr>\n",
       "      <th>1</th>\n",
       "      <td>53eccda7977a31e3d0f565c884da036b1e85438e</td>\n",
       "      <td>CZI</td>\n",
       "      <td>Comparative genetic analysis of the novel coro...</td>\n",
       "      <td>10.1038/s41421-020-0147-1</td>\n",
       "      <td>NaN</td>\n",
       "      <td>NaN</td>\n",
       "      <td>cc-by</td>\n",
       "      <td>NaN</td>\n",
       "      <td>2020</td>\n",
       "      <td>Cao, Yanan; Li, Lin; Feng, Zhimin; Wan, Shengq...</td>\n",
       "      <td>Cell Discovery</td>\n",
       "      <td>3003430844</td>\n",
       "      <td>#1861</td>\n",
       "      <td>True</td>\n",
       "    </tr>\n",
       "    <tr>\n",
       "      <th>2</th>\n",
       "      <td>210a892deb1c61577f6fba58505fd65356ce6636</td>\n",
       "      <td>CZI</td>\n",
       "      <td>Incubation Period and Other Epidemiological Ch...</td>\n",
       "      <td>10.3390/jcm9020538</td>\n",
       "      <td>NaN</td>\n",
       "      <td>NaN</td>\n",
       "      <td>cc-by</td>\n",
       "      <td>The geographic spread of 2019 novel coronaviru...</td>\n",
       "      <td>2020</td>\n",
       "      <td>Linton, M. Natalie; Kobayashi, Tetsuro; Yang, ...</td>\n",
       "      <td>Journal of Clinical Medicine</td>\n",
       "      <td>3006065484</td>\n",
       "      <td>#1043</td>\n",
       "      <td>True</td>\n",
       "    </tr>\n",
       "    <tr>\n",
       "      <th>3</th>\n",
       "      <td>e3b40cc8e0e137c416b4a2273a4dca94ae8178cc</td>\n",
       "      <td>CZI</td>\n",
       "      <td>Characteristics of and Public Health Responses...</td>\n",
       "      <td>10.3390/jcm9020575</td>\n",
       "      <td>NaN</td>\n",
       "      <td>32093211</td>\n",
       "      <td>cc-by</td>\n",
       "      <td>In December 2019, cases of unidentified pneumo...</td>\n",
       "      <td>2020</td>\n",
       "      <td>Deng, Sheng-Qun; Peng, Hong-Juan</td>\n",
       "      <td>J Clin Med</td>\n",
       "      <td>177663115</td>\n",
       "      <td>#1999</td>\n",
       "      <td>True</td>\n",
       "    </tr>\n",
       "    <tr>\n",
       "      <th>4</th>\n",
       "      <td>92c2c9839304b4f2bc1276d41b1aa885d8b364fd</td>\n",
       "      <td>CZI</td>\n",
       "      <td>Imaging changes in severe COVID-19 pneumonia</td>\n",
       "      <td>10.1007/s00134-020-05976-w</td>\n",
       "      <td>NaN</td>\n",
       "      <td>32125453</td>\n",
       "      <td>cc-by-nc</td>\n",
       "      <td>NaN</td>\n",
       "      <td>2020</td>\n",
       "      <td>Zhang, Wei</td>\n",
       "      <td>Intensive Care Med</td>\n",
       "      <td>3006643024</td>\n",
       "      <td>#3242</td>\n",
       "      <td>False</td>\n",
       "    </tr>\n",
       "  </tbody>\n",
       "</table>\n",
       "</div>"
      ],
      "text/plain": [
       "                                        sha source_x  \\\n",
       "0  c630ebcdf30652f0422c3ec12a00b50241dc9bd9      CZI   \n",
       "1  53eccda7977a31e3d0f565c884da036b1e85438e      CZI   \n",
       "2  210a892deb1c61577f6fba58505fd65356ce6636      CZI   \n",
       "3  e3b40cc8e0e137c416b4a2273a4dca94ae8178cc      CZI   \n",
       "4  92c2c9839304b4f2bc1276d41b1aa885d8b364fd      CZI   \n",
       "\n",
       "                                               title  \\\n",
       "0  Angiotensin-converting enzyme 2 (ACE2) as a SA...   \n",
       "1  Comparative genetic analysis of the novel coro...   \n",
       "2  Incubation Period and Other Epidemiological Ch...   \n",
       "3  Characteristics of and Public Health Responses...   \n",
       "4       Imaging changes in severe COVID-19 pneumonia   \n",
       "\n",
       "                          doi pmcid pubmed_id   license  \\\n",
       "0  10.1007/s00134-020-05985-9   NaN  32125455  cc-by-nc   \n",
       "1   10.1038/s41421-020-0147-1   NaN       NaN     cc-by   \n",
       "2          10.3390/jcm9020538   NaN       NaN     cc-by   \n",
       "3          10.3390/jcm9020575   NaN  32093211     cc-by   \n",
       "4  10.1007/s00134-020-05976-w   NaN  32125453  cc-by-nc   \n",
       "\n",
       "                                            abstract publish_time  \\\n",
       "0                                                NaN         2020   \n",
       "1                                                NaN         2020   \n",
       "2  The geographic spread of 2019 novel coronaviru...         2020   \n",
       "3  In December 2019, cases of unidentified pneumo...         2020   \n",
       "4                                                NaN         2020   \n",
       "\n",
       "                                             authors  \\\n",
       "0  Zhang, Haibo; Penninger, Josef M.; Li, Yimin; ...   \n",
       "1  Cao, Yanan; Li, Lin; Feng, Zhimin; Wan, Shengq...   \n",
       "2  Linton, M. Natalie; Kobayashi, Tetsuro; Yang, ...   \n",
       "3                   Deng, Sheng-Qun; Peng, Hong-Juan   \n",
       "4                                         Zhang, Wei   \n",
       "\n",
       "                        journal Microsoft Academic Paper ID WHO #Covidence  \\\n",
       "0            Intensive Care Med                  2002765492          #3252   \n",
       "1                Cell Discovery                  3003430844          #1861   \n",
       "2  Journal of Clinical Medicine                  3006065484          #1043   \n",
       "3                    J Clin Med                   177663115          #1999   \n",
       "4            Intensive Care Med                  3006643024          #3242   \n",
       "\n",
       "  has_full_text  \n",
       "0          True  \n",
       "1          True  \n",
       "2          True  \n",
       "3          True  \n",
       "4         False  "
      ]
     },
     "execution_count": 2,
     "metadata": {},
     "output_type": "execute_result"
    }
   ],
   "source": [
    "#Read meta data\n",
    "root_path = '2020-03-13'\n",
    "metadata_path = root_path+'/all_sources_metadata_2020-03-13.csv'\n",
    "meta_df = pd.read_csv(metadata_path, dtype={\n",
    "    'pubmed_id': str,\n",
    "    'Microsoft Academic Paper ID': str, \n",
    "    'doi': str\n",
    "})\n",
    "meta_df.head()"
   ]
  },
  {
   "cell_type": "code",
   "execution_count": 3,
   "metadata": {
    "hidden": true
   },
   "outputs": [],
   "source": [
    "meta_df[\"doi_modified\"] = meta_df[\"doi\"].str.replace('/','%2F')\n",
    "meta_df[\"URL\"] = \"https://www.google.com/search?q=doi+\"+ meta_df[\"doi_modified\"]"
   ]
  },
  {
   "cell_type": "code",
   "execution_count": 4,
   "metadata": {
    "hidden": true
   },
   "outputs": [
    {
     "data": {
      "text/plain": [
       "13202"
      ]
     },
     "execution_count": 4,
     "metadata": {},
     "output_type": "execute_result"
    }
   ],
   "source": [
    "all_json = glob.glob(root_path+\"/**/*.json\", recursive=True)\n",
    "len(all_json)"
   ]
  },
  {
   "cell_type": "code",
   "execution_count": 5,
   "metadata": {
    "hidden": true
   },
   "outputs": [
    {
     "name": "stdout",
     "output_type": "stream",
     "text": [
      "0015023cc06b5362d332b3baf348d11567ca2fbb: word count: 194 22 Text word count: 5168 23 24 25 author/funder. All rights reserved. No reuse allowed without permission. Abstract 27 The positive stranded RNA genomes of picornaviruses comprise a si... VP3, and VP0 (which is further processed to VP2 and VP4 during virus assembly) (6). The P2 64 and P3 regions encode the non-structural proteins 2B and 2C and 3A, 3B (1-3) (VPg), 3C pro and 4 structura...\n"
     ]
    }
   ],
   "source": [
    "class FileReader:\n",
    "    def __init__(self, file_path):\n",
    "        with open(file_path) as file:\n",
    "            content = json.load(file)\n",
    "            self.paper_id = content['paper_id']\n",
    "            self.abstract = []\n",
    "            self.body_text = []\n",
    "            # Abstract\n",
    "            for entry in content['abstract']:\n",
    "                self.abstract.append(entry['text'])\n",
    "            # Body text\n",
    "            for entry in content['body_text']:\n",
    "                self.body_text.append(entry['text'])\n",
    "            self.abstract = '\\n'.join(self.abstract)\n",
    "            self.body_text = '\\n'.join(self.body_text)\n",
    "    def __repr__(self):\n",
    "        return (f'{self.paper_id}: {self.abstract[:200]}... {self.body_text[:200]}...')\n",
    "    \n",
    "first_row = FileReader(all_json[0])\n",
    "print(first_row)"
   ]
  },
  {
   "cell_type": "code",
   "execution_count": 6,
   "metadata": {
    "hidden": true
   },
   "outputs": [],
   "source": [
    "def get_breaks(content, length):\n",
    "    data = \"\"\n",
    "    words = content.split(' ')\n",
    "    total_chars = 0\n",
    "\n",
    "    # add break every length characters\n",
    "    for i in range(len(words)):\n",
    "        total_chars += len(words[i])\n",
    "        if total_chars > length:\n",
    "            data = data + \"<br>\" + words[i]\n",
    "            total_chars = 0\n",
    "        else:\n",
    "            data = data + \" \" + words[i]\n",
    "    return data"
   ]
  },
  {
   "cell_type": "code",
   "execution_count": 7,
   "metadata": {
    "hidden": true
   },
   "outputs": [
    {
     "name": "stdout",
     "output_type": "stream",
     "text": [
      "Processing index: 0 of 13202\n",
      "Processing index: 1320 of 13202\n",
      "Processing index: 2640 of 13202\n",
      "Processing index: 3960 of 13202\n",
      "Processing index: 5280 of 13202\n",
      "Processing index: 6600 of 13202\n",
      "Processing index: 7920 of 13202\n",
      "Processing index: 9240 of 13202\n",
      "Processing index: 10560 of 13202\n",
      "Processing index: 11880 of 13202\n",
      "Processing index: 13200 of 13202\n"
     ]
    },
    {
     "data": {
      "text/html": [
       "<div>\n",
       "<style scoped>\n",
       "    .dataframe tbody tr th:only-of-type {\n",
       "        vertical-align: middle;\n",
       "    }\n",
       "\n",
       "    .dataframe tbody tr th {\n",
       "        vertical-align: top;\n",
       "    }\n",
       "\n",
       "    .dataframe thead th {\n",
       "        text-align: right;\n",
       "    }\n",
       "</style>\n",
       "<table border=\"1\" class=\"dataframe\">\n",
       "  <thead>\n",
       "    <tr style=\"text-align: right;\">\n",
       "      <th></th>\n",
       "      <th>paper_id</th>\n",
       "      <th>abstract</th>\n",
       "      <th>body_text</th>\n",
       "      <th>authors</th>\n",
       "      <th>title</th>\n",
       "      <th>journal</th>\n",
       "      <th>abstract_summary</th>\n",
       "    </tr>\n",
       "  </thead>\n",
       "  <tbody>\n",
       "    <tr>\n",
       "      <th>0</th>\n",
       "      <td>0015023cc06b5362d332b3baf348d11567ca2fbb</td>\n",
       "      <td>word count: 194 22 Text word count: 5168 23 24...</td>\n",
       "      <td>VP3, and VP0 (which is further processed to VP...</td>\n",
       "      <td>Ward, J. C. J.; Lasecka-Dykes, L.; Neil, C.; A...</td>\n",
       "      <td>The RNA pseudoknots in foot-and-mouth disease...</td>\n",
       "      <td>NaN</td>\n",
       "      <td>word count: 194 22 Text word count: 5168 23 2...</td>\n",
       "    </tr>\n",
       "    <tr>\n",
       "      <th>1</th>\n",
       "      <td>004f0f8bb66cf446678dc13cf2701feec4f36d76</td>\n",
       "      <td></td>\n",
       "      <td>The 2019-nCoV epidemic has spread across China...</td>\n",
       "      <td>NaN</td>\n",
       "      <td>NaN</td>\n",
       "      <td>NaN</td>\n",
       "      <td>Not provided.</td>\n",
       "    </tr>\n",
       "    <tr>\n",
       "      <th>2</th>\n",
       "      <td>00d16927588fb04d4be0e6b269fc02f0d3c2aa7b</td>\n",
       "      <td>Infectious bronchitis (IB) causes significant ...</td>\n",
       "      <td>Infectious bronchitis (IB), which is caused by...</td>\n",
       "      <td>Butt, S. L.; Erwood, E. C.; Zhang, J.; Sellers...</td>\n",
       "      <td>Real-time, MinION-based, amplicon&lt;br&gt;sequenci...</td>\n",
       "      <td>NaN</td>\n",
       "      <td>Infectious bronchitis (IB) causes&lt;br&gt;signific...</td>\n",
       "    </tr>\n",
       "    <tr>\n",
       "      <th>3</th>\n",
       "      <td>013d9d1cba8a54d5d3718c229b812d7cf91b6c89</td>\n",
       "      <td>Background: A novel coronavirus (2019-nCoV) em...</td>\n",
       "      <td>In December 2019, a cluster of patients with p...</td>\n",
       "      <td>NaN</td>\n",
       "      <td>NaN</td>\n",
       "      <td>NaN</td>\n",
       "      <td>Background: A novel coronavirus (2019-nCoV)&lt;b...</td>\n",
       "    </tr>\n",
       "    <tr>\n",
       "      <th>4</th>\n",
       "      <td>01d162d7fae6aaba8e6e60e563ef4c2fca7b0e18</td>\n",
       "      <td>Faced with the current large-scale public heal...</td>\n",
       "      <td>The sudden outbreak of the new coronavirus (SA...</td>\n",
       "      <td>NaN</td>\n",
       "      <td>NaN</td>\n",
       "      <td>NaN</td>\n",
       "      <td>Faced with the current large-scale public&lt;br&gt;...</td>\n",
       "    </tr>\n",
       "  </tbody>\n",
       "</table>\n",
       "</div>"
      ],
      "text/plain": [
       "                                   paper_id  \\\n",
       "0  0015023cc06b5362d332b3baf348d11567ca2fbb   \n",
       "1  004f0f8bb66cf446678dc13cf2701feec4f36d76   \n",
       "2  00d16927588fb04d4be0e6b269fc02f0d3c2aa7b   \n",
       "3  013d9d1cba8a54d5d3718c229b812d7cf91b6c89   \n",
       "4  01d162d7fae6aaba8e6e60e563ef4c2fca7b0e18   \n",
       "\n",
       "                                            abstract  \\\n",
       "0  word count: 194 22 Text word count: 5168 23 24...   \n",
       "1                                                      \n",
       "2  Infectious bronchitis (IB) causes significant ...   \n",
       "3  Background: A novel coronavirus (2019-nCoV) em...   \n",
       "4  Faced with the current large-scale public heal...   \n",
       "\n",
       "                                           body_text  \\\n",
       "0  VP3, and VP0 (which is further processed to VP...   \n",
       "1  The 2019-nCoV epidemic has spread across China...   \n",
       "2  Infectious bronchitis (IB), which is caused by...   \n",
       "3  In December 2019, a cluster of patients with p...   \n",
       "4  The sudden outbreak of the new coronavirus (SA...   \n",
       "\n",
       "                                             authors  \\\n",
       "0  Ward, J. C. J.; Lasecka-Dykes, L.; Neil, C.; A...   \n",
       "1                                                NaN   \n",
       "2  Butt, S. L.; Erwood, E. C.; Zhang, J.; Sellers...   \n",
       "3                                                NaN   \n",
       "4                                                NaN   \n",
       "\n",
       "                                               title journal  \\\n",
       "0   The RNA pseudoknots in foot-and-mouth disease...     NaN   \n",
       "1                                                NaN     NaN   \n",
       "2   Real-time, MinION-based, amplicon<br>sequenci...     NaN   \n",
       "3                                                NaN     NaN   \n",
       "4                                                NaN     NaN   \n",
       "\n",
       "                                    abstract_summary  \n",
       "0   word count: 194 22 Text word count: 5168 23 2...  \n",
       "1                                      Not provided.  \n",
       "2   Infectious bronchitis (IB) causes<br>signific...  \n",
       "3   Background: A novel coronavirus (2019-nCoV)<b...  \n",
       "4   Faced with the current large-scale public<br>...  "
      ]
     },
     "execution_count": 7,
     "metadata": {},
     "output_type": "execute_result"
    }
   ],
   "source": [
    "from ast import literal_eval\n",
    "\n",
    "dict_ = {'paper_id': [], 'abstract': [], 'body_text': [], 'authors': [], 'title': [], 'journal': [], 'abstract_summary': []}\n",
    "for idx, entry in enumerate(all_json):\n",
    "    if idx % (len(all_json) // 10) == 0:\n",
    "        print(f'Processing index: {idx} of {len(all_json)}')\n",
    "    content = FileReader(entry)\n",
    "    dict_['paper_id'].append(content.paper_id)\n",
    "    dict_['abstract'].append(content.abstract)\n",
    "    dict_['body_text'].append(content.body_text)\n",
    "      \n",
    "    # also create a column for the summary of abstract to be used in a plot\n",
    "    if len(content.abstract) == 0: \n",
    "        # no abstract provided\n",
    "        dict_['abstract_summary'].append(\"Not provided.\")\n",
    "    elif len(content.abstract.split(' ')) > 100:\n",
    "        # abstract provided is too long for plot, take first 300 words append with ...\n",
    "        info = content.abstract.split(' ')[:100]\n",
    "        summary = get_breaks(' '.join(info), 40)\n",
    "        dict_['abstract_summary'].append(summary + \"...\")\n",
    "    else:\n",
    "        # abstract is short enough\n",
    "        summary = get_breaks(content.abstract, 40)\n",
    "        dict_['abstract_summary'].append(summary)\n",
    "        \n",
    "    # get metadata information\n",
    "    meta_data = meta_df.loc[meta_df['sha'] == content.paper_id]\n",
    "    try:\n",
    "        # if more than one author\n",
    "        authors = literal_eval(meta_data['authors'].values[0])\n",
    "        if len(authors) > 2:\n",
    "            # more than 2 authors, may be problem when plotting, so take first 2 append with ...\n",
    "            dict_['authors'].append(\". \".join(authors[:2]) + \"...\")\n",
    "        else:\n",
    "            # authors will fit in plot\n",
    "            dict_['authors'].append(\". \".join(authors))\n",
    "    except Exception as e:\n",
    "        # if only one author - or Null valie\n",
    "        dict_['authors'].append(meta_data['authors'].values[0])\n",
    "    \n",
    "    # add the title information, add breaks when needed\n",
    "    try:\n",
    "        title = get_breaks(meta_data['title'].values[0], 40)\n",
    "        dict_['title'].append(title)\n",
    "    # if title was not provided\n",
    "    except Exception as e:\n",
    "        dict_['title'].append(meta_data['title'].values[0])\n",
    "    \n",
    "    # add the journal information\n",
    "    dict_['journal'].append(meta_data['journal'].values[0])\n",
    "    \n",
    "df_covid = pd.DataFrame(dict_, columns=['paper_id', 'abstract', 'body_text', 'authors', 'title', 'journal', 'abstract_summary'])\n",
    "df_covid.head()"
   ]
  },
  {
   "cell_type": "code",
   "execution_count": 8,
   "metadata": {
    "hidden": true
   },
   "outputs": [],
   "source": [
    "#df_covid=pd.merge(df_covid, meta_df, left_on='paper_id', right_on='sha')\n",
    "df_covid=df_covid.dropna()"
   ]
  },
  {
   "cell_type": "code",
   "execution_count": 9,
   "metadata": {
    "hidden": true
   },
   "outputs": [
    {
     "data": {
      "text/plain": [
       "(12248, 7)"
      ]
     },
     "execution_count": 9,
     "metadata": {},
     "output_type": "execute_result"
    }
   ],
   "source": [
    "df_covid.shape"
   ]
  },
  {
   "cell_type": "code",
   "execution_count": null,
   "metadata": {
    "hidden": true
   },
   "outputs": [],
   "source": []
  },
  {
   "cell_type": "markdown",
   "metadata": {},
   "source": [
    "# Topic Model"
   ]
  },
  {
   "cell_type": "code",
   "execution_count": 19,
   "metadata": {},
   "outputs": [],
   "source": [
    "import NewsTrends\n",
    "import importlib\n",
    "importlib.reload(NewsTrends)\n",
    "import locale\n",
    "import matplotlib.pyplot as plt\n",
    "plt.style.use('ggplot')\n",
    "\n",
    "%matplotlib inline"
   ]
  },
  {
   "cell_type": "code",
   "execution_count": 11,
   "metadata": {},
   "outputs": [],
   "source": [
    "t = NewsTrends.topicModel(df_covid,\n",
    "                          key_idx=list(df_covid.columns).index(\"paper_id\"),\n",
    "                          text_idx=list(df_covid.columns).index(\"body_text\"),\n",
    "                          lang=\"en_core_web_sm\",random_state = 1,\n",
    "                          bigram = False)"
   ]
  },
  {
   "cell_type": "code",
   "execution_count": 12,
   "metadata": {},
   "outputs": [
    {
     "name": "stdout",
     "output_type": "stream",
     "text": [
      "12247 done ]\n"
     ]
    }
   ],
   "source": [
    "corpus = t.tokenize_docs(rmv_tokens=[\"'s\",\"=\",\"datum\", \"r\",\"t\",\"ifn\",\"+\",\"c\",\"ml\"])"
   ]
  },
  {
   "cell_type": "code",
   "execution_count": 14,
   "metadata": {},
   "outputs": [
    {
     "data": {
      "text/html": [
       "<div>\n",
       "<style scoped>\n",
       "    .dataframe tbody tr th:only-of-type {\n",
       "        vertical-align: middle;\n",
       "    }\n",
       "\n",
       "    .dataframe tbody tr th {\n",
       "        vertical-align: top;\n",
       "    }\n",
       "\n",
       "    .dataframe thead th {\n",
       "        text-align: right;\n",
       "    }\n",
       "</style>\n",
       "<table border=\"1\" class=\"dataframe\">\n",
       "  <thead>\n",
       "    <tr style=\"text-align: right;\">\n",
       "      <th></th>\n",
       "      <th>paper_id</th>\n",
       "      <th>tokenized_text</th>\n",
       "    </tr>\n",
       "  </thead>\n",
       "  <tbody>\n",
       "    <tr>\n",
       "      <th>0</th>\n",
       "      <td>000b7d1517ceebb34e1e3e817695b6de03e2fa78</td>\n",
       "      <td>[figure, s1, phylogeny, sequence, belong, umrv...</td>\n",
       "    </tr>\n",
       "    <tr>\n",
       "      <th>1</th>\n",
       "      <td>00142f93c18b07350be89e96372d240372437ed9</td>\n",
       "      <td>[introduction, human, constantly, expose, myri...</td>\n",
       "    </tr>\n",
       "    <tr>\n",
       "      <th>2</th>\n",
       "      <td>0022796bb2112abd2e6423ba2d57751db06049fb</td>\n",
       "      <td>[pathogens, vector, transport, rapidly, world,...</td>\n",
       "    </tr>\n",
       "    <tr>\n",
       "      <th>3</th>\n",
       "      <td>00326efcca0852dc6e39dc6b7786267e1bc4f194</td>\n",
       "      <td>[addition, preventative, care, nutritional, su...</td>\n",
       "    </tr>\n",
       "    <tr>\n",
       "      <th>4</th>\n",
       "      <td>00352a58c8766861effed18a4b079d1683fec2ec</td>\n",
       "      <td>[ubiquitination, widely, posttranslational, mo...</td>\n",
       "    </tr>\n",
       "  </tbody>\n",
       "</table>\n",
       "</div>"
      ],
      "text/plain": [
       "                                   paper_id  \\\n",
       "0  000b7d1517ceebb34e1e3e817695b6de03e2fa78   \n",
       "1  00142f93c18b07350be89e96372d240372437ed9   \n",
       "2  0022796bb2112abd2e6423ba2d57751db06049fb   \n",
       "3  00326efcca0852dc6e39dc6b7786267e1bc4f194   \n",
       "4  00352a58c8766861effed18a4b079d1683fec2ec   \n",
       "\n",
       "                                      tokenized_text  \n",
       "0  [figure, s1, phylogeny, sequence, belong, umrv...  \n",
       "1  [introduction, human, constantly, expose, myri...  \n",
       "2  [pathogens, vector, transport, rapidly, world,...  \n",
       "3  [addition, preventative, care, nutritional, su...  \n",
       "4  [ubiquitination, widely, posttranslational, mo...  "
      ]
     },
     "execution_count": 14,
     "metadata": {},
     "output_type": "execute_result"
    }
   ],
   "source": [
    "corpus.head()"
   ]
  },
  {
   "cell_type": "code",
   "execution_count": 15,
   "metadata": {},
   "outputs": [],
   "source": [
    "corpus = t.get_bow(below = 0.05,above = 0.9)"
   ]
  },
  {
   "cell_type": "code",
   "execution_count": null,
   "metadata": {},
   "outputs": [],
   "source": [
    "#k,results = t.LDA_tune_k(max_k=20,iterations=800)"
   ]
  },
  {
   "cell_type": "code",
   "execution_count": null,
   "metadata": {},
   "outputs": [],
   "source": [
    "plt.plot(k,results)"
   ]
  },
  {
   "cell_type": "code",
   "execution_count": 16,
   "metadata": {
    "scrolled": true
   },
   "outputs": [
    {
     "name": "stderr",
     "output_type": "stream",
     "text": [
      "INFO:lda:n_documents: 12248\n",
      "INFO:lda:vocab_size: 2872\n",
      "INFO:lda:n_words: 21791024\n",
      "INFO:lda:n_topics: 6\n",
      "INFO:lda:n_iter: 2000\n",
      "WARNING:lda:all zero row in document-term matrix found\n",
      "INFO:lda:<0> log likelihood: -197519831\n",
      "INFO:lda:<10> log likelihood: -179657158\n",
      "INFO:lda:<20> log likelihood: -166363977\n",
      "INFO:lda:<30> log likelihood: -165271640\n",
      "INFO:lda:<40> log likelihood: -164850304\n",
      "INFO:lda:<50> log likelihood: -164641975\n",
      "INFO:lda:<60> log likelihood: -164540632\n",
      "INFO:lda:<70> log likelihood: -164492215\n",
      "INFO:lda:<80> log likelihood: -164458398\n",
      "INFO:lda:<90> log likelihood: -164443245\n",
      "INFO:lda:<100> log likelihood: -164437267\n",
      "INFO:lda:<110> log likelihood: -164416598\n",
      "INFO:lda:<120> log likelihood: -164390493\n",
      "INFO:lda:<130> log likelihood: -164376525\n",
      "INFO:lda:<140> log likelihood: -164363087\n",
      "INFO:lda:<150> log likelihood: -164332217\n",
      "INFO:lda:<160> log likelihood: -164324621\n",
      "INFO:lda:<170> log likelihood: -164318127\n",
      "INFO:lda:<180> log likelihood: -164304700\n",
      "INFO:lda:<190> log likelihood: -164292675\n",
      "INFO:lda:<200> log likelihood: -164275552\n",
      "INFO:lda:<210> log likelihood: -164270071\n",
      "INFO:lda:<220> log likelihood: -164241386\n",
      "INFO:lda:<230> log likelihood: -164227213\n",
      "INFO:lda:<240> log likelihood: -164212804\n",
      "INFO:lda:<250> log likelihood: -164197296\n",
      "INFO:lda:<260> log likelihood: -164202308\n",
      "INFO:lda:<270> log likelihood: -164202075\n",
      "INFO:lda:<280> log likelihood: -164191458\n",
      "INFO:lda:<290> log likelihood: -164192397\n",
      "INFO:lda:<300> log likelihood: -164177689\n",
      "INFO:lda:<310> log likelihood: -164179418\n",
      "INFO:lda:<320> log likelihood: -164165990\n",
      "INFO:lda:<330> log likelihood: -164169836\n",
      "INFO:lda:<340> log likelihood: -164171116\n",
      "INFO:lda:<350> log likelihood: -164152029\n",
      "INFO:lda:<360> log likelihood: -164149139\n",
      "INFO:lda:<370> log likelihood: -164143919\n",
      "INFO:lda:<380> log likelihood: -164140581\n",
      "INFO:lda:<390> log likelihood: -164135336\n",
      "INFO:lda:<400> log likelihood: -164140204\n",
      "INFO:lda:<410> log likelihood: -164137076\n",
      "INFO:lda:<420> log likelihood: -164125676\n",
      "INFO:lda:<430> log likelihood: -164132484\n",
      "INFO:lda:<440> log likelihood: -164128967\n",
      "INFO:lda:<450> log likelihood: -164130930\n",
      "INFO:lda:<460> log likelihood: -164131410\n",
      "INFO:lda:<470> log likelihood: -164131337\n",
      "INFO:lda:<480> log likelihood: -164117653\n",
      "INFO:lda:<490> log likelihood: -164115465\n",
      "INFO:lda:<500> log likelihood: -164118109\n",
      "INFO:lda:<510> log likelihood: -164117713\n",
      "INFO:lda:<520> log likelihood: -164110783\n",
      "INFO:lda:<530> log likelihood: -164114157\n",
      "INFO:lda:<540> log likelihood: -164109382\n",
      "INFO:lda:<550> log likelihood: -164115284\n",
      "INFO:lda:<560> log likelihood: -164109240\n",
      "INFO:lda:<570> log likelihood: -164107100\n",
      "INFO:lda:<580> log likelihood: -164112760\n",
      "INFO:lda:<590> log likelihood: -164113424\n",
      "INFO:lda:<600> log likelihood: -164111130\n",
      "INFO:lda:<610> log likelihood: -164120967\n",
      "INFO:lda:<620> log likelihood: -164118899\n",
      "INFO:lda:<630> log likelihood: -164097704\n",
      "INFO:lda:<640> log likelihood: -164105036\n",
      "INFO:lda:<650> log likelihood: -164111954\n",
      "INFO:lda:<660> log likelihood: -164111580\n",
      "INFO:lda:<670> log likelihood: -164100837\n",
      "INFO:lda:<680> log likelihood: -164090935\n",
      "INFO:lda:<690> log likelihood: -164105059\n",
      "INFO:lda:<700> log likelihood: -164103790\n",
      "INFO:lda:<710> log likelihood: -164092356\n",
      "INFO:lda:<720> log likelihood: -164097976\n",
      "INFO:lda:<730> log likelihood: -164092750\n",
      "INFO:lda:<740> log likelihood: -164096016\n",
      "INFO:lda:<750> log likelihood: -164099627\n",
      "INFO:lda:<760> log likelihood: -164096046\n",
      "INFO:lda:<770> log likelihood: -164091975\n",
      "INFO:lda:<780> log likelihood: -164103359\n",
      "INFO:lda:<790> log likelihood: -164089293\n",
      "INFO:lda:<800> log likelihood: -164104924\n",
      "INFO:lda:<810> log likelihood: -164086631\n",
      "INFO:lda:<820> log likelihood: -164086368\n",
      "INFO:lda:<830> log likelihood: -164089935\n",
      "INFO:lda:<840> log likelihood: -164081890\n",
      "INFO:lda:<850> log likelihood: -164096674\n",
      "INFO:lda:<860> log likelihood: -164097819\n",
      "INFO:lda:<870> log likelihood: -164093495\n",
      "INFO:lda:<880> log likelihood: -164098737\n",
      "INFO:lda:<890> log likelihood: -164098286\n",
      "INFO:lda:<900> log likelihood: -164094898\n",
      "INFO:lda:<910> log likelihood: -164090052\n",
      "INFO:lda:<920> log likelihood: -164100171\n",
      "INFO:lda:<930> log likelihood: -164088827\n",
      "INFO:lda:<940> log likelihood: -164093748\n",
      "INFO:lda:<950> log likelihood: -164092094\n",
      "INFO:lda:<960> log likelihood: -164094961\n",
      "INFO:lda:<970> log likelihood: -164096539\n",
      "INFO:lda:<980> log likelihood: -164093557\n",
      "INFO:lda:<990> log likelihood: -164077107\n",
      "INFO:lda:<1000> log likelihood: -164092874\n",
      "INFO:lda:<1010> log likelihood: -164099779\n",
      "INFO:lda:<1020> log likelihood: -164088579\n",
      "INFO:lda:<1030> log likelihood: -164091132\n",
      "INFO:lda:<1040> log likelihood: -164090388\n",
      "INFO:lda:<1050> log likelihood: -164091345\n",
      "INFO:lda:<1060> log likelihood: -164095401\n",
      "INFO:lda:<1070> log likelihood: -164080521\n",
      "INFO:lda:<1080> log likelihood: -164081893\n",
      "INFO:lda:<1090> log likelihood: -164091020\n",
      "INFO:lda:<1100> log likelihood: -164085507\n",
      "INFO:lda:<1110> log likelihood: -164083148\n",
      "INFO:lda:<1120> log likelihood: -164094312\n",
      "INFO:lda:<1130> log likelihood: -164090616\n",
      "INFO:lda:<1140> log likelihood: -164088436\n",
      "INFO:lda:<1150> log likelihood: -164085942\n",
      "INFO:lda:<1160> log likelihood: -164091158\n",
      "INFO:lda:<1170> log likelihood: -164081839\n",
      "INFO:lda:<1180> log likelihood: -164093383\n",
      "INFO:lda:<1190> log likelihood: -164091705\n",
      "INFO:lda:<1200> log likelihood: -164088315\n",
      "INFO:lda:<1210> log likelihood: -164082034\n",
      "INFO:lda:<1220> log likelihood: -164088126\n",
      "INFO:lda:<1230> log likelihood: -164100186\n",
      "INFO:lda:<1240> log likelihood: -164087866\n",
      "INFO:lda:<1250> log likelihood: -164095131\n",
      "INFO:lda:<1260> log likelihood: -164092429\n",
      "INFO:lda:<1270> log likelihood: -164102790\n",
      "INFO:lda:<1280> log likelihood: -164104064\n",
      "INFO:lda:<1290> log likelihood: -164091994\n",
      "INFO:lda:<1300> log likelihood: -164089926\n",
      "INFO:lda:<1310> log likelihood: -164101749\n",
      "INFO:lda:<1320> log likelihood: -164085148\n",
      "INFO:lda:<1330> log likelihood: -164098995\n",
      "INFO:lda:<1340> log likelihood: -164098088\n",
      "INFO:lda:<1350> log likelihood: -164093165\n",
      "INFO:lda:<1360> log likelihood: -164088277\n",
      "INFO:lda:<1370> log likelihood: -164088774\n",
      "INFO:lda:<1380> log likelihood: -164084783\n",
      "INFO:lda:<1390> log likelihood: -164092950\n",
      "INFO:lda:<1400> log likelihood: -164081495\n",
      "INFO:lda:<1410> log likelihood: -164085439\n",
      "INFO:lda:<1420> log likelihood: -164092286\n",
      "INFO:lda:<1430> log likelihood: -164094934\n",
      "INFO:lda:<1440> log likelihood: -164096992\n",
      "INFO:lda:<1450> log likelihood: -164087805\n",
      "INFO:lda:<1460> log likelihood: -164097792\n",
      "INFO:lda:<1470> log likelihood: -164096614\n",
      "INFO:lda:<1480> log likelihood: -164094041\n",
      "INFO:lda:<1490> log likelihood: -164093910\n",
      "INFO:lda:<1500> log likelihood: -164095295\n",
      "INFO:lda:<1510> log likelihood: -164098425\n",
      "INFO:lda:<1520> log likelihood: -164095428\n",
      "INFO:lda:<1530> log likelihood: -164086034\n",
      "INFO:lda:<1540> log likelihood: -164085120\n",
      "INFO:lda:<1550> log likelihood: -164089840\n",
      "INFO:lda:<1560> log likelihood: -164094661\n",
      "INFO:lda:<1570> log likelihood: -164084939\n",
      "INFO:lda:<1580> log likelihood: -164096311\n",
      "INFO:lda:<1590> log likelihood: -164088555\n",
      "INFO:lda:<1600> log likelihood: -164090148\n",
      "INFO:lda:<1610> log likelihood: -164087165\n",
      "INFO:lda:<1620> log likelihood: -164086323\n",
      "INFO:lda:<1630> log likelihood: -164087449\n",
      "INFO:lda:<1640> log likelihood: -164081454\n",
      "INFO:lda:<1650> log likelihood: -164090098\n",
      "INFO:lda:<1660> log likelihood: -164088910\n",
      "INFO:lda:<1670> log likelihood: -164084513\n",
      "INFO:lda:<1680> log likelihood: -164081791\n",
      "INFO:lda:<1690> log likelihood: -164090044\n",
      "INFO:lda:<1700> log likelihood: -164079774\n",
      "INFO:lda:<1710> log likelihood: -164084462\n",
      "INFO:lda:<1720> log likelihood: -164090057\n",
      "INFO:lda:<1730> log likelihood: -164082574\n",
      "INFO:lda:<1740> log likelihood: -164086244\n",
      "INFO:lda:<1750> log likelihood: -164096805\n",
      "INFO:lda:<1760> log likelihood: -164083751\n",
      "INFO:lda:<1770> log likelihood: -164084726\n",
      "INFO:lda:<1780> log likelihood: -164088150\n",
      "INFO:lda:<1790> log likelihood: -164087666\n",
      "INFO:lda:<1800> log likelihood: -164091958\n",
      "INFO:lda:<1810> log likelihood: -164092832\n",
      "INFO:lda:<1820> log likelihood: -164089721\n",
      "INFO:lda:<1830> log likelihood: -164087772\n",
      "INFO:lda:<1840> log likelihood: -164098164\n",
      "INFO:lda:<1850> log likelihood: -164085327\n",
      "INFO:lda:<1860> log likelihood: -164085405\n",
      "INFO:lda:<1870> log likelihood: -164095189\n",
      "INFO:lda:<1880> log likelihood: -164093372\n"
     ]
    },
    {
     "name": "stderr",
     "output_type": "stream",
     "text": [
      "INFO:lda:<1890> log likelihood: -164094605\n",
      "INFO:lda:<1900> log likelihood: -164093789\n",
      "INFO:lda:<1910> log likelihood: -164103929\n",
      "INFO:lda:<1920> log likelihood: -164098450\n",
      "INFO:lda:<1930> log likelihood: -164094877\n",
      "INFO:lda:<1940> log likelihood: -164101093\n",
      "INFO:lda:<1950> log likelihood: -164093637\n",
      "INFO:lda:<1960> log likelihood: -164100761\n",
      "INFO:lda:<1970> log likelihood: -164100392\n",
      "INFO:lda:<1980> log likelihood: -164096236\n",
      "INFO:lda:<1990> log likelihood: -164086900\n",
      "INFO:lda:<1999> log likelihood: -164090953\n"
     ]
    }
   ],
   "source": [
    "#Train topic model\n",
    "LDA = t.fit_LDA(6,iterations=2000)"
   ]
  },
  {
   "cell_type": "code",
   "execution_count": 18,
   "metadata": {},
   "outputs": [
    {
     "data": {
      "text/html": [
       "<ul>\n",
       "<li><strong>Topic 0:</strong> cell protein fig figure antibody virus h control assay expression anti activity infection mm mouse concentration c viral min time infect level rna incubate</li>\n",
       "<li><strong>Topic 1:</strong> health disease case model outbreak number time population public risk transmission country system contact report individual information epidemic infection estimate infectious influenza control provide</li>\n",
       "<li><strong>Topic 2:</strong> patient infection group respiratory day age case clinical child p test influenza disease year treatment report associate low symptom analysis increase compare rsv hospital</li>\n",
       "<li><strong>Topic 3:</strong> protein sequence gene rna structure et genome al figure analysis site bind base region domain residue method virus different identify interaction acid n table</li>\n",
       "<li><strong>Topic 4:</strong> virus sample cov strain pcr human sequence viral infection animal detect bat specie mers sars positive isolate assay gene detection test rna primer pig</li>\n",
       "<li><strong>Topic 5:</strong> cell infection mouse response virus al et protein viral expression immune induce ifn gene vaccine human increase level type pathway activation host t receptor</li>\n",
       "</ul>\n"
      ],
      "text/plain": [
       "'* **Topic 0:** cell protein fig figure antibody virus h control assay expression anti activity infection mm mouse concentration c viral min time infect level rna incubate\\n* **Topic 1:** health disease case model outbreak number time population public risk transmission country system contact report individual information epidemic infection estimate infectious influenza control provide\\n* **Topic 2:** patient infection group respiratory day age case clinical child p test influenza disease year treatment report associate low symptom analysis increase compare rsv hospital\\n* **Topic 3:** protein sequence gene rna structure et genome al figure analysis site bind base region domain residue method virus different identify interaction acid n table\\n* **Topic 4:** virus sample cov strain pcr human sequence viral infection animal detect bat specie mers sars positive isolate assay gene detection test rna primer pig\\n* **Topic 5:** cell infection mouse response virus al et protein viral expression immune induce ifn gene vaccine human increase level type pathway activation host t receptor\\n'"
      ]
     },
     "execution_count": 18,
     "metadata": {},
     "output_type": "execute_result"
    }
   ],
   "source": [
    "#Inspect topic results\n",
    "topics = t.inspect_topics(n_top_words=25)\n",
    "\n",
    "res = ''\n",
    "for i, topic_words in enumerate(topics):\n",
    "    res += '* **Topic {}:** {}\\n'.format(i, ' '.join(topic_words))\n",
    "NewsTrends.MD(res)"
   ]
  },
  {
   "cell_type": "code",
   "execution_count": 48,
   "metadata": {},
   "outputs": [
    {
     "data": {
      "text/plain": [
       "6"
      ]
     },
     "execution_count": 48,
     "metadata": {},
     "output_type": "execute_result"
    }
   ],
   "source": [
    "topics = [[\"cell, protein, antibody, control, assay\"],\n",
    "          [\"cases, model, outbreak, public, risk, transmission\"],\n",
    "          [\"patient, infection, group, age, children, test, symptom\"],\n",
    "          [\"protein, sequence, gene, rna, structure, genome, bind\"],\n",
    "          [\"pcr, test, detect, sars, infection\"],\n",
    "          [\"infection, mouse, immune, vaccine\"],\n",
    "          \n",
    "         ]\n",
    "len(topics)"
   ]
  },
  {
   "cell_type": "code",
   "execution_count": 78,
   "metadata": {},
   "outputs": [],
   "source": [
    "import networkx as nx"
   ]
  },
  {
   "cell_type": "code",
   "execution_count": 127,
   "metadata": {},
   "outputs": [],
   "source": [
    "similarity_cutoff = 0.992\n",
    "node_label=\"title\"\n",
    "node_attr=[ \"topic\",u'authors', u'journal',\"abstract\"]\n",
    "\n",
    "#Merge old data with topic data\n",
    "t.df1 = t.data.merge(t.text_topic,how='left',on = t.key_name,copy=False)\n",
    "\n",
    "#Generate similarity measure\n",
    "doc_similarity  = t.doc_topic.transpose().corr()\n",
    "doc_similarity[doc_similarity  < similarity_cutoff] = 0\n",
    "np.fill_diagonal(doc_similarity.values, 0)\n",
    "\n",
    "#Build graph file\n",
    "mapping = t.df1[node_label]\n",
    "doc_graph = nx.Graph(doc_similarity.values)\n",
    "doc_graph = nx.relabel_nodes(doc_graph, mapping) #Creat dict with\n",
    "\n",
    "nx.set_node_attributes(doc_graph,t.df1[node_attr+[node_label]].set_index(node_label).T.to_dict())"
   ]
  },
  {
   "cell_type": "code",
   "execution_count": 128,
   "metadata": {},
   "outputs": [],
   "source": [
    "nx.write_gml(doc_graph,'docs14.gml')"
   ]
  },
  {
   "cell_type": "code",
   "execution_count": 120,
   "metadata": {},
   "outputs": [],
   "source": [
    "#doctopics = t.get_doc_topic(topics)\n",
    "#networkgraph = t.generate_network(node_attr=[ \"topic\",u'authors', u'journal',\"abstract\"],\n",
    " #                 node_label=\"title\", similarity_cutoff = 0.75,\n",
    "  #               similarity_measure = \"correlation\")"
   ]
  },
  {
   "cell_type": "code",
   "execution_count": null,
   "metadata": {},
   "outputs": [],
   "source": [
    "#nx.write_edgelist(networkgraph,\"g.csv\")"
   ]
  },
  {
   "cell_type": "code",
   "execution_count": 85,
   "metadata": {},
   "outputs": [],
   "source": [
    "t.doc_topic.to_csv(\"doc_topic.csv\",index=False)"
   ]
  },
  {
   "cell_type": "code",
   "execution_count": 86,
   "metadata": {},
   "outputs": [],
   "source": [
    "t.df.to_csv(\"dataset.csv\",index=False)"
   ]
  },
  {
   "cell_type": "markdown",
   "metadata": {
    "slideshow": {
     "slide_type": "slide"
    }
   },
   "source": [
    "# COVID-19 research exploration"
   ]
  },
  {
   "cell_type": "code",
   "execution_count": 16,
   "metadata": {},
   "outputs": [],
   "source": [
    "import pandas as pd\n",
    "%matplotlib inline\n",
    "tdf = pd.read_csv(\"dataset.csv\")"
   ]
  },
  {
   "cell_type": "markdown",
   "metadata": {
    "slideshow": {
     "slide_type": "subslide"
    }
   },
   "source": [
    "By using intelligent text processing and learning directly from the textual context, the following analysis finds meaningful connections and relationships in a large corpus of unstructured data. Following I invite you to interactively explore the large body of research around COVID-19. This analysis aims to help to better understand the disease."
   ]
  },
  {
   "cell_type": "markdown",
   "metadata": {
    "slideshow": {
     "slide_type": "slide"
    }
   },
   "source": [
    "# Data summary"
   ]
  },
  {
   "cell_type": "code",
   "execution_count": 10,
   "metadata": {
    "slideshow": {
     "slide_type": "skip"
    }
   },
   "outputs": [],
   "source": [
    "analysiscode=\"COVID\""
   ]
  },
  {
   "cell_type": "code",
   "execution_count": 4,
   "metadata": {
    "slideshow": {
     "slide_type": "subslide"
    }
   },
   "outputs": [
    {
     "name": "stdout",
     "output_type": "stream",
     "text": [
      "The cleaned data set contains 12248 research papers from 11422 authors. The data is sourced from https://www.kaggle.com/allen-institute-for-ai/CORD-19-research-challenge\n",
      "\n",
      "The top journals in the data set are:\n",
      "\n",
      "1 PLoS One\n",
      "2 Emerg Infect Dis\n",
      "3 Viruses\n",
      "4 Sci Rep\n",
      "5 PLoS Pathog\n"
     ]
    }
   ],
   "source": [
    "import pprint\n",
    "print(\"The cleaned data set contains {} research papers from {} authors. The data is sourced from https://www.kaggle.com/allen-institute-for-ai/CORD-19-research-challenge\".format(tdf.shape[0],tdf[\"authors\"].nunique()))\n",
    "print()\n",
    "print(\"The top journals in the data set are:\")\n",
    "print()\n",
    "for a, b in enumerate(tdf.groupby(\"journal\")[\"paper_id\"].agg(\"count\").sort_values(ascending=False)[0:5].keys(), 1):\n",
    "    print('{} {}'.format(a, b))"
   ]
  },
  {
   "cell_type": "markdown",
   "metadata": {
    "slideshow": {
     "slide_type": "slide"
    }
   },
   "source": [
    "# Document Analysis\n",
    "\n",
    "*Note: If the following plots are not displayed nicely or missing the legend on the right-hand side, hit refresh and wait until fully loaded.*"
   ]
  },
  {
   "cell_type": "code",
   "execution_count": 23,
   "metadata": {},
   "outputs": [],
   "source": [
    "import os\n",
    "from shutil import copyfile\n",
    "\n",
    "# Move templates\n",
    "source = \"01_Vorlage/\"\n",
    "dst = \"graphics/network/\"\n",
    "\n",
    "for f in [\"index.html\",\"css/style.css\",\"js/main.js\",\"js/sigma/sigma.parseJson.js\"]:\n",
    "    copyfile(source+f, dst+f)\n"
   ]
  },
  {
   "cell_type": "markdown",
   "metadata": {
    "slideshow": {
     "slide_type": "slide"
    }
   },
   "source": [
    "### Research is mainly focused on the 1) epidemiology and 2) molecular biology of the virus ([How to read the network](http://nbviewer.jupyter.org/github/bockjo/Udacity_portfolio/blob/master/networks_how_to.png))."
   ]
  },
  {
   "cell_type": "code",
   "execution_count": 24,
   "metadata": {
    "slideshow": {
     "slide_type": "subslide"
    }
   },
   "outputs": [
    {
     "data": {
      "text/html": [
       "<iframe src=\"graphics1/network/index.html\" width=\"100%\" height=\"480\" seamless>Graph not rendered.</iframe>"
      ],
      "text/plain": [
       "<IPython.core.display.HTML object>"
      ]
     },
     "execution_count": 24,
     "metadata": {},
     "output_type": "execute_result"
    }
   ],
   "source": [
    "from IPython.core.display import HTML\n",
    "\n",
    "HTML('<iframe src=\"graphics1/network/index.html\" width=\"100%\" height=\"480\" seamless>Graph not rendered.</iframe>')"
   ]
  },
  {
   "cell_type": "markdown",
   "metadata": {
    "heading_collapsed": true,
    "slideshow": {
     "slide_type": "skip"
    }
   },
   "source": [
    "# Plotting code"
   ]
  },
  {
   "cell_type": "code",
   "execution_count": 21,
   "metadata": {
    "hidden": true
   },
   "outputs": [],
   "source": [
    "import plotly.io as pio\n",
    "import warnings\n",
    "pio.templates.default = 'simple_white'\n",
    "warnings.filterwarnings('ignore')"
   ]
  },
  {
   "cell_type": "code",
   "execution_count": 22,
   "metadata": {
    "hidden": true
   },
   "outputs": [
    {
     "data": {
      "text/html": [
       "        <script type=\"text/javascript\">\n",
       "        window.PlotlyConfig = {MathJaxConfig: 'local'};\n",
       "        if (window.MathJax) {MathJax.Hub.Config({SVG: {font: \"STIX-Web\"}});}\n",
       "        if (typeof require !== 'undefined') {\n",
       "        require.undef(\"plotly\");\n",
       "        requirejs.config({\n",
       "            paths: {\n",
       "                'plotly': ['https://cdn.plot.ly/plotly-latest.min']\n",
       "            }\n",
       "        });\n",
       "        require(['plotly'], function(Plotly) {\n",
       "            window._Plotly = Plotly;\n",
       "        });\n",
       "        }\n",
       "        </script>\n",
       "        "
      ]
     },
     "metadata": {},
     "output_type": "display_data"
    }
   ],
   "source": [
    "#Plotly\n",
    "import numpy as np\n",
    "import plotly\n",
    "import chart_studio.plotly as py\n",
    "import plotly.graph_objs as go\n",
    "from plotly.offline import iplot, init_notebook_mode\n",
    "from ipywidgets import widgets\n",
    "from chart_studio.widgets import GraphWidget\n",
    "\n",
    "init_notebook_mode(connected=True)\n",
    "\n",
    "# generate a function to handle changes in the widget\n",
    "# add top_n functionality!!!\n",
    "def timeline(t,y,date_col,colorby,aggregate=\"nunique\",timeinterval=None):\n",
    "\n",
    "    plot_dat = t.copy()\n",
    "    plot_dat[date_col] = pd.to_datetime(plot_dat[date_col]).dt.week\n",
    "        \n",
    "    plot_dat = plot_dat.groupby([date_col,colorby])[y].agg(aggregate)\n",
    "    dat = plot_dat.reset_index()\n",
    "    \n",
    "    dataset = []\n",
    "    for gr in dat[colorby].unique():\n",
    "        dataset.append(go.Bar(\n",
    "        x=dat[dat[colorby]==gr][date_col],\n",
    "        y=dat[dat[colorby]==gr][y],\n",
    "        name=gr\n",
    "    ))\n",
    "\n",
    "    layout = go.Layout(\n",
    "        autosize=True,\n",
    "        barmode='stack',\n",
    "        showlegend = True,\n",
    "        legend=dict(orientation=\"h\",x=0.1,y=1.5),\n",
    "        yaxis = dict(title = \"Publish-Count\"),\n",
    "        xaxis = dict(title=\"Week number\")\n",
    "    )\n",
    "    \n",
    "    \n",
    "    fig = go.Figure(data=dataset, layout=layout)\n",
    "    return iplot(fig, filename=analysiscode+'stacked-bar')\n",
    "\n",
    "# generate a function to handle changes in the widget\n",
    "def hist(t,x,colorby=\"topic_terms\",logx = False):\n",
    "\n",
    "    plot_dat = t.copy()\n",
    "    \n",
    "    if logx:\n",
    "        plot_dat[x]=np.log(plot_dat[x])\n",
    "        #typ = 'log'\n",
    "    #else:\n",
    "        #typ=\"normal\"\n",
    "    data = []\n",
    "    for gr in plot_dat[colorby].unique():\n",
    "        data.append(go.Histogram(\n",
    "            x=plot_dat.loc[plot_dat[colorby]==gr,x],\n",
    "            name=gr\n",
    "            \n",
    "    ))\n",
    "\n",
    "    layout = go.Layout(barmode='stack',legend=dict(orientation=\"h\",x=0.1,y=1.5),\n",
    "                       autosize=True,\n",
    "                #width=800,\n",
    "                #height=550,\n",
    "                       xaxis=dict(title=x,type=\"normal\",autorange=True,\n",
    "                                 exponentformat= \"e\" if logx else \"none\"),\n",
    "                      yaxis = dict(title=\"count\"))\n",
    "    fig = go.Figure(data=data, layout=layout)\n",
    "\n",
    "    \n",
    "    return iplot(fig, filename=analysiscode+'stacked histogram')\n",
    "\n",
    "# add top_n functionality!!!\n",
    "def scatter(t,x,y,groupby,colorby = None,sizeby = \"fixed\", aggregate = {\"x\":\"sum\",\"y\":\"sum\",\"colorby\":\"sum\"},\n",
    "            axistype = {\"x\":\"linear\",\"y\":\"linear\"},\n",
    "            xtitle=\"\", ytitle=\"\"):\n",
    "    \n",
    "    plot_dat = t.copy()\n",
    "    if sizeby==\"fixed\":\n",
    "        s=15\n",
    "    if colorby == None:\n",
    "        colorby = groupby\n",
    "        \n",
    "    if plot_dat[colorby].dtype == np.object:\n",
    "        plot_datx = plot_dat.groupby([colorby,groupby])[x].agg(aggregate[\"x\"])\n",
    "        plot_daty = plot_dat.groupby([colorby,groupby])[y].agg(aggregate[\"y\"])\n",
    "        \n",
    "        dat = []\n",
    "        for cat in plot_dat[colorby].unique():\n",
    "            \n",
    "            dat.append({\"x\":plot_datx[cat].values,\n",
    "                       \"y\":plot_daty[cat].values,\n",
    "                        \"text\":plot_daty[cat].index,\n",
    "                       \"name\":cat,\n",
    "                       \"mode\":\"markers\",\n",
    "                       \"marker\":dict(size=s)})\n",
    "        fig = {\n",
    "            'data': dat,\n",
    "            'layout': {\"legend\":dict(orientation=\"h\",x=0.1,y=1.5),\"showlegend\": True,\n",
    "                'xaxis': {'title': xtitle,\"type\":axistype[\"x\"],\"exponentformat\": \"e\" if axistype[\"x\"]==\"log\" else \"none\"},\n",
    "                'yaxis': {'title': ytitle,\"type\":axistype[\"y\"],\"exponentformat\": \"e\" if axistype[\"y\"]==\"log\" else \"none\"},\n",
    "                \"autosize\":True\n",
    "            }\n",
    "        }\n",
    "    else:\n",
    "        plot_datx = plot_dat.groupby(groupby)[x].agg(aggregate[\"x\"])\n",
    "        plot_daty = plot_dat.groupby(groupby)[y].agg(aggregate[\"y\"])\n",
    "        plot_datcol = plot_dat.groupby(groupby)[colorby].agg(aggregate[\"colorby\"])\n",
    "        \n",
    "        trace1 = go.Scatter(\n",
    "            y = plot_daty.values,\n",
    "            x = plot_datx.values,\n",
    "            mode='markers',\n",
    "            marker=dict(\n",
    "                size=s,\n",
    "                color = plot_datcol.values, #set color equal to a variable\n",
    "                colorscale='Viridis',\n",
    "                showscale=True\n",
    "            )\n",
    "        )\n",
    "        layout = dict(xaxis=dic(title=xtitle,type=axistype[\"x\"],exponentformat= \"e\" if axistype[\"x\"]==\"log\" else \"none\"),\n",
    "                      yaxis=dic(title=ytitle,type=axistype[\"y\"],exponentformat= \"e\" if axistype[\"y\"]==\"log\" else \"none\"))\n",
    "        fig = go.Figure(data=[trace1],layout = layout)\n",
    "        \n",
    "    return iplot(fig, filename=analysiscode+'bar')\n",
    "\n",
    "# add top_n functionality!!!\n",
    "def bar_continuous(t):\n",
    "    plot_dat = t.copy()\n",
    "    \n",
    "    plot_dat = plot_dat.groupby(groupby)[x].agg(aggregate)\n",
    "    data =[\n",
    "        go.Bar(\n",
    "        y=plot_dat.index.values,\n",
    "        x=plot_dat.values,\n",
    "        orientation = 'h')\n",
    "    ]\n",
    "    fig = go.Figure(data=data)\n",
    "    \n",
    "    return iplot(fig, filename='bar_cont')\n",
    "        \n",
    "def bar(t,x,groupby,xtitle=\"\",colorby = \"topic_terms\", aggregate = \"sum\"):\n",
    "    plot_dat = t.copy()\n",
    "    \n",
    "    data = []\n",
    "    plot_dat = plot_dat.groupby([colorby,groupby])[x].agg(aggregate)\n",
    "    for gr in plot_dat.index.levels[0]: \n",
    "        data.append(go.Bar(\n",
    "        y=plot_dat[gr].index.values,\n",
    "        x=plot_dat[gr].values,\n",
    "        name=gr,\n",
    "        orientation = 'h'\n",
    "    ))\n",
    "\n",
    "    layout = go.Layout(\n",
    "        autosize=False,\n",
    "    width=800,\n",
    "    height=550,\n",
    "        barmode='stack',\n",
    "        showlegend = True,\n",
    "        xaxis = dict(title=xtitle),#,position=-1.\n",
    "        yaxis = dict(),\n",
    "        legend=dict(orientation=\"h\",x=0.1,y=1.2),\n",
    "        margin = go.Margin(l=350,r=10)\n",
    "    )\n",
    "\n",
    "    fig = go.Figure(data=data, layout=layout)\n",
    "    \n",
    "    return iplot(fig, filename=analysiscode+'bar_cat')"
   ]
  },
  {
   "cell_type": "markdown",
   "metadata": {},
   "source": [
    "# Exploratory analysis"
   ]
  },
  {
   "cell_type": "markdown",
   "metadata": {
    "slideshow": {
     "slide_type": "skip"
    }
   },
   "source": [
    "### The top 10 journals cover most of the topics around the coronavirus, but PLoS One gives the most balanced and comprehensive view."
   ]
  },
  {
   "cell_type": "code",
   "execution_count": 17,
   "metadata": {
    "slideshow": {
     "slide_type": "skip"
    }
   },
   "outputs": [],
   "source": [
    "topjour = list(tdf.groupby(\"journal\")[\"paper_id\"].agg(\"count\").sort_values(ascending=False)[0:10].index)"
   ]
  },
  {
   "cell_type": "code",
   "execution_count": 20,
   "metadata": {
    "slideshow": {
     "slide_type": "subslide"
    }
   },
   "outputs": [
    {
     "data": {
      "application/vnd.plotly.v1+json": {
       "config": {
        "linkText": "Export to plot.ly",
        "plotlyServerURL": "https://plot.ly",
        "showLink": false
       },
       "data": [
        {
         "name": "cases, model, outbreak, public, risk, transmission",
         "orientation": "h",
         "type": "bar",
         "x": [
          85,
          304,
          3,
          2,
          1,
          265,
          15,
          57,
          5,
          13
         ],
         "y": [
          "BMC Infect Dis",
          "Emerg Infect Dis",
          "Front Immunol",
          "Front Microbiol",
          "Nucleic Acids Res",
          "PLoS One",
          "PLoS Pathog",
          "Sci Rep",
          "Virol J",
          "Viruses"
         ]
        },
        {
         "name": "cell, protein, antibody, control, assay",
         "orientation": "h",
         "type": "bar",
         "x": [
          8,
          17,
          31,
          33,
          43,
          456,
          164,
          197,
          124,
          148
         ],
         "y": [
          "BMC Infect Dis",
          "Emerg Infect Dis",
          "Front Immunol",
          "Front Microbiol",
          "Nucleic Acids Res",
          "PLoS One",
          "PLoS Pathog",
          "Sci Rep",
          "Virol J",
          "Viruses"
         ]
        },
        {
         "name": "infection, mouse, immune, vaccine",
         "orientation": "h",
         "type": "bar",
         "x": [
          3,
          6,
          148,
          75,
          2,
          167,
          75,
          31,
          32,
          162
         ],
         "y": [
          "BMC Infect Dis",
          "Emerg Infect Dis",
          "Front Immunol",
          "Front Microbiol",
          "Nucleic Acids Res",
          "PLoS One",
          "PLoS Pathog",
          "Sci Rep",
          "Virol J",
          "Viruses"
         ]
        },
        {
         "name": "patient, infection, group, age, children, test, symptom",
         "orientation": "h",
         "type": "bar",
         "x": [
          124,
          138,
          9,
          16,
          275,
          3,
          54,
          27,
          12
         ],
         "y": [
          "BMC Infect Dis",
          "Emerg Infect Dis",
          "Front Immunol",
          "Front Microbiol",
          "PLoS One",
          "PLoS Pathog",
          "Sci Rep",
          "Virol J",
          "Viruses"
         ]
        },
        {
         "name": "pcr, test, detect, sars, infection",
         "orientation": "h",
         "type": "bar",
         "x": [
          28,
          282,
          2,
          40,
          2,
          244,
          30,
          79,
          128,
          142
         ],
         "y": [
          "BMC Infect Dis",
          "Emerg Infect Dis",
          "Front Immunol",
          "Front Microbiol",
          "Nucleic Acids Res",
          "PLoS One",
          "PLoS Pathog",
          "Sci Rep",
          "Virol J",
          "Viruses"
         ]
        },
        {
         "name": "protein, sequence, gene, rna, structure, genome, bind",
         "orientation": "h",
         "type": "bar",
         "x": [
          3,
          10,
          15,
          35,
          151,
          209,
          78,
          121,
          43,
          72
         ],
         "y": [
          "BMC Infect Dis",
          "Emerg Infect Dis",
          "Front Immunol",
          "Front Microbiol",
          "Nucleic Acids Res",
          "PLoS One",
          "PLoS Pathog",
          "Sci Rep",
          "Virol J",
          "Viruses"
         ]
        }
       ],
       "layout": {
        "autosize": false,
        "barmode": "stack",
        "height": 550,
        "legend": {
         "orientation": "h",
         "x": 0.1,
         "y": 1.2
        },
        "margin": {
         "l": 350,
         "r": 10
        },
        "showlegend": true,
        "template": {
         "data": {
          "bar": [
           {
            "error_x": {
             "color": "rgb(36,36,36)"
            },
            "error_y": {
             "color": "rgb(36,36,36)"
            },
            "marker": {
             "line": {
              "color": "white",
              "width": 0.5
             }
            },
            "type": "bar"
           }
          ],
          "barpolar": [
           {
            "marker": {
             "line": {
              "color": "white",
              "width": 0.5
             }
            },
            "type": "barpolar"
           }
          ],
          "carpet": [
           {
            "aaxis": {
             "endlinecolor": "rgb(36,36,36)",
             "gridcolor": "white",
             "linecolor": "white",
             "minorgridcolor": "white",
             "startlinecolor": "rgb(36,36,36)"
            },
            "baxis": {
             "endlinecolor": "rgb(36,36,36)",
             "gridcolor": "white",
             "linecolor": "white",
             "minorgridcolor": "white",
             "startlinecolor": "rgb(36,36,36)"
            },
            "type": "carpet"
           }
          ],
          "choropleth": [
           {
            "colorbar": {
             "outlinewidth": 1,
             "tickcolor": "rgb(36,36,36)",
             "ticks": "outside"
            },
            "type": "choropleth"
           }
          ],
          "contour": [
           {
            "colorbar": {
             "outlinewidth": 1,
             "tickcolor": "rgb(36,36,36)",
             "ticks": "outside"
            },
            "colorscale": [
             [
              0,
              "#440154"
             ],
             [
              0.1111111111111111,
              "#482878"
             ],
             [
              0.2222222222222222,
              "#3e4989"
             ],
             [
              0.3333333333333333,
              "#31688e"
             ],
             [
              0.4444444444444444,
              "#26828e"
             ],
             [
              0.5555555555555556,
              "#1f9e89"
             ],
             [
              0.6666666666666666,
              "#35b779"
             ],
             [
              0.7777777777777778,
              "#6ece58"
             ],
             [
              0.8888888888888888,
              "#b5de2b"
             ],
             [
              1,
              "#fde725"
             ]
            ],
            "type": "contour"
           }
          ],
          "contourcarpet": [
           {
            "colorbar": {
             "outlinewidth": 1,
             "tickcolor": "rgb(36,36,36)",
             "ticks": "outside"
            },
            "type": "contourcarpet"
           }
          ],
          "heatmap": [
           {
            "colorbar": {
             "outlinewidth": 1,
             "tickcolor": "rgb(36,36,36)",
             "ticks": "outside"
            },
            "colorscale": [
             [
              0,
              "#440154"
             ],
             [
              0.1111111111111111,
              "#482878"
             ],
             [
              0.2222222222222222,
              "#3e4989"
             ],
             [
              0.3333333333333333,
              "#31688e"
             ],
             [
              0.4444444444444444,
              "#26828e"
             ],
             [
              0.5555555555555556,
              "#1f9e89"
             ],
             [
              0.6666666666666666,
              "#35b779"
             ],
             [
              0.7777777777777778,
              "#6ece58"
             ],
             [
              0.8888888888888888,
              "#b5de2b"
             ],
             [
              1,
              "#fde725"
             ]
            ],
            "type": "heatmap"
           }
          ],
          "heatmapgl": [
           {
            "colorbar": {
             "outlinewidth": 1,
             "tickcolor": "rgb(36,36,36)",
             "ticks": "outside"
            },
            "colorscale": [
             [
              0,
              "#440154"
             ],
             [
              0.1111111111111111,
              "#482878"
             ],
             [
              0.2222222222222222,
              "#3e4989"
             ],
             [
              0.3333333333333333,
              "#31688e"
             ],
             [
              0.4444444444444444,
              "#26828e"
             ],
             [
              0.5555555555555556,
              "#1f9e89"
             ],
             [
              0.6666666666666666,
              "#35b779"
             ],
             [
              0.7777777777777778,
              "#6ece58"
             ],
             [
              0.8888888888888888,
              "#b5de2b"
             ],
             [
              1,
              "#fde725"
             ]
            ],
            "type": "heatmapgl"
           }
          ],
          "histogram": [
           {
            "marker": {
             "line": {
              "color": "white",
              "width": 0.6
             }
            },
            "type": "histogram"
           }
          ],
          "histogram2d": [
           {
            "colorbar": {
             "outlinewidth": 1,
             "tickcolor": "rgb(36,36,36)",
             "ticks": "outside"
            },
            "colorscale": [
             [
              0,
              "#440154"
             ],
             [
              0.1111111111111111,
              "#482878"
             ],
             [
              0.2222222222222222,
              "#3e4989"
             ],
             [
              0.3333333333333333,
              "#31688e"
             ],
             [
              0.4444444444444444,
              "#26828e"
             ],
             [
              0.5555555555555556,
              "#1f9e89"
             ],
             [
              0.6666666666666666,
              "#35b779"
             ],
             [
              0.7777777777777778,
              "#6ece58"
             ],
             [
              0.8888888888888888,
              "#b5de2b"
             ],
             [
              1,
              "#fde725"
             ]
            ],
            "type": "histogram2d"
           }
          ],
          "histogram2dcontour": [
           {
            "colorbar": {
             "outlinewidth": 1,
             "tickcolor": "rgb(36,36,36)",
             "ticks": "outside"
            },
            "colorscale": [
             [
              0,
              "#440154"
             ],
             [
              0.1111111111111111,
              "#482878"
             ],
             [
              0.2222222222222222,
              "#3e4989"
             ],
             [
              0.3333333333333333,
              "#31688e"
             ],
             [
              0.4444444444444444,
              "#26828e"
             ],
             [
              0.5555555555555556,
              "#1f9e89"
             ],
             [
              0.6666666666666666,
              "#35b779"
             ],
             [
              0.7777777777777778,
              "#6ece58"
             ],
             [
              0.8888888888888888,
              "#b5de2b"
             ],
             [
              1,
              "#fde725"
             ]
            ],
            "type": "histogram2dcontour"
           }
          ],
          "mesh3d": [
           {
            "colorbar": {
             "outlinewidth": 1,
             "tickcolor": "rgb(36,36,36)",
             "ticks": "outside"
            },
            "type": "mesh3d"
           }
          ],
          "parcoords": [
           {
            "line": {
             "colorbar": {
              "outlinewidth": 1,
              "tickcolor": "rgb(36,36,36)",
              "ticks": "outside"
             }
            },
            "type": "parcoords"
           }
          ],
          "pie": [
           {
            "automargin": true,
            "type": "pie"
           }
          ],
          "scatter": [
           {
            "marker": {
             "colorbar": {
              "outlinewidth": 1,
              "tickcolor": "rgb(36,36,36)",
              "ticks": "outside"
             }
            },
            "type": "scatter"
           }
          ],
          "scatter3d": [
           {
            "line": {
             "colorbar": {
              "outlinewidth": 1,
              "tickcolor": "rgb(36,36,36)",
              "ticks": "outside"
             }
            },
            "marker": {
             "colorbar": {
              "outlinewidth": 1,
              "tickcolor": "rgb(36,36,36)",
              "ticks": "outside"
             }
            },
            "type": "scatter3d"
           }
          ],
          "scattercarpet": [
           {
            "marker": {
             "colorbar": {
              "outlinewidth": 1,
              "tickcolor": "rgb(36,36,36)",
              "ticks": "outside"
             }
            },
            "type": "scattercarpet"
           }
          ],
          "scattergeo": [
           {
            "marker": {
             "colorbar": {
              "outlinewidth": 1,
              "tickcolor": "rgb(36,36,36)",
              "ticks": "outside"
             }
            },
            "type": "scattergeo"
           }
          ],
          "scattergl": [
           {
            "marker": {
             "colorbar": {
              "outlinewidth": 1,
              "tickcolor": "rgb(36,36,36)",
              "ticks": "outside"
             }
            },
            "type": "scattergl"
           }
          ],
          "scattermapbox": [
           {
            "marker": {
             "colorbar": {
              "outlinewidth": 1,
              "tickcolor": "rgb(36,36,36)",
              "ticks": "outside"
             }
            },
            "type": "scattermapbox"
           }
          ],
          "scatterpolar": [
           {
            "marker": {
             "colorbar": {
              "outlinewidth": 1,
              "tickcolor": "rgb(36,36,36)",
              "ticks": "outside"
             }
            },
            "type": "scatterpolar"
           }
          ],
          "scatterpolargl": [
           {
            "marker": {
             "colorbar": {
              "outlinewidth": 1,
              "tickcolor": "rgb(36,36,36)",
              "ticks": "outside"
             }
            },
            "type": "scatterpolargl"
           }
          ],
          "scatterternary": [
           {
            "marker": {
             "colorbar": {
              "outlinewidth": 1,
              "tickcolor": "rgb(36,36,36)",
              "ticks": "outside"
             }
            },
            "type": "scatterternary"
           }
          ],
          "surface": [
           {
            "colorbar": {
             "outlinewidth": 1,
             "tickcolor": "rgb(36,36,36)",
             "ticks": "outside"
            },
            "colorscale": [
             [
              0,
              "#440154"
             ],
             [
              0.1111111111111111,
              "#482878"
             ],
             [
              0.2222222222222222,
              "#3e4989"
             ],
             [
              0.3333333333333333,
              "#31688e"
             ],
             [
              0.4444444444444444,
              "#26828e"
             ],
             [
              0.5555555555555556,
              "#1f9e89"
             ],
             [
              0.6666666666666666,
              "#35b779"
             ],
             [
              0.7777777777777778,
              "#6ece58"
             ],
             [
              0.8888888888888888,
              "#b5de2b"
             ],
             [
              1,
              "#fde725"
             ]
            ],
            "type": "surface"
           }
          ],
          "table": [
           {
            "cells": {
             "fill": {
              "color": "rgb(237,237,237)"
             },
             "line": {
              "color": "white"
             }
            },
            "header": {
             "fill": {
              "color": "rgb(217,217,217)"
             },
             "line": {
              "color": "white"
             }
            },
            "type": "table"
           }
          ]
         },
         "layout": {
          "annotationdefaults": {
           "arrowhead": 0,
           "arrowwidth": 1
          },
          "coloraxis": {
           "colorbar": {
            "outlinewidth": 1,
            "tickcolor": "rgb(36,36,36)",
            "ticks": "outside"
           }
          },
          "colorscale": {
           "diverging": [
            [
             0,
             "rgb(103,0,31)"
            ],
            [
             0.1,
             "rgb(178,24,43)"
            ],
            [
             0.2,
             "rgb(214,96,77)"
            ],
            [
             0.3,
             "rgb(244,165,130)"
            ],
            [
             0.4,
             "rgb(253,219,199)"
            ],
            [
             0.5,
             "rgb(247,247,247)"
            ],
            [
             0.6,
             "rgb(209,229,240)"
            ],
            [
             0.7,
             "rgb(146,197,222)"
            ],
            [
             0.8,
             "rgb(67,147,195)"
            ],
            [
             0.9,
             "rgb(33,102,172)"
            ],
            [
             1,
             "rgb(5,48,97)"
            ]
           ],
           "sequential": [
            [
             0,
             "#440154"
            ],
            [
             0.1111111111111111,
             "#482878"
            ],
            [
             0.2222222222222222,
             "#3e4989"
            ],
            [
             0.3333333333333333,
             "#31688e"
            ],
            [
             0.4444444444444444,
             "#26828e"
            ],
            [
             0.5555555555555556,
             "#1f9e89"
            ],
            [
             0.6666666666666666,
             "#35b779"
            ],
            [
             0.7777777777777778,
             "#6ece58"
            ],
            [
             0.8888888888888888,
             "#b5de2b"
            ],
            [
             1,
             "#fde725"
            ]
           ],
           "sequentialminus": [
            [
             0,
             "#440154"
            ],
            [
             0.1111111111111111,
             "#482878"
            ],
            [
             0.2222222222222222,
             "#3e4989"
            ],
            [
             0.3333333333333333,
             "#31688e"
            ],
            [
             0.4444444444444444,
             "#26828e"
            ],
            [
             0.5555555555555556,
             "#1f9e89"
            ],
            [
             0.6666666666666666,
             "#35b779"
            ],
            [
             0.7777777777777778,
             "#6ece58"
            ],
            [
             0.8888888888888888,
             "#b5de2b"
            ],
            [
             1,
             "#fde725"
            ]
           ]
          },
          "colorway": [
           "#1F77B4",
           "#FF7F0E",
           "#2CA02C",
           "#D62728",
           "#9467BD",
           "#8C564B",
           "#E377C2",
           "#7F7F7F",
           "#BCBD22",
           "#17BECF"
          ],
          "font": {
           "color": "rgb(36,36,36)"
          },
          "geo": {
           "bgcolor": "white",
           "lakecolor": "white",
           "landcolor": "white",
           "showlakes": true,
           "showland": true,
           "subunitcolor": "white"
          },
          "hoverlabel": {
           "align": "left"
          },
          "hovermode": "closest",
          "mapbox": {
           "style": "light"
          },
          "paper_bgcolor": "white",
          "plot_bgcolor": "white",
          "polar": {
           "angularaxis": {
            "gridcolor": "rgb(232,232,232)",
            "linecolor": "rgb(36,36,36)",
            "showgrid": false,
            "showline": true,
            "ticks": "outside"
           },
           "bgcolor": "white",
           "radialaxis": {
            "gridcolor": "rgb(232,232,232)",
            "linecolor": "rgb(36,36,36)",
            "showgrid": false,
            "showline": true,
            "ticks": "outside"
           }
          },
          "scene": {
           "xaxis": {
            "backgroundcolor": "white",
            "gridcolor": "rgb(232,232,232)",
            "gridwidth": 2,
            "linecolor": "rgb(36,36,36)",
            "showbackground": true,
            "showgrid": false,
            "showline": true,
            "ticks": "outside",
            "zeroline": false,
            "zerolinecolor": "rgb(36,36,36)"
           },
           "yaxis": {
            "backgroundcolor": "white",
            "gridcolor": "rgb(232,232,232)",
            "gridwidth": 2,
            "linecolor": "rgb(36,36,36)",
            "showbackground": true,
            "showgrid": false,
            "showline": true,
            "ticks": "outside",
            "zeroline": false,
            "zerolinecolor": "rgb(36,36,36)"
           },
           "zaxis": {
            "backgroundcolor": "white",
            "gridcolor": "rgb(232,232,232)",
            "gridwidth": 2,
            "linecolor": "rgb(36,36,36)",
            "showbackground": true,
            "showgrid": false,
            "showline": true,
            "ticks": "outside",
            "zeroline": false,
            "zerolinecolor": "rgb(36,36,36)"
           }
          },
          "shapedefaults": {
           "fillcolor": "black",
           "line": {
            "width": 0
           },
           "opacity": 0.3
          },
          "ternary": {
           "aaxis": {
            "gridcolor": "rgb(232,232,232)",
            "linecolor": "rgb(36,36,36)",
            "showgrid": false,
            "showline": true,
            "ticks": "outside"
           },
           "baxis": {
            "gridcolor": "rgb(232,232,232)",
            "linecolor": "rgb(36,36,36)",
            "showgrid": false,
            "showline": true,
            "ticks": "outside"
           },
           "bgcolor": "white",
           "caxis": {
            "gridcolor": "rgb(232,232,232)",
            "linecolor": "rgb(36,36,36)",
            "showgrid": false,
            "showline": true,
            "ticks": "outside"
           }
          },
          "title": {
           "x": 0.05
          },
          "xaxis": {
           "automargin": true,
           "gridcolor": "rgb(232,232,232)",
           "linecolor": "rgb(36,36,36)",
           "showgrid": false,
           "showline": true,
           "ticks": "outside",
           "title": {
            "standoff": 15
           },
           "zeroline": false,
           "zerolinecolor": "rgb(36,36,36)"
          },
          "yaxis": {
           "automargin": true,
           "gridcolor": "rgb(232,232,232)",
           "linecolor": "rgb(36,36,36)",
           "showgrid": false,
           "showline": true,
           "ticks": "outside",
           "title": {
            "standoff": 15
           },
           "zeroline": false,
           "zerolinecolor": "rgb(36,36,36)"
          }
         }
        },
        "width": 800,
        "xaxis": {
         "title": {
          "text": "Publish Count"
         }
        }
       }
      },
      "text/html": [
       "<div>\n",
       "        \n",
       "        \n",
       "            <div id=\"897e4552-dcc1-45fd-8c19-75c8c8b91198\" class=\"plotly-graph-div\" style=\"height:550px; width:800px;\"></div>\n",
       "            <script type=\"text/javascript\">\n",
       "                require([\"plotly\"], function(Plotly) {\n",
       "                    window.PLOTLYENV=window.PLOTLYENV || {};\n",
       "                    \n",
       "                if (document.getElementById(\"897e4552-dcc1-45fd-8c19-75c8c8b91198\")) {\n",
       "                    Plotly.newPlot(\n",
       "                        '897e4552-dcc1-45fd-8c19-75c8c8b91198',\n",
       "                        [{\"name\": \"cases, model, outbreak, public, risk, transmission\", \"orientation\": \"h\", \"type\": \"bar\", \"x\": [85, 304, 3, 2, 1, 265, 15, 57, 5, 13], \"y\": [\"BMC Infect Dis\", \"Emerg Infect Dis\", \"Front Immunol\", \"Front Microbiol\", \"Nucleic Acids Res\", \"PLoS One\", \"PLoS Pathog\", \"Sci Rep\", \"Virol J\", \"Viruses\"]}, {\"name\": \"cell, protein, antibody, control, assay\", \"orientation\": \"h\", \"type\": \"bar\", \"x\": [8, 17, 31, 33, 43, 456, 164, 197, 124, 148], \"y\": [\"BMC Infect Dis\", \"Emerg Infect Dis\", \"Front Immunol\", \"Front Microbiol\", \"Nucleic Acids Res\", \"PLoS One\", \"PLoS Pathog\", \"Sci Rep\", \"Virol J\", \"Viruses\"]}, {\"name\": \"infection, mouse, immune, vaccine\", \"orientation\": \"h\", \"type\": \"bar\", \"x\": [3, 6, 148, 75, 2, 167, 75, 31, 32, 162], \"y\": [\"BMC Infect Dis\", \"Emerg Infect Dis\", \"Front Immunol\", \"Front Microbiol\", \"Nucleic Acids Res\", \"PLoS One\", \"PLoS Pathog\", \"Sci Rep\", \"Virol J\", \"Viruses\"]}, {\"name\": \"patient, infection, group, age, children, test, symptom\", \"orientation\": \"h\", \"type\": \"bar\", \"x\": [124, 138, 9, 16, 275, 3, 54, 27, 12], \"y\": [\"BMC Infect Dis\", \"Emerg Infect Dis\", \"Front Immunol\", \"Front Microbiol\", \"PLoS One\", \"PLoS Pathog\", \"Sci Rep\", \"Virol J\", \"Viruses\"]}, {\"name\": \"pcr, test, detect, sars, infection\", \"orientation\": \"h\", \"type\": \"bar\", \"x\": [28, 282, 2, 40, 2, 244, 30, 79, 128, 142], \"y\": [\"BMC Infect Dis\", \"Emerg Infect Dis\", \"Front Immunol\", \"Front Microbiol\", \"Nucleic Acids Res\", \"PLoS One\", \"PLoS Pathog\", \"Sci Rep\", \"Virol J\", \"Viruses\"]}, {\"name\": \"protein, sequence, gene, rna, structure, genome, bind\", \"orientation\": \"h\", \"type\": \"bar\", \"x\": [3, 10, 15, 35, 151, 209, 78, 121, 43, 72], \"y\": [\"BMC Infect Dis\", \"Emerg Infect Dis\", \"Front Immunol\", \"Front Microbiol\", \"Nucleic Acids Res\", \"PLoS One\", \"PLoS Pathog\", \"Sci Rep\", \"Virol J\", \"Viruses\"]}],\n",
       "                        {\"autosize\": false, \"barmode\": \"stack\", \"height\": 550, \"legend\": {\"orientation\": \"h\", \"x\": 0.1, \"y\": 1.2}, \"margin\": {\"l\": 350, \"r\": 10}, \"showlegend\": true, \"template\": {\"data\": {\"bar\": [{\"error_x\": {\"color\": \"rgb(36,36,36)\"}, \"error_y\": {\"color\": \"rgb(36,36,36)\"}, \"marker\": {\"line\": {\"color\": \"white\", \"width\": 0.5}}, \"type\": \"bar\"}], \"barpolar\": [{\"marker\": {\"line\": {\"color\": \"white\", \"width\": 0.5}}, \"type\": \"barpolar\"}], \"carpet\": [{\"aaxis\": {\"endlinecolor\": \"rgb(36,36,36)\", \"gridcolor\": \"white\", \"linecolor\": \"white\", \"minorgridcolor\": \"white\", \"startlinecolor\": \"rgb(36,36,36)\"}, \"baxis\": {\"endlinecolor\": \"rgb(36,36,36)\", \"gridcolor\": \"white\", \"linecolor\": \"white\", \"minorgridcolor\": \"white\", \"startlinecolor\": \"rgb(36,36,36)\"}, \"type\": \"carpet\"}], \"choropleth\": [{\"colorbar\": {\"outlinewidth\": 1, \"tickcolor\": \"rgb(36,36,36)\", \"ticks\": \"outside\"}, \"type\": \"choropleth\"}], \"contour\": [{\"colorbar\": {\"outlinewidth\": 1, \"tickcolor\": \"rgb(36,36,36)\", \"ticks\": \"outside\"}, \"colorscale\": [[0.0, \"#440154\"], [0.1111111111111111, \"#482878\"], [0.2222222222222222, \"#3e4989\"], [0.3333333333333333, \"#31688e\"], [0.4444444444444444, \"#26828e\"], [0.5555555555555556, \"#1f9e89\"], [0.6666666666666666, \"#35b779\"], [0.7777777777777778, \"#6ece58\"], [0.8888888888888888, \"#b5de2b\"], [1.0, \"#fde725\"]], \"type\": \"contour\"}], \"contourcarpet\": [{\"colorbar\": {\"outlinewidth\": 1, \"tickcolor\": \"rgb(36,36,36)\", \"ticks\": \"outside\"}, \"type\": \"contourcarpet\"}], \"heatmap\": [{\"colorbar\": {\"outlinewidth\": 1, \"tickcolor\": \"rgb(36,36,36)\", \"ticks\": \"outside\"}, \"colorscale\": [[0.0, \"#440154\"], [0.1111111111111111, \"#482878\"], [0.2222222222222222, \"#3e4989\"], [0.3333333333333333, \"#31688e\"], [0.4444444444444444, \"#26828e\"], [0.5555555555555556, \"#1f9e89\"], [0.6666666666666666, \"#35b779\"], [0.7777777777777778, \"#6ece58\"], [0.8888888888888888, \"#b5de2b\"], [1.0, \"#fde725\"]], \"type\": \"heatmap\"}], \"heatmapgl\": [{\"colorbar\": {\"outlinewidth\": 1, \"tickcolor\": \"rgb(36,36,36)\", \"ticks\": \"outside\"}, \"colorscale\": [[0.0, \"#440154\"], [0.1111111111111111, \"#482878\"], [0.2222222222222222, \"#3e4989\"], [0.3333333333333333, \"#31688e\"], [0.4444444444444444, \"#26828e\"], [0.5555555555555556, \"#1f9e89\"], [0.6666666666666666, \"#35b779\"], [0.7777777777777778, \"#6ece58\"], [0.8888888888888888, \"#b5de2b\"], [1.0, \"#fde725\"]], \"type\": \"heatmapgl\"}], \"histogram\": [{\"marker\": {\"line\": {\"color\": \"white\", \"width\": 0.6}}, \"type\": \"histogram\"}], \"histogram2d\": [{\"colorbar\": {\"outlinewidth\": 1, \"tickcolor\": \"rgb(36,36,36)\", \"ticks\": \"outside\"}, \"colorscale\": [[0.0, \"#440154\"], [0.1111111111111111, \"#482878\"], [0.2222222222222222, \"#3e4989\"], [0.3333333333333333, \"#31688e\"], [0.4444444444444444, \"#26828e\"], [0.5555555555555556, \"#1f9e89\"], [0.6666666666666666, \"#35b779\"], [0.7777777777777778, \"#6ece58\"], [0.8888888888888888, \"#b5de2b\"], [1.0, \"#fde725\"]], \"type\": \"histogram2d\"}], \"histogram2dcontour\": [{\"colorbar\": {\"outlinewidth\": 1, \"tickcolor\": \"rgb(36,36,36)\", \"ticks\": \"outside\"}, \"colorscale\": [[0.0, \"#440154\"], [0.1111111111111111, \"#482878\"], [0.2222222222222222, \"#3e4989\"], [0.3333333333333333, \"#31688e\"], [0.4444444444444444, \"#26828e\"], [0.5555555555555556, \"#1f9e89\"], [0.6666666666666666, \"#35b779\"], [0.7777777777777778, \"#6ece58\"], [0.8888888888888888, \"#b5de2b\"], [1.0, \"#fde725\"]], \"type\": \"histogram2dcontour\"}], \"mesh3d\": [{\"colorbar\": {\"outlinewidth\": 1, \"tickcolor\": \"rgb(36,36,36)\", \"ticks\": \"outside\"}, \"type\": \"mesh3d\"}], \"parcoords\": [{\"line\": {\"colorbar\": {\"outlinewidth\": 1, \"tickcolor\": \"rgb(36,36,36)\", \"ticks\": \"outside\"}}, \"type\": \"parcoords\"}], \"pie\": [{\"automargin\": true, \"type\": \"pie\"}], \"scatter\": [{\"marker\": {\"colorbar\": {\"outlinewidth\": 1, \"tickcolor\": \"rgb(36,36,36)\", \"ticks\": \"outside\"}}, \"type\": \"scatter\"}], \"scatter3d\": [{\"line\": {\"colorbar\": {\"outlinewidth\": 1, \"tickcolor\": \"rgb(36,36,36)\", \"ticks\": \"outside\"}}, \"marker\": {\"colorbar\": {\"outlinewidth\": 1, \"tickcolor\": \"rgb(36,36,36)\", \"ticks\": \"outside\"}}, \"type\": \"scatter3d\"}], \"scattercarpet\": [{\"marker\": {\"colorbar\": {\"outlinewidth\": 1, \"tickcolor\": \"rgb(36,36,36)\", \"ticks\": \"outside\"}}, \"type\": \"scattercarpet\"}], \"scattergeo\": [{\"marker\": {\"colorbar\": {\"outlinewidth\": 1, \"tickcolor\": \"rgb(36,36,36)\", \"ticks\": \"outside\"}}, \"type\": \"scattergeo\"}], \"scattergl\": [{\"marker\": {\"colorbar\": {\"outlinewidth\": 1, \"tickcolor\": \"rgb(36,36,36)\", \"ticks\": \"outside\"}}, \"type\": \"scattergl\"}], \"scattermapbox\": [{\"marker\": {\"colorbar\": {\"outlinewidth\": 1, \"tickcolor\": \"rgb(36,36,36)\", \"ticks\": \"outside\"}}, \"type\": \"scattermapbox\"}], \"scatterpolar\": [{\"marker\": {\"colorbar\": {\"outlinewidth\": 1, \"tickcolor\": \"rgb(36,36,36)\", \"ticks\": \"outside\"}}, \"type\": \"scatterpolar\"}], \"scatterpolargl\": [{\"marker\": {\"colorbar\": {\"outlinewidth\": 1, \"tickcolor\": \"rgb(36,36,36)\", \"ticks\": \"outside\"}}, \"type\": \"scatterpolargl\"}], \"scatterternary\": [{\"marker\": {\"colorbar\": {\"outlinewidth\": 1, \"tickcolor\": \"rgb(36,36,36)\", \"ticks\": \"outside\"}}, \"type\": \"scatterternary\"}], \"surface\": [{\"colorbar\": {\"outlinewidth\": 1, \"tickcolor\": \"rgb(36,36,36)\", \"ticks\": \"outside\"}, \"colorscale\": [[0.0, \"#440154\"], [0.1111111111111111, \"#482878\"], [0.2222222222222222, \"#3e4989\"], [0.3333333333333333, \"#31688e\"], [0.4444444444444444, \"#26828e\"], [0.5555555555555556, \"#1f9e89\"], [0.6666666666666666, \"#35b779\"], [0.7777777777777778, \"#6ece58\"], [0.8888888888888888, \"#b5de2b\"], [1.0, \"#fde725\"]], \"type\": \"surface\"}], \"table\": [{\"cells\": {\"fill\": {\"color\": \"rgb(237,237,237)\"}, \"line\": {\"color\": \"white\"}}, \"header\": {\"fill\": {\"color\": \"rgb(217,217,217)\"}, \"line\": {\"color\": \"white\"}}, \"type\": \"table\"}]}, \"layout\": {\"annotationdefaults\": {\"arrowhead\": 0, \"arrowwidth\": 1}, \"coloraxis\": {\"colorbar\": {\"outlinewidth\": 1, \"tickcolor\": \"rgb(36,36,36)\", \"ticks\": \"outside\"}}, \"colorscale\": {\"diverging\": [[0.0, \"rgb(103,0,31)\"], [0.1, \"rgb(178,24,43)\"], [0.2, \"rgb(214,96,77)\"], [0.3, \"rgb(244,165,130)\"], [0.4, \"rgb(253,219,199)\"], [0.5, \"rgb(247,247,247)\"], [0.6, \"rgb(209,229,240)\"], [0.7, \"rgb(146,197,222)\"], [0.8, \"rgb(67,147,195)\"], [0.9, \"rgb(33,102,172)\"], [1.0, \"rgb(5,48,97)\"]], \"sequential\": [[0.0, \"#440154\"], [0.1111111111111111, \"#482878\"], [0.2222222222222222, \"#3e4989\"], [0.3333333333333333, \"#31688e\"], [0.4444444444444444, \"#26828e\"], [0.5555555555555556, \"#1f9e89\"], [0.6666666666666666, \"#35b779\"], [0.7777777777777778, \"#6ece58\"], [0.8888888888888888, \"#b5de2b\"], [1.0, \"#fde725\"]], \"sequentialminus\": [[0.0, \"#440154\"], [0.1111111111111111, \"#482878\"], [0.2222222222222222, \"#3e4989\"], [0.3333333333333333, \"#31688e\"], [0.4444444444444444, \"#26828e\"], [0.5555555555555556, \"#1f9e89\"], [0.6666666666666666, \"#35b779\"], [0.7777777777777778, \"#6ece58\"], [0.8888888888888888, \"#b5de2b\"], [1.0, \"#fde725\"]]}, \"colorway\": [\"#1F77B4\", \"#FF7F0E\", \"#2CA02C\", \"#D62728\", \"#9467BD\", \"#8C564B\", \"#E377C2\", \"#7F7F7F\", \"#BCBD22\", \"#17BECF\"], \"font\": {\"color\": \"rgb(36,36,36)\"}, \"geo\": {\"bgcolor\": \"white\", \"lakecolor\": \"white\", \"landcolor\": \"white\", \"showlakes\": true, \"showland\": true, \"subunitcolor\": \"white\"}, \"hoverlabel\": {\"align\": \"left\"}, \"hovermode\": \"closest\", \"mapbox\": {\"style\": \"light\"}, \"paper_bgcolor\": \"white\", \"plot_bgcolor\": \"white\", \"polar\": {\"angularaxis\": {\"gridcolor\": \"rgb(232,232,232)\", \"linecolor\": \"rgb(36,36,36)\", \"showgrid\": false, \"showline\": true, \"ticks\": \"outside\"}, \"bgcolor\": \"white\", \"radialaxis\": {\"gridcolor\": \"rgb(232,232,232)\", \"linecolor\": \"rgb(36,36,36)\", \"showgrid\": false, \"showline\": true, \"ticks\": \"outside\"}}, \"scene\": {\"xaxis\": {\"backgroundcolor\": \"white\", \"gridcolor\": \"rgb(232,232,232)\", \"gridwidth\": 2, \"linecolor\": \"rgb(36,36,36)\", \"showbackground\": true, \"showgrid\": false, \"showline\": true, \"ticks\": \"outside\", \"zeroline\": false, \"zerolinecolor\": \"rgb(36,36,36)\"}, \"yaxis\": {\"backgroundcolor\": \"white\", \"gridcolor\": \"rgb(232,232,232)\", \"gridwidth\": 2, \"linecolor\": \"rgb(36,36,36)\", \"showbackground\": true, \"showgrid\": false, \"showline\": true, \"ticks\": \"outside\", \"zeroline\": false, \"zerolinecolor\": \"rgb(36,36,36)\"}, \"zaxis\": {\"backgroundcolor\": \"white\", \"gridcolor\": \"rgb(232,232,232)\", \"gridwidth\": 2, \"linecolor\": \"rgb(36,36,36)\", \"showbackground\": true, \"showgrid\": false, \"showline\": true, \"ticks\": \"outside\", \"zeroline\": false, \"zerolinecolor\": \"rgb(36,36,36)\"}}, \"shapedefaults\": {\"fillcolor\": \"black\", \"line\": {\"width\": 0}, \"opacity\": 0.3}, \"ternary\": {\"aaxis\": {\"gridcolor\": \"rgb(232,232,232)\", \"linecolor\": \"rgb(36,36,36)\", \"showgrid\": false, \"showline\": true, \"ticks\": \"outside\"}, \"baxis\": {\"gridcolor\": \"rgb(232,232,232)\", \"linecolor\": \"rgb(36,36,36)\", \"showgrid\": false, \"showline\": true, \"ticks\": \"outside\"}, \"bgcolor\": \"white\", \"caxis\": {\"gridcolor\": \"rgb(232,232,232)\", \"linecolor\": \"rgb(36,36,36)\", \"showgrid\": false, \"showline\": true, \"ticks\": \"outside\"}}, \"title\": {\"x\": 0.05}, \"xaxis\": {\"automargin\": true, \"gridcolor\": \"rgb(232,232,232)\", \"linecolor\": \"rgb(36,36,36)\", \"showgrid\": false, \"showline\": true, \"ticks\": \"outside\", \"title\": {\"standoff\": 15}, \"zeroline\": false, \"zerolinecolor\": \"rgb(36,36,36)\"}, \"yaxis\": {\"automargin\": true, \"gridcolor\": \"rgb(232,232,232)\", \"linecolor\": \"rgb(36,36,36)\", \"showgrid\": false, \"showline\": true, \"ticks\": \"outside\", \"title\": {\"standoff\": 15}, \"zeroline\": false, \"zerolinecolor\": \"rgb(36,36,36)\"}}}, \"width\": 800, \"xaxis\": {\"title\": {\"text\": \"Publish Count\"}}},\n",
       "                        {\"responsive\": true}\n",
       "                    ).then(function(){\n",
       "                            \n",
       "var gd = document.getElementById('897e4552-dcc1-45fd-8c19-75c8c8b91198');\n",
       "var x = new MutationObserver(function (mutations, observer) {{\n",
       "        var display = window.getComputedStyle(gd).display;\n",
       "        if (!display || display === 'none') {{\n",
       "            console.log([gd, 'removed!']);\n",
       "            Plotly.purge(gd);\n",
       "            observer.disconnect();\n",
       "        }}\n",
       "}});\n",
       "\n",
       "// Listen for the removal of the full notebook cells\n",
       "var notebookContainer = gd.closest('#notebook-container');\n",
       "if (notebookContainer) {{\n",
       "    x.observe(notebookContainer, {childList: true});\n",
       "}}\n",
       "\n",
       "// Listen for the clearing of the current output cell\n",
       "var outputEl = gd.closest('.output');\n",
       "if (outputEl) {{\n",
       "    x.observe(outputEl, {childList: true});\n",
       "}}\n",
       "\n",
       "                        })\n",
       "                };\n",
       "                });\n",
       "            </script>\n",
       "        </div>"
      ]
     },
     "metadata": {},
     "output_type": "display_data"
    }
   ],
   "source": [
    "bar(tdf[tdf.journal.isin(topjour)],\"paper_id\",\"journal\",xtitle=\"Publish Count\",colorby = \"topic\", aggregate = \"nunique\")"
   ]
  },
  {
   "cell_type": "markdown",
   "metadata": {
    "slideshow": {
     "slide_type": "slide"
    }
   },
   "source": [
    "### The top 10 authors tend to focus on their field of expertise, however Bande et al. cover a wide range of topics."
   ]
  },
  {
   "cell_type": "code",
   "execution_count": 13,
   "metadata": {
    "slideshow": {
     "slide_type": "skip"
    }
   },
   "outputs": [],
   "source": [
    "topau = list(tdf.groupby(\"authors\")[\"paper_id\"].agg(\"count\").sort_values(ascending=False)[0:10].index)"
   ]
  },
  {
   "cell_type": "code",
   "execution_count": 14,
   "metadata": {
    "slideshow": {
     "slide_type": "subslide"
    }
   },
   "outputs": [
    {
     "data": {
      "application/vnd.plotly.v1+json": {
       "config": {
        "linkText": "Export to plot.ly",
        "plotlyServerURL": "https://plot.ly",
        "showLink": false
       },
       "data": [
        {
         "name": "cases, model, outbreak, public, risk, transmission",
         "orientation": "h",
         "type": "bar",
         "x": [
          1,
          4,
          6,
          5,
          3,
          5,
          5
         ],
         "y": [
          "Garden, Oliver A.. Kidd, Linda...",
          "Mehand, Massinissa Si. Millett, Piers...",
          "Nishiura, Hiroshi",
          "Potter, Polyxeni",
          "Stein, Mart Lambertus. Rudge, James W...",
          "Wu, Joseph T. Riley, Steven...",
          "Zyoud, Sa’ed H."
         ]
        },
        {
         "name": "cell, protein, antibody, control, assay",
         "orientation": "h",
         "type": "bar",
         "x": [
          1
         ],
         "y": [
          "Ehrt, Christiane. Brinkjost, Tobias..."
         ]
        },
        {
         "name": "infection, mouse, immune, vaccine",
         "orientation": "h",
         "type": "bar",
         "x": [
          1
         ],
         "y": [
          "Bande, Faruku. Arshad, Siti Suri..."
         ]
        },
        {
         "name": "patient, infection, group, age, children, test, symptom",
         "orientation": "h",
         "type": "bar",
         "x": [
          1,
          3,
          6,
          2
         ],
         "y": [
          "Bande, Faruku. Arshad, Siti Suri...",
          "Garden, Oliver A.. Kidd, Linda...",
          "Oved, Kfir. Cohen, Asi...",
          "Stein, Mart Lambertus. Rudge, James W..."
         ]
        },
        {
         "name": "pcr, test, detect, sars, infection",
         "orientation": "h",
         "type": "bar",
         "x": [
          2,
          1,
          1,
          1
         ],
         "y": [
          "Bande, Faruku. Arshad, Siti Suri...",
          "Garden, Oliver A.. Kidd, Linda...",
          "Mehand, Massinissa Si. Millett, Piers...",
          "Potter, Polyxeni"
         ]
        },
        {
         "name": "protein, sequence, gene, rna, structure, genome, bind",
         "orientation": "h",
         "type": "bar",
         "x": [
          1,
          4,
          1,
          1
         ],
         "y": [
          "Bande, Faruku. Arshad, Siti Suri...",
          "Ehrt, Christiane. Brinkjost, Tobias...",
          "Mehand, Massinissa Si. Millett, Piers...",
          "Potter, Polyxeni"
         ]
        }
       ],
       "layout": {
        "autosize": false,
        "barmode": "stack",
        "height": 550,
        "legend": {
         "orientation": "h",
         "x": 0.1,
         "y": 1.2
        },
        "margin": {
         "l": 350,
         "r": 10
        },
        "showlegend": true,
        "template": {
         "data": {
          "bar": [
           {
            "error_x": {
             "color": "rgb(36,36,36)"
            },
            "error_y": {
             "color": "rgb(36,36,36)"
            },
            "marker": {
             "line": {
              "color": "white",
              "width": 0.5
             }
            },
            "type": "bar"
           }
          ],
          "barpolar": [
           {
            "marker": {
             "line": {
              "color": "white",
              "width": 0.5
             }
            },
            "type": "barpolar"
           }
          ],
          "carpet": [
           {
            "aaxis": {
             "endlinecolor": "rgb(36,36,36)",
             "gridcolor": "white",
             "linecolor": "white",
             "minorgridcolor": "white",
             "startlinecolor": "rgb(36,36,36)"
            },
            "baxis": {
             "endlinecolor": "rgb(36,36,36)",
             "gridcolor": "white",
             "linecolor": "white",
             "minorgridcolor": "white",
             "startlinecolor": "rgb(36,36,36)"
            },
            "type": "carpet"
           }
          ],
          "choropleth": [
           {
            "colorbar": {
             "outlinewidth": 1,
             "tickcolor": "rgb(36,36,36)",
             "ticks": "outside"
            },
            "type": "choropleth"
           }
          ],
          "contour": [
           {
            "colorbar": {
             "outlinewidth": 1,
             "tickcolor": "rgb(36,36,36)",
             "ticks": "outside"
            },
            "colorscale": [
             [
              0,
              "#440154"
             ],
             [
              0.1111111111111111,
              "#482878"
             ],
             [
              0.2222222222222222,
              "#3e4989"
             ],
             [
              0.3333333333333333,
              "#31688e"
             ],
             [
              0.4444444444444444,
              "#26828e"
             ],
             [
              0.5555555555555556,
              "#1f9e89"
             ],
             [
              0.6666666666666666,
              "#35b779"
             ],
             [
              0.7777777777777778,
              "#6ece58"
             ],
             [
              0.8888888888888888,
              "#b5de2b"
             ],
             [
              1,
              "#fde725"
             ]
            ],
            "type": "contour"
           }
          ],
          "contourcarpet": [
           {
            "colorbar": {
             "outlinewidth": 1,
             "tickcolor": "rgb(36,36,36)",
             "ticks": "outside"
            },
            "type": "contourcarpet"
           }
          ],
          "heatmap": [
           {
            "colorbar": {
             "outlinewidth": 1,
             "tickcolor": "rgb(36,36,36)",
             "ticks": "outside"
            },
            "colorscale": [
             [
              0,
              "#440154"
             ],
             [
              0.1111111111111111,
              "#482878"
             ],
             [
              0.2222222222222222,
              "#3e4989"
             ],
             [
              0.3333333333333333,
              "#31688e"
             ],
             [
              0.4444444444444444,
              "#26828e"
             ],
             [
              0.5555555555555556,
              "#1f9e89"
             ],
             [
              0.6666666666666666,
              "#35b779"
             ],
             [
              0.7777777777777778,
              "#6ece58"
             ],
             [
              0.8888888888888888,
              "#b5de2b"
             ],
             [
              1,
              "#fde725"
             ]
            ],
            "type": "heatmap"
           }
          ],
          "heatmapgl": [
           {
            "colorbar": {
             "outlinewidth": 1,
             "tickcolor": "rgb(36,36,36)",
             "ticks": "outside"
            },
            "colorscale": [
             [
              0,
              "#440154"
             ],
             [
              0.1111111111111111,
              "#482878"
             ],
             [
              0.2222222222222222,
              "#3e4989"
             ],
             [
              0.3333333333333333,
              "#31688e"
             ],
             [
              0.4444444444444444,
              "#26828e"
             ],
             [
              0.5555555555555556,
              "#1f9e89"
             ],
             [
              0.6666666666666666,
              "#35b779"
             ],
             [
              0.7777777777777778,
              "#6ece58"
             ],
             [
              0.8888888888888888,
              "#b5de2b"
             ],
             [
              1,
              "#fde725"
             ]
            ],
            "type": "heatmapgl"
           }
          ],
          "histogram": [
           {
            "marker": {
             "line": {
              "color": "white",
              "width": 0.6
             }
            },
            "type": "histogram"
           }
          ],
          "histogram2d": [
           {
            "colorbar": {
             "outlinewidth": 1,
             "tickcolor": "rgb(36,36,36)",
             "ticks": "outside"
            },
            "colorscale": [
             [
              0,
              "#440154"
             ],
             [
              0.1111111111111111,
              "#482878"
             ],
             [
              0.2222222222222222,
              "#3e4989"
             ],
             [
              0.3333333333333333,
              "#31688e"
             ],
             [
              0.4444444444444444,
              "#26828e"
             ],
             [
              0.5555555555555556,
              "#1f9e89"
             ],
             [
              0.6666666666666666,
              "#35b779"
             ],
             [
              0.7777777777777778,
              "#6ece58"
             ],
             [
              0.8888888888888888,
              "#b5de2b"
             ],
             [
              1,
              "#fde725"
             ]
            ],
            "type": "histogram2d"
           }
          ],
          "histogram2dcontour": [
           {
            "colorbar": {
             "outlinewidth": 1,
             "tickcolor": "rgb(36,36,36)",
             "ticks": "outside"
            },
            "colorscale": [
             [
              0,
              "#440154"
             ],
             [
              0.1111111111111111,
              "#482878"
             ],
             [
              0.2222222222222222,
              "#3e4989"
             ],
             [
              0.3333333333333333,
              "#31688e"
             ],
             [
              0.4444444444444444,
              "#26828e"
             ],
             [
              0.5555555555555556,
              "#1f9e89"
             ],
             [
              0.6666666666666666,
              "#35b779"
             ],
             [
              0.7777777777777778,
              "#6ece58"
             ],
             [
              0.8888888888888888,
              "#b5de2b"
             ],
             [
              1,
              "#fde725"
             ]
            ],
            "type": "histogram2dcontour"
           }
          ],
          "mesh3d": [
           {
            "colorbar": {
             "outlinewidth": 1,
             "tickcolor": "rgb(36,36,36)",
             "ticks": "outside"
            },
            "type": "mesh3d"
           }
          ],
          "parcoords": [
           {
            "line": {
             "colorbar": {
              "outlinewidth": 1,
              "tickcolor": "rgb(36,36,36)",
              "ticks": "outside"
             }
            },
            "type": "parcoords"
           }
          ],
          "pie": [
           {
            "automargin": true,
            "type": "pie"
           }
          ],
          "scatter": [
           {
            "marker": {
             "colorbar": {
              "outlinewidth": 1,
              "tickcolor": "rgb(36,36,36)",
              "ticks": "outside"
             }
            },
            "type": "scatter"
           }
          ],
          "scatter3d": [
           {
            "line": {
             "colorbar": {
              "outlinewidth": 1,
              "tickcolor": "rgb(36,36,36)",
              "ticks": "outside"
             }
            },
            "marker": {
             "colorbar": {
              "outlinewidth": 1,
              "tickcolor": "rgb(36,36,36)",
              "ticks": "outside"
             }
            },
            "type": "scatter3d"
           }
          ],
          "scattercarpet": [
           {
            "marker": {
             "colorbar": {
              "outlinewidth": 1,
              "tickcolor": "rgb(36,36,36)",
              "ticks": "outside"
             }
            },
            "type": "scattercarpet"
           }
          ],
          "scattergeo": [
           {
            "marker": {
             "colorbar": {
              "outlinewidth": 1,
              "tickcolor": "rgb(36,36,36)",
              "ticks": "outside"
             }
            },
            "type": "scattergeo"
           }
          ],
          "scattergl": [
           {
            "marker": {
             "colorbar": {
              "outlinewidth": 1,
              "tickcolor": "rgb(36,36,36)",
              "ticks": "outside"
             }
            },
            "type": "scattergl"
           }
          ],
          "scattermapbox": [
           {
            "marker": {
             "colorbar": {
              "outlinewidth": 1,
              "tickcolor": "rgb(36,36,36)",
              "ticks": "outside"
             }
            },
            "type": "scattermapbox"
           }
          ],
          "scatterpolar": [
           {
            "marker": {
             "colorbar": {
              "outlinewidth": 1,
              "tickcolor": "rgb(36,36,36)",
              "ticks": "outside"
             }
            },
            "type": "scatterpolar"
           }
          ],
          "scatterpolargl": [
           {
            "marker": {
             "colorbar": {
              "outlinewidth": 1,
              "tickcolor": "rgb(36,36,36)",
              "ticks": "outside"
             }
            },
            "type": "scatterpolargl"
           }
          ],
          "scatterternary": [
           {
            "marker": {
             "colorbar": {
              "outlinewidth": 1,
              "tickcolor": "rgb(36,36,36)",
              "ticks": "outside"
             }
            },
            "type": "scatterternary"
           }
          ],
          "surface": [
           {
            "colorbar": {
             "outlinewidth": 1,
             "tickcolor": "rgb(36,36,36)",
             "ticks": "outside"
            },
            "colorscale": [
             [
              0,
              "#440154"
             ],
             [
              0.1111111111111111,
              "#482878"
             ],
             [
              0.2222222222222222,
              "#3e4989"
             ],
             [
              0.3333333333333333,
              "#31688e"
             ],
             [
              0.4444444444444444,
              "#26828e"
             ],
             [
              0.5555555555555556,
              "#1f9e89"
             ],
             [
              0.6666666666666666,
              "#35b779"
             ],
             [
              0.7777777777777778,
              "#6ece58"
             ],
             [
              0.8888888888888888,
              "#b5de2b"
             ],
             [
              1,
              "#fde725"
             ]
            ],
            "type": "surface"
           }
          ],
          "table": [
           {
            "cells": {
             "fill": {
              "color": "rgb(237,237,237)"
             },
             "line": {
              "color": "white"
             }
            },
            "header": {
             "fill": {
              "color": "rgb(217,217,217)"
             },
             "line": {
              "color": "white"
             }
            },
            "type": "table"
           }
          ]
         },
         "layout": {
          "annotationdefaults": {
           "arrowhead": 0,
           "arrowwidth": 1
          },
          "coloraxis": {
           "colorbar": {
            "outlinewidth": 1,
            "tickcolor": "rgb(36,36,36)",
            "ticks": "outside"
           }
          },
          "colorscale": {
           "diverging": [
            [
             0,
             "rgb(103,0,31)"
            ],
            [
             0.1,
             "rgb(178,24,43)"
            ],
            [
             0.2,
             "rgb(214,96,77)"
            ],
            [
             0.3,
             "rgb(244,165,130)"
            ],
            [
             0.4,
             "rgb(253,219,199)"
            ],
            [
             0.5,
             "rgb(247,247,247)"
            ],
            [
             0.6,
             "rgb(209,229,240)"
            ],
            [
             0.7,
             "rgb(146,197,222)"
            ],
            [
             0.8,
             "rgb(67,147,195)"
            ],
            [
             0.9,
             "rgb(33,102,172)"
            ],
            [
             1,
             "rgb(5,48,97)"
            ]
           ],
           "sequential": [
            [
             0,
             "#440154"
            ],
            [
             0.1111111111111111,
             "#482878"
            ],
            [
             0.2222222222222222,
             "#3e4989"
            ],
            [
             0.3333333333333333,
             "#31688e"
            ],
            [
             0.4444444444444444,
             "#26828e"
            ],
            [
             0.5555555555555556,
             "#1f9e89"
            ],
            [
             0.6666666666666666,
             "#35b779"
            ],
            [
             0.7777777777777778,
             "#6ece58"
            ],
            [
             0.8888888888888888,
             "#b5de2b"
            ],
            [
             1,
             "#fde725"
            ]
           ],
           "sequentialminus": [
            [
             0,
             "#440154"
            ],
            [
             0.1111111111111111,
             "#482878"
            ],
            [
             0.2222222222222222,
             "#3e4989"
            ],
            [
             0.3333333333333333,
             "#31688e"
            ],
            [
             0.4444444444444444,
             "#26828e"
            ],
            [
             0.5555555555555556,
             "#1f9e89"
            ],
            [
             0.6666666666666666,
             "#35b779"
            ],
            [
             0.7777777777777778,
             "#6ece58"
            ],
            [
             0.8888888888888888,
             "#b5de2b"
            ],
            [
             1,
             "#fde725"
            ]
           ]
          },
          "colorway": [
           "#1F77B4",
           "#FF7F0E",
           "#2CA02C",
           "#D62728",
           "#9467BD",
           "#8C564B",
           "#E377C2",
           "#7F7F7F",
           "#BCBD22",
           "#17BECF"
          ],
          "font": {
           "color": "rgb(36,36,36)"
          },
          "geo": {
           "bgcolor": "white",
           "lakecolor": "white",
           "landcolor": "white",
           "showlakes": true,
           "showland": true,
           "subunitcolor": "white"
          },
          "hoverlabel": {
           "align": "left"
          },
          "hovermode": "closest",
          "mapbox": {
           "style": "light"
          },
          "paper_bgcolor": "white",
          "plot_bgcolor": "white",
          "polar": {
           "angularaxis": {
            "gridcolor": "rgb(232,232,232)",
            "linecolor": "rgb(36,36,36)",
            "showgrid": false,
            "showline": true,
            "ticks": "outside"
           },
           "bgcolor": "white",
           "radialaxis": {
            "gridcolor": "rgb(232,232,232)",
            "linecolor": "rgb(36,36,36)",
            "showgrid": false,
            "showline": true,
            "ticks": "outside"
           }
          },
          "scene": {
           "xaxis": {
            "backgroundcolor": "white",
            "gridcolor": "rgb(232,232,232)",
            "gridwidth": 2,
            "linecolor": "rgb(36,36,36)",
            "showbackground": true,
            "showgrid": false,
            "showline": true,
            "ticks": "outside",
            "zeroline": false,
            "zerolinecolor": "rgb(36,36,36)"
           },
           "yaxis": {
            "backgroundcolor": "white",
            "gridcolor": "rgb(232,232,232)",
            "gridwidth": 2,
            "linecolor": "rgb(36,36,36)",
            "showbackground": true,
            "showgrid": false,
            "showline": true,
            "ticks": "outside",
            "zeroline": false,
            "zerolinecolor": "rgb(36,36,36)"
           },
           "zaxis": {
            "backgroundcolor": "white",
            "gridcolor": "rgb(232,232,232)",
            "gridwidth": 2,
            "linecolor": "rgb(36,36,36)",
            "showbackground": true,
            "showgrid": false,
            "showline": true,
            "ticks": "outside",
            "zeroline": false,
            "zerolinecolor": "rgb(36,36,36)"
           }
          },
          "shapedefaults": {
           "fillcolor": "black",
           "line": {
            "width": 0
           },
           "opacity": 0.3
          },
          "ternary": {
           "aaxis": {
            "gridcolor": "rgb(232,232,232)",
            "linecolor": "rgb(36,36,36)",
            "showgrid": false,
            "showline": true,
            "ticks": "outside"
           },
           "baxis": {
            "gridcolor": "rgb(232,232,232)",
            "linecolor": "rgb(36,36,36)",
            "showgrid": false,
            "showline": true,
            "ticks": "outside"
           },
           "bgcolor": "white",
           "caxis": {
            "gridcolor": "rgb(232,232,232)",
            "linecolor": "rgb(36,36,36)",
            "showgrid": false,
            "showline": true,
            "ticks": "outside"
           }
          },
          "title": {
           "x": 0.05
          },
          "xaxis": {
           "automargin": true,
           "gridcolor": "rgb(232,232,232)",
           "linecolor": "rgb(36,36,36)",
           "showgrid": false,
           "showline": true,
           "ticks": "outside",
           "title": {
            "standoff": 15
           },
           "zeroline": false,
           "zerolinecolor": "rgb(36,36,36)"
          },
          "yaxis": {
           "automargin": true,
           "gridcolor": "rgb(232,232,232)",
           "linecolor": "rgb(36,36,36)",
           "showgrid": false,
           "showline": true,
           "ticks": "outside",
           "title": {
            "standoff": 15
           },
           "zeroline": false,
           "zerolinecolor": "rgb(36,36,36)"
          }
         }
        },
        "width": 800,
        "xaxis": {
         "title": {
          "text": "Publish Count"
         }
        }
       }
      },
      "text/html": [
       "<div>\n",
       "        \n",
       "        \n",
       "            <div id=\"fe8f8deb-150d-45f3-afb5-2d18da610f43\" class=\"plotly-graph-div\" style=\"height:550px; width:800px;\"></div>\n",
       "            <script type=\"text/javascript\">\n",
       "                require([\"plotly\"], function(Plotly) {\n",
       "                    window.PLOTLYENV=window.PLOTLYENV || {};\n",
       "                    \n",
       "                if (document.getElementById(\"fe8f8deb-150d-45f3-afb5-2d18da610f43\")) {\n",
       "                    Plotly.newPlot(\n",
       "                        'fe8f8deb-150d-45f3-afb5-2d18da610f43',\n",
       "                        [{\"name\": \"cases, model, outbreak, public, risk, transmission\", \"orientation\": \"h\", \"type\": \"bar\", \"x\": [1, 4, 6, 5, 3, 5, 5], \"y\": [\"Garden, Oliver A.. Kidd, Linda...\", \"Mehand, Massinissa Si. Millett, Piers...\", \"Nishiura, Hiroshi\", \"Potter, Polyxeni\", \"Stein, Mart Lambertus. Rudge, James W...\", \"Wu, Joseph T. Riley, Steven...\", \"Zyoud, Sa\\u2019ed H.\"]}, {\"name\": \"cell, protein, antibody, control, assay\", \"orientation\": \"h\", \"type\": \"bar\", \"x\": [1], \"y\": [\"Ehrt, Christiane. Brinkjost, Tobias...\"]}, {\"name\": \"infection, mouse, immune, vaccine\", \"orientation\": \"h\", \"type\": \"bar\", \"x\": [1], \"y\": [\"Bande, Faruku. Arshad, Siti Suri...\"]}, {\"name\": \"patient, infection, group, age, children, test, symptom\", \"orientation\": \"h\", \"type\": \"bar\", \"x\": [1, 3, 6, 2], \"y\": [\"Bande, Faruku. Arshad, Siti Suri...\", \"Garden, Oliver A.. Kidd, Linda...\", \"Oved, Kfir. Cohen, Asi...\", \"Stein, Mart Lambertus. Rudge, James W...\"]}, {\"name\": \"pcr, test, detect, sars, infection\", \"orientation\": \"h\", \"type\": \"bar\", \"x\": [2, 1, 1, 1], \"y\": [\"Bande, Faruku. Arshad, Siti Suri...\", \"Garden, Oliver A.. Kidd, Linda...\", \"Mehand, Massinissa Si. Millett, Piers...\", \"Potter, Polyxeni\"]}, {\"name\": \"protein, sequence, gene, rna, structure, genome, bind\", \"orientation\": \"h\", \"type\": \"bar\", \"x\": [1, 4, 1, 1], \"y\": [\"Bande, Faruku. Arshad, Siti Suri...\", \"Ehrt, Christiane. Brinkjost, Tobias...\", \"Mehand, Massinissa Si. Millett, Piers...\", \"Potter, Polyxeni\"]}],\n",
       "                        {\"autosize\": false, \"barmode\": \"stack\", \"height\": 550, \"legend\": {\"orientation\": \"h\", \"x\": 0.1, \"y\": 1.2}, \"margin\": {\"l\": 350, \"r\": 10}, \"showlegend\": true, \"template\": {\"data\": {\"bar\": [{\"error_x\": {\"color\": \"rgb(36,36,36)\"}, \"error_y\": {\"color\": \"rgb(36,36,36)\"}, \"marker\": {\"line\": {\"color\": \"white\", \"width\": 0.5}}, \"type\": \"bar\"}], \"barpolar\": [{\"marker\": {\"line\": {\"color\": \"white\", \"width\": 0.5}}, \"type\": \"barpolar\"}], \"carpet\": [{\"aaxis\": {\"endlinecolor\": \"rgb(36,36,36)\", \"gridcolor\": \"white\", \"linecolor\": \"white\", \"minorgridcolor\": \"white\", \"startlinecolor\": \"rgb(36,36,36)\"}, \"baxis\": {\"endlinecolor\": \"rgb(36,36,36)\", \"gridcolor\": \"white\", \"linecolor\": \"white\", \"minorgridcolor\": \"white\", \"startlinecolor\": \"rgb(36,36,36)\"}, \"type\": \"carpet\"}], \"choropleth\": [{\"colorbar\": {\"outlinewidth\": 1, \"tickcolor\": \"rgb(36,36,36)\", \"ticks\": \"outside\"}, \"type\": \"choropleth\"}], \"contour\": [{\"colorbar\": {\"outlinewidth\": 1, \"tickcolor\": \"rgb(36,36,36)\", \"ticks\": \"outside\"}, \"colorscale\": [[0.0, \"#440154\"], [0.1111111111111111, \"#482878\"], [0.2222222222222222, \"#3e4989\"], [0.3333333333333333, \"#31688e\"], [0.4444444444444444, \"#26828e\"], [0.5555555555555556, \"#1f9e89\"], [0.6666666666666666, \"#35b779\"], [0.7777777777777778, \"#6ece58\"], [0.8888888888888888, \"#b5de2b\"], [1.0, \"#fde725\"]], \"type\": \"contour\"}], \"contourcarpet\": [{\"colorbar\": {\"outlinewidth\": 1, \"tickcolor\": \"rgb(36,36,36)\", \"ticks\": \"outside\"}, \"type\": \"contourcarpet\"}], \"heatmap\": [{\"colorbar\": {\"outlinewidth\": 1, \"tickcolor\": \"rgb(36,36,36)\", \"ticks\": \"outside\"}, \"colorscale\": [[0.0, \"#440154\"], [0.1111111111111111, \"#482878\"], [0.2222222222222222, \"#3e4989\"], [0.3333333333333333, \"#31688e\"], [0.4444444444444444, \"#26828e\"], [0.5555555555555556, \"#1f9e89\"], [0.6666666666666666, \"#35b779\"], [0.7777777777777778, \"#6ece58\"], [0.8888888888888888, \"#b5de2b\"], [1.0, \"#fde725\"]], \"type\": \"heatmap\"}], \"heatmapgl\": [{\"colorbar\": {\"outlinewidth\": 1, \"tickcolor\": \"rgb(36,36,36)\", \"ticks\": \"outside\"}, \"colorscale\": [[0.0, \"#440154\"], [0.1111111111111111, \"#482878\"], [0.2222222222222222, \"#3e4989\"], [0.3333333333333333, \"#31688e\"], [0.4444444444444444, \"#26828e\"], [0.5555555555555556, \"#1f9e89\"], [0.6666666666666666, \"#35b779\"], [0.7777777777777778, \"#6ece58\"], [0.8888888888888888, \"#b5de2b\"], [1.0, \"#fde725\"]], \"type\": \"heatmapgl\"}], \"histogram\": [{\"marker\": {\"line\": {\"color\": \"white\", \"width\": 0.6}}, \"type\": \"histogram\"}], \"histogram2d\": [{\"colorbar\": {\"outlinewidth\": 1, \"tickcolor\": \"rgb(36,36,36)\", \"ticks\": \"outside\"}, \"colorscale\": [[0.0, \"#440154\"], [0.1111111111111111, \"#482878\"], [0.2222222222222222, \"#3e4989\"], [0.3333333333333333, \"#31688e\"], [0.4444444444444444, \"#26828e\"], [0.5555555555555556, \"#1f9e89\"], [0.6666666666666666, \"#35b779\"], [0.7777777777777778, \"#6ece58\"], [0.8888888888888888, \"#b5de2b\"], [1.0, \"#fde725\"]], \"type\": \"histogram2d\"}], \"histogram2dcontour\": [{\"colorbar\": {\"outlinewidth\": 1, \"tickcolor\": \"rgb(36,36,36)\", \"ticks\": \"outside\"}, \"colorscale\": [[0.0, \"#440154\"], [0.1111111111111111, \"#482878\"], [0.2222222222222222, \"#3e4989\"], [0.3333333333333333, \"#31688e\"], [0.4444444444444444, \"#26828e\"], [0.5555555555555556, \"#1f9e89\"], [0.6666666666666666, \"#35b779\"], [0.7777777777777778, \"#6ece58\"], [0.8888888888888888, \"#b5de2b\"], [1.0, \"#fde725\"]], \"type\": \"histogram2dcontour\"}], \"mesh3d\": [{\"colorbar\": {\"outlinewidth\": 1, \"tickcolor\": \"rgb(36,36,36)\", \"ticks\": \"outside\"}, \"type\": \"mesh3d\"}], \"parcoords\": [{\"line\": {\"colorbar\": {\"outlinewidth\": 1, \"tickcolor\": \"rgb(36,36,36)\", \"ticks\": \"outside\"}}, \"type\": \"parcoords\"}], \"pie\": [{\"automargin\": true, \"type\": \"pie\"}], \"scatter\": [{\"marker\": {\"colorbar\": {\"outlinewidth\": 1, \"tickcolor\": \"rgb(36,36,36)\", \"ticks\": \"outside\"}}, \"type\": \"scatter\"}], \"scatter3d\": [{\"line\": {\"colorbar\": {\"outlinewidth\": 1, \"tickcolor\": \"rgb(36,36,36)\", \"ticks\": \"outside\"}}, \"marker\": {\"colorbar\": {\"outlinewidth\": 1, \"tickcolor\": \"rgb(36,36,36)\", \"ticks\": \"outside\"}}, \"type\": \"scatter3d\"}], \"scattercarpet\": [{\"marker\": {\"colorbar\": {\"outlinewidth\": 1, \"tickcolor\": \"rgb(36,36,36)\", \"ticks\": \"outside\"}}, \"type\": \"scattercarpet\"}], \"scattergeo\": [{\"marker\": {\"colorbar\": {\"outlinewidth\": 1, \"tickcolor\": \"rgb(36,36,36)\", \"ticks\": \"outside\"}}, \"type\": \"scattergeo\"}], \"scattergl\": [{\"marker\": {\"colorbar\": {\"outlinewidth\": 1, \"tickcolor\": \"rgb(36,36,36)\", \"ticks\": \"outside\"}}, \"type\": \"scattergl\"}], \"scattermapbox\": [{\"marker\": {\"colorbar\": {\"outlinewidth\": 1, \"tickcolor\": \"rgb(36,36,36)\", \"ticks\": \"outside\"}}, \"type\": \"scattermapbox\"}], \"scatterpolar\": [{\"marker\": {\"colorbar\": {\"outlinewidth\": 1, \"tickcolor\": \"rgb(36,36,36)\", \"ticks\": \"outside\"}}, \"type\": \"scatterpolar\"}], \"scatterpolargl\": [{\"marker\": {\"colorbar\": {\"outlinewidth\": 1, \"tickcolor\": \"rgb(36,36,36)\", \"ticks\": \"outside\"}}, \"type\": \"scatterpolargl\"}], \"scatterternary\": [{\"marker\": {\"colorbar\": {\"outlinewidth\": 1, \"tickcolor\": \"rgb(36,36,36)\", \"ticks\": \"outside\"}}, \"type\": \"scatterternary\"}], \"surface\": [{\"colorbar\": {\"outlinewidth\": 1, \"tickcolor\": \"rgb(36,36,36)\", \"ticks\": \"outside\"}, \"colorscale\": [[0.0, \"#440154\"], [0.1111111111111111, \"#482878\"], [0.2222222222222222, \"#3e4989\"], [0.3333333333333333, \"#31688e\"], [0.4444444444444444, \"#26828e\"], [0.5555555555555556, \"#1f9e89\"], [0.6666666666666666, \"#35b779\"], [0.7777777777777778, \"#6ece58\"], [0.8888888888888888, \"#b5de2b\"], [1.0, \"#fde725\"]], \"type\": \"surface\"}], \"table\": [{\"cells\": {\"fill\": {\"color\": \"rgb(237,237,237)\"}, \"line\": {\"color\": \"white\"}}, \"header\": {\"fill\": {\"color\": \"rgb(217,217,217)\"}, \"line\": {\"color\": \"white\"}}, \"type\": \"table\"}]}, \"layout\": {\"annotationdefaults\": {\"arrowhead\": 0, \"arrowwidth\": 1}, \"coloraxis\": {\"colorbar\": {\"outlinewidth\": 1, \"tickcolor\": \"rgb(36,36,36)\", \"ticks\": \"outside\"}}, \"colorscale\": {\"diverging\": [[0.0, \"rgb(103,0,31)\"], [0.1, \"rgb(178,24,43)\"], [0.2, \"rgb(214,96,77)\"], [0.3, \"rgb(244,165,130)\"], [0.4, \"rgb(253,219,199)\"], [0.5, \"rgb(247,247,247)\"], [0.6, \"rgb(209,229,240)\"], [0.7, \"rgb(146,197,222)\"], [0.8, \"rgb(67,147,195)\"], [0.9, \"rgb(33,102,172)\"], [1.0, \"rgb(5,48,97)\"]], \"sequential\": [[0.0, \"#440154\"], [0.1111111111111111, \"#482878\"], [0.2222222222222222, \"#3e4989\"], [0.3333333333333333, \"#31688e\"], [0.4444444444444444, \"#26828e\"], [0.5555555555555556, \"#1f9e89\"], [0.6666666666666666, \"#35b779\"], [0.7777777777777778, \"#6ece58\"], [0.8888888888888888, \"#b5de2b\"], [1.0, \"#fde725\"]], \"sequentialminus\": [[0.0, \"#440154\"], [0.1111111111111111, \"#482878\"], [0.2222222222222222, \"#3e4989\"], [0.3333333333333333, \"#31688e\"], [0.4444444444444444, \"#26828e\"], [0.5555555555555556, \"#1f9e89\"], [0.6666666666666666, \"#35b779\"], [0.7777777777777778, \"#6ece58\"], [0.8888888888888888, \"#b5de2b\"], [1.0, \"#fde725\"]]}, \"colorway\": [\"#1F77B4\", \"#FF7F0E\", \"#2CA02C\", \"#D62728\", \"#9467BD\", \"#8C564B\", \"#E377C2\", \"#7F7F7F\", \"#BCBD22\", \"#17BECF\"], \"font\": {\"color\": \"rgb(36,36,36)\"}, \"geo\": {\"bgcolor\": \"white\", \"lakecolor\": \"white\", \"landcolor\": \"white\", \"showlakes\": true, \"showland\": true, \"subunitcolor\": \"white\"}, \"hoverlabel\": {\"align\": \"left\"}, \"hovermode\": \"closest\", \"mapbox\": {\"style\": \"light\"}, \"paper_bgcolor\": \"white\", \"plot_bgcolor\": \"white\", \"polar\": {\"angularaxis\": {\"gridcolor\": \"rgb(232,232,232)\", \"linecolor\": \"rgb(36,36,36)\", \"showgrid\": false, \"showline\": true, \"ticks\": \"outside\"}, \"bgcolor\": \"white\", \"radialaxis\": {\"gridcolor\": \"rgb(232,232,232)\", \"linecolor\": \"rgb(36,36,36)\", \"showgrid\": false, \"showline\": true, \"ticks\": \"outside\"}}, \"scene\": {\"xaxis\": {\"backgroundcolor\": \"white\", \"gridcolor\": \"rgb(232,232,232)\", \"gridwidth\": 2, \"linecolor\": \"rgb(36,36,36)\", \"showbackground\": true, \"showgrid\": false, \"showline\": true, \"ticks\": \"outside\", \"zeroline\": false, \"zerolinecolor\": \"rgb(36,36,36)\"}, \"yaxis\": {\"backgroundcolor\": \"white\", \"gridcolor\": \"rgb(232,232,232)\", \"gridwidth\": 2, \"linecolor\": \"rgb(36,36,36)\", \"showbackground\": true, \"showgrid\": false, \"showline\": true, \"ticks\": \"outside\", \"zeroline\": false, \"zerolinecolor\": \"rgb(36,36,36)\"}, \"zaxis\": {\"backgroundcolor\": \"white\", \"gridcolor\": \"rgb(232,232,232)\", \"gridwidth\": 2, \"linecolor\": \"rgb(36,36,36)\", \"showbackground\": true, \"showgrid\": false, \"showline\": true, \"ticks\": \"outside\", \"zeroline\": false, \"zerolinecolor\": \"rgb(36,36,36)\"}}, \"shapedefaults\": {\"fillcolor\": \"black\", \"line\": {\"width\": 0}, \"opacity\": 0.3}, \"ternary\": {\"aaxis\": {\"gridcolor\": \"rgb(232,232,232)\", \"linecolor\": \"rgb(36,36,36)\", \"showgrid\": false, \"showline\": true, \"ticks\": \"outside\"}, \"baxis\": {\"gridcolor\": \"rgb(232,232,232)\", \"linecolor\": \"rgb(36,36,36)\", \"showgrid\": false, \"showline\": true, \"ticks\": \"outside\"}, \"bgcolor\": \"white\", \"caxis\": {\"gridcolor\": \"rgb(232,232,232)\", \"linecolor\": \"rgb(36,36,36)\", \"showgrid\": false, \"showline\": true, \"ticks\": \"outside\"}}, \"title\": {\"x\": 0.05}, \"xaxis\": {\"automargin\": true, \"gridcolor\": \"rgb(232,232,232)\", \"linecolor\": \"rgb(36,36,36)\", \"showgrid\": false, \"showline\": true, \"ticks\": \"outside\", \"title\": {\"standoff\": 15}, \"zeroline\": false, \"zerolinecolor\": \"rgb(36,36,36)\"}, \"yaxis\": {\"automargin\": true, \"gridcolor\": \"rgb(232,232,232)\", \"linecolor\": \"rgb(36,36,36)\", \"showgrid\": false, \"showline\": true, \"ticks\": \"outside\", \"title\": {\"standoff\": 15}, \"zeroline\": false, \"zerolinecolor\": \"rgb(36,36,36)\"}}}, \"width\": 800, \"xaxis\": {\"title\": {\"text\": \"Publish Count\"}}},\n",
       "                        {\"responsive\": true}\n",
       "                    ).then(function(){\n",
       "                            \n",
       "var gd = document.getElementById('fe8f8deb-150d-45f3-afb5-2d18da610f43');\n",
       "var x = new MutationObserver(function (mutations, observer) {{\n",
       "        var display = window.getComputedStyle(gd).display;\n",
       "        if (!display || display === 'none') {{\n",
       "            console.log([gd, 'removed!']);\n",
       "            Plotly.purge(gd);\n",
       "            observer.disconnect();\n",
       "        }}\n",
       "}});\n",
       "\n",
       "// Listen for the removal of the full notebook cells\n",
       "var notebookContainer = gd.closest('#notebook-container');\n",
       "if (notebookContainer) {{\n",
       "    x.observe(notebookContainer, {childList: true});\n",
       "}}\n",
       "\n",
       "// Listen for the clearing of the current output cell\n",
       "var outputEl = gd.closest('.output');\n",
       "if (outputEl) {{\n",
       "    x.observe(outputEl, {childList: true});\n",
       "}}\n",
       "\n",
       "                        })\n",
       "                };\n",
       "                });\n",
       "            </script>\n",
       "        </div>"
      ]
     },
     "metadata": {},
     "output_type": "display_data"
    }
   ],
   "source": [
    "bar(tdf[tdf.authors.isin(topau)],\"paper_id\",\"authors\",xtitle=\"Publish Count\",colorby = \"topic\", aggregate = \"nunique\")"
   ]
  }
 ],
 "metadata": {
  "celltoolbar": "Slideshow",
  "hide_input": false,
  "kernelspec": {
   "display_name": "Python 3",
   "language": "python",
   "name": "python3"
  },
  "language_info": {
   "codemirror_mode": {
    "name": "ipython",
    "version": 3
   },
   "file_extension": ".py",
   "mimetype": "text/x-python",
   "name": "python",
   "nbconvert_exporter": "python",
   "pygments_lexer": "ipython3",
   "version": "3.7.6"
  },
  "toc": {
   "base_numbering": 1,
   "nav_menu": {},
   "number_sections": false,
   "sideBar": true,
   "skip_h1_title": false,
   "title_cell": "Table of Contents",
   "title_sidebar": "Contents",
   "toc_cell": false,
   "toc_position": {},
   "toc_section_display": true,
   "toc_window_display": true
  },
  "varInspector": {
   "cols": {
    "lenName": 16,
    "lenType": 16,
    "lenVar": 40
   },
   "kernels_config": {
    "python": {
     "delete_cmd_postfix": "",
     "delete_cmd_prefix": "del ",
     "library": "var_list.py",
     "varRefreshCmd": "print(var_dic_list())"
    },
    "r": {
     "delete_cmd_postfix": ") ",
     "delete_cmd_prefix": "rm(",
     "library": "var_list.r",
     "varRefreshCmd": "cat(var_dic_list()) "
    }
   },
   "types_to_exclude": [
    "module",
    "function",
    "builtin_function_or_method",
    "instance",
    "_Feature"
   ],
   "window_display": false
  }
 },
 "nbformat": 4,
 "nbformat_minor": 2
}
