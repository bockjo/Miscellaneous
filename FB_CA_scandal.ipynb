{
 "cells": [
  {
   "cell_type": "raw",
   "metadata": {
    "slideshow": {
     "slide_type": "notes"
    }
   },
   "source": [
    "<script>\n",
    "  function code_toggle() {\n",
    "    if (code_shown){\n",
    "      $('div.input').hide('500');\n",
    "      $('#toggleButton').val('Show Code')\n",
    "    } else {\n",
    "      $('div.input').show('500');\n",
    "      $('#toggleButton').val('Hide Code')\n",
    "    }\n",
    "    code_shown = !code_shown\n",
    "  }\n",
    "\n",
    "  $( document ).ready(function(){\n",
    "    code_shown=false;\n",
    "    $('div.input').hide()\n",
    "  });\n",
    "\n",
    "</script>"
   ]
  },
  {
   "cell_type": "raw",
   "metadata": {
    "slideshow": {
     "slide_type": "notes"
    }
   },
   "source": [
    "<script>\n",
    "\n",
    "window.onload=function(){Reveal.initialize({width:\"100%\",height:\"100%\"});}\n",
    "\n",
    "</script>"
   ]
  },
  {
   "cell_type": "markdown",
   "metadata": {
    "slideshow": {
     "slide_type": "skip"
    }
   },
   "source": [
    "# Query news and blog data"
   ]
  },
  {
   "cell_type": "code",
   "execution_count": 1,
   "metadata": {
    "slideshow": {
     "slide_type": "skip"
    }
   },
   "outputs": [],
   "source": [
    "import numpy as np\n",
    "\n",
    "#Get all country codes\n",
    "import pycountry\n",
    "iso = []\n",
    "name = []\n",
    "for e in list(pycountry.countries):\n",
    "    iso.append(e.alpha_2)\n",
    "    name.append(e.name)\n",
    "    \n",
    "name = np.array(name)\n",
    "iso = np.array(iso)\n",
    "iso = iso[np.argsort(name)]\n",
    "name = name[np.argsort(name)]\n",
    "\n",
    "countr = []\n",
    "for i,e in enumerate(name):\n",
    "    countr.append((e,iso[i]))"
   ]
  },
  {
   "cell_type": "code",
   "execution_count": 2,
   "metadata": {
    "scrolled": false,
    "slideshow": {
     "slide_type": "skip"
    }
   },
   "outputs": [
    {
     "data": {
      "application/vnd.jupyter.widget-view+json": {
       "model_id": "f302f6c74d294a7492da2c24582bb302",
       "version_major": 2,
       "version_minor": 0
      },
      "text/html": [
       "<p>Failed to display Jupyter Widget of type <code>Box</code>.</p>\n",
       "<p>\n",
       "  If you're reading this message in the Jupyter Notebook or JupyterLab Notebook, it may mean\n",
       "  that the widgets JavaScript is still loading. If this message persists, it\n",
       "  likely means that the widgets JavaScript library is either not installed or\n",
       "  not enabled. See the <a href=\"https://ipywidgets.readthedocs.io/en/stable/user_install.html\">Jupyter\n",
       "  Widgets Documentation</a> for setup instructions.\n",
       "</p>\n",
       "<p>\n",
       "  If you're reading this message in another frontend (for example, a static\n",
       "  rendering on GitHub or <a href=\"https://nbviewer.jupyter.org/\">NBViewer</a>),\n",
       "  it may mean that your frontend doesn't currently support widgets.\n",
       "</p>\n"
      ],
      "text/plain": [
       "Box(children=(Box(children=(Label(value='Webhose Token', layout=Layout(width='auto')), Textarea(value='76171c1e-faf9-4646-981e-10dda4eb680b')), layout=Layout(align_content='flex-start', display='flex', flex_flow='row', justify_content='space-between', width='auto')), Box(children=(Label(value='Main query (in brackets)', layout=Layout(width='auto')), Textarea(value='')), layout=Layout(align_content='flex-start', display='flex', flex_flow='row', justify_content='space-between', width='auto')), Box(children=(Label(value='Language', layout=Layout(width='auto')), Dropdown(options=('english', 'german'), value='english')), layout=Layout(align_content='flex-start', display='flex', flex_flow='row', justify_content='space-between', width='auto')), Box(children=(Label(value='Is first (Exclude comments)', layout=Layout(width='auto')), Checkbox(value=True)), layout=Layout(align_content='flex-start', display='flex', flex_flow='row', justify_content='space-between', width='auto')), Box(children=(Label(value='Performance score threshold (greater than x)', layout=Layout(width='auto')), FloatText(value=1.0)), layout=Layout(align_content='flex-start', display='flex', flex_flow='row', justify_content='space-between', width='auto')), Box(children=(Label(value='Domain Rank (Top x sites by monthly traffic)', layout=Layout(width='auto')), FloatText(value=10000.0)), layout=Layout(align_content='flex-start', display='flex', flex_flow='row', justify_content='space-between', width='auto')), Box(children=(Label(value='Published X days ago', layout=Layout(width='auto')), FloatText(value=30.0)), layout=Layout(align_content='flex-start', display='flex', flex_flow='row', justify_content='space-between', width='auto')), Box(children=(Label(value='Site type(s) (in brackets)', layout=Layout(width='auto')), Textarea(value='(site_type:news OR site_type:blogs)')), layout=Layout(align_content='flex-start', display='flex', flex_flow='row', justify_content='space-between', width='auto')), Box(children=(Label(value='Sort by', layout=Layout(width='auto')), Dropdown(options={'Published': 'published', 'Relevancy': 'relevancy', 'Crawl Date': 'crawled'}, value='published')), layout=Layout(align_content='flex-start', display='flex', flex_flow='row', justify_content='space-between', width='auto')), Box(children=(Label(value='All countries', layout=Layout(width='auto')), Checkbox(value=False)), layout=Layout(align_content='flex-start', display='flex', flex_flow='row', justify_content='space-between', width='auto')), Box(children=(Label(value='Country'), SelectMultiple(index=(233,), layout=Layout(display='flex', flex_flow='column'), options=(('Afghanistan', 'AF'), ('Albania', 'AL'), ('Algeria', 'DZ'), ('American Samoa', 'AS'), ('Andorra', 'AD'), ('Angola', 'AO'), ('Anguilla', 'AI'), ('Antarctica', 'AQ'), ('Antigua and Barbuda', 'AG'), ('Argentina', 'AR'), ('Armenia', 'AM'), ('Aruba', 'AW'), ('Australia', 'AU'), ('Austria', 'AT'), ('Azerbaijan', 'AZ'), ('Bahamas', 'BS'), ('Bahrain', 'BH'), ('Bangladesh', 'BD'), ('Barbados', 'BB'), ('Belarus', 'BY'), ('Belgium', 'BE'), ('Belize', 'BZ'), ('Benin', 'BJ'), ('Bermuda', 'BM'), ('Bhutan', 'BT'), ('Bolivia, Plurinational State of', 'BO'), ('Bonaire, Sint Eustatius and Saba', 'BQ'), ('Bosnia and Herzegovina', 'BA'), ('Botswana', 'BW'), ('Bouvet Island', 'BV'), ('Brazil', 'BR'), ('British Indian Ocean Territory', 'IO'), ('Brunei Darussalam', 'BN'), ('Bulgaria', 'BG'), ('Burkina Faso', 'BF'), ('Burundi', 'BI'), ('Cabo Verde', 'CV'), ('Cambodia', 'KH'), ('Cameroon', 'CM'), ('Canada', 'CA'), ('Cayman Islands', 'KY'), ('Central African Republic', 'CF'), ('Chad', 'TD'), ('Chile', 'CL'), ('China', 'CN'), ('Christmas Island', 'CX'), ('Cocos (Keeling) Islands', 'CC'), ('Colombia', 'CO'), ('Comoros', 'KM'), ('Congo', 'CG'), ('Congo, The Democratic Republic of the', 'CD'), ('Cook Islands', 'CK'), ('Costa Rica', 'CR'), ('Croatia', 'HR'), ('Cuba', 'CU'), ('Curaçao', 'CW'), ('Cyprus', 'CY'), ('Czechia', 'CZ'), (\"Côte d'Ivoire\", 'CI'), ('Denmark', 'DK'), ('Djibouti', 'DJ'), ('Dominica', 'DM'), ('Dominican Republic', 'DO'), ('Ecuador', 'EC'), ('Egypt', 'EG'), ('El Salvador', 'SV'), ('Equatorial Guinea', 'GQ'), ('Eritrea', 'ER'), ('Estonia', 'EE'), ('Ethiopia', 'ET'), ('Falkland Islands (Malvinas)', 'FK'), ('Faroe Islands', 'FO'), ('Fiji', 'FJ'), ('Finland', 'FI'), ('France', 'FR'), ('French Guiana', 'GF'), ('French Polynesia', 'PF'), ('French Southern Territories', 'TF'), ('Gabon', 'GA'), ('Gambia', 'GM'), ('Georgia', 'GE'), ('Germany', 'DE'), ('Ghana', 'GH'), ('Gibraltar', 'GI'), ('Greece', 'GR'), ('Greenland', 'GL'), ('Grenada', 'GD'), ('Guadeloupe', 'GP'), ('Guam', 'GU'), ('Guatemala', 'GT'), ('Guernsey', 'GG'), ('Guinea', 'GN'), ('Guinea-Bissau', 'GW'), ('Guyana', 'GY'), ('Haiti', 'HT'), ('Heard Island and McDonald Islands', 'HM'), ('Holy See (Vatican City State)', 'VA'), ('Honduras', 'HN'), ('Hong Kong', 'HK'), ('Hungary', 'HU'), ('Iceland', 'IS'), ('India', 'IN'), ('Indonesia', 'ID'), ('Iran, Islamic Republic of', 'IR'), ('Iraq', 'IQ'), ('Ireland', 'IE'), ('Isle of Man', 'IM'), ('Israel', 'IL'), ('Italy', 'IT'), ('Jamaica', 'JM'), ('Japan', 'JP'), ('Jersey', 'JE'), ('Jordan', 'JO'), ('Kazakhstan', 'KZ'), ('Kenya', 'KE'), ('Kiribati', 'KI'), (\"Korea, Democratic People's Republic of\", 'KP'), ('Korea, Republic of', 'KR'), ('Kuwait', 'KW'), ('Kyrgyzstan', 'KG'), (\"Lao People's Democratic Republic\", 'LA'), ('Latvia', 'LV'), ('Lebanon', 'LB'), ('Lesotho', 'LS'), ('Liberia', 'LR'), ('Libya', 'LY'), ('Liechtenstein', 'LI'), ('Lithuania', 'LT'), ('Luxembourg', 'LU'), ('Macao', 'MO'), ('Macedonia, Republic of', 'MK'), ('Madagascar', 'MG'), ('Malawi', 'MW'), ('Malaysia', 'MY'), ('Maldives', 'MV'), ('Mali', 'ML'), ('Malta', 'MT'), ('Marshall Islands', 'MH'), ('Martinique', 'MQ'), ('Mauritania', 'MR'), ('Mauritius', 'MU'), ('Mayotte', 'YT'), ('Mexico', 'MX'), ('Micronesia, Federated States of', 'FM'), ('Moldova, Republic of', 'MD'), ('Monaco', 'MC'), ('Mongolia', 'MN'), ('Montenegro', 'ME'), ('Montserrat', 'MS'), ('Morocco', 'MA'), ('Mozambique', 'MZ'), ('Myanmar', 'MM'), ('Namibia', 'NA'), ('Nauru', 'NR'), ('Nepal', 'NP'), ('Netherlands', 'NL'), ('New Caledonia', 'NC'), ('New Zealand', 'NZ'), ('Nicaragua', 'NI'), ('Niger', 'NE'), ('Nigeria', 'NG'), ('Niue', 'NU'), ('Norfolk Island', 'NF'), ('Northern Mariana Islands', 'MP'), ('Norway', 'NO'), ('Oman', 'OM'), ('Pakistan', 'PK'), ('Palau', 'PW'), ('Palestine, State of', 'PS'), ('Panama', 'PA'), ('Papua New Guinea', 'PG'), ('Paraguay', 'PY'), ('Peru', 'PE'), ('Philippines', 'PH'), ('Pitcairn', 'PN'), ('Poland', 'PL'), ('Portugal', 'PT'), ('Puerto Rico', 'PR'), ('Qatar', 'QA'), ('Romania', 'RO'), ('Russian Federation', 'RU'), ('Rwanda', 'RW'), ('Réunion', 'RE'), ('Saint Barthélemy', 'BL'), ('Saint Helena, Ascension and Tristan da Cunha', 'SH'), ('Saint Kitts and Nevis', 'KN'), ('Saint Lucia', 'LC'), ('Saint Martin (French part)', 'MF'), ('Saint Pierre and Miquelon', 'PM'), ('Saint Vincent and the Grenadines', 'VC'), ('Samoa', 'WS'), ('San Marino', 'SM'), ('Sao Tome and Principe', 'ST'), ('Saudi Arabia', 'SA'), ('Senegal', 'SN'), ('Serbia', 'RS'), ('Seychelles', 'SC'), ('Sierra Leone', 'SL'), ('Singapore', 'SG'), ('Sint Maarten (Dutch part)', 'SX'), ('Slovakia', 'SK'), ('Slovenia', 'SI'), ('Solomon Islands', 'SB'), ('Somalia', 'SO'), ('South Africa', 'ZA'), ('South Georgia and the South Sandwich Islands', 'GS'), ('South Sudan', 'SS'), ('Spain', 'ES'), ('Sri Lanka', 'LK'), ('Sudan', 'SD'), ('Suriname', 'SR'), ('Svalbard and Jan Mayen', 'SJ'), ('Swaziland', 'SZ'), ('Sweden', 'SE'), ('Switzerland', 'CH'), ('Syrian Arab Republic', 'SY'), ('Taiwan, Province of China', 'TW'), ('Tajikistan', 'TJ'), ('Tanzania, United Republic of', 'TZ'), ('Thailand', 'TH'), ('Timor-Leste', 'TL'), ('Togo', 'TG'), ('Tokelau', 'TK'), ('Tonga', 'TO'), ('Trinidad and Tobago', 'TT'), ('Tunisia', 'TN'), ('Turkey', 'TR'), ('Turkmenistan', 'TM'), ('Turks and Caicos Islands', 'TC'), ('Tuvalu', 'TV'), ('Uganda', 'UG'), ('Ukraine', 'UA'), ('United Arab Emirates', 'AE'), ('United Kingdom', 'GB'), ('United States', 'US'), ('United States Minor Outlying Islands', 'UM'), ('Uruguay', 'UY'), ('Uzbekistan', 'UZ'), ('Vanuatu', 'VU'), ('Venezuela, Bolivarian Republic of', 'VE'), ('Viet Nam', 'VN'), ('Virgin Islands, British', 'VG'), ('Virgin Islands, U.S.', 'VI'), ('Wallis and Futuna', 'WF'), ('Western Sahara', 'EH'), ('Yemen', 'YE'), ('Zambia', 'ZM'), ('Zimbabwe', 'ZW'), ('Åland Islands', 'AX')), value=('GB',))), layout=Layout(align_content='flex-start', display='flex', flex_flow='row', justify_content='space-between', width='auto')), Box(children=(Label(value='Other (thread.title or organization in brackets)', layout=Layout(width='auto')), Textarea(value='')), layout=Layout(align_content='flex-start', display='flex', flex_flow='row', justify_content='space-between', width='auto'))), layout=Layout(border='solid 1px', flex='flex-basis', flex_flow='column', height='auto', width='60%'))"
      ]
     },
     "metadata": {},
     "output_type": "display_data"
    }
   ],
   "source": [
    "from ipywidgets import Layout, Box, FloatText, Textarea, Dropdown, Label, Checkbox, SelectMultiple, Text, interact\n",
    "\n",
    "form_item_layout = Layout(\n",
    "    display='flex',\n",
    "    flex_flow='row',\n",
    "    justify_content='space-between',\n",
    "    align_content = \"flex-start\",\n",
    "    width = \"auto\"\n",
    ")\n",
    "\n",
    "form_items = [\n",
    "    Box([Label(value='Webhose Token',layout=Layout(width=\"auto\")), Textarea(value = \"76171c1e-faf9-4646-981e-10dda4eb680b\")], layout=form_item_layout),\n",
    "    Box([Label(value='Main query (in brackets)',layout=Layout(width=\"auto\")), Textarea()], layout=form_item_layout),\n",
    "    Box([Label(value='Language',layout=Layout(width=\"auto\")),\n",
    "         Dropdown(options=['english',\"german\"])], layout=form_item_layout),\n",
    "    Box([Label(value='Is first (Exclude comments)',layout=Layout(width=\"auto\")),\n",
    "         Checkbox(value=True)], layout=form_item_layout),\n",
    "    Box([Label(value='Performance score threshold (greater than x)',layout=Layout(width=\"auto\")),\n",
    "         FloatText(value = 1)], layout=form_item_layout),\n",
    "    Box([Label(value='Domain Rank (Top x sites by monthly traffic)',layout=Layout(width=\"auto\")),\n",
    "         FloatText(value = 10000)], layout=form_item_layout),\n",
    "     Box([Label(value='Published X days ago',layout=Layout(width=\"auto\")),\n",
    "         FloatText(value = 30)], layout=form_item_layout),\n",
    "    Box([Label(value='Site type(s) (in brackets)',layout=Layout(width=\"auto\")),\n",
    "         Textarea(value='(site_type:news OR site_type:blogs)')], layout=form_item_layout),\n",
    "    Box([Label(value='Sort by',layout=Layout(width=\"auto\")),\n",
    "         Dropdown(options={'Crawl Date': \"crawled\", 'Relevancy': \"relevancy\", 'Published': \"published\"})], layout=form_item_layout),\n",
    "    Box([Label(value='All countries',layout=Layout(width=\"auto\")),\n",
    "         Checkbox(value=False)], layout=form_item_layout),\n",
    "    Box([Label(value='Country'),\n",
    "         SelectMultiple(options=countr,value = [\"GB\"],layout=Layout(display=\"flex\", flex_flow='column'))], layout=form_item_layout),\n",
    "    Box([Label(value='Other (thread.title or organization in brackets)',layout=Layout(width=\"auto\")),\n",
    "         Textarea()], layout=form_item_layout)\n",
    "]\n",
    "\n",
    "form = Box(form_items, layout=Layout(\n",
    "    flex = \"flex-basis\",\n",
    "    flex_flow='column',\n",
    "    border='solid 1px',\n",
    "    width='60%',\n",
    "    height = \"auto\"\n",
    "))\n",
    "form"
   ]
  },
  {
   "cell_type": "code",
   "execution_count": null,
   "metadata": {
    "slideshow": {
     "slide_type": "skip"
    }
   },
   "outputs": [],
   "source": [
    "#Queries\n",
    "\"\"\"\n",
    "(electric car OR electric cars OR autonomous driving OR autonomous car OR connected car)\n",
    "\n",
    "((sport OR luxury) AND future AND (car sharing OR car rental OR car ownership OR car club OR car purchase OR car lease))\n",
    "\n",
    "((sport OR luxury) AND future AND (car OR vehicle) AND (rent OR rental OR lease OR leasing OR own OR buy OR purchase OR club OR subscription OR share OR sharing))\n",
    "\n",
    "\"\"\""
   ]
  },
  {
   "cell_type": "code",
   "execution_count": 20,
   "metadata": {
    "slideshow": {
     "slide_type": "skip"
    }
   },
   "outputs": [],
   "source": [
    "# Set up query with form inputs\n",
    "params = []\n",
    "for el in form.children:\n",
    "    params.append(el.children[1].value)\n",
    "    \n",
    "#Transform multi select countries\n",
    "if params[-3]:\n",
    "    params[-2]=\"\"\n",
    "else:    \n",
    "    repl = []\n",
    "    for i, c in enumerate(params[-2]):\n",
    "        repl.append(\"thread.country:\"+c)\n",
    "    if len(params[-2])>1:\n",
    "        params[-2] = \"(\"+\" OR \".join(repl)+\")\"\n",
    "    else: \n",
    "        params[-2] = repl[0]"
   ]
  },
  {
   "cell_type": "code",
   "execution_count": 21,
   "metadata": {
    "slideshow": {
     "slide_type": "skip"
    }
   },
   "outputs": [
    {
     "name": "stdout",
     "output_type": "stream",
     "text": [
      "Total number of documents:  993\n"
     ]
    }
   ],
   "source": [
    "#Build and run query\n",
    "import webhoseio\n",
    "import time\n",
    "import datetime\n",
    "\n",
    "webhoseio.config(token=params[0])\n",
    "query_params = {\"q\":params[1]+\" language:\"+params[2]+\" is_first:\"+str(params[3]).lower()+\" performance_score:>\"+str(int(params[4]))+\n",
    "                \" domain_rank:<\"+str(int(params[5]))+\" \"+params[7]+\" \"+params[10]+\" \"+params[11],\n",
    "               \"ts\":str(int(time.mktime((datetime.datetime.now() + datetime.timedelta(-params[6])).timetuple()) * 1000)),\n",
    "               \"sort\":params[8]}\n",
    "\n",
    "output = webhoseio.query(\"filterWebContent\", query_params)\n",
    "print(\"Total number of documents: \",output['totalResults'])"
   ]
  },
  {
   "cell_type": "code",
   "execution_count": 22,
   "metadata": {
    "slideshow": {
     "slide_type": "skip"
    }
   },
   "outputs": [],
   "source": [
    "import pandas as pd\n",
    "\n",
    "def get_list(obj,key):\n",
    "    l = []\n",
    "    for e in obj:\n",
    "        l.append(e[key])\n",
    "    return l\n",
    "\n",
    "data = []\n",
    "\n",
    "#Get all results to pandas dataframe\n",
    "while True:\n",
    "    \n",
    "    if len(output[\"posts\"]) != 0:\n",
    "        for post in output['posts']:\n",
    "            data.append({\n",
    "                \"entity_persons\":get_list(post[\"entities\"][\"persons\"],\"name\"),\n",
    "                \"entity_organizations\":get_list(post[\"entities\"][\"organizations\"],\"name\"),\n",
    "                \"entity_locations\":get_list(post[\"entities\"][\"locations\"],\"name\"),\n",
    "                \"uuid\":post[\"uuid\"],\n",
    "                \"author\":post[\"author\"],\n",
    "                \"url\":post[\"url\"],\n",
    "                \"language\":post[\"language\"],\n",
    "                \"title\":post[\"title\"],\n",
    "                \"highlightText\":post[\"highlightText\"],\n",
    "                \"text\":post[\"text\"],\n",
    "                \"publishedDate\":post[\"published\"],\n",
    "                \"crawledDate\":post[\"crawled\"],\n",
    "                \"fb_likes\":post[\"thread\"][\"social\"][\"facebook\"][\"likes\"],\n",
    "                \"fb_shares\":post[\"thread\"][\"social\"][\"facebook\"][\"shares\"],\n",
    "                \"linkedin_shares\":post[\"thread\"][\"social\"][\"linkedin\"][\"shares\"],\n",
    "                \"gplus_shares\":post[\"thread\"][\"social\"][\"gplus\"][\"shares\"],\n",
    "                \"source\":post[\"thread\"][\"site_full\"],\n",
    "                \"country\":post[\"thread\"][\"country\"],\n",
    "                \"performance_score\":post[\"thread\"][\"performance_score\"],\n",
    "                \"participants_counts\":post[\"thread\"][\"participants_count\"],\n",
    "                \"site_type\":post[\"thread\"][\"site_type\"]\n",
    "                \n",
    "            })\n",
    "    else:\n",
    "        break\n",
    "        \n",
    "    #Get next batch of data\n",
    "    time.sleep(30)\n",
    "    output = webhoseio.get_next()\n",
    "    \n",
    "data = pd.DataFrame.from_dict(data)\n",
    "data.crawledDate = pd.to_datetime(data.crawledDate).dt.date\n",
    "data.publishedDate = pd.to_datetime(data.publishedDate).dt.date"
   ]
  },
  {
   "cell_type": "code",
   "execution_count": 23,
   "metadata": {},
   "outputs": [],
   "source": [
    "#Save data\n",
    "data.to_csv(\"FBCA.csv\",header=True, index=False, encoding='utf-8',sep=\";\")"
   ]
  },
  {
   "cell_type": "code",
   "execution_count": 7,
   "metadata": {
    "slideshow": {
     "slide_type": "skip"
    }
   },
   "outputs": [
    {
     "data": {
      "text/plain": [
       "array(['www.spiegel.de', 'www.tagesschau.de', 'www.sueddeutsche.de',\n",
       "       'www.welt.de', 'www.t-online.de', 'web.de'], dtype=object)"
      ]
     },
     "execution_count": 7,
     "metadata": {},
     "output_type": "execute_result"
    }
   ],
   "source": [
    "#data[\"source\"].unique()"
   ]
  },
  {
   "cell_type": "markdown",
   "metadata": {
    "slideshow": {
     "slide_type": "skip"
    }
   },
   "source": [
    "# Run topic model"
   ]
  },
  {
   "cell_type": "code",
   "execution_count": 24,
   "metadata": {
    "slideshow": {
     "slide_type": "skip"
    }
   },
   "outputs": [
    {
     "name": "stderr",
     "output_type": "stream",
     "text": [
      "C:\\Users\\bockj\\Anaconda3\\lib\\site-packages\\gensim\\utils.py:1167: UserWarning: detected Windows; aliasing chunkize to chunkize_serial\n",
      "  warnings.warn(\"detected Windows; aliasing chunkize to chunkize_serial\")\n"
     ]
    }
   ],
   "source": [
    "import NewsTrends\n",
    "import pandas as pd\n",
    "import locale\n",
    "\n",
    "#locale.setlocale(locale.LC_ALL, 'deu_deu')\n",
    "%matplotlib inline\n",
    "\n",
    "data = pd.read_csv(\"FBCA.csv\",sep=\";\",encoding='utf-8')\n",
    "#data.date = pd.to_datetime(data.date,format=\"%d. %B %Y\")\n",
    "#data.shape"
   ]
  },
  {
   "cell_type": "code",
   "execution_count": 25,
   "metadata": {
    "scrolled": true,
    "slideshow": {
     "slide_type": "skip"
    }
   },
   "outputs": [
    {
     "name": "stdout",
     "output_type": "stream",
     "text": [
      "Train bigram model ...\n",
      "slew technically demanding requirement threaten fine_4 percent company annual_revenue infringement\n",
      "\n",
      "company example able provide european customer copy personal_datum circumstance delete behest\n",
      "\n",
      "report datum_breach 72_hour\n",
      "\n",
      "industry affected collect large_amount customer datum include technology company retailer healthcare provider insurer bank\n",
      "\n"
     ]
    }
   ],
   "source": [
    "t = NewsTrends.topicModel(data,\n",
    "                          key_idx=list(data.columns).index(\"uuid\"),\n",
    "                          text_idx=list(data.columns).index(\"text\"),\n",
    "                          lang=\"en\",random_state = 1,\n",
    "                          bigram = True)"
   ]
  },
  {
   "cell_type": "code",
   "execution_count": 35,
   "metadata": {
    "slideshow": {
     "slide_type": "skip"
    }
   },
   "outputs": [
    {
     "name": "stderr",
     "output_type": "stream",
     "text": [
      "INFO:gensim.corpora.dictionary:adding document #0 to Dictionary(0 unique tokens: [])\n",
      "INFO:gensim.corpora.dictionary:built Dictionary(23427 unique tokens: ['hope', 'noticeable', 'prior', 'bounty_program', 'aufschrei']...) from 993 documents (total 381721 corpus positions)\n",
      "INFO:gensim.corpora.dictionary:discarding 22417 tokens: [('=', 5), ('adequate', 5), ('administrative', 5), ('affected', 17), ('annual_revenue', 8), ('antonello', 1), ('assume', 41), ('bank', 42), ('behest', 1), ('binding', 3)]...\n",
      "INFO:gensim.corpora.dictionary:keeping 1010 tokens which were in no less than 49 and no more than 893 (=90.0%) documents\n",
      "INFO:gensim.corpora.dictionary:resulting dictionary: Dictionary(1010 unique tokens: ['hope', 'seek', 'politic', 'senate', 'brand']...)\n",
      "INFO:gensim.corpora.mmcorpus:storing corpus in Matrix Market format to Corpus.mm\n",
      "INFO:gensim.matutils:saving sparse matrix to Corpus.mm\n",
      "INFO:gensim.matutils:PROGRESS: saving document #0\n",
      "INFO:gensim.matutils:saved 993x1010 matrix, density=12.922% (129595/1002930)\n",
      "INFO:gensim.corpora.indexedcorpus:saving MmCorpus index to Corpus.mm.index\n",
      "INFO:gensim.corpora.indexedcorpus:loaded corpus index from Corpus.mm.index\n",
      "INFO:gensim.matutils:initializing corpus reader from Corpus.mm\n",
      "INFO:gensim.matutils:accepted corpus with 993 documents, 1010 features, 129595 non-zero entries\n"
     ]
    }
   ],
   "source": [
    "tok_dat = t.tokenize_docs(rmv_tokens=[\"'s\",\"$\",\"datum\"])\n",
    "corpus = t.get_bow(below = 0.05,above = 0.9)"
   ]
  },
  {
   "cell_type": "code",
   "execution_count": 31,
   "metadata": {
    "scrolled": true,
    "slideshow": {
     "slide_type": "skip"
    }
   },
   "outputs": [],
   "source": [
    "#k,results = t.LDA_tune_k(max_k=30,iterations=800)"
   ]
  },
  {
   "cell_type": "code",
   "execution_count": 40,
   "metadata": {
    "scrolled": true,
    "slideshow": {
     "slide_type": "skip"
    }
   },
   "outputs": [
    {
     "name": "stderr",
     "output_type": "stream",
     "text": [
      "INFO:lda:n_documents: 993\n",
      "INFO:lda:vocab_size: 1010\n",
      "INFO:lda:n_words: 223511\n",
      "INFO:lda:n_topics: 10\n",
      "INFO:lda:n_iter: 2000\n",
      "INFO:lda:<0> log likelihood: -2030080\n",
      "INFO:lda:<10> log likelihood: -1713924\n",
      "INFO:lda:<20> log likelihood: -1628746\n",
      "INFO:lda:<30> log likelihood: -1607131\n",
      "INFO:lda:<40> log likelihood: -1596198\n",
      "INFO:lda:<50> log likelihood: -1590720\n",
      "INFO:lda:<60> log likelihood: -1585232\n",
      "INFO:lda:<70> log likelihood: -1582408\n",
      "INFO:lda:<80> log likelihood: -1581090\n",
      "INFO:lda:<90> log likelihood: -1578091\n",
      "INFO:lda:<100> log likelihood: -1576910\n",
      "INFO:lda:<110> log likelihood: -1574997\n",
      "INFO:lda:<120> log likelihood: -1573595\n",
      "INFO:lda:<130> log likelihood: -1573440\n",
      "INFO:lda:<140> log likelihood: -1572567\n",
      "INFO:lda:<150> log likelihood: -1570469\n",
      "INFO:lda:<160> log likelihood: -1570448\n",
      "INFO:lda:<170> log likelihood: -1570284\n",
      "INFO:lda:<180> log likelihood: -1570385\n",
      "INFO:lda:<190> log likelihood: -1568732\n",
      "INFO:lda:<200> log likelihood: -1569916\n",
      "INFO:lda:<210> log likelihood: -1569930\n",
      "INFO:lda:<220> log likelihood: -1568546\n",
      "INFO:lda:<230> log likelihood: -1567509\n",
      "INFO:lda:<240> log likelihood: -1569018\n",
      "INFO:lda:<250> log likelihood: -1567744\n",
      "INFO:lda:<260> log likelihood: -1569277\n",
      "INFO:lda:<270> log likelihood: -1568179\n",
      "INFO:lda:<280> log likelihood: -1568167\n",
      "INFO:lda:<290> log likelihood: -1567185\n",
      "INFO:lda:<300> log likelihood: -1566778\n",
      "INFO:lda:<310> log likelihood: -1567638\n",
      "INFO:lda:<320> log likelihood: -1566581\n",
      "INFO:lda:<330> log likelihood: -1567757\n",
      "INFO:lda:<340> log likelihood: -1566092\n",
      "INFO:lda:<350> log likelihood: -1565482\n",
      "INFO:lda:<360> log likelihood: -1566150\n",
      "INFO:lda:<370> log likelihood: -1565615\n",
      "INFO:lda:<380> log likelihood: -1565722\n",
      "INFO:lda:<390> log likelihood: -1565475\n",
      "INFO:lda:<400> log likelihood: -1565819\n",
      "INFO:lda:<410> log likelihood: -1565003\n",
      "INFO:lda:<420> log likelihood: -1564821\n",
      "INFO:lda:<430> log likelihood: -1564888\n",
      "INFO:lda:<440> log likelihood: -1565182\n",
      "INFO:lda:<450> log likelihood: -1564765\n",
      "INFO:lda:<460> log likelihood: -1563817\n",
      "INFO:lda:<470> log likelihood: -1565137\n",
      "INFO:lda:<480> log likelihood: -1565108\n",
      "INFO:lda:<490> log likelihood: -1565017\n",
      "INFO:lda:<500> log likelihood: -1564932\n",
      "INFO:lda:<510> log likelihood: -1565458\n",
      "INFO:lda:<520> log likelihood: -1565765\n",
      "INFO:lda:<530> log likelihood: -1565034\n",
      "INFO:lda:<540> log likelihood: -1565948\n",
      "INFO:lda:<550> log likelihood: -1565815\n",
      "INFO:lda:<560> log likelihood: -1564892\n",
      "INFO:lda:<570> log likelihood: -1565518\n",
      "INFO:lda:<580> log likelihood: -1565095\n",
      "INFO:lda:<590> log likelihood: -1565278\n",
      "INFO:lda:<600> log likelihood: -1564668\n",
      "INFO:lda:<610> log likelihood: -1565635\n",
      "INFO:lda:<620> log likelihood: -1565088\n",
      "INFO:lda:<630> log likelihood: -1565138\n",
      "INFO:lda:<640> log likelihood: -1564760\n",
      "INFO:lda:<650> log likelihood: -1564622\n",
      "INFO:lda:<660> log likelihood: -1564300\n",
      "INFO:lda:<670> log likelihood: -1563942\n",
      "INFO:lda:<680> log likelihood: -1563408\n",
      "INFO:lda:<690> log likelihood: -1563059\n",
      "INFO:lda:<700> log likelihood: -1563467\n",
      "INFO:lda:<710> log likelihood: -1564101\n",
      "INFO:lda:<720> log likelihood: -1562935\n",
      "INFO:lda:<730> log likelihood: -1563794\n",
      "INFO:lda:<740> log likelihood: -1564644\n",
      "INFO:lda:<750> log likelihood: -1563416\n",
      "INFO:lda:<760> log likelihood: -1563741\n",
      "INFO:lda:<770> log likelihood: -1564100\n",
      "INFO:lda:<780> log likelihood: -1561991\n",
      "INFO:lda:<790> log likelihood: -1563487\n",
      "INFO:lda:<800> log likelihood: -1564306\n",
      "INFO:lda:<810> log likelihood: -1564826\n",
      "INFO:lda:<820> log likelihood: -1564958\n",
      "INFO:lda:<830> log likelihood: -1562937\n",
      "INFO:lda:<840> log likelihood: -1563822\n",
      "INFO:lda:<850> log likelihood: -1564989\n",
      "INFO:lda:<860> log likelihood: -1564786\n",
      "INFO:lda:<870> log likelihood: -1563494\n",
      "INFO:lda:<880> log likelihood: -1563181\n",
      "INFO:lda:<890> log likelihood: -1563139\n",
      "INFO:lda:<900> log likelihood: -1563672\n",
      "INFO:lda:<910> log likelihood: -1562976\n",
      "INFO:lda:<920> log likelihood: -1562899\n",
      "INFO:lda:<930> log likelihood: -1563474\n",
      "INFO:lda:<940> log likelihood: -1563515\n",
      "INFO:lda:<950> log likelihood: -1562745\n",
      "INFO:lda:<960> log likelihood: -1562776\n",
      "INFO:lda:<970> log likelihood: -1563047\n",
      "INFO:lda:<980> log likelihood: -1561967\n",
      "INFO:lda:<990> log likelihood: -1563104\n",
      "INFO:lda:<1000> log likelihood: -1561756\n",
      "INFO:lda:<1010> log likelihood: -1561997\n",
      "INFO:lda:<1020> log likelihood: -1563205\n",
      "INFO:lda:<1030> log likelihood: -1562235\n",
      "INFO:lda:<1040> log likelihood: -1561476\n",
      "INFO:lda:<1050> log likelihood: -1561766\n",
      "INFO:lda:<1060> log likelihood: -1561781\n",
      "INFO:lda:<1070> log likelihood: -1561805\n",
      "INFO:lda:<1080> log likelihood: -1560933\n",
      "INFO:lda:<1090> log likelihood: -1561357\n",
      "INFO:lda:<1100> log likelihood: -1561013\n",
      "INFO:lda:<1110> log likelihood: -1562199\n",
      "INFO:lda:<1120> log likelihood: -1562928\n",
      "INFO:lda:<1130> log likelihood: -1562085\n",
      "INFO:lda:<1140> log likelihood: -1561726\n",
      "INFO:lda:<1150> log likelihood: -1561409\n",
      "INFO:lda:<1160> log likelihood: -1561128\n",
      "INFO:lda:<1170> log likelihood: -1560723\n",
      "INFO:lda:<1180> log likelihood: -1561844\n",
      "INFO:lda:<1190> log likelihood: -1561426\n",
      "INFO:lda:<1200> log likelihood: -1561614\n",
      "INFO:lda:<1210> log likelihood: -1562273\n",
      "INFO:lda:<1220> log likelihood: -1561375\n",
      "INFO:lda:<1230> log likelihood: -1561105\n",
      "INFO:lda:<1240> log likelihood: -1561081\n",
      "INFO:lda:<1250> log likelihood: -1561772\n",
      "INFO:lda:<1260> log likelihood: -1562301\n",
      "INFO:lda:<1270> log likelihood: -1561414\n",
      "INFO:lda:<1280> log likelihood: -1561201\n",
      "INFO:lda:<1290> log likelihood: -1561252\n",
      "INFO:lda:<1300> log likelihood: -1561574\n",
      "INFO:lda:<1310> log likelihood: -1562422\n",
      "INFO:lda:<1320> log likelihood: -1561748\n",
      "INFO:lda:<1330> log likelihood: -1562356\n",
      "INFO:lda:<1340> log likelihood: -1562162\n",
      "INFO:lda:<1350> log likelihood: -1561705\n",
      "INFO:lda:<1360> log likelihood: -1561624\n",
      "INFO:lda:<1370> log likelihood: -1561722\n",
      "INFO:lda:<1380> log likelihood: -1561395\n",
      "INFO:lda:<1390> log likelihood: -1560582\n",
      "INFO:lda:<1400> log likelihood: -1560720\n",
      "INFO:lda:<1410> log likelihood: -1561696\n",
      "INFO:lda:<1420> log likelihood: -1561486\n",
      "INFO:lda:<1430> log likelihood: -1560715\n",
      "INFO:lda:<1440> log likelihood: -1561626\n",
      "INFO:lda:<1450> log likelihood: -1561077\n",
      "INFO:lda:<1460> log likelihood: -1561396\n",
      "INFO:lda:<1470> log likelihood: -1561392\n",
      "INFO:lda:<1480> log likelihood: -1561290\n",
      "INFO:lda:<1490> log likelihood: -1561520\n",
      "INFO:lda:<1500> log likelihood: -1561707\n",
      "INFO:lda:<1510> log likelihood: -1561894\n",
      "INFO:lda:<1520> log likelihood: -1561737\n",
      "INFO:lda:<1530> log likelihood: -1562560\n",
      "INFO:lda:<1540> log likelihood: -1562142\n",
      "INFO:lda:<1550> log likelihood: -1561830\n",
      "INFO:lda:<1560> log likelihood: -1562031\n",
      "INFO:lda:<1570> log likelihood: -1561585\n",
      "INFO:lda:<1580> log likelihood: -1562088\n",
      "INFO:lda:<1590> log likelihood: -1561300\n",
      "INFO:lda:<1600> log likelihood: -1561265\n",
      "INFO:lda:<1610> log likelihood: -1561434\n",
      "INFO:lda:<1620> log likelihood: -1561649\n",
      "INFO:lda:<1630> log likelihood: -1561643\n",
      "INFO:lda:<1640> log likelihood: -1561455\n",
      "INFO:lda:<1650> log likelihood: -1561244\n",
      "INFO:lda:<1660> log likelihood: -1562163\n",
      "INFO:lda:<1670> log likelihood: -1561773\n",
      "INFO:lda:<1680> log likelihood: -1562117\n",
      "INFO:lda:<1690> log likelihood: -1560521\n",
      "INFO:lda:<1700> log likelihood: -1561646\n",
      "INFO:lda:<1710> log likelihood: -1562106\n",
      "INFO:lda:<1720> log likelihood: -1561781\n",
      "INFO:lda:<1730> log likelihood: -1561282\n",
      "INFO:lda:<1740> log likelihood: -1561379\n",
      "INFO:lda:<1750> log likelihood: -1560705\n",
      "INFO:lda:<1760> log likelihood: -1560740\n",
      "INFO:lda:<1770> log likelihood: -1561207\n",
      "INFO:lda:<1780> log likelihood: -1560959\n",
      "INFO:lda:<1790> log likelihood: -1560721\n",
      "INFO:lda:<1800> log likelihood: -1560908\n",
      "INFO:lda:<1810> log likelihood: -1561849\n",
      "INFO:lda:<1820> log likelihood: -1562599\n",
      "INFO:lda:<1830> log likelihood: -1562113\n",
      "INFO:lda:<1840> log likelihood: -1561540\n",
      "INFO:lda:<1850> log likelihood: -1561799\n",
      "INFO:lda:<1860> log likelihood: -1561000\n",
      "INFO:lda:<1870> log likelihood: -1560568\n",
      "INFO:lda:<1880> log likelihood: -1560283\n",
      "INFO:lda:<1890> log likelihood: -1560784\n",
      "INFO:lda:<1900> log likelihood: -1561052\n",
      "INFO:lda:<1910> log likelihood: -1560596\n",
      "INFO:lda:<1920> log likelihood: -1560545\n",
      "INFO:lda:<1930> log likelihood: -1560667\n",
      "INFO:lda:<1940> log likelihood: -1560986\n",
      "INFO:lda:<1950> log likelihood: -1561022\n",
      "INFO:lda:<1960> log likelihood: -1561481\n",
      "INFO:lda:<1970> log likelihood: -1560031\n",
      "INFO:lda:<1980> log likelihood: -1560422\n"
     ]
    },
    {
     "name": "stderr",
     "output_type": "stream",
     "text": [
      "INFO:lda:<1990> log likelihood: -1561153\n",
      "INFO:lda:<1999> log likelihood: -1561541\n"
     ]
    }
   ],
   "source": [
    "#Train topic model\n",
    "LDA = t.fit_LDA(10,iterations=2000)"
   ]
  },
  {
   "cell_type": "code",
   "execution_count": 69,
   "metadata": {
    "slideshow": {
     "slide_type": "skip"
    }
   },
   "outputs": [
    {
     "data": {
      "text/html": [
       "<ul>\n",
       "<li><strong>Topic 0:</strong> user post people new app page whatsapp account site feature friend share company zuckerberg profile report include instagram announce</li>\n",
       "<li><strong>Topic 1:</strong> group political social_medium platform include government public issue work party country share information news publish base election find read</li>\n",
       "<li><strong>Topic 2:</strong> people think way know thing work good like want right time ask question tell happen point understand change problem</li>\n",
       "<li><strong>Topic 3:</strong> information user ad collect use google people privacy company track advertiser like data know service control share app advertising</li>\n",
       "<li><strong>Topic 4:</strong> company user percent year share twitter market report apple product pay business investor month accord stock service big growth</li>\n",
       "<li><strong>Topic 5:</strong> people like time year company know new want world work thing big life internet day look old live good</li>\n",
       "<li><strong>Topic 6:</strong> zuckerberg mark_zuckerberg user company senator cambridge_analytica hearing question ask tuesday april congress ceo_mark ceo privacy lawmaker testimony capitol_hill share</li>\n",
       "<li><strong>Topic 7:</strong> trump campaign election committee cambridge_analytica report leave investigation trump_campaign office tell president eu russia release question u.s. come statement</li>\n",
       "<li><strong>Topic 8:</strong> cambridge_analytica company user information kogan data app firm people access collect share aleksandr_kogan friend harvest mr_zuckerberg wylie use profile</li>\n",
       "<li><strong>Topic 9:</strong> company user privacy new regulation change law mr._zuckerberg data require consumer rule technology europe u.s. firm online personal_information lawmaker</li>\n",
       "</ul>\n"
      ],
      "text/plain": [
       "'* **Topic 0:** user post people new app page whatsapp account site feature friend share company zuckerberg profile report include instagram announce\\n* **Topic 1:** group political social_medium platform include government public issue work party country share information news publish base election find read\\n* **Topic 2:** people think way know thing work good like want right time ask question tell happen point understand change problem\\n* **Topic 3:** information user ad collect use google people privacy company track advertiser like data know service control share app advertising\\n* **Topic 4:** company user percent year share twitter market report apple product pay business investor month accord stock service big growth\\n* **Topic 5:** people like time year company know new want world work thing big life internet day look old live good\\n* **Topic 6:** zuckerberg mark_zuckerberg user company senator cambridge_analytica hearing question ask tuesday april congress ceo_mark ceo privacy lawmaker testimony capitol_hill share\\n* **Topic 7:** trump campaign election committee cambridge_analytica report leave investigation trump_campaign office tell president eu russia release question u.s. come statement\\n* **Topic 8:** cambridge_analytica company user information kogan data app firm people access collect share aleksandr_kogan friend harvest mr_zuckerberg wylie use profile\\n* **Topic 9:** company user privacy new regulation change law mr._zuckerberg data require consumer rule technology europe u.s. firm online personal_information lawmaker\\n'"
      ]
     },
     "execution_count": 69,
     "metadata": {},
     "output_type": "execute_result"
    }
   ],
   "source": [
    "#Inspect topic results\n",
    "topics = t.inspect_topics(n_top_words=20)\n",
    "\n",
    "result = ''\n",
    "for i, topic_words in enumerate(topics):\n",
    "    result += '* **Topic {}:** {}\\n'.format(i, ' '.join(topic_words))\n",
    "NewsTrends.MD(result)"
   ]
  },
  {
   "cell_type": "code",
   "execution_count": 70,
   "metadata": {
    "slideshow": {
     "slide_type": "skip"
    }
   },
   "outputs": [
    {
     "data": {
      "text/plain": [
       "10"
      ]
     },
     "execution_count": 70,
     "metadata": {},
     "output_type": "execute_result"
    }
   ],
   "source": [
    "topics = [[\"new app and site features\"],\n",
    "          [\"politics and social media issue\"],\n",
    "          [\"people ask questions, understand problems\"],\n",
    "          [\"private data collection by advertisers & tech giants\"],\n",
    "          [\"stock price, investors, twitter, apple\"],\n",
    "          [\"new internet world\"],\n",
    "          [\"Zuckerberg congress hearing\"],\n",
    "          [\"Trump campaign investigation, Cambridge Analytica, Russia\"],\n",
    "          [\"Cambridge Analytica company, Aleksandr Kogan\"],\n",
    "          [\"New data privacy regulation\"],\n",
    "          \n",
    "         ]\n",
    "len(topics)"
   ]
  },
  {
   "cell_type": "code",
   "execution_count": null,
   "metadata": {},
   "outputs": [],
   "source": [
    "# Print urls most representative of topic"
   ]
  },
  {
   "cell_type": "code",
   "execution_count": 71,
   "metadata": {
    "slideshow": {
     "slide_type": "skip"
    }
   },
   "outputs": [],
   "source": [
    "doctopics = t.get_doc_topic(topics)\n",
    "t.generate_network(node_attr=[ u'country', u'publishedDate',u'fb_likes', u'fb_shares',u'url',u\"site_type\",\"source\"],\n",
    "                  node_label=\"title\", similarity_cutoff = 0.8,\n",
    "                 similarity_measure = \"correlation\")"
   ]
  },
  {
   "cell_type": "code",
   "execution_count": 9,
   "metadata": {
    "slideshow": {
     "slide_type": "skip"
    }
   },
   "outputs": [],
   "source": [
    "#doctopics = t.get_doc_topic(topics)\n",
    "#t.generate_network(node_attr=[ u'title',u'location'],\n",
    " #                 node_label=\"title\", similarity_cutoff = 0.9,\n",
    "  #               similarity_measure = \"correlation\")"
   ]
  },
  {
   "cell_type": "markdown",
   "metadata": {
    "slideshow": {
     "slide_type": "slide"
    }
   },
   "source": [
    "# In the news: The Cambridge Analytica data scandal"
   ]
  },
  {
   "cell_type": "markdown",
   "metadata": {
    "slideshow": {
     "slide_type": "slide"
    }
   },
   "source": [
    "## Executive Summary\n",
    "\n",
    "* By using intelligent text processing and learning directly from the textual context, the following analysis finds meaningful connections and relationships in a large corpus of unstructured data.\n",
    "\n",
    "* The analysis of news articles related to the Facebook and Cambridge Analytica data scandal reveals two large topic clusters:\n",
    "    1) Zuckerberg's congress hearings (Global attention)\n",
    "    2) The ongoing investigation of the Trump campaign and connections to Cambridge Analytica (Most attention in the U.S.)\n",
    "* However, in most recent days stories around new privacy features in Facebook apps have started to dominate\n",
    "* Finally, news articles focused on the topic of data privacy or the Trump campaign investigation are most heavily shared in social media"
   ]
  },
  {
   "cell_type": "markdown",
   "metadata": {
    "slideshow": {
     "slide_type": "slide"
    }
   },
   "source": [
    "## Data Summary"
   ]
  },
  {
   "cell_type": "code",
   "execution_count": 48,
   "metadata": {
    "slideshow": {
     "slide_type": "fragment"
    }
   },
   "outputs": [
    {
     "name": "stdout",
     "output_type": "stream",
     "text": [
      "The data set contains 993 stories.\n",
      "\n",
      "The date range is 2018-04-09 to 2018-05-08\n",
      "\n",
      "Top sources include:\n",
      "\n",
      "1 www.theguardian.com\n",
      "2 www.businessinsider.com\n",
      "3 www.theverge.com\n",
      "4 www.cbc.ca\n",
      "5 www.cnet.com\n"
     ]
    }
   ],
   "source": [
    "import pprint\n",
    "print(\"The data set contains {} stories.\".format(data.shape[0]))\n",
    "print()\n",
    "print(\"The date range is {} to {}\".format(data.publishedDate.min(),data.publishedDate.max()))\n",
    "print()\n",
    "print(\"Top sources include:\")\n",
    "print()\n",
    "for a, b in enumerate(data.groupby(\"source\")[\"uuid\"].agg(\"count\").sort_values(ascending=False)[0:5].keys(), 1):\n",
    "    print('{} {}'.format(a, b))"
   ]
  },
  {
   "cell_type": "code",
   "execution_count": 49,
   "metadata": {
    "slideshow": {
     "slide_type": "skip"
    }
   },
   "outputs": [
    {
     "data": {
      "application/javascript": [
       "window.genUID = function() {\n",
       "    return 'xxxxxxxx-xxxx-4xxx-yxxx-xxxxxxxxxxxx'.replace(/[xy]/g, function(c) {\n",
       "        var r = Math.random()*16|0, v = c == 'x' ? r : (r&0x3|0x8);\n",
       "        return v.toString(16);\n",
       "    });\n",
       "};\n",
       "\n",
       "\n",
       "define('graphWidget', [\"@jupyter-widgets/base\"], function (widget) {\n",
       "\n",
       "    var GraphView = widget.DOMWidgetView.extend({\n",
       "        render: function(){\n",
       "            var that = this;\n",
       "\n",
       "            var graphId = window.genUID();\n",
       "            var loadingId = 'loading-'+graphId;\n",
       "\n",
       "\n",
       "            var _graph_url = that.model.get('_graph_url');\n",
       "\n",
       "            // variable plotlyDomain in the case of enterprise\n",
       "            var url_parts = _graph_url.split('/');\n",
       "            var plotlyDomain = url_parts[0] + '//' + url_parts[2];\n",
       "\n",
       "            if(!('plotlyDomains' in window)){\n",
       "                window.plotlyDomains = {};\n",
       "            }\n",
       "            window.plotlyDomains[graphId] = plotlyDomain;\n",
       "\n",
       "            // Place IFrame in output cell div `$el`\n",
       "            that.$el.css('width', '100%');\n",
       "            that.$graph = $(['<iframe id=\"'+graphId+'\"',\n",
       "                             'src=\"'+_graph_url+'.embed\"',\n",
       "                             'seamless',\n",
       "                             'style=\"border: none;\"',\n",
       "                             'width=\"100%\"',\n",
       "                             'height=\"600\">',\n",
       "                             '</iframe>'].join(' '));\n",
       "            that.$graph.appendTo(that.$el);\n",
       "\n",
       "            that.$loading = $('<div id=\"'+loadingId+'\">Initializing...</div>')\n",
       "                            .appendTo(that.$el);\n",
       "\n",
       "            // for some reason the 'width' is being changed in IPython 3.0.0\n",
       "            // for the containing `div` element. There's a flicker here, but\n",
       "            // I was unable to fix it otherwise.\n",
       "            setTimeout(function ()  {\n",
       "                if (IPYTHON_VERSION === '3') {\n",
       "                    $('#' + graphId)[0].parentElement.style.width = '100%';\n",
       "                }\n",
       "            }, 500);\n",
       "\n",
       "            // initialize communication with the iframe\n",
       "            if(!('pingers' in window)){\n",
       "                window.pingers = {};\n",
       "            }\n",
       "\n",
       "            window.pingers[graphId] = setInterval(function() {\n",
       "                that.graphContentWindow = $('#'+graphId)[0].contentWindow;\n",
       "                that.graphContentWindow.postMessage({task: 'ping'}, plotlyDomain);\n",
       "            }, 200);\n",
       "\n",
       "            // Assign a message listener to the 'message' events\n",
       "            // from iframe's postMessage protocol.\n",
       "            // Filter the messages by iframe src so that the right message\n",
       "            // gets passed to the right widget\n",
       "            if(!('messageListeners' in window)){\n",
       "                 window.messageListeners = {};\n",
       "            }\n",
       "\n",
       "            window.messageListeners[graphId] = function(e) {\n",
       "                if(_graph_url.indexOf(e.origin)>-1) {\n",
       "                    var frame = document.getElementById(graphId);\n",
       "\n",
       "                    if(frame === null){\n",
       "                        // frame doesn't exist in the dom anymore, clean up it's old event listener\n",
       "                        window.removeEventListener('message', window.messageListeners[graphId]);\n",
       "                        clearInterval(window.pingers[graphId]);\n",
       "                    } else if(frame.contentWindow === e.source) {\n",
       "                        // TODO: Stop event propagation, so each frame doesn't listen and filter\n",
       "                        var frameContentWindow = $('#'+graphId)[0].contentWindow;\n",
       "                        var message = e.data;\n",
       "\n",
       "                        if('pong' in message && message.pong) {\n",
       "                            $('#loading-'+graphId).hide();\n",
       "                            clearInterval(window.pingers[graphId]);\n",
       "                            that.send({event: 'pong', graphId: graphId});\n",
       "                        } else if (message.type==='hover' ||\n",
       "                                   message.type==='zoom'  ||\n",
       "                                   message.type==='click' ||\n",
       "                                   message.type==='unhover') {\n",
       "\n",
       "                            // click and hover events contain all of the data in the traces,\n",
       "                            // which can be a very large object and may take a ton of time\n",
       "                            // to pass to the python backend. Strip out the data, and require\n",
       "                            // the user to call get_figure if they need trace information\n",
       "                            if(message.type !== 'zoom') {\n",
       "                                for(var i in message.points) {\n",
       "                                    delete message.points[i].data;\n",
       "                                    delete message.points[i].fullData;\n",
       "                                }\n",
       "                            }\n",
       "                            that.send({event: message.type, message: message, graphId: graphId});\n",
       "                        } else if (message.task === 'getAttributes') {\n",
       "                            that.send({event: 'getAttributes', response: message.response});\n",
       "                        }\n",
       "                    }\n",
       "                }\n",
       "            };\n",
       "\n",
       "            window.removeEventListener('message', window.messageListeners[graphId]);\n",
       "            window.addEventListener('message', window.messageListeners[graphId]);\n",
       "\n",
       "        },\n",
       "\n",
       "        update: function() {\n",
       "            // Listen for messages from the graph widget in python\n",
       "            var jmessage = this.model.get('_message');\n",
       "            var message = JSON.parse(jmessage);\n",
       "\n",
       "            // check for duplicate messages\n",
       "            if(!('messageIds' in window)){\n",
       "                window.messageIds = {};\n",
       "            }\n",
       "\n",
       "            if(!(message.uid in window.messageIds)){\n",
       "                // message hasn't been received yet, do stuff\n",
       "                window.messageIds[message.uid] = true;\n",
       "\n",
       "                if (message.fadeTo) {\n",
       "                    this.fadeTo(message);\n",
       "                } else {\n",
       "                    var plot = $('#' + message.graphId)[0].contentWindow;\n",
       "                    plot.postMessage(message, window.plotlyDomains[message.graphId]);\n",
       "                }\n",
       "            }\n",
       "\n",
       "            return GraphView.__super__.update.apply(this);\n",
       "        },\n",
       "\n",
       "        /**\n",
       "         * Wrapper for jquery's `fadeTo` function.\n",
       "         *\n",
       "         * @param message Contains the id we need to find the element.\n",
       "         */\n",
       "        fadeTo: function (message) {\n",
       "            var plot = $('#' + message.graphId);\n",
       "            plot.fadeTo(message.duration, message.opacity);\n",
       "        }\n",
       "    });\n",
       "\n",
       "    // Register the GraphView with the widget manager.\n",
       "    return {\n",
       "        GraphView: GraphView\n",
       "    }\n",
       "\n",
       "});\n",
       "\n",
       "//@ sourceURL=graphWidget.js\n"
      ],
      "text/plain": [
       "<IPython.core.display.Javascript object>"
      ]
     },
     "metadata": {},
     "output_type": "display_data"
    },
    {
     "data": {
      "text/html": [
       "<script>requirejs.config({paths: { 'plotly': ['https://cdn.plot.ly/plotly-latest.min']},});if(!window.Plotly) {{require(['plotly'],function(plotly) {window.Plotly=plotly;});}}</script>"
      ],
      "text/vnd.plotly.v1+html": [
       "<script>requirejs.config({paths: { 'plotly': ['https://cdn.plot.ly/plotly-latest.min']},});if(!window.Plotly) {{require(['plotly'],function(plotly) {window.Plotly=plotly;});}}</script>"
      ]
     },
     "metadata": {},
     "output_type": "display_data"
    }
   ],
   "source": [
    "#Plotly\n",
    "import numpy as np\n",
    "import plotly\n",
    "import plotly.plotly as py\n",
    "import plotly.graph_objs as go\n",
    "from ipywidgets import widgets\n",
    "from plotly.widgets import GraphWidget\n",
    "\n",
    "plotly.offline.init_notebook_mode(connected=True)\n",
    "plotly.tools.set_credentials_file(username='bockjohannes@gmx.de', api_key='U8wOvUmXSdm9E9IB1l47')"
   ]
  },
  {
   "cell_type": "markdown",
   "metadata": {
    "slideshow": {
     "slide_type": "slide"
    }
   },
   "source": [
    "## Document Analysis\n",
    "\n",
    "*Note: If the following plots are not displayed nicely, hit refresh and wait until fully loaded.*"
   ]
  },
  {
   "cell_type": "code",
   "execution_count": 72,
   "metadata": {},
   "outputs": [],
   "source": [
    "import os\n",
    "from shutil import copyfile\n",
    "\n",
    "# Move templates\n",
    "source = \"01_Vorlage/\"\n",
    "dst = \"graph/network/\"\n",
    "\n",
    "for f in [\"index.html\",\"css/style.css\",\"js/main.js\",\"js/sigma/sigma.parseJson.js\"]:\n",
    "    copyfile(source+f, dst+f)\n"
   ]
  },
  {
   "cell_type": "markdown",
   "metadata": {
    "slideshow": {
     "slide_type": "slide"
    }
   },
   "source": [
    "### The discussion is dominated by two distinct clusters, namely 1) the congress hearings of Zuckerberg and 2) the ongoing investigation of the Trump campaign ([HowTo](http://nbviewer.jupyter.org/github/bockjo/Udacity_portfolio/blob/master/networks_how_to.png))."
   ]
  },
  {
   "cell_type": "code",
   "execution_count": 73,
   "metadata": {
    "scrolled": false,
    "slideshow": {
     "slide_type": "fragment"
    }
   },
   "outputs": [
    {
     "data": {
      "text/html": [
       "<iframe src=\"graph/network/index.html\" width=\"90%\" height=\"520\" seamless>Netzwerk kann nicht angezeigt werden.</iframe>"
      ],
      "text/plain": [
       "<IPython.core.display.HTML object>"
      ]
     },
     "execution_count": 73,
     "metadata": {},
     "output_type": "execute_result"
    }
   ],
   "source": [
    "from IPython.core.display import HTML\n",
    "\n",
    "HTML('<iframe src=\"graph/network/index.html\" width=\"90%\" height=\"520\" seamless>Netzwerk kann nicht angezeigt werden.</iframe>')"
   ]
  },
  {
   "cell_type": "markdown",
   "metadata": {
    "slideshow": {
     "slide_type": "skip"
    }
   },
   "source": [
    "## Topics over time"
   ]
  },
  {
   "cell_type": "markdown",
   "metadata": {
    "slideshow": {
     "slide_type": "slide"
    }
   },
   "source": [
    "### In week 15 the news coverage focused on Zuckerberg's congress hearings, but shifted to new apps such as a Facebook dating app and privacy features during week 18."
   ]
  },
  {
   "cell_type": "code",
   "execution_count": 74,
   "metadata": {
    "slideshow": {
     "slide_type": "fragment"
    }
   },
   "outputs": [
    {
     "data": {
      "text/html": [
       "<iframe id=\"igraph\" scrolling=\"no\" style=\"border:none;\" seamless=\"seamless\" src=\"https://plot.ly/~bockjo/58.embed\" height=\"525px\" width=\"100%\"></iframe>"
      ],
      "text/plain": [
       "<plotly.tools.PlotlyDisplay object>"
      ]
     },
     "execution_count": 74,
     "metadata": {},
     "output_type": "execute_result"
    }
   ],
   "source": [
    "# generate a function to handle changes in the widget\n",
    "def timeline(y,date_col,colorby,aggregate=\"nunique\",timeinterval=None):\n",
    "\n",
    "    plot_dat = t.df.copy()\n",
    "    plot_dat[date_col] = pd.to_datetime(plot_dat[date_col]).dt.week\n",
    "        \n",
    "    plot_dat = plot_dat.groupby([date_col,colorby])[y].agg(aggregate)\n",
    "    dat = plot_dat.reset_index()\n",
    "    \n",
    "    dataset = []\n",
    "    for gr in dat[colorby].unique():\n",
    "        dataset.append(go.Bar(\n",
    "        x=dat[dat[colorby]==gr][date_col],\n",
    "        y=dat[dat[colorby]==gr][y],\n",
    "        name=gr\n",
    "    ))\n",
    "\n",
    "    layout = go.Layout(\n",
    "        autosize=True,\n",
    "        barmode='stack',\n",
    "        showlegend = True,\n",
    "        legend=dict(orientation=\"h\",x=0.1,y=1.5),\n",
    "        yaxis = dict(title = y+\" (\"+aggregate+\")\"),\n",
    "        xaxis = dict(title=\"Week number\")\n",
    "    )\n",
    "    \n",
    "    \n",
    "    fig = go.Figure(data=dataset, layout=layout)\n",
    "    return py.iplot(fig, filename='stacked-bar')\n",
    "\n",
    "timeline(y=\"uuid\", date_col = 'publishedDate',colorby=\"topic_terms\",aggregate=\"nunique\")"
   ]
  },
  {
   "cell_type": "markdown",
   "metadata": {
    "heading_collapsed": true,
    "slideshow": {
     "slide_type": "skip"
    }
   },
   "source": [
    "## Histogram"
   ]
  },
  {
   "cell_type": "markdown",
   "metadata": {
    "heading_collapsed": true,
    "hidden": true,
    "slideshow": {
     "slide_type": "skip"
    }
   },
   "source": [
    "### Especially stories of hackers exploiting bitcoin's anonymity to blackmail their victims were shared heavily on Facebook."
   ]
  },
  {
   "cell_type": "code",
   "execution_count": 81,
   "metadata": {
    "hidden": true,
    "scrolled": false,
    "slideshow": {
     "slide_type": "skip"
    }
   },
   "outputs": [
    {
     "data": {
      "text/html": [
       "<iframe id=\"igraph\" scrolling=\"no\" style=\"border:none;\" seamless=\"seamless\" src=\"https://plot.ly/~bockjo/64.embed\" height=\"525px\" width=\"100%\"></iframe>"
      ],
      "text/plain": [
       "<plotly.tools.PlotlyDisplay object>"
      ]
     },
     "execution_count": 81,
     "metadata": {},
     "output_type": "execute_result"
    }
   ],
   "source": [
    "# generate a function to handle changes in the widget\n",
    "def hist(x,colorby=\"topic_terms\",logx = False):\n",
    "\n",
    "    plot_dat = t.df.copy()\n",
    "    \n",
    "    if logx:\n",
    "        plot_dat[x]=np.log(plot_dat[x])\n",
    "        #typ = 'log'\n",
    "    #else:\n",
    "        #typ=\"normal\"\n",
    "    data = []\n",
    "    for gr in plot_dat[colorby].unique():\n",
    "        data.append(go.Histogram(\n",
    "            x=plot_dat.loc[plot_dat[colorby]==gr,x],\n",
    "            name=gr\n",
    "            \n",
    "    ))\n",
    "\n",
    "    layout = go.Layout(barmode='stack',legend=dict(orientation=\"h\",x=0.1,y=1.5),\n",
    "                       autosize=True,\n",
    "                #width=800,\n",
    "                #height=550,\n",
    "                       xaxis=dict(title=x,type=\"normal\",autorange=True,\n",
    "                                 exponentformat= \"e\" if logx else \"none\"),\n",
    "                      yaxis = dict(title=\"count\"))\n",
    "    fig = go.Figure(data=data, layout=layout)\n",
    "\n",
    "    \n",
    "    return py.iplot(fig, filename='stacked histogram')\n",
    "\n",
    "hist(x='fb_shares',colorby=\"topic_terms\",logx=True)"
   ]
  },
  {
   "cell_type": "markdown",
   "metadata": {
    "slideshow": {
     "slide_type": "skip"
    }
   },
   "source": [
    "## Bar Chart"
   ]
  },
  {
   "cell_type": "markdown",
   "metadata": {
    "slideshow": {
     "slide_type": "slide"
    }
   },
   "source": [
    "### In the U.S. published stories dominated social media activity across all topics, even though the Zuckerberg congress hearings were covered and liked more internationally. When ignoring the U.S., it stands out that especially Indian news on the congress hearings were liked heavily."
   ]
  },
  {
   "cell_type": "code",
   "execution_count": 91,
   "metadata": {
    "slideshow": {
     "slide_type": "fragment"
    }
   },
   "outputs": [
    {
     "data": {
      "text/html": [
       "<iframe id=\"igraph\" scrolling=\"no\" style=\"border:none;\" seamless=\"seamless\" src=\"https://plot.ly/~bockjo/60.embed\" height=\"550px\" width=\"800px\"></iframe>"
      ],
      "text/plain": [
       "<plotly.tools.PlotlyDisplay object>"
      ]
     },
     "execution_count": 91,
     "metadata": {},
     "output_type": "execute_result"
    }
   ],
   "source": [
    "def bar(x,groupby,xtitle=\"\",colorby = None, aggregate = \"sum\"):\n",
    "    plot_dat = t.df.copy()\n",
    "    \n",
    "    if colorby == None:\n",
    "        plot_dat = plot_dat.groupby(groupby)[x].agg(aggregate)\n",
    "        data =[\n",
    "            go.Bar(\n",
    "            y=plot_dat.index.values,\n",
    "            x=plot_dat.values,\n",
    "            orientation = 'h')\n",
    "        ]\n",
    "        fig = go.Figure(data=data)\n",
    "    else:\n",
    "        data = []\n",
    "        plot_dat = plot_dat.groupby([colorby,groupby])[x].agg(aggregate)\n",
    "        for gr in plot_dat.index.levels[0]: \n",
    "            data.append(go.Bar(\n",
    "            y=plot_dat[gr].index.values,\n",
    "            x=plot_dat[gr].values,\n",
    "            name=gr,\n",
    "            orientation = 'h'\n",
    "        ))\n",
    "        \n",
    "        layout = go.Layout(\n",
    "            autosize=False,\n",
    "        width=800,\n",
    "        height=550,\n",
    "            barmode='stack',\n",
    "            showlegend = True,\n",
    "            xaxis = dict(title=xtitle,position=-1.),\n",
    "            yaxis = dict(),\n",
    "            legend=dict(orientation=\"h\",x=0.1,y=1.2),\n",
    "            margin = go.Margin(l=350,r=50)\n",
    "        )\n",
    "      \n",
    "        fig = go.Figure(data=data, layout=layout)\n",
    "    \n",
    "    return py.iplot(fig, filename='bar')\n",
    "\n",
    "bar(x=\"fb_likes\",groupby=\"topic_terms\",colorby=\"country\",aggregate=\"sum\",xtitle=\"fb_likes\")"
   ]
  },
  {
   "cell_type": "markdown",
   "metadata": {
    "slideshow": {
     "slide_type": "skip"
    }
   },
   "source": [
    "## Scatter plot"
   ]
  },
  {
   "cell_type": "markdown",
   "metadata": {
    "slideshow": {
     "slide_type": "slide"
    }
   },
   "source": [
    "### While many news stories were concerned with covering the congress hearings, social media users shared articles about private data collection practices with the tech giants more heavily, on average."
   ]
  },
  {
   "cell_type": "code",
   "execution_count": 93,
   "metadata": {
    "slideshow": {
     "slide_type": "fragment"
    }
   },
   "outputs": [
    {
     "data": {
      "text/html": [
       "<iframe id=\"igraph\" scrolling=\"no\" style=\"border:none;\" seamless=\"seamless\" src=\"https://plot.ly/~bockjo/60.embed\" height=\"525px\" width=\"100%\"></iframe>"
      ],
      "text/plain": [
       "<plotly.tools.PlotlyDisplay object>"
      ]
     },
     "execution_count": 93,
     "metadata": {},
     "output_type": "execute_result"
    }
   ],
   "source": [
    "def scatter(x,y,groupby,colorby = None,sizeby = \"fixed\", aggregate = {\"x\":\"sum\",\"y\":\"sum\",\"colorby\":\"sum\"},\n",
    "            axistype = {\"x\":\"normal\",\"y\":\"normal\"},\n",
    "            xtitle=\"\", ytitle=\"\"):\n",
    "    \n",
    "    plot_dat = t.df.copy()\n",
    "    if sizeby==\"fixed\":\n",
    "        s=15\n",
    "    if colorby == None:\n",
    "        colorby = groupby\n",
    "        \n",
    "    if plot_dat[colorby].dtype == np.object:\n",
    "        plot_datx = plot_dat.groupby([colorby,groupby])[x].agg(aggregate[\"x\"])\n",
    "        plot_daty = plot_dat.groupby([colorby,groupby])[y].agg(aggregate[\"y\"])\n",
    "        \n",
    "        dat = []\n",
    "        for cat in plot_dat[colorby].unique():\n",
    "            \n",
    "            dat.append({\"x\":plot_datx[cat].values,\n",
    "                       \"y\":plot_daty[cat].values,\n",
    "                        \"text\":plot_daty[cat].index,\n",
    "                       \"name\":cat,\n",
    "                       \"mode\":\"markers\",\n",
    "                       \"marker\":dict(size=s)})\n",
    "        fig = {\n",
    "            'data': dat,\n",
    "            'layout': {\"legend\":dict(orientation=\"h\",x=0.1,y=1.5),\"showlegend\": True,\n",
    "                'xaxis': {'title': xtitle,\"type\":axistype[\"x\"],\"exponentformat\": \"e\" if axistype[\"x\"]==\"log\" else \"none\"},\n",
    "                'yaxis': {'title': ytitle,\"type\":axistype[\"y\"],\"exponentformat\": \"e\" if axistype[\"y\"]==\"log\" else \"none\"},\n",
    "                \"autosize\":True\n",
    "            }\n",
    "        }\n",
    "    else:\n",
    "        plot_datx = plot_dat.groupby(groupby)[x].agg(aggregate[\"x\"])\n",
    "        plot_daty = plot_dat.groupby(groupby)[y].agg(aggregate[\"y\"])\n",
    "        plot_datcol = plot_dat.groupby(groupby)[colorby].agg(aggregate[\"colorby\"])\n",
    "        \n",
    "        trace1 = go.Scatter(\n",
    "            y = plot_daty.values,\n",
    "            x = plot_datx.values,\n",
    "            mode='markers',\n",
    "            marker=dict(\n",
    "                size=s,\n",
    "                color = plot_datcol.values, #set color equal to a variable\n",
    "                colorscale='Viridis',\n",
    "                showscale=True\n",
    "            )\n",
    "        )\n",
    "        layout = dict(xaxis=dic(title=xtitle,type=axistype[\"x\"],exponentformat= \"e\" if axistype[\"x\"]==\"log\" else \"none\"),\n",
    "                      yaxis=dic(title=ytitle,type=axistype[\"y\"],exponentformat= \"e\" if axistype[\"y\"]==\"log\" else \"none\"))\n",
    "        fig = go.Figure(data=[trace1],layout = layout)\n",
    "        \n",
    "    return py.iplot(fig, filename='bar')\n",
    "\n",
    "scatter(x=\"uuid\",y='fb_shares',groupby=\"topic_terms\",colorby = \"topic_terms\",\n",
    "        sizeby = \"fixed\",xtitle=\"Publish-Count\",ytitle=\"Median fb-share / article\",\n",
    "        axistype=dict(x=\"normal\",y=\"normal\"),\n",
    "        aggregate = {\"x\":\"nunique\",\"y\":\"median\",\"colorby\":\"sum\"})"
   ]
  },
  {
   "cell_type": "code",
   "execution_count": 18,
   "metadata": {
    "slideshow": {
     "slide_type": "skip"
    }
   },
   "outputs": [],
   "source": [
    "# jupyter nbconvert CryptoNews7.ipynb --to slides --template temp --post serve\n",
    "# http://nbviewer.jupyter.org/format/slides/github/bockjo/Udacity_portfolio/blob/master/filename.ipynb"
   ]
  }
 ],
 "metadata": {
  "hide_input": true,
  "kernelspec": {
   "display_name": "Python 3",
   "language": "python",
   "name": "python3"
  },
  "language_info": {
   "codemirror_mode": {
    "name": "ipython",
    "version": 3
   },
   "file_extension": ".py",
   "mimetype": "text/x-python",
   "name": "python",
   "nbconvert_exporter": "python",
   "pygments_lexer": "ipython3",
   "version": "3.5.4"
  },
  "toc": {
   "nav_menu": {},
   "number_sections": true,
   "sideBar": true,
   "skip_h1_title": false,
   "title_cell": "Table of Contents",
   "title_sidebar": "Contents",
   "toc_cell": false,
   "toc_position": {
    "height": "calc(100% - 180px)",
    "left": "10px",
    "top": "150px",
    "width": "380px"
   },
   "toc_section_display": true,
   "toc_window_display": true
  },
  "varInspector": {
   "cols": {
    "lenName": 16,
    "lenType": 16,
    "lenVar": 40
   },
   "kernels_config": {
    "python": {
     "delete_cmd_postfix": "",
     "delete_cmd_prefix": "del ",
     "library": "var_list.py",
     "varRefreshCmd": "print(var_dic_list())"
    },
    "r": {
     "delete_cmd_postfix": ") ",
     "delete_cmd_prefix": "rm(",
     "library": "var_list.r",
     "varRefreshCmd": "cat(var_dic_list()) "
    }
   },
   "types_to_exclude": [
    "module",
    "function",
    "builtin_function_or_method",
    "instance",
    "_Feature"
   ],
   "window_display": false
  }
 },
 "nbformat": 4,
 "nbformat_minor": 2
}
