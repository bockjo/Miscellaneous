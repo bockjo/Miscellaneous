{
 "cells": [
  {
   "cell_type": "markdown",
   "metadata": {},
   "source": [
    "# 3. Hausaufgabe\n",
    "\n",
    "Geben Sie diese Hausaufgabe gemeinsam mit Ihrem/r Partner/in ab. Füllen Sie dazu dieses Notebook aus und speichern Sie es ab (Disketten-Icon oben links). Laden Sie dann die Datei (`hausaufgabe3.ipynb`) in Moodle hoch. Verwenden Sie Kommentare im Python-Quellcode und Markdown-Textboxen im Jupyter-Notebook ([Syntax-Beispiele](https://de.wikipedia.org/wiki/Markdown#Auszeichnungsbeispiele)) um ihr Programm zu kommentieren. Für diese Hausaufgabe sollten Sie das 4. bis 6. Kapitel durchgearbeitet haben, da Rekursion, Verzweigungen und Funktionen mit Rückgabewert benötigt werden.\n",
    "\n",
    "\n",
    "* Geben Sie bitte Ihrem **Notebook einen Namen**, sodass es Ihnen und Ihrem Partner zugeordnet werden kann (z.B. *hausaufgabe2_nachname1_nachname2.ipynb*)\n",
    "* Fügen Sie außerdem **Kommentare** zu ihrem Code hinzu, mit denen Sie erklären, was die Funktion macht (Schleife, Bedingungen, etc. beschreiben). Dies kann man durch zwei Varianten machen:\n",
    "    - \\# \n",
    "    - Mit Hilfe der Raute kann ein Kommentar in einem Codeblock stehen, um einzelne Codesgemente zu beschreiben und zu interpretieren\n",
    "        - z.B. : # Kommentar zu  einzelnen Code-Segmenten\n",
    "    -  '''     '''\n",
    "    - Hier kann ein Kommentar stehen, der die Funktion als Ganzes beschreibt\n",
    "        - z.B. ''' Beschreibung einer Funktion '''\n",
    "        \n",
    "Wir wünschen viel Erfolg beim Lösen der Aufgaben!\n"
   ]
  },
  {
   "cell_type": "markdown",
   "metadata": {},
   "source": [
    "## Aufgabe 1\n",
    "\n",
    "*(Dies ist [Aufgabe 3 im 5. Kapitel](https://scm.cms.hu-berlin.de/ibi/python/blob/master/notebooks/seminar05.ipynb#aufgabe-3).)*\n",
    "\n",
    "Wenn uns drei Stöcke gegeben werden, kann es sein, dass wir sie als Dreieck anordnen können oder auch nicht. Wenn beispielsweise einer der Stöcke 12cm lang ist und die anderen beiden jeweils 1cm, dann klappt es nicht. Für jede Kombination von Längen gibt es einen einfachen Test, der uns anzeigt, ob sich daraus ein Dreieck formen lässt:\n",
    "\n",
    "*Falls eine der drei Längen größer als die Summe der anderen beiden Längen ist, dann lässt sich kein Dreieck formen. (Wenn die Summe der beiden Längen gleich der dritten Länge ist, dann bilden Sie ein sogenanntes \"degeneriertes\" Dreieck.)*\n",
    "\n",
    "1. Schreiben Sie eine Funktion `is_triangle` die drei ganze Zahlen als Argumente erwartet und dann entweder \"Ja\" oder \"Nein\" ausgibt, abhängig davon, ob man mit den gegebenen Längen ein Dreieck formen kann oder nicht.\n",
    "2. Schreiben Sie eine Funktion die die Nutzerin bittet, drei Längen einzugeben, diese in ganze Zahlen umwandelt und dann `is_triangle` nutzt, um zu prüfen, ob aus Stöcken mit den gegebenen Längen ein Dreieck geformt werden kann oder nicht."
   ]
  },
  {
   "cell_type": "code",
   "execution_count": null,
   "metadata": {},
   "outputs": [],
   "source": [
    "def is_triangle(a,b,c) :\n",
    "    if a + b < c or b + c < a or a + c < b : #prüft auf die drei Kriterien für ein vollwertiges Dreieck und gibt nach Wert positive oder negative Antwort aus\n",
    "        print ('Kein Dreieck')\n",
    "    \n",
    "    else:\n",
    "        print ('Ist ein Dreieck')\n",
    "    \n",
    "is_triangle(9,9,18)"
   ]
  },
  {
   "cell_type": "code",
   "execution_count": null,
   "metadata": {},
   "outputs": [],
   "source": [
    "is_triangle(9,7,49)"
   ]
  },
  {
   "cell_type": "code",
   "execution_count": null,
   "metadata": {},
   "outputs": [],
   "source": [
    "def is_triangle() :\n",
    "    prompt = \"Wie lang ist Seite a? \\n\" #führt Anfrage an Nutzer durch für die Seite a\n",
    "    a = input(prompt) # setzt den eingegebenen Wert aus promt für die Variable a ein \n",
    "    prompt = \"Wie lang ist Seite b? \\n\" #führt Anfrage an Nutzer durch für die Seite b\n",
    "    b = input(prompt) # setzt den eingegebenen Wert aus promt für die Variable b ein\n",
    "    prompt = \"Wie lang ist Seite c? \\n\" #führt Anfrage an Nutzer durch für die Seite c\n",
    "    c = input(prompt) # setzt den eingegebenen Wert aus promt für die Variable c ein\n",
    "    if a + b < c or b + c < a or a + c < b : #Prüfung aller seiten aud das Kriterium für ein Dreieck\n",
    "        print ('Kein Dreieck')\n",
    "    else:\n",
    "        print ('Ist ein Dreieck') \n",
    "\n",
    "is_triangle()"
   ]
  },
  {
   "cell_type": "markdown",
   "metadata": {},
   "source": [
    "## Aufgabe 2\n",
    "\n",
    "*(Dies ist [Aufgabe 4 im 5. Kapitel](https://scm.cms.hu-berlin.de/ibi/python/blob/master/notebooks/seminar05.ipynb#aufgabe-4).)*\n",
    "\n",
    "Was gibt das folgende Programm aus? Zeichnen Sie (mit Stift und Papier) ein Stapeldiagramm (siehe [Abschnitt 3.9](https://scm.cms.hu-berlin.de/ibi/python/blob/master/notebooks/seminar03.ipynb#3-9-stapel-diagramme)), das den Zustand des Programms ausgibt, wenn `recurse(3, 0)` aufgerufen wird: "
   ]
  },
  {
   "cell_type": "code",
   "execution_count": null,
   "metadata": {},
   "outputs": [],
   "source": [
    "def recurse(n, s):\n",
    "    if n == 0: #Abbruchbedingung, welche den int Wert von s ausgibt\n",
    "        print(s)\n",
    "    else:\n",
    "        recurse(n-1, n+s) #zählt n mit jedem Durchlauf um eins runter und addiert vorher den wert von n zu s bis die if-Bedingung erreicht ist\n",
    "\n",
    "recurse(3, 0)"
   ]
  },
  {
   "cell_type": "markdown",
   "metadata": {},
   "source": [
    "1. Was würde passieren, wenn wir diese Funktion so aufrufen würden: `recurse(-1, 0)`?\n",
    "\n",
    "----> Wenn n einen Wert kleiner 0 zugeteilt bekommt, dann läuft die Funktion erstmal unendlich, da n immer kleiner wird und damit die if-Bedingung niemals erreichen kann, wodurch das <Programm nach einer gewissen Zeit automatisch stoppt. und eine Fehlermeldung ausgibt 'maximum recursion depth exceeded in comparison' die sagt, dass eine maximale Anzahl von Rekursionen, die das Programm erlaubt, erreicht ist.\n",
    "\n",
    "2. Fügen Sie einen Docstring zur Funktion hinzu, der alles erklärt, was man wissen sollte, um diese Funktion nutzen zu können (und nicht mehr!).\n",
    "\n",
    "*Hinweis: Laden Sie das digitalisierte Stapeldiagramm zusammen mit diesem Notebook in Moodle hoch. Wenn Sie wollen, können Sie auch ASCII-Textboxen direkt hier einfügen, ungefähr so:*\n",
    "\n",
    "```\n",
    "          +----------------------------------------+\n",
    "__main__  | teil1 -> 'Holleri du dödel di '        |\n",
    "          | teil2 -> 'diri diri dudel dö'          |\n",
    "          +----------------------------------------+\n",
    "\n",
    "```"
   ]
  },
  {
   "cell_type": "code",
   "execution_count": 4,
   "metadata": {},
   "outputs": [
    {
     "data": {
      "text/plain": [
       "' Stapeldiagramm:\\nrecurse (n, s): n=3; s=0\\nrecurse (n, s): n=2; s=3\\nrecurse (n, s): n=1; s=5\\nrecurse (n, s): n=0; s=6\\n'"
      ]
     },
     "execution_count": 4,
     "metadata": {},
     "output_type": "execute_result"
    }
   ],
   "source": [
    "\"\"\" Stapeldiagramm:\n",
    "recurse (n, s): n=3; s=0\n",
    "recurse (n, s): n=2; s=3\n",
    "recurse (n, s): n=1; s=5\n",
    "recurse (n, s): n=0; s=6\n",
    "\"\"\""
   ]
  },
  {
   "cell_type": "markdown",
   "metadata": {},
   "source": [
    "## Aufgabe 3\n",
    "\n",
    "*(Das ist [Aufgabe 4 im 6. Kapitel](https://scm.cms.hu-berlin.de/ibi/python/blob/master/notebooks/seminar06.ipynb#aufgabe-4).)*\n",
    "\n",
    "Eine ganze Zahl `a` ist eine Potenz / ein vielfaches von `b`, wenn `a` durch `b` teilbar ist und `a/b` eine Potenz / ein vielfaches von `b` ist. (Beispielsweise ist 27 eine Potenz von 3, denn 27 ist durch 3 teilbar und 9 ist eine Potenz / ein vielfaches von 3.) Schreiben Sie eine Funktion `is_power` die Parameter `a` und `b` erwartet und `True` zurückgibt, wenn `a` eine Potenz von `b` ist (ansonsten `False`). Hinweis: Überlegen Sie sich, was der Basisfall ist und wie Sie diesen behandeln."
   ]
  },
  {
   "cell_type": "code",
   "execution_count": null,
   "metadata": {},
   "outputs": [],
   "source": [
    "def is_power (a,b):\n",
    "    c = int(a/b) #sagt, dass bei der Rechnung a/b ein integer Wert rauskommen muss, also eine Ganzzahl\n",
    "    if a / b == c : #Die Bedingung ist, dass a durch b als interger teilbar ist und gibt je nach werteingabe true oder false aus\n",
    "        return ('true')\n",
    "    else :\n",
    "        return ('false')\n",
    "    \n",
    "is_power (55,11)"
   ]
  },
  {
   "cell_type": "code",
   "execution_count": null,
   "metadata": {},
   "outputs": [],
   "source": [
    "is_power (34,3)"
   ]
  },
  {
   "cell_type": "markdown",
   "metadata": {},
   "source": [
    "## Aufgabe 4\n",
    "\n",
    "Ziel dieser Aufgabe ist, eine ASCII-Tabelle für die Zeichen mit dem Code von 32 (dezimal) bis 127 (dezimal) mit den zugehören Hexadezimalcodes auszugeben. Das Ergebnis sollte so aussehen:\n",
    "\n",
    "```\n",
    "20     21 !   22 \"   23 #   24 $   25 %   26 &   27 '   28 (   29 )   2a *   2b +   2c ,   2d -   2e .   2f /   \n",
    "30 0   31 1   32 2   33 3   34 4   35 5   36 6   37 7   38 8   39 9   3a :   3b ;   3c <   3d =   3e >   3f ?   \n",
    "40 @   41 A   42 B   43 C   44 D   45 E   46 F   47 G   48 H   49 I   4a J   4b K   4c L   4d M   4e N   4f O   \n",
    "50 P   51 Q   52 R   53 S   54 T   55 U   56 V   57 W   58 X   59 Y   5a Z   5b [   5c \\   5d ]   5e ^   5f _   \n",
    "60 `   61 a   62 b   63 c   64 d   65 e   66 f   67 g   68 h   69 i   6a j   6b k   6c l   6d m   6e n   6f o   \n",
    "70 p   71 q   72 r   73 s   74 t   75 u   76 v   77 w   78 x   79 y   7a z   7b {   7c |   7d }   7e ~   \n",
    "```\n",
    "\n",
    "Lesen Sie sich den Exkurs am Anfang des [5. Kapitels](https://scm.cms.hu-berlin.de/ibi/python/blob/master/notebooks/seminar05.ipynb) durch und versuchen Sie zu verstehen, wie die Funktion `dez_zu_allem` funktioniert. Dazu sollte es reichen, die Funktion mit verschiedenen Eingaben aufzurufen und zu verstehen, wie die jeweilige Ausgabe mit der Eingabe zusammenhängt. (Der Parameter `s` stellt das Alphabet für ein Positionssystem dar, wobei alle Zeichen einfach hintereinander als Zeichenkette erwartet werden.) \n",
    "\n",
    "Kopieren Sie sich die Funktion `dez_zu_allem` hierher und rufen Sie sie mit dem Dezimalcode für das Zeichen 'B' auf (diesen finden Sie in der ASCII-Tabelle aus der Vorlesung), so dass der Wert als Hexadezimalzahl zurückgegeben wird. Geben Sie diese Hexadezimalzahl mit `print` aus. (Es sollte '42' ausgegeben werden.)"
   ]
  },
  {
   "cell_type": "code",
   "execution_count": null,
   "metadata": {},
   "outputs": [],
   "source": [
    "def ascii_tabelle(x):\n",
    "    while x < 128:\n",
    "        print (chr(x), (hex(x)[2:])) #gibt hex nach 2. stelle aus da sonst 0*hex dastehen würde\n",
    "        x = x + 1 #zählt x um eins hoch\n",
    "\n",
    "ascii_tabelle(32) #ab wert 32 da die vorherigen kein Zeichen darstellen sondern einen Befehl\n"
   ]
  },
  {
   "cell_type": "markdown",
   "metadata": {},
   "source": [
    "Mit der Funktion `chr` können wir Dezimalzahlen zwischen 0 und 127 in das entsprechende ASCII-Zeichen (als Zeichenkette) umwandeln. Probieren Sie es aus, indem Sie mit Hilfe von `chr` das Zeichen mit dem (dezimalen) ASCII-Code 84 ausgeben. (Es sollte `T` ausgegeben werden.)"
   ]
  },
  {
   "cell_type": "code",
   "execution_count": null,
   "metadata": {},
   "outputs": [],
   "source": [
    "def zeichentabelle(x):\n",
    "    anfang = 32 #festlegung der Start- und Endposition\n",
    "    ende = 127\n",
    "    while x >= anfang and x <= ende: #Schleife wird im Intervall von anfang bis ende durchgeführt\n",
    "        print (chr(x), (hex(x)[2:])) #gibt hex nach 2. stelle aus da sonst 0*hex dastehen würde\n",
    "        x = x + 1 #counter\n",
    "\n",
    "zeichentabelle(32) #ab wert 32 da die vorherigen kein Zeichen darstellen sondern einen Befehl"
   ]
  },
  {
   "cell_type": "markdown",
   "metadata": {},
   "source": [
    "Schreiben Sie jetzt eine Funktion `zeichentabelle`, die folgende Parameter erwartet:\n",
    "- `anfang`: die Dezimalzahl des ASCII-Codes des ersten Zeichens, welches ausgegeben werden soll\n",
    "- `ende`: die Dezimalzahl des ASCII-Codes des letzten Zeichens, welches ausgegeben werden soll\n",
    "- `trennzeichen`: eine Zeichenkette, die als Trennzeichen zwischen zwei Code-Zeichen-Paaren ausgegeben werden soll\n",
    "- `paare_pro_zeile`: die Anzahl an Code-Zeichen-Paaren die pro Zeile ausgegeben werden sollen\n",
    "\n",
    "Die Funktion soll mit Hilfe einer `for`-Schleife und der `range`-Funktion über alle Dezimalzahlen zwischen `anfang` und `ende` (jeweils inklusive) laufen und den Hexadezimalcode sowie das zugehörige Zeichen durch Leerzeichen getrennt ausgeben. Danach soll das `trennzeichen` ausgegeben werden und nach entsprechend vielen Paaren soll eine neue Zeile erzeugt werden. \n",
    "\n",
    "Hinweis: Sie können bei der `print`-Funktion die Ausgabe eines Zeilenumbruchs unterdrücken, indem Sie dem Parameter `end` einen anderen Wert mitgeben, beispielsweise so:"
   ]
  },
  {
   "cell_type": "code",
   "execution_count": null,
   "metadata": {},
   "outputs": [],
   "source": [
    "print(\"Spalte 1\", end=\" | \")\n",
    "print(\"Spalte 2\", end=\" | \")\n",
    "print(\"Spalte 3\")"
   ]
  },
  {
   "cell_type": "code",
   "execution_count": 3,
   "metadata": {},
   "outputs": [
    {
     "name": "stdout",
     "output_type": "stream",
     "text": [
      "\n",
      "  20  ! 21  \" 22  # 23  $ 24  % 25  & 26  ' 27  ( 28  ) 29  * 2a  + 2b  , 2c  - 2d  . 2e  / 2f  \n",
      "0 30  1 31  2 32  3 33  4 34  5 35  6 36  7 37  8 38  9 39  : 3a  ; 3b  < 3c  = 3d  > 3e  ? 3f  \n",
      "@ 40  A 41  B 42  C 43  D 44  E 45  F 46  G 47  H 48  I 49  J 4a  K 4b  L 4c  M 4d  N 4e  O 4f  \n",
      "P 50  Q 51  R 52  S 53  T 54  U 55  V 56  W 57  X 58  Y 59  Z 5a  [ 5b  \\ 5c  ] 5d  ^ 5e  _ 5f  \n",
      "` 60  a 61  b 62  c 63  d 64  e 65  f 66  g 67  h 68  i 69  j 6a  k 6b  l 6c  m 6d  n 6e  o 6f  \n",
      "p 70  q 71  r 72  s 73  t 74  u 75  v 76  w 77  x 78  y 79  z 7a  { 7b  | 7c  } 7d  ~ 7e  "
     ]
    }
   ],
   "source": [
    "def zeichentabelle (anfang, ende, trennzeichen, paare_pro_zeile) :\n",
    "    i = 0 #Counter für paare_pro_zeile, damit bei 0 und nicht bei dem Wert von Anfang angefangen wird \n",
    "    for x in range (anfang, ende): #Der Inhalt der Schleife wird zwischen dem Wert von Anfang und dem von Ende durchgeführt\n",
    "        if i % paare_pro_zeile == 0 : #prüft, ob der paare_pro_zeile -counter durch dir eingegebene Zahl ohne Rest teilbar ist\n",
    "            print('') #hiermit wird ein Zeilenumbruch, nach Erfüllung der if-Bedingung ausgelöst, da jeden print-Befehl in einer neuen Zeile ausgegeben wird\n",
    "        print (chr(x), (hex(x)[2:]), end = (trennzeichen)) #gibt hex nach 2. stelle aus da sonst 0*hex dastehen würde\n",
    "        i = i + 1 #Hochzählung des Counters um 1\n",
    "\n",
    "zeichentabelle(32, 127, \"  \", 16)"
   ]
  },
  {
   "cell_type": "markdown",
   "metadata": {},
   "source": [
    "Hier folgen weitere Tipps ... versuchen Sie es aber erst einmal ohne diese Tipps.\n",
    "\n",
    "<a data-flickr-embed=\"true\"  href=\"https://www.flickr.com/photos/jasoneppink/4964471335\" title=\"Spoiler Alert\"><img src=\"https://farm5.staticflickr.com/4110/4964471335_1f86a923f3_n.jpg\" width=\"320\" height=\"213\" alt=\"Spoiler Alert\"></a><script async src=\"//embedr.flickr.com/assets/client-code.js\" charset=\"utf-8\"></script>\n",
    "\n",
    "Der Restoperator `%` kann Ihnen helfen, im richtigen Rhythmus Zeilenumbrüche einzufügen.  \n",
    "\n",
    "<a data-flickr-embed=\"true\"  href=\"https://www.flickr.com/photos/jasoneppink/4964471335\" title=\"Spoiler Alert\"><img src=\"https://farm5.staticflickr.com/4110/4964471335_1f86a923f3_n.jpg\" width=\"320\" height=\"213\" alt=\"Spoiler Alert\"></a><script async src=\"//embedr.flickr.com/assets/client-code.js\" charset=\"utf-8\"></script>\n",
    "\n",
    "Sie müssen den Rest der aktuellen Zahl bei Division durch `paare_pro_zeile` prüfen. \n",
    "\n",
    "<a data-flickr-embed=\"true\"  href=\"https://www.flickr.com/photos/jasoneppink/4964471335\" title=\"Spoiler Alert\"><img src=\"https://farm5.staticflickr.com/4110/4964471335_1f86a923f3_n.jpg\" width=\"320\" height=\"213\" alt=\"Spoiler Alert\"></a><script async src=\"//embedr.flickr.com/assets/client-code.js\" charset=\"utf-8\"></script>\n",
    "\n",
    "Es ist etwas knifflig, die Zeilen mit dem richtigen Wert beginnen zu lassen (im Beispiel `20`, `30`, `40`). Das ist ganz normal und sie müssen etwas probieren, um das zu schaffen.\n",
    "\n",
    "<a data-flickr-embed=\"true\"  href=\"https://www.flickr.com/photos/jasoneppink/4964471335\" title=\"Spoiler Alert\"><img src=\"https://farm5.staticflickr.com/4110/4964471335_1f86a923f3_n.jpg\" width=\"320\" height=\"213\" alt=\"Spoiler Alert\"></a><script async src=\"//embedr.flickr.com/assets/client-code.js\" charset=\"utf-8\"></script>\n",
    "\n",
    "Probieren Sie verschiedene Werte für den Rest durch, dann sollte es klappen.\n",
    "\n",
    "Da Python Unicode unterstützt können mit der `chr`-Funktion alle Zeichen aus dem Unicode-Vorrat ausgegeben werden. Probieren Sie es einmal mit Zahlen größer als 127 aus:"
   ]
  },
  {
   "cell_type": "code",
   "execution_count": null,
   "metadata": {},
   "outputs": [],
   "source": [
    "print(chr(666))\n",
    "print(chr(30495))\n",
    "print(chr(8000))\n",
    "print(chr(16054))\n",
    "print(chr(399900))\n",
    "print(chr(64000))"
   ]
  },
  {
   "cell_type": "markdown",
   "metadata": {},
   "source": [
    "*(Nicht alle Zahlenwerte funktionieren, nur diejenigen, die auch im Unicode definiert sind.)*\n",
    "\n",
    "Finden Sie den Dezimalwert (!) für das Zeichen `ä` im Unicode (nicht UTF-8) und geben Sie dieses mittels `chr` aus. Es kann sein, dass Sie nur den Hexadezimalwert finden - diesen müssten sie dann zunächst in einen Dezimalwert umrechnen, z.B. auf [dieser Webseite](http://www.binaryhexconverter.com/hex-to-decimal-converter)."
   ]
  },
  {
   "cell_type": "code",
   "execution_count": null,
   "metadata": {},
   "outputs": [],
   "source": [
    "chr(228)"
   ]
  },
  {
   "cell_type": "markdown",
   "metadata": {},
   "source": [
    "Und wenn Sie bis hierher gekommen sind: geben Sie eine Tabelle von Zeichen aus einem anderen Schriftsystem Ihrer Wahl aus, indem Sie Ihre Funktion `zeichentabelle` mit größeren Start- und Endwerten aufrufen:"
   ]
  },
  {
   "cell_type": "code",
   "execution_count": null,
   "metadata": {},
   "outputs": [],
   "source": [
    "def zeichentabelle (anfang, ende, trennzeichen, paare_pro_zeile) :\n",
    "    i = 0 #Counter für paare_pro_zeile, damit bei 0 und nicht bei dem Wert von Anfang angefangen wird \n",
    "    for x in range (anfang, ende): #Der Inhalt der Schleife wird zwischen dem Wert von Anfang und dem von Ende durchgeführt\n",
    "        if i % paare_pro_zeile == 0 : #prüft, ob der paare_pro_zeile -counter durch dir eingegebene Zahl ohne Rest teilbar ist\n",
    "            print('') #hiermit wird ein Zeilenumbruch, nach Erfüllung der if-Bedingung ausgelöst, da jeden print-Befehl in einer neuen Zeile ausgegeben wird\n",
    "        print (chr(x), (hex(x)[2:]), end = (trennzeichen)) #gibt hex nach 2. stelle aus da sonst 0*hex dastehen würde\n",
    "        i = i + 1 #Hochzählung des Counters um 1\n",
    "\n",
    "zeichentabelle(30800, 30850, \" \", 10)"
   ]
  },
  {
   "cell_type": "markdown",
   "metadata": {},
   "source": [
    "## Aufgabe 5 (Zusatz):\n",
    "\n",
    "Nutzen Sie Rekursion (falls nicht schon in Hausaufgabe2 benutzt), um Ihre Schildkröte ein Kunstwerk malen zu lassen. Schauen Sie in Notebook 5 nach, um sich inspirieren zu lassen.\n",
    "\n",
    "Diese Aufgabe ist freiwillig. \n",
    "\n",
    "Sie können gerne wieder kreativ werden."
   ]
  },
  {
   "cell_type": "code",
   "execution_count": null,
   "metadata": {},
   "outputs": [],
   "source": [
    "import turtle\n",
    " \n",
    "def sun (t): #zeichnet einen Kreis mit dem Radius 100 an der angegebenen Stelle im Koordinatensystem\n",
    "    turtle.bgcolor('PowderBlue') #legt die Hintergrundfarbe des Bildes fest\n",
    "    t.penup()\n",
    "    t.goto(0,70)\n",
    "    t.pendown()\n",
    "    t.pencolor('tomato')\n",
    "    t.fillcolor('coral')\n",
    "    t.begin_fill()\n",
    "    t.circle(100)\n",
    "    t.end_fill()\n",
    "\n",
    "def mountain_1 (t): #Zeichnet ein gleichschenkliges Dreieck als Berg für mountain 1-4\n",
    "    t.penup()\n",
    "    t.goto(70,-160)\n",
    "    t.pendown()\n",
    "    t.pencolor('orange')\n",
    "    t.fillcolor('orange')\n",
    "    t.begin_fill()\n",
    "    t.fd(80)\n",
    "    t.lt(110)\n",
    "    t.fd(120)\n",
    "    t.lt(140)\n",
    "    t.fd(120)\n",
    "    t.lt(110)\n",
    "    t.end_fill() \n",
    "    \n",
    "def mountain_2 (t):\n",
    "    t.penup()\n",
    "    t.goto(-90,-160)\n",
    "    t.pendown()\n",
    "    t.pencolor('SlateBlue')\n",
    "    t.fillcolor('SlateBlue')\n",
    "    t.begin_fill()\n",
    "    t.fd(200)\n",
    "    t.lt(110)\n",
    "    t.fd(300)\n",
    "    t.lt(140)\n",
    "    t.fd(300)\n",
    "    t.lt(110)\n",
    "    t.end_fill()\n",
    "\n",
    "def mountain_3 (t):\n",
    "    t.penup()\n",
    "    t.goto(-180,-160)\n",
    "    t.pendown()\n",
    "    t.pencolor('MediumSeaGreen')\n",
    "    t.fillcolor('MediumSeaGreen')\n",
    "    t.begin_fill()\n",
    "    t.fd(140)\n",
    "    t.lt(110)\n",
    "    t.fd(210)\n",
    "    t.lt(140)\n",
    "    t.fd(210)\n",
    "    t.lt(110)\n",
    "    t.end_fill()\n",
    "    \n",
    "def mountain_4 (t):\n",
    "    t.penup()\n",
    "    t.goto(-120,-160)\n",
    "    t.pendown()\n",
    "    t.pencolor('Salmon')\n",
    "    t.fillcolor('Salmon')\n",
    "    t.begin_fill()\n",
    "    t.fd(100)\n",
    "    t.lt(110)\n",
    "    t.fd(150)\n",
    "    t.lt(140)\n",
    "    t.fd(150)\n",
    "    t.lt(110)\n",
    "    t.end_fill()\n",
    "    \n",
    "def mountains (t): #verkürtzt den Code, indem alle Mountain Funktionen aufgerufen werden\n",
    "    mountain_1 (t)\n",
    "    mountain_2 (t)\n",
    "    mountain_3 (t)\n",
    "    mountain_4 (t)\n",
    "    \n",
    "def sea_reflection (t): #zeichnet auf der Oberfläche des Seees die Reflexion der sonne darin\n",
    "    t.penup()\n",
    "    t.goto(-300,-160)\n",
    "    t.pendown()\n",
    "    t.pencolor('SteelBlue')\n",
    "    t.pensize(2) #Verändert die Stiftgröße mit der in der Klammer angegebenen Zahl\n",
    "    t.fd(600)\n",
    "    t.penup()\n",
    "    t.goto(-80,-170)\n",
    "    t.pendown()\n",
    "    t.pensize(20)\n",
    "    t.pencolor('tomato')\n",
    "    t.fd(160)\n",
    "    t.penup()\n",
    "    t.goto(-70,-185)\n",
    "    t.pendown()\n",
    "    t.fd(140)\n",
    "    t.penup()\n",
    "    t.goto(-55,-200)\n",
    "    t.pendown()\n",
    "    t.fd(110)\n",
    "    t.penup()\n",
    "    t.goto(-30,-215)\n",
    "    t.pendown()\n",
    "    t.fd(60)\n",
    "    \n",
    "def picture(t): #ruft alle bisherigen Funktionen auf, damit man später nur eine Funktion manuell aufrufen muss\n",
    "    sun(t)\n",
    "    mountains(t)\n",
    "    sea_reflection (t)\n",
    "    \n",
    "\n",
    "yakari = turtle.Turtle()\n",
    "picture(yakari)\n",
    "turtle.mainloop()"
   ]
  },
  {
   "cell_type": "markdown",
   "metadata": {},
   "source": [
    "![Smiley](https://upload.wikimedia.org/wikipedia/commons/0/0f/Face-glasses.svg)"
   ]
  },
  {
   "cell_type": "code",
   "execution_count": null,
   "metadata": {},
   "outputs": [],
   "source": []
  }
 ],
 "metadata": {
  "kernelspec": {
   "display_name": "Python 3",
   "language": "python",
   "name": "python3"
  },
  "language_info": {
   "codemirror_mode": {
    "name": "ipython",
    "version": 3
   },
   "file_extension": ".py",
   "mimetype": "text/x-python",
   "name": "python",
   "nbconvert_exporter": "python",
   "pygments_lexer": "ipython3",
   "version": "3.7.4"
  }
 },
 "nbformat": 4,
 "nbformat_minor": 2
}
