{
 "cells": [
  {
   "cell_type": "raw",
   "metadata": {
    "slideshow": {
     "slide_type": "notes"
    }
   },
   "source": [
    "<script>\n",
    "  function code_toggle() {\n",
    "    if (code_shown){\n",
    "      $('div.input').hide('500');\n",
    "      $('#toggleButton').val('Show Code')\n",
    "    } else {\n",
    "      $('div.input').show('500');\n",
    "      $('#toggleButton').val('Hide Code')\n",
    "    }\n",
    "    code_shown = !code_shown\n",
    "  }\n",
    "\n",
    "  $( document ).ready(function(){\n",
    "    code_shown=false;\n",
    "    $('div.input').hide()\n",
    "  });\n",
    "\n",
    "</script>"
   ]
  },
  {
   "cell_type": "raw",
   "metadata": {
    "slideshow": {
     "slide_type": "notes"
    }
   },
   "source": [
    "<script>\n",
    "\n",
    "window.onload=function(){Reveal.initialize({width:\"100%\",height:\"100%\"});}\n",
    "\n",
    "</script>"
   ]
  },
  {
   "cell_type": "markdown",
   "metadata": {
    "slideshow": {
     "slide_type": "skip"
    }
   },
   "source": [
    "# Query news and blog data"
   ]
  },
  {
   "cell_type": "code",
   "execution_count": 1,
   "metadata": {
    "slideshow": {
     "slide_type": "skip"
    }
   },
   "outputs": [],
   "source": [
    "import numpy as np\n",
    "\n",
    "#Get all country codes\n",
    "import pycountry\n",
    "iso = []\n",
    "name = []\n",
    "for e in list(pycountry.countries):\n",
    "    iso.append(e.alpha_2)\n",
    "    name.append(e.name)\n",
    "    \n",
    "name = np.array(name)\n",
    "iso = np.array(iso)\n",
    "iso = iso[np.argsort(name)]\n",
    "name = name[np.argsort(name)]\n",
    "\n",
    "countr = []\n",
    "for i,e in enumerate(name):\n",
    "    countr.append((e,iso[i]))"
   ]
  },
  {
   "cell_type": "code",
   "execution_count": null,
   "metadata": {
    "slideshow": {
     "slide_type": "skip"
    }
   },
   "outputs": [],
   "source": [
    "from ipywidgets import Layout, Box, FloatText, Textarea, Dropdown, Label, Checkbox, SelectMultiple, Text, interact\n",
    "\n",
    "form_item_layout = Layout(\n",
    "    display='flex',\n",
    "    flex_flow='row',\n",
    "    justify_content='space-between',\n",
    "    align_content = \"flex-start\",\n",
    "    width = \"auto\"\n",
    ")\n",
    "\n",
    "form_items = [\n",
    "    Box([Label(value='Webhose Token',layout=Layout(width=\"auto\")), Textarea(value = \"76171c1e-faf9-4646-981e-10dda4eb680b\")], layout=form_item_layout),\n",
    "    Box([Label(value='Main query (in brackets)',layout=Layout(width=\"auto\")), Textarea()], layout=form_item_layout),\n",
    "    Box([Label(value='Language',layout=Layout(width=\"auto\")),\n",
    "         Dropdown(options=['english',\"german\"])], layout=form_item_layout),\n",
    "    Box([Label(value='Is first (Exclude comments)',layout=Layout(width=\"auto\")),\n",
    "         Checkbox(value=True)], layout=form_item_layout),\n",
    "    Box([Label(value='Performance score threshold (greater than x)',layout=Layout(width=\"auto\")),\n",
    "         FloatText(value = 1)], layout=form_item_layout),\n",
    "    Box([Label(value='Domain Rank (Top x sites by monthly traffic)',layout=Layout(width=\"auto\")),\n",
    "         FloatText(value = 10000)], layout=form_item_layout),\n",
    "     Box([Label(value='Published X days ago',layout=Layout(width=\"auto\")),\n",
    "         FloatText(value = 30)], layout=form_item_layout),\n",
    "    Box([Label(value='Site type(s) (in brackets)',layout=Layout(width=\"auto\")),\n",
    "         Textarea(value='(site_type:news OR site_type:blogs)')], layout=form_item_layout),\n",
    "    Box([Label(value='Sort by',layout=Layout(width=\"auto\")),\n",
    "         Dropdown(options={'Crawl Date': \"crawled\", 'Relevancy': \"relevancy\", 'Published': \"published\"})], layout=form_item_layout),\n",
    "    Box([Label(value='All countries',layout=Layout(width=\"auto\")),\n",
    "         Checkbox(value=False)], layout=form_item_layout),\n",
    "    Box([Label(value='Country'),\n",
    "         SelectMultiple(options=countr,value = [\"GB\"],layout=Layout(display=\"flex\", flex_flow='column'))], layout=form_item_layout),\n",
    "    Box([Label(value='Other (thread.title or organization in brackets)',layout=Layout(width=\"auto\")),\n",
    "         Textarea()], layout=form_item_layout)\n",
    "]\n",
    "\n",
    "form = Box(form_items, layout=Layout(\n",
    "    flex = \"flex-basis\",\n",
    "    flex_flow='column',\n",
    "    border='solid 1px',\n",
    "    width='60%',\n",
    "    height = \"auto\"\n",
    "))\n",
    "form"
   ]
  },
  {
   "cell_type": "code",
   "execution_count": null,
   "metadata": {
    "slideshow": {
     "slide_type": "skip"
    }
   },
   "outputs": [],
   "source": [
    "#Queries\n",
    "\"\"\"\n",
    "(electric car OR electric cars OR autonomous driving OR autonomous car OR connected car)\n",
    "\n",
    "((sport OR luxury) AND future AND (car sharing OR car rental OR car ownership OR car club OR car purchase OR car lease))\n",
    "\n",
    "((sport OR luxury) AND future AND (car OR vehicle) AND (rent OR rental OR lease OR leasing OR own OR buy OR purchase OR club OR subscription OR share OR sharing))\n",
    "\n",
    "\"\"\""
   ]
  },
  {
   "cell_type": "code",
   "execution_count": 20,
   "metadata": {
    "slideshow": {
     "slide_type": "skip"
    }
   },
   "outputs": [],
   "source": [
    "# Set up query with form inputs\n",
    "params = []\n",
    "for el in form.children:\n",
    "    params.append(el.children[1].value)\n",
    "    \n",
    "#Transform multi select countries\n",
    "if params[-3]:\n",
    "    params[-2]=\"\"\n",
    "else:    \n",
    "    repl = []\n",
    "    for i, c in enumerate(params[-2]):\n",
    "        repl.append(\"thread.country:\"+c)\n",
    "    if len(params[-2])>1:\n",
    "        params[-2] = \"(\"+\" OR \".join(repl)+\")\"\n",
    "    else: \n",
    "        params[-2] = repl[0]"
   ]
  },
  {
   "cell_type": "code",
   "execution_count": null,
   "metadata": {
    "slideshow": {
     "slide_type": "skip"
    }
   },
   "outputs": [],
   "source": [
    "#Build and run query\n",
    "import webhoseio\n",
    "import time\n",
    "import datetime\n",
    "\n",
    "webhoseio.config(token=params[0])\n",
    "query_params = {\"q\":params[1]+\" language:\"+params[2]+\" is_first:\"+str(params[3]).lower()+\" performance_score:>\"+str(int(params[4]))+\n",
    "                \" domain_rank:<\"+str(int(params[5]))+\" \"+params[7]+\" \"+params[10]+\" \"+params[11],\n",
    "               \"ts\":str(int(time.mktime((datetime.datetime.now() + datetime.timedelta(-params[6])).timetuple()) * 1000)),\n",
    "               \"sort\":params[8]}\n",
    "\n",
    "output = webhoseio.query(\"filterWebContent\", query_params)\n",
    "print(\"Total number of documents: \",output['totalResults'])"
   ]
  },
  {
   "cell_type": "code",
   "execution_count": 22,
   "metadata": {
    "slideshow": {
     "slide_type": "skip"
    }
   },
   "outputs": [],
   "source": [
    "import pandas as pd\n",
    "\n",
    "def get_list(obj,key):\n",
    "    l = []\n",
    "    for e in obj:\n",
    "        l.append(e[key])\n",
    "    return l\n",
    "\n",
    "data = []\n",
    "\n",
    "#Get all results to pandas dataframe\n",
    "while True:\n",
    "    \n",
    "    if len(output[\"posts\"]) != 0:\n",
    "        for post in output['posts']:\n",
    "            data.append({\n",
    "                \"entity_persons\":get_list(post[\"entities\"][\"persons\"],\"name\"),\n",
    "                \"entity_organizations\":get_list(post[\"entities\"][\"organizations\"],\"name\"),\n",
    "                \"entity_locations\":get_list(post[\"entities\"][\"locations\"],\"name\"),\n",
    "                \"uuid\":post[\"uuid\"],\n",
    "                \"author\":post[\"author\"],\n",
    "                \"url\":post[\"url\"],\n",
    "                \"language\":post[\"language\"],\n",
    "                \"title\":post[\"title\"],\n",
    "                \"highlightText\":post[\"highlightText\"],\n",
    "                \"text\":post[\"text\"],\n",
    "                \"publishedDate\":post[\"published\"],\n",
    "                \"crawledDate\":post[\"crawled\"],\n",
    "                \"fb_likes\":post[\"thread\"][\"social\"][\"facebook\"][\"likes\"],\n",
    "                \"fb_shares\":post[\"thread\"][\"social\"][\"facebook\"][\"shares\"],\n",
    "                \"linkedin_shares\":post[\"thread\"][\"social\"][\"linkedin\"][\"shares\"],\n",
    "                \"gplus_shares\":post[\"thread\"][\"social\"][\"gplus\"][\"shares\"],\n",
    "                \"source\":post[\"thread\"][\"site_full\"],\n",
    "                \"country\":post[\"thread\"][\"country\"],\n",
    "                \"performance_score\":post[\"thread\"][\"performance_score\"],\n",
    "                \"participants_counts\":post[\"thread\"][\"participants_count\"],\n",
    "                \"site_type\":post[\"thread\"][\"site_type\"]\n",
    "                \n",
    "            })\n",
    "    else:\n",
    "        break\n",
    "        \n",
    "    #Get next batch of data\n",
    "    time.sleep(30)\n",
    "    output = webhoseio.get_next()\n",
    "    \n",
    "data = pd.DataFrame.from_dict(data)\n",
    "data.crawledDate = pd.to_datetime(data.crawledDate).dt.date\n",
    "data.publishedDate = pd.to_datetime(data.publishedDate).dt.date"
   ]
  },
  {
   "cell_type": "code",
   "execution_count": 23,
   "metadata": {
    "slideshow": {
     "slide_type": "skip"
    }
   },
   "outputs": [],
   "source": [
    "#Save data\n",
    "data.to_csv(\"FBCA.csv\",header=True, index=False, encoding='utf-8',sep=\";\")"
   ]
  },
  {
   "cell_type": "code",
   "execution_count": null,
   "metadata": {
    "slideshow": {
     "slide_type": "skip"
    }
   },
   "outputs": [],
   "source": [
    "#data[\"source\"].unique()"
   ]
  },
  {
   "cell_type": "markdown",
   "metadata": {
    "slideshow": {
     "slide_type": "skip"
    }
   },
   "source": [
    "# Run topic model"
   ]
  },
  {
   "cell_type": "code",
   "execution_count": null,
   "metadata": {
    "slideshow": {
     "slide_type": "skip"
    }
   },
   "outputs": [],
   "source": [
    "import NewsTrends\n",
    "import pandas as pd\n",
    "import locale\n",
    "\n",
    "#locale.setlocale(locale.LC_ALL, 'deu_deu')\n",
    "%matplotlib inline\n",
    "\n",
    "data = pd.read_csv(\"FBCA.csv\",sep=\";\",encoding='utf-8')\n",
    "#data.date = pd.to_datetime(data.date,format=\"%d. %B %Y\")\n",
    "#data.shape"
   ]
  },
  {
   "cell_type": "code",
   "execution_count": null,
   "metadata": {
    "scrolled": true,
    "slideshow": {
     "slide_type": "skip"
    }
   },
   "outputs": [],
   "source": [
    "t = NewsTrends.topicModel(data,\n",
    "                          key_idx=list(data.columns).index(\"uuid\"),\n",
    "                          text_idx=list(data.columns).index(\"text\"),\n",
    "                          lang=\"en\",random_state = 1,\n",
    "                          bigram = True)"
   ]
  },
  {
   "cell_type": "code",
   "execution_count": null,
   "metadata": {
    "slideshow": {
     "slide_type": "skip"
    }
   },
   "outputs": [],
   "source": [
    "tok_dat = t.tokenize_docs(rmv_tokens=[\"'s\",\"$\",\"datum\"])\n",
    "corpus = t.get_bow(below = 0.05,above = 0.9)"
   ]
  },
  {
   "cell_type": "code",
   "execution_count": null,
   "metadata": {
    "scrolled": true,
    "slideshow": {
     "slide_type": "skip"
    }
   },
   "outputs": [],
   "source": [
    "#k,results = t.LDA_tune_k(max_k=30,iterations=800)"
   ]
  },
  {
   "cell_type": "code",
   "execution_count": null,
   "metadata": {
    "scrolled": true,
    "slideshow": {
     "slide_type": "skip"
    }
   },
   "outputs": [],
   "source": [
    "#Train topic model\n",
    "LDA = t.fit_LDA(10,iterations=2000)"
   ]
  },
  {
   "cell_type": "code",
   "execution_count": null,
   "metadata": {
    "slideshow": {
     "slide_type": "skip"
    }
   },
   "outputs": [],
   "source": [
    "#Inspect topic results\n",
    "topics = t.inspect_topics(n_top_words=20)\n",
    "\n",
    "result = ''\n",
    "for i, topic_words in enumerate(topics):\n",
    "    result += '* **Topic {}:** {}\\n'.format(i, ' '.join(topic_words))\n",
    "NewsTrends.MD(result)"
   ]
  },
  {
   "cell_type": "code",
   "execution_count": null,
   "metadata": {
    "slideshow": {
     "slide_type": "skip"
    }
   },
   "outputs": [],
   "source": [
    "topics = [[\"new app and site features\"],\n",
    "          [\"politics and social media issue\"],\n",
    "          [\"people ask questions, understand problems\"],\n",
    "          [\"private data collection by advertisers & tech giants\"],\n",
    "          [\"stock price, investors, twitter, apple\"],\n",
    "          [\"new internet world\"],\n",
    "          [\"Zuckerberg congress hearing\"],\n",
    "          [\"Trump campaign investigation, Cambridge Analytica, Russia\"],\n",
    "          [\"Cambridge Analytica company, Aleksandr Kogan\"],\n",
    "          [\"New data privacy regulation\"],\n",
    "          \n",
    "         ]\n",
    "len(topics)"
   ]
  },
  {
   "cell_type": "code",
   "execution_count": null,
   "metadata": {
    "slideshow": {
     "slide_type": "skip"
    }
   },
   "outputs": [],
   "source": [
    "# Print urls most representative of topic"
   ]
  },
  {
   "cell_type": "code",
   "execution_count": 71,
   "metadata": {
    "slideshow": {
     "slide_type": "skip"
    }
   },
   "outputs": [],
   "source": [
    "doctopics = t.get_doc_topic(topics)\n",
    "t.generate_network(node_attr=[ u'country', u'publishedDate',u'fb_likes', u'fb_shares',u'url',u\"site_type\",\"source\"],\n",
    "                  node_label=\"title\", similarity_cutoff = 0.8,\n",
    "                 similarity_measure = \"correlation\")"
   ]
  },
  {
   "cell_type": "code",
   "execution_count": 9,
   "metadata": {
    "slideshow": {
     "slide_type": "skip"
    }
   },
   "outputs": [],
   "source": [
    "#doctopics = t.get_doc_topic(topics)\n",
    "#t.generate_network(node_attr=[ u'title',u'location'],\n",
    " #                 node_label=\"title\", similarity_cutoff = 0.9,\n",
    "  #               similarity_measure = \"correlation\")"
   ]
  },
  {
   "cell_type": "markdown",
   "metadata": {
    "slideshow": {
     "slide_type": "slide"
    }
   },
   "source": [
    "# In the news: The Cambridge Analytica data scandal"
   ]
  },
  {
   "cell_type": "code",
   "execution_count": 99,
   "metadata": {
    "slideshow": {
     "slide_type": "skip"
    }
   },
   "outputs": [],
   "source": [
    "analysiscode=\"FBCA\""
   ]
  },
  {
   "cell_type": "markdown",
   "metadata": {
    "slideshow": {
     "slide_type": "slide"
    }
   },
   "source": [
    "## Summary\n",
    "\n",
    "1. By using intelligent text processing and learning directly from the textual context, the following analysis finds meaningful connections and relationships in a large corpus of unstructured data.\n",
    "\n",
    "2. The analysis of recent news articles related to the Facebook and Cambridge Analytica data scandal reveals two large topic clusters:\n",
    "    * Zuckerberg's congress hearings (Global attention) \n",
    "    * The ongoing investigation of the Trump campaign and connections to Cambridge Analytica (Most attention in the U.S.)\n",
    "       \n",
    "3. However, in most recent days stories around new privacy features in Facebook apps have started to dominate\n",
    "4. Finally, news articles that focused on the topic of data privacy or the Trump campaign investigation are most heavily shared on Facebook"
   ]
  },
  {
   "cell_type": "markdown",
   "metadata": {
    "slideshow": {
     "slide_type": "slide"
    }
   },
   "source": [
    "## Data Summary"
   ]
  },
  {
   "cell_type": "code",
   "execution_count": 112,
   "metadata": {
    "slideshow": {
     "slide_type": "fragment"
    }
   },
   "outputs": [
    {
     "name": "stdout",
     "output_type": "stream",
     "text": [
      "The data set contains 993 stories between 2018-04-09 and 2018-05-08.\n",
      "\n",
      "Top sources include:\n",
      "\n",
      "1 www.theguardian.com\n",
      "2 www.businessinsider.com\n",
      "3 www.theverge.com\n",
      "4 www.cbc.ca\n",
      "5 www.cnet.com\n"
     ]
    }
   ],
   "source": [
    "import pprint\n",
    "print(\"The data set contains {} stories between {} and {}.\".format(data.shape[0],data.publishedDate.min(),data.publishedDate.max()))\n",
    "print()\n",
    "print(\"Top sources include:\")\n",
    "print()\n",
    "for a, b in enumerate(data.groupby(\"source\")[\"uuid\"].agg(\"count\").sort_values(ascending=False)[0:5].keys(), 1):\n",
    "    print('{} {}'.format(a, b))"
   ]
  },
  {
   "cell_type": "code",
   "execution_count": 113,
   "metadata": {
    "slideshow": {
     "slide_type": "skip"
    }
   },
   "outputs": [
    {
     "data": {
      "text/html": [
       "<script>requirejs.config({paths: { 'plotly': ['https://cdn.plot.ly/plotly-latest.min']},});if(!window.Plotly) {{require(['plotly'],function(plotly) {window.Plotly=plotly;});}}</script>"
      ],
      "text/vnd.plotly.v1+html": [
       "<script>requirejs.config({paths: { 'plotly': ['https://cdn.plot.ly/plotly-latest.min']},});if(!window.Plotly) {{require(['plotly'],function(plotly) {window.Plotly=plotly;});}}</script>"
      ]
     },
     "metadata": {},
     "output_type": "display_data"
    }
   ],
   "source": [
    "#Plotly\n",
    "import numpy as np\n",
    "import plotly\n",
    "import plotly.plotly as py\n",
    "import plotly.graph_objs as go\n",
    "from ipywidgets import widgets\n",
    "from plotly.widgets import GraphWidget\n",
    "\n",
    "plotly.offline.init_notebook_mode(connected=True)\n",
    "plotly.tools.set_credentials_file(username='bockjohannes@gmx.de', api_key='U8wOvUmXSdm9E9IB1l47')"
   ]
  },
  {
   "cell_type": "markdown",
   "metadata": {
    "slideshow": {
     "slide_type": "slide"
    }
   },
   "source": [
    "## Document Analysis\n",
    "\n",
    "*Note: If the following plots are not displayed nicely, hit refresh and wait until fully loaded.*"
   ]
  },
  {
   "cell_type": "code",
   "execution_count": 114,
   "metadata": {},
   "outputs": [],
   "source": [
    "import os\n",
    "from shutil import copyfile\n",
    "\n",
    "# Move templates\n",
    "source = \"01_Vorlage/\"\n",
    "dst = \"graphics/network/\"\n",
    "\n",
    "for f in [\"index.html\",\"css/style.css\",\"js/main.js\",\"js/sigma/sigma.parseJson.js\"]:\n",
    "    copyfile(source+f, dst+f)\n"
   ]
  },
  {
   "cell_type": "markdown",
   "metadata": {
    "slideshow": {
     "slide_type": "slide"
    }
   },
   "source": [
    "### The discussion is dominated by two distinct clusters, namely 1) the congress hearings of Zuckerberg and 2) the ongoing investigation of the Trump campaign ([Network guide](http://nbviewer.jupyter.org/github/bockjo/Udacity_portfolio/blob/master/networks_how_to.png))."
   ]
  },
  {
   "cell_type": "code",
   "execution_count": 115,
   "metadata": {
    "scrolled": false,
    "slideshow": {
     "slide_type": "fragment"
    }
   },
   "outputs": [
    {
     "data": {
      "text/html": [
       "<iframe src=\"graphics/network/index.html\" width=\"100%\" height=\"480\" seamless>Graph not rendered.</iframe>"
      ],
      "text/plain": [
       "<IPython.core.display.HTML object>"
      ]
     },
     "execution_count": 115,
     "metadata": {},
     "output_type": "execute_result"
    }
   ],
   "source": [
    "from IPython.core.display import HTML\n",
    "\n",
    "HTML('<iframe src=\"graphics/network/index.html\" width=\"100%\" height=\"480\" seamless>Graph not rendered.</iframe>')"
   ]
  },
  {
   "cell_type": "markdown",
   "metadata": {
    "slideshow": {
     "slide_type": "skip"
    }
   },
   "source": [
    "## Topics over time"
   ]
  },
  {
   "cell_type": "markdown",
   "metadata": {
    "slideshow": {
     "slide_type": "slide"
    }
   },
   "source": [
    "### In week 15 the news coverage focused on Zuckerberg's congress hearings, but shifted to new privacy features and apps such as the announced Facebook dating app during week 18."
   ]
  },
  {
   "cell_type": "code",
   "execution_count": 116,
   "metadata": {
    "slideshow": {
     "slide_type": "fragment"
    }
   },
   "outputs": [
    {
     "data": {
      "text/html": [
       "<iframe id=\"igraph\" scrolling=\"no\" style=\"border:none;\" seamless=\"seamless\" src=\"https://plot.ly/~bockjo/70.embed\" height=\"525px\" width=\"100%\"></iframe>"
      ],
      "text/plain": [
       "<plotly.tools.PlotlyDisplay object>"
      ]
     },
     "execution_count": 116,
     "metadata": {},
     "output_type": "execute_result"
    }
   ],
   "source": [
    "# generate a function to handle changes in the widget\n",
    "def timeline(y,date_col,colorby,aggregate=\"nunique\",timeinterval=None):\n",
    "\n",
    "    plot_dat = t.df.copy()\n",
    "    plot_dat[date_col] = pd.to_datetime(plot_dat[date_col]).dt.week\n",
    "        \n",
    "    plot_dat = plot_dat.groupby([date_col,colorby])[y].agg(aggregate)\n",
    "    dat = plot_dat.reset_index()\n",
    "    \n",
    "    dataset = []\n",
    "    for gr in dat[colorby].unique():\n",
    "        dataset.append(go.Bar(\n",
    "        x=dat[dat[colorby]==gr][date_col],\n",
    "        y=dat[dat[colorby]==gr][y],\n",
    "        name=gr\n",
    "    ))\n",
    "\n",
    "    layout = go.Layout(\n",
    "        autosize=True,\n",
    "        barmode='stack',\n",
    "        showlegend = True,\n",
    "        legend=dict(orientation=\"h\",x=0.1,y=1.5),\n",
    "        yaxis = dict(title = \"Publish-Count\"),\n",
    "        xaxis = dict(title=\"Week number\")\n",
    "    )\n",
    "    \n",
    "    \n",
    "    fig = go.Figure(data=dataset, layout=layout)\n",
    "    return py.iplot(fig, filename=analysiscode+'stacked-bar')\n",
    "\n",
    "timeline(y=\"uuid\", date_col = 'publishedDate',colorby=\"topic_terms\",aggregate=\"nunique\")"
   ]
  },
  {
   "cell_type": "markdown",
   "metadata": {
    "slideshow": {
     "slide_type": "skip"
    }
   },
   "source": [
    "## Histogram"
   ]
  },
  {
   "cell_type": "markdown",
   "metadata": {
    "heading_collapsed": true,
    "slideshow": {
     "slide_type": "skip"
    }
   },
   "source": [
    "### Especially stories of hackers exploiting bitcoin's anonymity to blackmail their victims were shared heavily on Facebook."
   ]
  },
  {
   "cell_type": "code",
   "execution_count": 81,
   "metadata": {
    "hidden": true,
    "scrolled": false,
    "slideshow": {
     "slide_type": "skip"
    }
   },
   "outputs": [
    {
     "data": {
      "text/html": [
       "<iframe id=\"igraph\" scrolling=\"no\" style=\"border:none;\" seamless=\"seamless\" src=\"https://plot.ly/~bockjo/64.embed\" height=\"525px\" width=\"100%\"></iframe>"
      ],
      "text/plain": [
       "<plotly.tools.PlotlyDisplay object>"
      ]
     },
     "execution_count": 81,
     "metadata": {},
     "output_type": "execute_result"
    }
   ],
   "source": [
    "# generate a function to handle changes in the widget\n",
    "def hist(x,colorby=\"topic_terms\",logx = False):\n",
    "\n",
    "    plot_dat = t.df.copy()\n",
    "    \n",
    "    if logx:\n",
    "        plot_dat[x]=np.log(plot_dat[x])\n",
    "        #typ = 'log'\n",
    "    #else:\n",
    "        #typ=\"normal\"\n",
    "    data = []\n",
    "    for gr in plot_dat[colorby].unique():\n",
    "        data.append(go.Histogram(\n",
    "            x=plot_dat.loc[plot_dat[colorby]==gr,x],\n",
    "            name=gr\n",
    "            \n",
    "    ))\n",
    "\n",
    "    layout = go.Layout(barmode='stack',legend=dict(orientation=\"h\",x=0.1,y=1.5),\n",
    "                       autosize=True,\n",
    "                #width=800,\n",
    "                #height=550,\n",
    "                       xaxis=dict(title=x,type=\"normal\",autorange=True,\n",
    "                                 exponentformat= \"e\" if logx else \"none\"),\n",
    "                      yaxis = dict(title=\"count\"))\n",
    "    fig = go.Figure(data=data, layout=layout)\n",
    "\n",
    "    \n",
    "    return py.iplot(fig, filename=analysiscode+'stacked histogram')\n",
    "\n",
    "hist(x='fb_shares',colorby=\"topic_terms\",logx=True)"
   ]
  },
  {
   "cell_type": "markdown",
   "metadata": {
    "slideshow": {
     "slide_type": "skip"
    }
   },
   "source": [
    "## Scatter plot"
   ]
  },
  {
   "cell_type": "markdown",
   "metadata": {
    "slideshow": {
     "slide_type": "slide"
    }
   },
   "source": [
    "### While many news stories were concerned with covering the congress hearings, social media users shared news reports about private data collection practices of tech giants more heavily."
   ]
  },
  {
   "cell_type": "code",
   "execution_count": 117,
   "metadata": {
    "slideshow": {
     "slide_type": "fragment"
    }
   },
   "outputs": [
    {
     "data": {
      "text/html": [
       "<iframe id=\"igraph\" scrolling=\"no\" style=\"border:none;\" seamless=\"seamless\" src=\"https://plot.ly/~bockjo/72.embed\" height=\"525px\" width=\"100%\"></iframe>"
      ],
      "text/plain": [
       "<plotly.tools.PlotlyDisplay object>"
      ]
     },
     "execution_count": 117,
     "metadata": {},
     "output_type": "execute_result"
    }
   ],
   "source": [
    "def scatter(x,y,groupby,colorby = None,sizeby = \"fixed\", aggregate = {\"x\":\"sum\",\"y\":\"sum\",\"colorby\":\"sum\"},\n",
    "            axistype = {\"x\":\"normal\",\"y\":\"normal\"},\n",
    "            xtitle=\"\", ytitle=\"\"):\n",
    "    \n",
    "    plot_dat = t.df.copy()\n",
    "    if sizeby==\"fixed\":\n",
    "        s=15\n",
    "    if colorby == None:\n",
    "        colorby = groupby\n",
    "        \n",
    "    if plot_dat[colorby].dtype == np.object:\n",
    "        plot_datx = plot_dat.groupby([colorby,groupby])[x].agg(aggregate[\"x\"])\n",
    "        plot_daty = plot_dat.groupby([colorby,groupby])[y].agg(aggregate[\"y\"])\n",
    "        \n",
    "        dat = []\n",
    "        for cat in plot_dat[colorby].unique():\n",
    "            \n",
    "            dat.append({\"x\":plot_datx[cat].values,\n",
    "                       \"y\":plot_daty[cat].values,\n",
    "                        \"text\":plot_daty[cat].index,\n",
    "                       \"name\":cat,\n",
    "                       \"mode\":\"markers\",\n",
    "                       \"marker\":dict(size=s)})\n",
    "        fig = {\n",
    "            'data': dat,\n",
    "            'layout': {\"legend\":dict(orientation=\"h\",x=0.1,y=1.5),\"showlegend\": True,\n",
    "                'xaxis': {'title': xtitle,\"type\":axistype[\"x\"],\"exponentformat\": \"e\" if axistype[\"x\"]==\"log\" else \"none\"},\n",
    "                'yaxis': {'title': ytitle,\"type\":axistype[\"y\"],\"exponentformat\": \"e\" if axistype[\"y\"]==\"log\" else \"none\"},\n",
    "                \"autosize\":True\n",
    "            }\n",
    "        }\n",
    "    else:\n",
    "        plot_datx = plot_dat.groupby(groupby)[x].agg(aggregate[\"x\"])\n",
    "        plot_daty = plot_dat.groupby(groupby)[y].agg(aggregate[\"y\"])\n",
    "        plot_datcol = plot_dat.groupby(groupby)[colorby].agg(aggregate[\"colorby\"])\n",
    "        \n",
    "        trace1 = go.Scatter(\n",
    "            y = plot_daty.values,\n",
    "            x = plot_datx.values,\n",
    "            mode='markers',\n",
    "            marker=dict(\n",
    "                size=s,\n",
    "                color = plot_datcol.values, #set color equal to a variable\n",
    "                colorscale='Viridis',\n",
    "                showscale=True\n",
    "            )\n",
    "        )\n",
    "        layout = dict(xaxis=dic(title=xtitle,type=axistype[\"x\"],exponentformat= \"e\" if axistype[\"x\"]==\"log\" else \"none\"),\n",
    "                      yaxis=dic(title=ytitle,type=axistype[\"y\"],exponentformat= \"e\" if axistype[\"y\"]==\"log\" else \"none\"))\n",
    "        fig = go.Figure(data=[trace1],layout = layout)\n",
    "        \n",
    "    return py.iplot(fig, filename=analysiscode+'bar')\n",
    "\n",
    "scatter(x=\"uuid\",y='fb_shares',groupby=\"topic_terms\",colorby = \"topic_terms\",\n",
    "        sizeby = \"fixed\",xtitle=\"Publish-Count\",ytitle=\"Median fb-share per article\",\n",
    "        axistype=dict(x=\"normal\",y=\"normal\"),\n",
    "        aggregate = {\"x\":\"nunique\",\"y\":\"median\",\"colorby\":\"sum\"})"
   ]
  },
  {
   "cell_type": "markdown",
   "metadata": {
    "slideshow": {
     "slide_type": "skip"
    }
   },
   "source": [
    "## Bar Chart"
   ]
  },
  {
   "cell_type": "markdown",
   "metadata": {
    "slideshow": {
     "slide_type": "slide"
    }
   },
   "source": [
    "### U.S. news dominated social media, but the Zuckerberg congress hearings were covered and liked more internationally. Especially Indian news on the congress hearings were liked a lot on Facebook."
   ]
  },
  {
   "cell_type": "code",
   "execution_count": 118,
   "metadata": {
    "scrolled": false,
    "slideshow": {
     "slide_type": "fragment"
    }
   },
   "outputs": [
    {
     "data": {
      "text/html": [
       "<iframe id=\"igraph\" scrolling=\"no\" style=\"border:none;\" seamless=\"seamless\" src=\"https://plot.ly/~bockjo/74.embed\" height=\"550px\" width=\"800px\"></iframe>"
      ],
      "text/plain": [
       "<plotly.tools.PlotlyDisplay object>"
      ]
     },
     "execution_count": 118,
     "metadata": {},
     "output_type": "execute_result"
    }
   ],
   "source": [
    "def bar_continuous():\n",
    "    plot_dat = t.df.copy()\n",
    "    \n",
    "    plot_dat = plot_dat.groupby(groupby)[x].agg(aggregate)\n",
    "    data =[\n",
    "        go.Bar(\n",
    "        y=plot_dat.index.values,\n",
    "        x=plot_dat.values,\n",
    "        orientation = 'h')\n",
    "    ]\n",
    "    fig = go.Figure(data=data)\n",
    "    \n",
    "    return py.iplot(fig, filename='bar_cont')\n",
    "        \n",
    "def bar(x,groupby,xtitle=\"\",colorby = \"topic_terms\", aggregate = \"sum\"):\n",
    "    plot_dat = t.df.copy()\n",
    "    \n",
    "    data = []\n",
    "    plot_dat = plot_dat.groupby([colorby,groupby])[x].agg(aggregate)\n",
    "    for gr in plot_dat.index.levels[0]: \n",
    "        data.append(go.Bar(\n",
    "        y=plot_dat[gr].index.values,\n",
    "        x=plot_dat[gr].values,\n",
    "        name=gr,\n",
    "        orientation = 'h'\n",
    "    ))\n",
    "\n",
    "    layout = go.Layout(\n",
    "        autosize=False,\n",
    "    width=800,\n",
    "    height=550,\n",
    "        barmode='stack',\n",
    "        showlegend = True,\n",
    "        xaxis = dict(title=xtitle,position=-1.),\n",
    "        yaxis = dict(),\n",
    "        legend=dict(orientation=\"h\",x=0.1,y=1.2),\n",
    "        margin = go.Margin(l=350,r=10)\n",
    "    )\n",
    "\n",
    "    fig = go.Figure(data=data, layout=layout)\n",
    "    \n",
    "    return py.iplot(fig, filename=analysiscode+'bar_cat')\n",
    "\n",
    "bar(x=\"fb_likes\",groupby=\"topic_terms\",colorby=\"country\",aggregate=\"sum\",xtitle=\"fb_likes\")"
   ]
  },
  {
   "cell_type": "code",
   "execution_count": 119,
   "metadata": {
    "slideshow": {
     "slide_type": "skip"
    }
   },
   "outputs": [],
   "source": [
    "# jupyter nbconvert CryptoNews7.ipynb --to slides --template temp --post serve\n",
    "# http://nbviewer.jupyter.org/format/slides/github/bockjo/Udacity_portfolio/blob/master/filename.ipynb"
   ]
  }
 ],
 "metadata": {
  "celltoolbar": "Slideshow",
  "hide_input": false,
  "kernelspec": {
   "display_name": "Python 3",
   "language": "python",
   "name": "python3"
  },
  "language_info": {
   "codemirror_mode": {
    "name": "ipython",
    "version": 3
   },
   "file_extension": ".py",
   "mimetype": "text/x-python",
   "name": "python",
   "nbconvert_exporter": "python",
   "pygments_lexer": "ipython3",
   "version": "3.5.4"
  },
  "toc": {
   "nav_menu": {},
   "number_sections": true,
   "sideBar": true,
   "skip_h1_title": false,
   "title_cell": "Table of Contents",
   "title_sidebar": "Contents",
   "toc_cell": false,
   "toc_position": {
    "height": "calc(100% - 180px)",
    "left": "10px",
    "top": "150px",
    "width": "380px"
   },
   "toc_section_display": true,
   "toc_window_display": true
  },
  "varInspector": {
   "cols": {
    "lenName": 16,
    "lenType": 16,
    "lenVar": 40
   },
   "kernels_config": {
    "python": {
     "delete_cmd_postfix": "",
     "delete_cmd_prefix": "del ",
     "library": "var_list.py",
     "varRefreshCmd": "print(var_dic_list())"
    },
    "r": {
     "delete_cmd_postfix": ") ",
     "delete_cmd_prefix": "rm(",
     "library": "var_list.r",
     "varRefreshCmd": "cat(var_dic_list()) "
    }
   },
   "types_to_exclude": [
    "module",
    "function",
    "builtin_function_or_method",
    "instance",
    "_Feature"
   ],
   "window_display": false
  }
 },
 "nbformat": 4,
 "nbformat_minor": 2
}
