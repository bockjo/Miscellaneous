{
 "cells": [
  {
   "cell_type": "raw",
   "metadata": {
    "slideshow": {
     "slide_type": "notes"
    }
   },
   "source": [
    "<script>\n",
    "  function code_toggle() {\n",
    "    if (code_shown){\n",
    "      $('div.input').hide('500');\n",
    "      $('#toggleButton').val('Show Code')\n",
    "    } else {\n",
    "      $('div.input').show('500');\n",
    "      $('#toggleButton').val('Hide Code')\n",
    "    }\n",
    "    code_shown = !code_shown\n",
    "  }\n",
    "\n",
    "  $( document ).ready(function(){\n",
    "    code_shown=false;\n",
    "    $('div.input').hide()\n",
    "  });\n",
    "\n",
    "</script>"
   ]
  },
  {
   "cell_type": "raw",
   "metadata": {
    "slideshow": {
     "slide_type": "notes"
    }
   },
   "source": [
    "<script>\n",
    "\n",
    "window.onload=function(){Reveal.initialize({width:\"100%\",height:\"100%\"});}\n",
    "\n",
    "</script>"
   ]
  },
  {
   "cell_type": "markdown",
   "metadata": {
    "slideshow": {
     "slide_type": "skip"
    }
   },
   "source": [
    "# Data prep"
   ]
  },
  {
   "cell_type": "code",
   "execution_count": 1,
   "metadata": {
    "slideshow": {
     "slide_type": "skip"
    }
   },
   "outputs": [],
   "source": [
    "import numpy as np # linear algebra\n",
    "import pandas as pd # data processing, CSV file I/O (e.g. pd.read_csv)\n",
    "import glob\n",
    "import json\n",
    "\n",
    "import matplotlib.pyplot as plt\n",
    "plt.style.use('ggplot')"
   ]
  },
  {
   "cell_type": "code",
   "execution_count": 2,
   "metadata": {
    "slideshow": {
     "slide_type": "skip"
    }
   },
   "outputs": [
    {
     "data": {
      "text/plain": [
       "(393, 12)"
      ]
     },
     "execution_count": 2,
     "metadata": {},
     "output_type": "execute_result"
    }
   ],
   "source": [
    "#Read review data\n",
    "data = pd.read_csv(\"reviews.csv\")\n",
    "data[\"review_id\"] = data.index\n",
    "data.columns = ['producthandle', 'state', 'rating', 'title', 'author', 'email',\n",
    "       'location', 'body', 'reply', 'createdat', 'repliedat', 'review_id']\n",
    "data.shape"
   ]
  },
  {
   "cell_type": "markdown",
   "metadata": {
    "slideshow": {
     "slide_type": "skip"
    }
   },
   "source": [
    "# Topic Model"
   ]
  },
  {
   "cell_type": "code",
   "execution_count": 4,
   "metadata": {
    "slideshow": {
     "slide_type": "skip"
    }
   },
   "outputs": [],
   "source": [
    "import NewsTrends\n",
    "import importlib\n",
    "importlib.reload(NewsTrends)\n",
    "import locale\n",
    "\n",
    "%matplotlib inline"
   ]
  },
  {
   "cell_type": "code",
   "execution_count": 5,
   "metadata": {
    "slideshow": {
     "slide_type": "skip"
    }
   },
   "outputs": [
    {
     "name": "stdout",
     "output_type": "stream",
     "text": [
      "Train bigram model ...\n",
      "ewig fantastisch\n",
      "\n",
      "definitiv nachkaufen\n",
      "\n",
      "lieb Duschbrocken\n",
      "\n",
      "Super frisch Geruch easy begeistern\n",
      "\n"
     ]
    }
   ],
   "source": [
    "t = NewsTrends.topicModel(data,\n",
    "                          key_idx=list(data.columns).index(\"review_id\"),\n",
    "                          text_idx=list(data.columns).index(\"body\"),\n",
    "                          lang=\"de_core_news_sm\",random_state = 1,\n",
    "                          bigram = True)"
   ]
  },
  {
   "cell_type": "code",
   "execution_count": 6,
   "metadata": {
    "slideshow": {
     "slide_type": "skip"
    }
   },
   "outputs": [
    {
     "name": "stdout",
     "output_type": "stream",
     "text": [
      "392 done ]\n"
     ]
    }
   ],
   "source": [
    "corpus = t.tokenize_docs(rmv_tokens=[\"duschbrocken\"])"
   ]
  },
  {
   "cell_type": "code",
   "execution_count": 7,
   "metadata": {
    "slideshow": {
     "slide_type": "skip"
    }
   },
   "outputs": [
    {
     "data": {
      "text/html": [
       "<div>\n",
       "<style scoped>\n",
       "    .dataframe tbody tr th:only-of-type {\n",
       "        vertical-align: middle;\n",
       "    }\n",
       "\n",
       "    .dataframe tbody tr th {\n",
       "        vertical-align: top;\n",
       "    }\n",
       "\n",
       "    .dataframe thead th {\n",
       "        text-align: right;\n",
       "    }\n",
       "</style>\n",
       "<table border=\"1\" class=\"dataframe\">\n",
       "  <thead>\n",
       "    <tr style=\"text-align: right;\">\n",
       "      <th></th>\n",
       "      <th>review_id</th>\n",
       "      <th>tokenized_text</th>\n",
       "    </tr>\n",
       "  </thead>\n",
       "  <tbody>\n",
       "    <tr>\n",
       "      <th>0</th>\n",
       "      <td>0</td>\n",
       "      <td>[riechen, unfassbar, ewig, fantastisch, defini...</td>\n",
       "    </tr>\n",
       "    <tr>\n",
       "      <th>1</th>\n",
       "      <td>1</td>\n",
       "      <td>[lieb]</td>\n",
       "    </tr>\n",
       "    <tr>\n",
       "      <th>2</th>\n",
       "      <td>2</td>\n",
       "      <td>[super, frisch, geruch, easy, begeistern]</td>\n",
       "    </tr>\n",
       "    <tr>\n",
       "      <th>3</th>\n",
       "      <td>3</td>\n",
       "      <td>[carlos, ausgiebig, haus, urlaub, testen, rein...</td>\n",
       "    </tr>\n",
       "    <tr>\n",
       "      <th>4</th>\n",
       "      <td>4</td>\n",
       "      <td>[verschieden, hinsicht, anspruchsvoll, kosmeti...</td>\n",
       "    </tr>\n",
       "  </tbody>\n",
       "</table>\n",
       "</div>"
      ],
      "text/plain": [
       "   review_id                                     tokenized_text\n",
       "0          0  [riechen, unfassbar, ewig, fantastisch, defini...\n",
       "1          1                                             [lieb]\n",
       "2          2          [super, frisch, geruch, easy, begeistern]\n",
       "3          3  [carlos, ausgiebig, haus, urlaub, testen, rein...\n",
       "4          4  [verschieden, hinsicht, anspruchsvoll, kosmeti..."
      ]
     },
     "execution_count": 7,
     "metadata": {},
     "output_type": "execute_result"
    }
   ],
   "source": [
    "corpus.head()"
   ]
  },
  {
   "cell_type": "code",
   "execution_count": 8,
   "metadata": {
    "slideshow": {
     "slide_type": "skip"
    }
   },
   "outputs": [],
   "source": [
    "corpus = t.get_bow(below = 0.05,above = 0.9)"
   ]
  },
  {
   "cell_type": "code",
   "execution_count": 9,
   "metadata": {
    "scrolled": true,
    "slideshow": {
     "slide_type": "skip"
    }
   },
   "outputs": [
    {
     "name": "stderr",
     "output_type": "stream",
     "text": [
      "INFO:lda:n_documents: 393\n",
      "INFO:lda:vocab_size: 76\n",
      "INFO:lda:n_words: 3895\n",
      "INFO:lda:n_topics: 1\n",
      "INFO:lda:n_iter: 800\n",
      "WARNING:lda:all zero row in document-term matrix found\n",
      "INFO:lda:<0> log likelihood: -16573\n",
      "INFO:lda:<10> log likelihood: -16573\n",
      "INFO:lda:<20> log likelihood: -16573\n",
      "INFO:lda:<30> log likelihood: -16573\n",
      "INFO:lda:<40> log likelihood: -16573\n",
      "INFO:lda:<50> log likelihood: -16573\n",
      "INFO:lda:<60> log likelihood: -16573\n",
      "INFO:lda:<70> log likelihood: -16573\n",
      "INFO:lda:<80> log likelihood: -16573\n",
      "INFO:lda:<90> log likelihood: -16573\n",
      "INFO:lda:<100> log likelihood: -16573\n",
      "INFO:lda:<110> log likelihood: -16573\n",
      "INFO:lda:<120> log likelihood: -16573\n",
      "INFO:lda:<130> log likelihood: -16573\n",
      "INFO:lda:<140> log likelihood: -16573\n",
      "INFO:lda:<150> log likelihood: -16573\n",
      "INFO:lda:<160> log likelihood: -16573\n",
      "INFO:lda:<170> log likelihood: -16573\n",
      "INFO:lda:<180> log likelihood: -16573\n",
      "INFO:lda:<190> log likelihood: -16573\n",
      "INFO:lda:<200> log likelihood: -16573\n",
      "INFO:lda:<210> log likelihood: -16573\n",
      "INFO:lda:<220> log likelihood: -16573\n",
      "INFO:lda:<230> log likelihood: -16573\n",
      "INFO:lda:<240> log likelihood: -16573\n",
      "INFO:lda:<250> log likelihood: -16573\n",
      "INFO:lda:<260> log likelihood: -16573\n",
      "INFO:lda:<270> log likelihood: -16573\n",
      "INFO:lda:<280> log likelihood: -16573\n",
      "INFO:lda:<290> log likelihood: -16573\n",
      "INFO:lda:<300> log likelihood: -16573\n",
      "INFO:lda:<310> log likelihood: -16573\n",
      "INFO:lda:<320> log likelihood: -16573\n",
      "INFO:lda:<330> log likelihood: -16573\n",
      "INFO:lda:<340> log likelihood: -16573\n",
      "INFO:lda:<350> log likelihood: -16573\n",
      "INFO:lda:<360> log likelihood: -16573\n",
      "INFO:lda:<370> log likelihood: -16573\n",
      "INFO:lda:<380> log likelihood: -16573\n",
      "INFO:lda:<390> log likelihood: -16573\n",
      "INFO:lda:<400> log likelihood: -16573\n",
      "INFO:lda:<410> log likelihood: -16573\n",
      "INFO:lda:<420> log likelihood: -16573\n",
      "INFO:lda:<430> log likelihood: -16573\n",
      "INFO:lda:<440> log likelihood: -16573\n",
      "INFO:lda:<450> log likelihood: -16573\n",
      "INFO:lda:<460> log likelihood: -16573\n",
      "INFO:lda:<470> log likelihood: -16573\n",
      "INFO:lda:<480> log likelihood: -16573\n",
      "INFO:lda:<490> log likelihood: -16573\n",
      "INFO:lda:<500> log likelihood: -16573\n",
      "INFO:lda:<510> log likelihood: -16573\n",
      "INFO:lda:<520> log likelihood: -16573\n",
      "INFO:lda:<530> log likelihood: -16573\n",
      "INFO:lda:<540> log likelihood: -16573\n",
      "INFO:lda:<550> log likelihood: -16573\n",
      "INFO:lda:<560> log likelihood: -16573\n",
      "INFO:lda:<570> log likelihood: -16573\n",
      "INFO:lda:<580> log likelihood: -16573\n",
      "INFO:lda:<590> log likelihood: -16573\n",
      "INFO:lda:<600> log likelihood: -16573\n",
      "INFO:lda:<610> log likelihood: -16573\n",
      "INFO:lda:<620> log likelihood: -16573\n",
      "INFO:lda:<630> log likelihood: -16573\n",
      "INFO:lda:<640> log likelihood: -16573\n",
      "INFO:lda:<650> log likelihood: -16573\n",
      "INFO:lda:<660> log likelihood: -16573\n",
      "INFO:lda:<670> log likelihood: -16573\n",
      "INFO:lda:<680> log likelihood: -16573\n",
      "INFO:lda:<690> log likelihood: -16573\n",
      "INFO:lda:<700> log likelihood: -16573\n",
      "INFO:lda:<710> log likelihood: -16573\n",
      "INFO:lda:<720> log likelihood: -16573\n",
      "INFO:lda:<730> log likelihood: -16573\n",
      "INFO:lda:<740> log likelihood: -16573\n",
      "INFO:lda:<750> log likelihood: -16573\n",
      "INFO:lda:<760> log likelihood: -16573\n",
      "INFO:lda:<770> log likelihood: -16573\n",
      "INFO:lda:<780> log likelihood: -16573\n",
      "INFO:lda:<790> log likelihood: -16573\n",
      "INFO:lda:<799> log likelihood: -16573\n",
      "INFO:lda:n_documents: 393\n",
      "INFO:lda:vocab_size: 76\n",
      "INFO:lda:n_words: 3895\n",
      "INFO:lda:n_topics: 2\n",
      "INFO:lda:n_iter: 800\n",
      "WARNING:lda:all zero row in document-term matrix found\n",
      "INFO:lda:<0> log likelihood: -21542\n",
      "INFO:lda:<10> log likelihood: -17697\n",
      "INFO:lda:<20> log likelihood: -17413\n",
      "INFO:lda:<30> log likelihood: -17330\n",
      "INFO:lda:<40> log likelihood: -17289\n",
      "INFO:lda:<50> log likelihood: -17359\n",
      "INFO:lda:<60> log likelihood: -17361\n",
      "INFO:lda:<70> log likelihood: -17372\n",
      "INFO:lda:<80> log likelihood: -17344\n",
      "INFO:lda:<90> log likelihood: -17328\n",
      "INFO:lda:<100> log likelihood: -17314\n",
      "INFO:lda:<110> log likelihood: -17283\n",
      "INFO:lda:<120> log likelihood: -17251\n",
      "INFO:lda:<130> log likelihood: -17221\n",
      "INFO:lda:<140> log likelihood: -17265\n",
      "INFO:lda:<150> log likelihood: -17269\n",
      "INFO:lda:<160> log likelihood: -17317\n",
      "INFO:lda:<170> log likelihood: -17239\n",
      "INFO:lda:<180> log likelihood: -17300\n",
      "INFO:lda:<190> log likelihood: -17209\n",
      "INFO:lda:<200> log likelihood: -17254\n",
      "INFO:lda:<210> log likelihood: -17227\n",
      "INFO:lda:<220> log likelihood: -17251\n",
      "INFO:lda:<230> log likelihood: -17264\n",
      "INFO:lda:<240> log likelihood: -17274\n",
      "INFO:lda:<250> log likelihood: -17288\n",
      "INFO:lda:<260> log likelihood: -17317\n",
      "INFO:lda:<270> log likelihood: -17251\n",
      "INFO:lda:<280> log likelihood: -17246\n",
      "INFO:lda:<290> log likelihood: -17225\n",
      "INFO:lda:<300> log likelihood: -17263\n",
      "INFO:lda:<310> log likelihood: -17235\n",
      "INFO:lda:<320> log likelihood: -17234\n",
      "INFO:lda:<330> log likelihood: -17274\n",
      "INFO:lda:<340> log likelihood: -17254\n",
      "INFO:lda:<350> log likelihood: -17229\n",
      "INFO:lda:<360> log likelihood: -17216\n",
      "INFO:lda:<370> log likelihood: -17264\n",
      "INFO:lda:<380> log likelihood: -17238\n",
      "INFO:lda:<390> log likelihood: -17226\n",
      "INFO:lda:<400> log likelihood: -17229\n",
      "INFO:lda:<410> log likelihood: -17210\n",
      "INFO:lda:<420> log likelihood: -17241\n",
      "INFO:lda:<430> log likelihood: -17166\n",
      "INFO:lda:<440> log likelihood: -17263\n",
      "INFO:lda:<450> log likelihood: -17210\n",
      "INFO:lda:<460> log likelihood: -17213\n",
      "INFO:lda:<470> log likelihood: -17236\n",
      "INFO:lda:<480> log likelihood: -17205\n",
      "INFO:lda:<490> log likelihood: -17243\n",
      "INFO:lda:<500> log likelihood: -17211\n",
      "INFO:lda:<510> log likelihood: -17232\n",
      "INFO:lda:<520> log likelihood: -17200\n",
      "INFO:lda:<530> log likelihood: -17225\n",
      "INFO:lda:<540> log likelihood: -17251\n",
      "INFO:lda:<550> log likelihood: -17183\n",
      "INFO:lda:<560> log likelihood: -17251\n",
      "INFO:lda:<570> log likelihood: -17188\n",
      "INFO:lda:<580> log likelihood: -17205\n",
      "INFO:lda:<590> log likelihood: -17269\n",
      "INFO:lda:<600> log likelihood: -17252\n",
      "INFO:lda:<610> log likelihood: -17214\n",
      "INFO:lda:<620> log likelihood: -17202\n",
      "INFO:lda:<630> log likelihood: -17199\n",
      "INFO:lda:<640> log likelihood: -17253\n",
      "INFO:lda:<650> log likelihood: -17188\n",
      "INFO:lda:<660> log likelihood: -17189\n",
      "INFO:lda:<670> log likelihood: -17196\n",
      "INFO:lda:<680> log likelihood: -17235\n",
      "INFO:lda:<690> log likelihood: -17139\n",
      "INFO:lda:<700> log likelihood: -17148\n",
      "INFO:lda:<710> log likelihood: -17207\n",
      "INFO:lda:<720> log likelihood: -17216\n",
      "INFO:lda:<730> log likelihood: -17229\n",
      "INFO:lda:<740> log likelihood: -17178\n",
      "INFO:lda:<750> log likelihood: -17171\n",
      "INFO:lda:<760> log likelihood: -17222\n",
      "INFO:lda:<770> log likelihood: -17197\n",
      "INFO:lda:<780> log likelihood: -17212\n",
      "INFO:lda:<790> log likelihood: -17227\n",
      "INFO:lda:<799> log likelihood: -17216\n",
      "INFO:lda:n_documents: 393\n",
      "INFO:lda:vocab_size: 76\n",
      "INFO:lda:n_words: 3895\n",
      "INFO:lda:n_topics: 3\n",
      "INFO:lda:n_iter: 800\n",
      "WARNING:lda:all zero row in document-term matrix found\n",
      "INFO:lda:<0> log likelihood: -25092\n",
      "INFO:lda:<10> log likelihood: -18393\n",
      "INFO:lda:<20> log likelihood: -18309\n",
      "INFO:lda:<30> log likelihood: -18114\n",
      "INFO:lda:<40> log likelihood: -18069\n",
      "INFO:lda:<50> log likelihood: -18116\n",
      "INFO:lda:<60> log likelihood: -18065\n",
      "INFO:lda:<70> log likelihood: -18085\n",
      "INFO:lda:<80> log likelihood: -18010\n",
      "INFO:lda:<90> log likelihood: -17997\n",
      "INFO:lda:<100> log likelihood: -17939\n",
      "INFO:lda:<110> log likelihood: -17940\n",
      "INFO:lda:<120> log likelihood: -17865\n",
      "INFO:lda:<130> log likelihood: -17967\n",
      "INFO:lda:<140> log likelihood: -17919\n",
      "INFO:lda:<150> log likelihood: -17953\n",
      "INFO:lda:<160> log likelihood: -17982\n",
      "INFO:lda:<170> log likelihood: -17877\n",
      "INFO:lda:<180> log likelihood: -17997\n",
      "INFO:lda:<190> log likelihood: -17918\n",
      "INFO:lda:<200> log likelihood: -17934\n",
      "INFO:lda:<210> log likelihood: -17881\n",
      "INFO:lda:<220> log likelihood: -17884\n",
      "INFO:lda:<230> log likelihood: -17878\n",
      "INFO:lda:<240> log likelihood: -17866\n",
      "INFO:lda:<250> log likelihood: -17872\n",
      "INFO:lda:<260> log likelihood: -17913\n",
      "INFO:lda:<270> log likelihood: -17861\n",
      "INFO:lda:<280> log likelihood: -17895\n",
      "INFO:lda:<290> log likelihood: -17876\n",
      "INFO:lda:<300> log likelihood: -17905\n",
      "INFO:lda:<310> log likelihood: -17921\n",
      "INFO:lda:<320> log likelihood: -17934\n",
      "INFO:lda:<330> log likelihood: -17891\n",
      "INFO:lda:<340> log likelihood: -17901\n",
      "INFO:lda:<350> log likelihood: -17796\n",
      "INFO:lda:<360> log likelihood: -17789\n",
      "INFO:lda:<370> log likelihood: -17860\n",
      "INFO:lda:<380> log likelihood: -17801\n",
      "INFO:lda:<390> log likelihood: -17847\n",
      "INFO:lda:<400> log likelihood: -17860\n",
      "INFO:lda:<410> log likelihood: -17843\n"
     ]
    },
    {
     "name": "stderr",
     "output_type": "stream",
     "text": [
      "INFO:lda:<420> log likelihood: -17803\n",
      "INFO:lda:<430> log likelihood: -17750\n",
      "INFO:lda:<440> log likelihood: -17826\n",
      "INFO:lda:<450> log likelihood: -17784\n",
      "INFO:lda:<460> log likelihood: -17842\n",
      "INFO:lda:<470> log likelihood: -17837\n",
      "INFO:lda:<480> log likelihood: -17763\n",
      "INFO:lda:<490> log likelihood: -17847\n",
      "INFO:lda:<500> log likelihood: -17898\n",
      "INFO:lda:<510> log likelihood: -17868\n",
      "INFO:lda:<520> log likelihood: -17777\n",
      "INFO:lda:<530> log likelihood: -17783\n",
      "INFO:lda:<540> log likelihood: -17697\n",
      "INFO:lda:<550> log likelihood: -17758\n",
      "INFO:lda:<560> log likelihood: -17777\n",
      "INFO:lda:<570> log likelihood: -17710\n",
      "INFO:lda:<580> log likelihood: -17684\n",
      "INFO:lda:<590> log likelihood: -17751\n",
      "INFO:lda:<600> log likelihood: -17738\n",
      "INFO:lda:<610> log likelihood: -17680\n",
      "INFO:lda:<620> log likelihood: -17705\n",
      "INFO:lda:<630> log likelihood: -17692\n",
      "INFO:lda:<640> log likelihood: -17793\n",
      "INFO:lda:<650> log likelihood: -17789\n",
      "INFO:lda:<660> log likelihood: -17781\n",
      "INFO:lda:<670> log likelihood: -17767\n",
      "INFO:lda:<680> log likelihood: -17733\n",
      "INFO:lda:<690> log likelihood: -17712\n",
      "INFO:lda:<700> log likelihood: -17707\n",
      "INFO:lda:<710> log likelihood: -17739\n",
      "INFO:lda:<720> log likelihood: -17738\n",
      "INFO:lda:<730> log likelihood: -17721\n",
      "INFO:lda:<740> log likelihood: -17772\n",
      "INFO:lda:<750> log likelihood: -17642\n",
      "INFO:lda:<760> log likelihood: -17655\n",
      "INFO:lda:<770> log likelihood: -17676\n",
      "INFO:lda:<780> log likelihood: -17640\n",
      "INFO:lda:<790> log likelihood: -17613\n",
      "INFO:lda:<799> log likelihood: -17621\n",
      "INFO:lda:n_documents: 393\n",
      "INFO:lda:vocab_size: 76\n",
      "INFO:lda:n_words: 3895\n",
      "INFO:lda:n_topics: 4\n",
      "INFO:lda:n_iter: 800\n",
      "WARNING:lda:all zero row in document-term matrix found\n",
      "INFO:lda:<0> log likelihood: -28006\n",
      "INFO:lda:<10> log likelihood: -19186\n",
      "INFO:lda:<20> log likelihood: -18924\n",
      "INFO:lda:<30> log likelihood: -18675\n",
      "INFO:lda:<40> log likelihood: -18593\n",
      "INFO:lda:<50> log likelihood: -18509\n",
      "INFO:lda:<60> log likelihood: -18428\n",
      "INFO:lda:<70> log likelihood: -18392\n",
      "INFO:lda:<80> log likelihood: -18438\n",
      "INFO:lda:<90> log likelihood: -18405\n",
      "INFO:lda:<100> log likelihood: -18443\n",
      "INFO:lda:<110> log likelihood: -18314\n",
      "INFO:lda:<120> log likelihood: -18362\n",
      "INFO:lda:<130> log likelihood: -18351\n",
      "INFO:lda:<140> log likelihood: -18298\n",
      "INFO:lda:<150> log likelihood: -18276\n",
      "INFO:lda:<160> log likelihood: -18317\n",
      "INFO:lda:<170> log likelihood: -18294\n",
      "INFO:lda:<180> log likelihood: -18374\n",
      "INFO:lda:<190> log likelihood: -18259\n",
      "INFO:lda:<200> log likelihood: -18334\n",
      "INFO:lda:<210> log likelihood: -18366\n",
      "INFO:lda:<220> log likelihood: -18304\n",
      "INFO:lda:<230> log likelihood: -18385\n",
      "INFO:lda:<240> log likelihood: -18308\n",
      "INFO:lda:<250> log likelihood: -18248\n",
      "INFO:lda:<260> log likelihood: -18291\n",
      "INFO:lda:<270> log likelihood: -18226\n",
      "INFO:lda:<280> log likelihood: -18282\n",
      "INFO:lda:<290> log likelihood: -18257\n",
      "INFO:lda:<300> log likelihood: -18278\n",
      "INFO:lda:<310> log likelihood: -18275\n",
      "INFO:lda:<320> log likelihood: -18227\n",
      "INFO:lda:<330> log likelihood: -18232\n",
      "INFO:lda:<340> log likelihood: -18175\n",
      "INFO:lda:<350> log likelihood: -18130\n",
      "INFO:lda:<360> log likelihood: -18152\n",
      "INFO:lda:<370> log likelihood: -18146\n",
      "INFO:lda:<380> log likelihood: -18043\n",
      "INFO:lda:<390> log likelihood: -18035\n",
      "INFO:lda:<400> log likelihood: -18022\n",
      "INFO:lda:<410> log likelihood: -18132\n",
      "INFO:lda:<420> log likelihood: -18139\n",
      "INFO:lda:<430> log likelihood: -18104\n",
      "INFO:lda:<440> log likelihood: -18181\n",
      "INFO:lda:<450> log likelihood: -18061\n",
      "INFO:lda:<460> log likelihood: -18065\n",
      "INFO:lda:<470> log likelihood: -18067\n",
      "INFO:lda:<480> log likelihood: -18010\n",
      "INFO:lda:<490> log likelihood: -18015\n",
      "INFO:lda:<500> log likelihood: -18059\n",
      "INFO:lda:<510> log likelihood: -18062\n",
      "INFO:lda:<520> log likelihood: -18054\n",
      "INFO:lda:<530> log likelihood: -18014\n",
      "INFO:lda:<540> log likelihood: -18069\n",
      "INFO:lda:<550> log likelihood: -17989\n",
      "INFO:lda:<560> log likelihood: -17990\n",
      "INFO:lda:<570> log likelihood: -17944\n",
      "INFO:lda:<580> log likelihood: -18003\n",
      "INFO:lda:<590> log likelihood: -18042\n",
      "INFO:lda:<600> log likelihood: -17970\n",
      "INFO:lda:<610> log likelihood: -17964\n",
      "INFO:lda:<620> log likelihood: -18016\n",
      "INFO:lda:<630> log likelihood: -18005\n",
      "INFO:lda:<640> log likelihood: -18115\n",
      "INFO:lda:<650> log likelihood: -17950\n",
      "INFO:lda:<660> log likelihood: -17928\n",
      "INFO:lda:<670> log likelihood: -17958\n",
      "INFO:lda:<680> log likelihood: -18053\n",
      "INFO:lda:<690> log likelihood: -17989\n",
      "INFO:lda:<700> log likelihood: -17933\n",
      "INFO:lda:<710> log likelihood: -17953\n",
      "INFO:lda:<720> log likelihood: -18010\n",
      "INFO:lda:<730> log likelihood: -18063\n",
      "INFO:lda:<740> log likelihood: -17986\n",
      "INFO:lda:<750> log likelihood: -17945\n",
      "INFO:lda:<760> log likelihood: -18002\n",
      "INFO:lda:<770> log likelihood: -17994\n",
      "INFO:lda:<780> log likelihood: -17995\n",
      "INFO:lda:<790> log likelihood: -17998\n",
      "INFO:lda:<799> log likelihood: -18019\n",
      "INFO:lda:n_documents: 393\n",
      "INFO:lda:vocab_size: 76\n",
      "INFO:lda:n_words: 3895\n",
      "INFO:lda:n_topics: 5\n",
      "INFO:lda:n_iter: 800\n",
      "WARNING:lda:all zero row in document-term matrix found\n",
      "INFO:lda:<0> log likelihood: -30525\n",
      "INFO:lda:<10> log likelihood: -19910\n",
      "INFO:lda:<20> log likelihood: -19455\n",
      "INFO:lda:<30> log likelihood: -19183\n",
      "INFO:lda:<40> log likelihood: -19156\n",
      "INFO:lda:<50> log likelihood: -19142\n",
      "INFO:lda:<60> log likelihood: -19112\n",
      "INFO:lda:<70> log likelihood: -19054\n",
      "INFO:lda:<80> log likelihood: -19023\n",
      "INFO:lda:<90> log likelihood: -19028\n",
      "INFO:lda:<100> log likelihood: -19045\n",
      "INFO:lda:<110> log likelihood: -19005\n",
      "INFO:lda:<120> log likelihood: -18953\n",
      "INFO:lda:<130> log likelihood: -18963\n",
      "INFO:lda:<140> log likelihood: -18873\n",
      "INFO:lda:<150> log likelihood: -18790\n",
      "INFO:lda:<160> log likelihood: -18891\n",
      "INFO:lda:<170> log likelihood: -18829\n",
      "INFO:lda:<180> log likelihood: -18837\n",
      "INFO:lda:<190> log likelihood: -18849\n",
      "INFO:lda:<200> log likelihood: -18773\n",
      "INFO:lda:<210> log likelihood: -18730\n",
      "INFO:lda:<220> log likelihood: -18780\n",
      "INFO:lda:<230> log likelihood: -18780\n",
      "INFO:lda:<240> log likelihood: -18698\n",
      "INFO:lda:<250> log likelihood: -18692\n",
      "INFO:lda:<260> log likelihood: -18688\n",
      "INFO:lda:<270> log likelihood: -18709\n",
      "INFO:lda:<280> log likelihood: -18615\n",
      "INFO:lda:<290> log likelihood: -18629\n",
      "INFO:lda:<300> log likelihood: -18626\n",
      "INFO:lda:<310> log likelihood: -18614\n",
      "INFO:lda:<320> log likelihood: -18610\n",
      "INFO:lda:<330> log likelihood: -18592\n",
      "INFO:lda:<340> log likelihood: -18597\n",
      "INFO:lda:<350> log likelihood: -18539\n",
      "INFO:lda:<360> log likelihood: -18633\n",
      "INFO:lda:<370> log likelihood: -18674\n",
      "INFO:lda:<380> log likelihood: -18513\n",
      "INFO:lda:<390> log likelihood: -18422\n",
      "INFO:lda:<400> log likelihood: -18449\n",
      "INFO:lda:<410> log likelihood: -18447\n",
      "INFO:lda:<420> log likelihood: -18431\n",
      "INFO:lda:<430> log likelihood: -18343\n",
      "INFO:lda:<440> log likelihood: -18318\n",
      "INFO:lda:<450> log likelihood: -18309\n",
      "INFO:lda:<460> log likelihood: -18288\n",
      "INFO:lda:<470> log likelihood: -18268\n",
      "INFO:lda:<480> log likelihood: -18316\n",
      "INFO:lda:<490> log likelihood: -18397\n",
      "INFO:lda:<500> log likelihood: -18291\n",
      "INFO:lda:<510> log likelihood: -18281\n",
      "INFO:lda:<520> log likelihood: -18268\n",
      "INFO:lda:<530> log likelihood: -18240\n",
      "INFO:lda:<540> log likelihood: -18192\n",
      "INFO:lda:<550> log likelihood: -18203\n",
      "INFO:lda:<560> log likelihood: -18109\n",
      "INFO:lda:<570> log likelihood: -18136\n",
      "INFO:lda:<580> log likelihood: -18096\n",
      "INFO:lda:<590> log likelihood: -18186\n",
      "INFO:lda:<600> log likelihood: -18106\n",
      "INFO:lda:<610> log likelihood: -18029\n",
      "INFO:lda:<620> log likelihood: -18015\n",
      "INFO:lda:<630> log likelihood: -18102\n",
      "INFO:lda:<640> log likelihood: -18125\n",
      "INFO:lda:<650> log likelihood: -18130\n",
      "INFO:lda:<660> log likelihood: -18170\n",
      "INFO:lda:<670> log likelihood: -18137\n",
      "INFO:lda:<680> log likelihood: -18142\n",
      "INFO:lda:<690> log likelihood: -17976\n",
      "INFO:lda:<700> log likelihood: -18040\n",
      "INFO:lda:<710> log likelihood: -18023\n",
      "INFO:lda:<720> log likelihood: -17998\n",
      "INFO:lda:<730> log likelihood: -17976\n",
      "INFO:lda:<740> log likelihood: -18006\n",
      "INFO:lda:<750> log likelihood: -17933\n",
      "INFO:lda:<760> log likelihood: -18019\n",
      "INFO:lda:<770> log likelihood: -17993\n",
      "INFO:lda:<780> log likelihood: -18000\n",
      "INFO:lda:<790> log likelihood: -17983\n",
      "INFO:lda:<799> log likelihood: -18031\n",
      "INFO:lda:n_documents: 393\n",
      "INFO:lda:vocab_size: 76\n",
      "INFO:lda:n_words: 3895\n",
      "INFO:lda:n_topics: 6\n",
      "INFO:lda:n_iter: 800\n",
      "WARNING:lda:all zero row in document-term matrix found\n",
      "INFO:lda:<0> log likelihood: -32675\n",
      "INFO:lda:<10> log likelihood: -20314\n"
     ]
    },
    {
     "name": "stderr",
     "output_type": "stream",
     "text": [
      "INFO:lda:<20> log likelihood: -19992\n",
      "INFO:lda:<30> log likelihood: -19786\n",
      "INFO:lda:<40> log likelihood: -19572\n",
      "INFO:lda:<50> log likelihood: -19555\n",
      "INFO:lda:<60> log likelihood: -19431\n",
      "INFO:lda:<70> log likelihood: -19483\n",
      "INFO:lda:<80> log likelihood: -19408\n",
      "INFO:lda:<90> log likelihood: -19420\n",
      "INFO:lda:<100> log likelihood: -19444\n",
      "INFO:lda:<110> log likelihood: -19312\n",
      "INFO:lda:<120> log likelihood: -19324\n",
      "INFO:lda:<130> log likelihood: -19407\n",
      "INFO:lda:<140> log likelihood: -19265\n",
      "INFO:lda:<150> log likelihood: -19226\n",
      "INFO:lda:<160> log likelihood: -19375\n",
      "INFO:lda:<170> log likelihood: -19280\n",
      "INFO:lda:<180> log likelihood: -19390\n",
      "INFO:lda:<190> log likelihood: -19280\n",
      "INFO:lda:<200> log likelihood: -19343\n",
      "INFO:lda:<210> log likelihood: -19283\n",
      "INFO:lda:<220> log likelihood: -19227\n",
      "INFO:lda:<230> log likelihood: -19196\n",
      "INFO:lda:<240> log likelihood: -19182\n",
      "INFO:lda:<250> log likelihood: -19116\n",
      "INFO:lda:<260> log likelihood: -19168\n",
      "INFO:lda:<270> log likelihood: -19105\n",
      "INFO:lda:<280> log likelihood: -19108\n",
      "INFO:lda:<290> log likelihood: -19076\n",
      "INFO:lda:<300> log likelihood: -18983\n",
      "INFO:lda:<310> log likelihood: -18888\n",
      "INFO:lda:<320> log likelihood: -18998\n",
      "INFO:lda:<330> log likelihood: -18948\n",
      "INFO:lda:<340> log likelihood: -18894\n",
      "INFO:lda:<350> log likelihood: -18842\n",
      "INFO:lda:<360> log likelihood: -18858\n",
      "INFO:lda:<370> log likelihood: -18905\n",
      "INFO:lda:<380> log likelihood: -18932\n",
      "INFO:lda:<390> log likelihood: -18826\n",
      "INFO:lda:<400> log likelihood: -18774\n",
      "INFO:lda:<410> log likelihood: -18877\n",
      "INFO:lda:<420> log likelihood: -18876\n",
      "INFO:lda:<430> log likelihood: -18915\n",
      "INFO:lda:<440> log likelihood: -18863\n",
      "INFO:lda:<450> log likelihood: -18779\n",
      "INFO:lda:<460> log likelihood: -18777\n",
      "INFO:lda:<470> log likelihood: -18826\n",
      "INFO:lda:<480> log likelihood: -18833\n",
      "INFO:lda:<490> log likelihood: -18816\n",
      "INFO:lda:<500> log likelihood: -18818\n",
      "INFO:lda:<510> log likelihood: -18812\n",
      "INFO:lda:<520> log likelihood: -18667\n",
      "INFO:lda:<530> log likelihood: -18761\n",
      "INFO:lda:<540> log likelihood: -18749\n",
      "INFO:lda:<550> log likelihood: -18825\n",
      "INFO:lda:<560> log likelihood: -18739\n",
      "INFO:lda:<570> log likelihood: -18613\n",
      "INFO:lda:<580> log likelihood: -18594\n",
      "INFO:lda:<590> log likelihood: -18595\n",
      "INFO:lda:<600> log likelihood: -18488\n",
      "INFO:lda:<610> log likelihood: -18418\n",
      "INFO:lda:<620> log likelihood: -18463\n",
      "INFO:lda:<630> log likelihood: -18394\n",
      "INFO:lda:<640> log likelihood: -18446\n",
      "INFO:lda:<650> log likelihood: -18423\n",
      "INFO:lda:<660> log likelihood: -18374\n",
      "INFO:lda:<670> log likelihood: -18351\n",
      "INFO:lda:<680> log likelihood: -18426\n",
      "INFO:lda:<690> log likelihood: -18326\n",
      "INFO:lda:<700> log likelihood: -18380\n",
      "INFO:lda:<710> log likelihood: -18397\n",
      "INFO:lda:<720> log likelihood: -18327\n",
      "INFO:lda:<730> log likelihood: -18343\n",
      "INFO:lda:<740> log likelihood: -18371\n",
      "INFO:lda:<750> log likelihood: -18268\n",
      "INFO:lda:<760> log likelihood: -18265\n",
      "INFO:lda:<770> log likelihood: -18322\n",
      "INFO:lda:<780> log likelihood: -18318\n",
      "INFO:lda:<790> log likelihood: -18325\n",
      "INFO:lda:<799> log likelihood: -18358\n",
      "INFO:lda:n_documents: 393\n",
      "INFO:lda:vocab_size: 76\n",
      "INFO:lda:n_words: 3895\n",
      "INFO:lda:n_topics: 7\n",
      "INFO:lda:n_iter: 800\n",
      "WARNING:lda:all zero row in document-term matrix found\n",
      "INFO:lda:<0> log likelihood: -34638\n",
      "INFO:lda:<10> log likelihood: -20667\n",
      "INFO:lda:<20> log likelihood: -20285\n",
      "INFO:lda:<30> log likelihood: -20023\n",
      "INFO:lda:<40> log likelihood: -19747\n",
      "INFO:lda:<50> log likelihood: -19666\n",
      "INFO:lda:<60> log likelihood: -19717\n",
      "INFO:lda:<70> log likelihood: -19552\n",
      "INFO:lda:<80> log likelihood: -19481\n",
      "INFO:lda:<90> log likelihood: -19356\n",
      "INFO:lda:<100> log likelihood: -19220\n",
      "INFO:lda:<110> log likelihood: -19298\n",
      "INFO:lda:<120> log likelihood: -19399\n",
      "INFO:lda:<130> log likelihood: -19299\n",
      "INFO:lda:<140> log likelihood: -19282\n",
      "INFO:lda:<150> log likelihood: -19171\n",
      "INFO:lda:<160> log likelihood: -19269\n",
      "INFO:lda:<170> log likelihood: -19207\n",
      "INFO:lda:<180> log likelihood: -19245\n",
      "INFO:lda:<190> log likelihood: -19190\n",
      "INFO:lda:<200> log likelihood: -19138\n",
      "INFO:lda:<210> log likelihood: -19037\n",
      "INFO:lda:<220> log likelihood: -19016\n",
      "INFO:lda:<230> log likelihood: -19126\n",
      "INFO:lda:<240> log likelihood: -19073\n",
      "INFO:lda:<250> log likelihood: -19089\n",
      "INFO:lda:<260> log likelihood: -19152\n",
      "INFO:lda:<270> log likelihood: -19029\n",
      "INFO:lda:<280> log likelihood: -19051\n",
      "INFO:lda:<290> log likelihood: -18932\n",
      "INFO:lda:<300> log likelihood: -18911\n",
      "INFO:lda:<310> log likelihood: -18899\n",
      "INFO:lda:<320> log likelihood: -18887\n",
      "INFO:lda:<330> log likelihood: -18847\n",
      "INFO:lda:<340> log likelihood: -18814\n",
      "INFO:lda:<350> log likelihood: -18718\n",
      "INFO:lda:<360> log likelihood: -18741\n",
      "INFO:lda:<370> log likelihood: -18804\n",
      "INFO:lda:<380> log likelihood: -18775\n",
      "INFO:lda:<390> log likelihood: -18770\n",
      "INFO:lda:<400> log likelihood: -18738\n",
      "INFO:lda:<410> log likelihood: -18845\n",
      "INFO:lda:<420> log likelihood: -18829\n",
      "INFO:lda:<430> log likelihood: -18674\n",
      "INFO:lda:<440> log likelihood: -18739\n",
      "INFO:lda:<450> log likelihood: -18691\n",
      "INFO:lda:<460> log likelihood: -18728\n",
      "INFO:lda:<470> log likelihood: -18718\n",
      "INFO:lda:<480> log likelihood: -18646\n",
      "INFO:lda:<490> log likelihood: -18671\n",
      "INFO:lda:<500> log likelihood: -18706\n",
      "INFO:lda:<510> log likelihood: -18622\n",
      "INFO:lda:<520> log likelihood: -18675\n",
      "INFO:lda:<530> log likelihood: -18638\n",
      "INFO:lda:<540> log likelihood: -18615\n",
      "INFO:lda:<550> log likelihood: -18632\n",
      "INFO:lda:<560> log likelihood: -18598\n",
      "INFO:lda:<570> log likelihood: -18643\n",
      "INFO:lda:<580> log likelihood: -18682\n",
      "INFO:lda:<590> log likelihood: -18676\n",
      "INFO:lda:<600> log likelihood: -18575\n",
      "INFO:lda:<610> log likelihood: -18561\n",
      "INFO:lda:<620> log likelihood: -18597\n",
      "INFO:lda:<630> log likelihood: -18532\n",
      "INFO:lda:<640> log likelihood: -18624\n",
      "INFO:lda:<650> log likelihood: -18510\n",
      "INFO:lda:<660> log likelihood: -18464\n",
      "INFO:lda:<670> log likelihood: -18409\n",
      "INFO:lda:<680> log likelihood: -18502\n",
      "INFO:lda:<690> log likelihood: -18404\n",
      "INFO:lda:<700> log likelihood: -18478\n",
      "INFO:lda:<710> log likelihood: -18449\n",
      "INFO:lda:<720> log likelihood: -18522\n",
      "INFO:lda:<730> log likelihood: -18363\n",
      "INFO:lda:<740> log likelihood: -18421\n",
      "INFO:lda:<750> log likelihood: -18316\n",
      "INFO:lda:<760> log likelihood: -18344\n",
      "INFO:lda:<770> log likelihood: -18214\n",
      "INFO:lda:<780> log likelihood: -18292\n",
      "INFO:lda:<790> log likelihood: -18279\n",
      "INFO:lda:<799> log likelihood: -18184\n",
      "INFO:lda:n_documents: 393\n",
      "INFO:lda:vocab_size: 76\n",
      "INFO:lda:n_words: 3895\n",
      "INFO:lda:n_topics: 8\n",
      "INFO:lda:n_iter: 800\n",
      "WARNING:lda:all zero row in document-term matrix found\n",
      "INFO:lda:<0> log likelihood: -36255\n",
      "INFO:lda:<10> log likelihood: -20591\n",
      "INFO:lda:<20> log likelihood: -20204\n",
      "INFO:lda:<30> log likelihood: -19950\n",
      "INFO:lda:<40> log likelihood: -19762\n",
      "INFO:lda:<50> log likelihood: -19656\n",
      "INFO:lda:<60> log likelihood: -19608\n",
      "INFO:lda:<70> log likelihood: -19533\n",
      "INFO:lda:<80> log likelihood: -19586\n",
      "INFO:lda:<90> log likelihood: -19521\n",
      "INFO:lda:<100> log likelihood: -19477\n",
      "INFO:lda:<110> log likelihood: -19409\n",
      "INFO:lda:<120> log likelihood: -19468\n",
      "INFO:lda:<130> log likelihood: -19398\n",
      "INFO:lda:<140> log likelihood: -19412\n",
      "INFO:lda:<150> log likelihood: -19343\n",
      "INFO:lda:<160> log likelihood: -19346\n",
      "INFO:lda:<170> log likelihood: -19280\n",
      "INFO:lda:<180> log likelihood: -19361\n",
      "INFO:lda:<190> log likelihood: -19242\n",
      "INFO:lda:<200> log likelihood: -19310\n",
      "INFO:lda:<210> log likelihood: -19212\n",
      "INFO:lda:<220> log likelihood: -19346\n",
      "INFO:lda:<230> log likelihood: -19290\n",
      "INFO:lda:<240> log likelihood: -19257\n",
      "INFO:lda:<250> log likelihood: -19235\n",
      "INFO:lda:<260> log likelihood: -19265\n",
      "INFO:lda:<270> log likelihood: -19173\n",
      "INFO:lda:<280> log likelihood: -19254\n",
      "INFO:lda:<290> log likelihood: -19264\n",
      "INFO:lda:<300> log likelihood: -19249\n",
      "INFO:lda:<310> log likelihood: -19177\n",
      "INFO:lda:<320> log likelihood: -19295\n",
      "INFO:lda:<330> log likelihood: -19200\n",
      "INFO:lda:<340> log likelihood: -19280\n",
      "INFO:lda:<350> log likelihood: -19282\n",
      "INFO:lda:<360> log likelihood: -19165\n",
      "INFO:lda:<370> log likelihood: -19138\n",
      "INFO:lda:<380> log likelihood: -19139\n",
      "INFO:lda:<390> log likelihood: -19137\n",
      "INFO:lda:<400> log likelihood: -19058\n",
      "INFO:lda:<410> log likelihood: -19109\n",
      "INFO:lda:<420> log likelihood: -19103\n",
      "INFO:lda:<430> log likelihood: -19091\n",
      "INFO:lda:<440> log likelihood: -19143\n",
      "INFO:lda:<450> log likelihood: -18963\n",
      "INFO:lda:<460> log likelihood: -19059\n",
      "INFO:lda:<470> log likelihood: -19023\n"
     ]
    },
    {
     "name": "stderr",
     "output_type": "stream",
     "text": [
      "INFO:lda:<480> log likelihood: -19058\n",
      "INFO:lda:<490> log likelihood: -19047\n",
      "INFO:lda:<500> log likelihood: -18964\n",
      "INFO:lda:<510> log likelihood: -19062\n",
      "INFO:lda:<520> log likelihood: -19064\n",
      "INFO:lda:<530> log likelihood: -19028\n",
      "INFO:lda:<540> log likelihood: -18970\n",
      "INFO:lda:<550> log likelihood: -18981\n",
      "INFO:lda:<560> log likelihood: -18996\n",
      "INFO:lda:<570> log likelihood: -18991\n",
      "INFO:lda:<580> log likelihood: -19025\n",
      "INFO:lda:<590> log likelihood: -19088\n",
      "INFO:lda:<600> log likelihood: -19072\n",
      "INFO:lda:<610> log likelihood: -18978\n",
      "INFO:lda:<620> log likelihood: -19054\n",
      "INFO:lda:<630> log likelihood: -19025\n",
      "INFO:lda:<640> log likelihood: -19106\n",
      "INFO:lda:<650> log likelihood: -18958\n",
      "INFO:lda:<660> log likelihood: -18931\n",
      "INFO:lda:<670> log likelihood: -19018\n",
      "INFO:lda:<680> log likelihood: -18987\n",
      "INFO:lda:<690> log likelihood: -18921\n",
      "INFO:lda:<700> log likelihood: -18885\n",
      "INFO:lda:<710> log likelihood: -18905\n",
      "INFO:lda:<720> log likelihood: -18981\n",
      "INFO:lda:<730> log likelihood: -18887\n",
      "INFO:lda:<740> log likelihood: -18959\n",
      "INFO:lda:<750> log likelihood: -18987\n",
      "INFO:lda:<760> log likelihood: -18924\n",
      "INFO:lda:<770> log likelihood: -18874\n",
      "INFO:lda:<780> log likelihood: -18920\n",
      "INFO:lda:<790> log likelihood: -18936\n",
      "INFO:lda:<799> log likelihood: -18943\n",
      "INFO:lda:n_documents: 393\n",
      "INFO:lda:vocab_size: 76\n",
      "INFO:lda:n_words: 3895\n",
      "INFO:lda:n_topics: 9\n",
      "INFO:lda:n_iter: 800\n",
      "WARNING:lda:all zero row in document-term matrix found\n",
      "INFO:lda:<0> log likelihood: -37649\n",
      "INFO:lda:<10> log likelihood: -21103\n",
      "INFO:lda:<20> log likelihood: -20772\n",
      "INFO:lda:<30> log likelihood: -20485\n",
      "INFO:lda:<40> log likelihood: -20332\n",
      "INFO:lda:<50> log likelihood: -20205\n",
      "INFO:lda:<60> log likelihood: -20065\n",
      "INFO:lda:<70> log likelihood: -20052\n",
      "INFO:lda:<80> log likelihood: -19918\n",
      "INFO:lda:<90> log likelihood: -19799\n",
      "INFO:lda:<100> log likelihood: -19811\n",
      "INFO:lda:<110> log likelihood: -19880\n",
      "INFO:lda:<120> log likelihood: -19916\n",
      "INFO:lda:<130> log likelihood: -19752\n",
      "INFO:lda:<140> log likelihood: -19795\n",
      "INFO:lda:<150> log likelihood: -19670\n",
      "INFO:lda:<160> log likelihood: -19762\n",
      "INFO:lda:<170> log likelihood: -19607\n",
      "INFO:lda:<180> log likelihood: -19611\n",
      "INFO:lda:<190> log likelihood: -19642\n",
      "INFO:lda:<200> log likelihood: -19639\n",
      "INFO:lda:<210> log likelihood: -19525\n",
      "INFO:lda:<220> log likelihood: -19492\n",
      "INFO:lda:<230> log likelihood: -19458\n",
      "INFO:lda:<240> log likelihood: -19500\n",
      "INFO:lda:<250> log likelihood: -19486\n",
      "INFO:lda:<260> log likelihood: -19467\n",
      "INFO:lda:<270> log likelihood: -19340\n",
      "INFO:lda:<280> log likelihood: -19335\n",
      "INFO:lda:<290> log likelihood: -19248\n",
      "INFO:lda:<300> log likelihood: -19310\n",
      "INFO:lda:<310> log likelihood: -19203\n",
      "INFO:lda:<320> log likelihood: -19225\n",
      "INFO:lda:<330> log likelihood: -19180\n",
      "INFO:lda:<340> log likelihood: -19266\n",
      "INFO:lda:<350> log likelihood: -19194\n",
      "INFO:lda:<360> log likelihood: -19175\n",
      "INFO:lda:<370> log likelihood: -19203\n",
      "INFO:lda:<380> log likelihood: -19165\n",
      "INFO:lda:<390> log likelihood: -19156\n",
      "INFO:lda:<400> log likelihood: -19238\n",
      "INFO:lda:<410> log likelihood: -19174\n",
      "INFO:lda:<420> log likelihood: -19320\n",
      "INFO:lda:<430> log likelihood: -19177\n",
      "INFO:lda:<440> log likelihood: -19253\n",
      "INFO:lda:<450> log likelihood: -19180\n",
      "INFO:lda:<460> log likelihood: -19161\n",
      "INFO:lda:<470> log likelihood: -19199\n",
      "INFO:lda:<480> log likelihood: -19187\n",
      "INFO:lda:<490> log likelihood: -19149\n",
      "INFO:lda:<500> log likelihood: -19173\n",
      "INFO:lda:<510> log likelihood: -19165\n",
      "INFO:lda:<520> log likelihood: -19148\n",
      "INFO:lda:<530> log likelihood: -19116\n",
      "INFO:lda:<540> log likelihood: -19088\n",
      "INFO:lda:<550> log likelihood: -19107\n",
      "INFO:lda:<560> log likelihood: -19135\n",
      "INFO:lda:<570> log likelihood: -19126\n",
      "INFO:lda:<580> log likelihood: -19038\n",
      "INFO:lda:<590> log likelihood: -19083\n",
      "INFO:lda:<600> log likelihood: -19052\n",
      "INFO:lda:<610> log likelihood: -19008\n",
      "INFO:lda:<620> log likelihood: -18986\n",
      "INFO:lda:<630> log likelihood: -18966\n",
      "INFO:lda:<640> log likelihood: -19095\n",
      "INFO:lda:<650> log likelihood: -19006\n",
      "INFO:lda:<660> log likelihood: -19042\n",
      "INFO:lda:<670> log likelihood: -18931\n",
      "INFO:lda:<680> log likelihood: -19062\n",
      "INFO:lda:<690> log likelihood: -18991\n",
      "INFO:lda:<700> log likelihood: -18966\n",
      "INFO:lda:<710> log likelihood: -19014\n",
      "INFO:lda:<720> log likelihood: -18932\n",
      "INFO:lda:<730> log likelihood: -18968\n",
      "INFO:lda:<740> log likelihood: -18982\n",
      "INFO:lda:<750> log likelihood: -18925\n",
      "INFO:lda:<760> log likelihood: -18922\n",
      "INFO:lda:<770> log likelihood: -18874\n",
      "INFO:lda:<780> log likelihood: -18841\n",
      "INFO:lda:<790> log likelihood: -18847\n",
      "INFO:lda:<799> log likelihood: -18806\n"
     ]
    },
    {
     "data": {
      "image/png": "[encoded data removed]",
      "text/plain": [
       "<Figure size 432x288 with 1 Axes>"
      ]
     },
     "metadata": {
      "needs_background": "light"
     },
     "output_type": "display_data"
    }
   ],
   "source": [
    "k,results = t.LDA_tune_k(max_k=10,alpha=0.01,eta=0.001,iterations=800)"
   ]
  },
  {
   "cell_type": "code",
   "execution_count": 10,
   "metadata": {
    "slideshow": {
     "slide_type": "skip"
    }
   },
   "outputs": [
    {
     "data": {
      "text/plain": [
       "[<matplotlib.lines.Line2D at 0x20990174f48>]"
      ]
     },
     "execution_count": 10,
     "metadata": {},
     "output_type": "execute_result"
    },
    {
     "data": {
      "image/png": "[encoded data removed]",
      "text/plain": [
       "<Figure size 432x288 with 1 Axes>"
      ]
     },
     "metadata": {
      "needs_background": "light"
     },
     "output_type": "display_data"
    }
   ],
   "source": [
    "plt.plot(k,results)"
   ]
  },
  {
   "cell_type": "code",
   "execution_count": 13,
   "metadata": {
    "scrolled": true,
    "slideshow": {
     "slide_type": "skip"
    }
   },
   "outputs": [
    {
     "name": "stderr",
     "output_type": "stream",
     "text": [
      "INFO:lda:n_documents: 393\n",
      "INFO:lda:vocab_size: 76\n",
      "INFO:lda:n_words: 3895\n",
      "INFO:lda:n_topics: 6\n",
      "INFO:lda:n_iter: 1500\n",
      "WARNING:lda:all zero row in document-term matrix found\n",
      "INFO:lda:<0> log likelihood: -32675\n",
      "INFO:lda:<10> log likelihood: -20314\n",
      "INFO:lda:<20> log likelihood: -19992\n",
      "INFO:lda:<30> log likelihood: -19786\n",
      "INFO:lda:<40> log likelihood: -19572\n",
      "INFO:lda:<50> log likelihood: -19555\n",
      "INFO:lda:<60> log likelihood: -19431\n",
      "INFO:lda:<70> log likelihood: -19483\n",
      "INFO:lda:<80> log likelihood: -19408\n",
      "INFO:lda:<90> log likelihood: -19420\n",
      "INFO:lda:<100> log likelihood: -19444\n",
      "INFO:lda:<110> log likelihood: -19312\n",
      "INFO:lda:<120> log likelihood: -19324\n",
      "INFO:lda:<130> log likelihood: -19407\n",
      "INFO:lda:<140> log likelihood: -19265\n",
      "INFO:lda:<150> log likelihood: -19226\n",
      "INFO:lda:<160> log likelihood: -19375\n",
      "INFO:lda:<170> log likelihood: -19280\n",
      "INFO:lda:<180> log likelihood: -19390\n",
      "INFO:lda:<190> log likelihood: -19280\n",
      "INFO:lda:<200> log likelihood: -19343\n",
      "INFO:lda:<210> log likelihood: -19283\n",
      "INFO:lda:<220> log likelihood: -19227\n",
      "INFO:lda:<230> log likelihood: -19196\n",
      "INFO:lda:<240> log likelihood: -19182\n",
      "INFO:lda:<250> log likelihood: -19116\n",
      "INFO:lda:<260> log likelihood: -19168\n",
      "INFO:lda:<270> log likelihood: -19105\n",
      "INFO:lda:<280> log likelihood: -19108\n",
      "INFO:lda:<290> log likelihood: -19076\n",
      "INFO:lda:<300> log likelihood: -18983\n",
      "INFO:lda:<310> log likelihood: -18888\n",
      "INFO:lda:<320> log likelihood: -18998\n",
      "INFO:lda:<330> log likelihood: -18948\n",
      "INFO:lda:<340> log likelihood: -18894\n",
      "INFO:lda:<350> log likelihood: -18842\n",
      "INFO:lda:<360> log likelihood: -18858\n",
      "INFO:lda:<370> log likelihood: -18905\n",
      "INFO:lda:<380> log likelihood: -18932\n",
      "INFO:lda:<390> log likelihood: -18826\n",
      "INFO:lda:<400> log likelihood: -18774\n",
      "INFO:lda:<410> log likelihood: -18877\n",
      "INFO:lda:<420> log likelihood: -18876\n",
      "INFO:lda:<430> log likelihood: -18915\n",
      "INFO:lda:<440> log likelihood: -18863\n",
      "INFO:lda:<450> log likelihood: -18779\n",
      "INFO:lda:<460> log likelihood: -18777\n",
      "INFO:lda:<470> log likelihood: -18826\n",
      "INFO:lda:<480> log likelihood: -18833\n",
      "INFO:lda:<490> log likelihood: -18816\n",
      "INFO:lda:<500> log likelihood: -18818\n",
      "INFO:lda:<510> log likelihood: -18812\n",
      "INFO:lda:<520> log likelihood: -18667\n",
      "INFO:lda:<530> log likelihood: -18761\n",
      "INFO:lda:<540> log likelihood: -18749\n",
      "INFO:lda:<550> log likelihood: -18825\n",
      "INFO:lda:<560> log likelihood: -18739\n",
      "INFO:lda:<570> log likelihood: -18613\n",
      "INFO:lda:<580> log likelihood: -18594\n",
      "INFO:lda:<590> log likelihood: -18595\n",
      "INFO:lda:<600> log likelihood: -18488\n",
      "INFO:lda:<610> log likelihood: -18418\n",
      "INFO:lda:<620> log likelihood: -18463\n",
      "INFO:lda:<630> log likelihood: -18394\n",
      "INFO:lda:<640> log likelihood: -18446\n",
      "INFO:lda:<650> log likelihood: -18423\n",
      "INFO:lda:<660> log likelihood: -18374\n",
      "INFO:lda:<670> log likelihood: -18351\n",
      "INFO:lda:<680> log likelihood: -18426\n",
      "INFO:lda:<690> log likelihood: -18326\n",
      "INFO:lda:<700> log likelihood: -18380\n",
      "INFO:lda:<710> log likelihood: -18397\n",
      "INFO:lda:<720> log likelihood: -18327\n",
      "INFO:lda:<730> log likelihood: -18343\n",
      "INFO:lda:<740> log likelihood: -18371\n",
      "INFO:lda:<750> log likelihood: -18268\n",
      "INFO:lda:<760> log likelihood: -18265\n",
      "INFO:lda:<770> log likelihood: -18322\n",
      "INFO:lda:<780> log likelihood: -18318\n",
      "INFO:lda:<790> log likelihood: -18325\n",
      "INFO:lda:<800> log likelihood: -18358\n",
      "INFO:lda:<810> log likelihood: -18348\n",
      "INFO:lda:<820> log likelihood: -18297\n",
      "INFO:lda:<830> log likelihood: -18299\n",
      "INFO:lda:<840> log likelihood: -18297\n",
      "INFO:lda:<850> log likelihood: -18291\n",
      "INFO:lda:<860> log likelihood: -18310\n",
      "INFO:lda:<870> log likelihood: -18294\n",
      "INFO:lda:<880> log likelihood: -18319\n",
      "INFO:lda:<890> log likelihood: -18295\n",
      "INFO:lda:<900> log likelihood: -18331\n",
      "INFO:lda:<910> log likelihood: -18223\n",
      "INFO:lda:<920> log likelihood: -18324\n",
      "INFO:lda:<930> log likelihood: -18218\n",
      "INFO:lda:<940> log likelihood: -18155\n",
      "INFO:lda:<950> log likelihood: -18191\n",
      "INFO:lda:<960> log likelihood: -18193\n",
      "INFO:lda:<970> log likelihood: -18219\n",
      "INFO:lda:<980> log likelihood: -18205\n",
      "INFO:lda:<990> log likelihood: -18133\n",
      "INFO:lda:<1000> log likelihood: -18137\n",
      "INFO:lda:<1010> log likelihood: -18114\n",
      "INFO:lda:<1020> log likelihood: -18065\n",
      "INFO:lda:<1030> log likelihood: -18055\n",
      "INFO:lda:<1040> log likelihood: -18018\n",
      "INFO:lda:<1050> log likelihood: -18030\n",
      "INFO:lda:<1060> log likelihood: -18017\n",
      "INFO:lda:<1070> log likelihood: -17960\n",
      "INFO:lda:<1080> log likelihood: -17991\n",
      "INFO:lda:<1090> log likelihood: -17950\n",
      "INFO:lda:<1100> log likelihood: -18025\n",
      "INFO:lda:<1110> log likelihood: -17959\n",
      "INFO:lda:<1120> log likelihood: -17964\n",
      "INFO:lda:<1130> log likelihood: -17989\n",
      "INFO:lda:<1140> log likelihood: -18029\n",
      "INFO:lda:<1150> log likelihood: -18031\n",
      "INFO:lda:<1160> log likelihood: -18008\n",
      "INFO:lda:<1170> log likelihood: -17971\n",
      "INFO:lda:<1180> log likelihood: -17948\n",
      "INFO:lda:<1190> log likelihood: -17949\n",
      "INFO:lda:<1200> log likelihood: -17929\n",
      "INFO:lda:<1210> log likelihood: -17911\n",
      "INFO:lda:<1220> log likelihood: -17841\n",
      "INFO:lda:<1230> log likelihood: -17910\n",
      "INFO:lda:<1240> log likelihood: -17834\n",
      "INFO:lda:<1250> log likelihood: -17920\n",
      "INFO:lda:<1260> log likelihood: -17871\n",
      "INFO:lda:<1270> log likelihood: -17935\n",
      "INFO:lda:<1280> log likelihood: -17905\n",
      "INFO:lda:<1290> log likelihood: -17946\n",
      "INFO:lda:<1300> log likelihood: -17917\n",
      "INFO:lda:<1310> log likelihood: -17852\n",
      "INFO:lda:<1320> log likelihood: -17844\n",
      "INFO:lda:<1330> log likelihood: -17889\n",
      "INFO:lda:<1340> log likelihood: -17850\n",
      "INFO:lda:<1350> log likelihood: -17860\n",
      "INFO:lda:<1360> log likelihood: -17889\n",
      "INFO:lda:<1370> log likelihood: -17842\n",
      "INFO:lda:<1380> log likelihood: -17814\n",
      "INFO:lda:<1390> log likelihood: -17869\n",
      "INFO:lda:<1400> log likelihood: -17873\n",
      "INFO:lda:<1410> log likelihood: -17952\n",
      "INFO:lda:<1420> log likelihood: -17963\n",
      "INFO:lda:<1430> log likelihood: -17887\n",
      "INFO:lda:<1440> log likelihood: -17857\n",
      "INFO:lda:<1450> log likelihood: -17856\n",
      "INFO:lda:<1460> log likelihood: -17802\n",
      "INFO:lda:<1470> log likelihood: -17793\n",
      "INFO:lda:<1480> log likelihood: -17794\n",
      "INFO:lda:<1490> log likelihood: -17903\n",
      "INFO:lda:<1499> log likelihood: -17763\n"
     ]
    }
   ],
   "source": [
    "#Train topic model\n",
    "LDA = t.fit_LDA(6,alpha=0.01,eta=0.001,iterations=1500)"
   ]
  },
  {
   "cell_type": "code",
   "execution_count": 15,
   "metadata": {
    "slideshow": {
     "slide_type": "skip"
    }
   },
   "outputs": [
    {
     "data": {
      "text/html": [
       "<ul>\n",
       "<li><strong>Topic 1:</strong> super duft haar begeistern tollen haut produkt verpackung dusche</li>\n",
       "<li><strong>Topic 2:</strong> dose klasse schwer kaufen lieb mal brocken carlos duften</li>\n",
       "<li><strong>Topic 3:</strong> super fall haut kaufen shampoos sorte spannen zufrieden ausprobieren</li>\n",
       "<li><strong>Topic 4:</strong> bestellung fairpackung seife schwer bestellen sorte empfehlen spannen zufrieden</li>\n",
       "<li><strong>Topic 5:</strong> haar waschen produkt shampoo seife zufrieden toll bestellung dusche</li>\n",
       "<li><strong>Topic 6:</strong> haar super carlos produkt riechen frida haut geruch duft</li>\n",
       "</ul>\n"
      ],
      "text/plain": [
       "'* **Topic 1:** super duft haar begeistern tollen haut produkt verpackung dusche\\n* **Topic 2:** dose klasse schwer kaufen lieb mal brocken carlos duften\\n* **Topic 3:** super fall haut kaufen shampoos sorte spannen zufrieden ausprobieren\\n* **Topic 4:** bestellung fairpackung seife schwer bestellen sorte empfehlen spannen zufrieden\\n* **Topic 5:** haar waschen produkt shampoo seife zufrieden toll bestellung dusche\\n* **Topic 6:** haar super carlos produkt riechen frida haut geruch duft\\n'"
      ]
     },
     "execution_count": 15,
     "metadata": {},
     "output_type": "execute_result"
    }
   ],
   "source": [
    "#Inspect topic results\n",
    "topics = t.inspect_topics(n_top_words=10)\n",
    "\n",
    "res = ''\n",
    "for i, topic_words in enumerate(topics):\n",
    "    res += '* **Topic {}:** {}\\n'.format(i+1, ' '.join(topic_words))\n",
    "NewsTrends.MD(res)"
   ]
  },
  {
   "cell_type": "code",
   "execution_count": 16,
   "metadata": {
    "slideshow": {
     "slide_type": "skip"
    }
   },
   "outputs": [
    {
     "data": {
      "text/plain": [
       "6"
      ]
     },
     "execution_count": 16,
     "metadata": {},
     "output_type": "execute_result"
    }
   ],
   "source": [
    "topics = [[\"Produktbegeisterung\"],\n",
    "          [\"Dose\"],\n",
    "          [\"Haut\"],\n",
    "          [\"Bestellung\"],\n",
    "          [\"Haar und Shampoo\"],\n",
    "          [\"Geruch\"]]\n",
    "len(topics)"
   ]
  },
  {
   "cell_type": "code",
   "execution_count": 80,
   "metadata": {
    "slideshow": {
     "slide_type": "skip"
    }
   },
   "outputs": [],
   "source": [
    "doctopics = t.get_doc_topic(topics)\n",
    "graph = t.generate_network(node_attr=[\"topic\",'body',\"rating\",\"author\"],\n",
    "                  node_label=\"title\", similarity_cutoff = 0.9999,\n",
    "                 similarity_measure = \"cosine_similarity\")"
   ]
  },
  {
   "cell_type": "code",
   "execution_count": 24,
   "metadata": {
    "slideshow": {
     "slide_type": "skip"
    }
   },
   "outputs": [],
   "source": [
    "import networkx as nx\n",
    "\n",
    "graph.remove_nodes_from(list(nx.isolates(graph)))\n",
    "nx.write_gml(graph, 'docs.gml')"
   ]
  },
  {
   "cell_type": "markdown",
   "metadata": {
    "slideshow": {
     "slide_type": "slide"
    }
   },
   "source": [
    "# Duschbrocken review exploration"
   ]
  },
  {
   "cell_type": "markdown",
   "metadata": {
    "slideshow": {
     "slide_type": "slide"
    }
   },
   "source": [
    "# Data summary"
   ]
  },
  {
   "cell_type": "code",
   "execution_count": 20,
   "metadata": {
    "slideshow": {
     "slide_type": "skip"
    }
   },
   "outputs": [],
   "source": [
    "analysiscode=\"duschbrocken\""
   ]
  },
  {
   "cell_type": "code",
   "execution_count": 43,
   "metadata": {
    "slideshow": {
     "slide_type": "fragment"
    }
   },
   "outputs": [
    {
     "name": "stdout",
     "output_type": "stream",
     "text": [
      "Das Datenset enthält 393 Reviews von 306 Usern.\n",
      "\n",
      "The top reviewers in the data set are:\n",
      "\n",
      "maxiillner..., Anzahl: 4\n",
      "info@gabys..., Anzahl: 3\n",
      "Jeany1990@..., Anzahl: 3\n",
      "schaefer.6..., Anzahl: 3\n",
      "andreea.gi..., Anzahl: 2\n",
      "\n"
     ]
    }
   ],
   "source": [
    "import pprint\n",
    "print(\"Das Datenset enthält {} Reviews von {} Usern.\".format(t.df.shape[0],t.df[\"author\"].nunique()))\n",
    "print()\n",
    "print(\"The top reviewers in the data set are:\")\n",
    "print()\n",
    "for a, b in enumerate(t.df.groupby(\"email\")[\"review_id\"].agg(\"count\").sort_values(ascending=False)[0:5].iteritems(), 1):\n",
    "    print('{}..., Anzahl: {}'.format(b[0][0:10],b[1]))\n",
    "    \n",
    "print()"
   ]
  },
  {
   "cell_type": "markdown",
   "metadata": {
    "slideshow": {
     "slide_type": "slide"
    }
   },
   "source": [
    "# Document Analysis\n",
    "\n",
    "*Note: If the following plots are not displayed nicely or missing the legend on the right-hand side, hit refresh and wait until fully loaded.*"
   ]
  },
  {
   "cell_type": "markdown",
   "metadata": {
    "slideshow": {
     "slide_type": "slide"
    }
   },
   "source": [
    "### Die Produktreviews des Duschbrocken sind relativ homogen und der Großteil behandelt den guten Duft und die tolle Produkterfahrung ([How to read the network](http://nbviewer.jupyter.org/github/bockjo/Udacity_portfolio/blob/master/networks_how_to.png))."
   ]
  },
  {
   "cell_type": "code",
   "execution_count": 74,
   "metadata": {
    "slideshow": {
     "slide_type": "skip"
    }
   },
   "outputs": [],
   "source": [
    "import os\n",
    "from shutil import copyfile\n",
    "\n",
    "# Move templates\n",
    "source = \"01_Vorlage/\"\n",
    "dst = \"graphics5/network/\"\n",
    "\n",
    "for f in [\"index.html\",\"css/style.css\",\"js/main.js\",\"js/sigma/sigma.parseJson.js\"]:\n",
    "    copyfile(source+f, dst+f)\n"
   ]
  },
  {
   "cell_type": "code",
   "execution_count": 75,
   "metadata": {
    "slideshow": {
     "slide_type": "fragment"
    }
   },
   "outputs": [
    {
     "data": {
      "text/html": [
       "\n",
       "        <iframe\n",
       "            width=\"100%\"\n",
       "            height=\"650\"\n",
       "            src=\"graphics5/network/index.html\"\n",
       "            frameborder=\"0\"\n",
       "            allowfullscreen\n",
       "        ></iframe>\n",
       "        "
      ],
      "text/plain": [
       "<IPython.lib.display.IFrame at 0x2099d464148>"
      ]
     },
     "execution_count": 75,
     "metadata": {},
     "output_type": "execute_result"
    }
   ],
   "source": [
    "from IPython.display import IFrame\n",
    "IFrame(\"graphics5/network/index.html\", width=\"100%\", height=650)"
   ]
  },
  {
   "cell_type": "markdown",
   "metadata": {},
   "source": [
    "### Die Produktratings sind grundsätzlich sehr positiv. Vereinzelt gibt es beim Thema Geruch schlechte Noten, weil es zu intensiv riecht."
   ]
  },
  {
   "cell_type": "code",
   "execution_count": 73,
   "metadata": {},
   "outputs": [
    {
     "data": {
      "text/html": [
       "\n",
       "        <iframe\n",
       "            width=\"100%\"\n",
       "            height=\"650\"\n",
       "            src=\"graphics4/network/index.html\"\n",
       "            frameborder=\"0\"\n",
       "            allowfullscreen\n",
       "        ></iframe>\n",
       "        "
      ],
      "text/plain": [
       "<IPython.lib.display.IFrame at 0x2099ca39dc8>"
      ]
     },
     "execution_count": 73,
     "metadata": {},
     "output_type": "execute_result"
    }
   ],
   "source": [
    "from IPython.display import IFrame\n",
    "IFrame(\"graphics4/network/index.html\", width=\"100%\", height=650)"
   ]
  },
  {
   "cell_type": "markdown",
   "metadata": {
    "heading_collapsed": true,
    "slideshow": {
     "slide_type": "skip"
    }
   },
   "source": [
    "# Plotting code"
   ]
  },
  {
   "cell_type": "code",
   "execution_count": 47,
   "metadata": {
    "hidden": true
   },
   "outputs": [],
   "source": [
    "import plotly.io as pio\n",
    "import warnings\n",
    "pio.templates.default = 'simple_white'\n",
    "warnings.filterwarnings('ignore')"
   ]
  },
  {
   "cell_type": "code",
   "execution_count": 48,
   "metadata": {
    "hidden": true
   },
   "outputs": [
    {
     "data": {
      "application/javascript": [
       "window.genUID = function() {\n",
       "    return 'xxxxxxxx-xxxx-4xxx-yxxx-xxxxxxxxxxxx'.replace(/[xy]/g, function(c) {\n",
       "        var r = Math.random()*16|0, v = c == 'x' ? r : (r&0x3|0x8);\n",
       "        return v.toString(16);\n",
       "    });\n",
       "};\n",
       "\n",
       "\n",
       "define('graphWidget', [\"@jupyter-widgets/base\"], function (widget) {\n",
       "\n",
       "    var GraphView = widget.DOMWidgetView.extend({\n",
       "        render: function(){\n",
       "            var that = this;\n",
       "\n",
       "            var graphId = window.genUID();\n",
       "            var loadingId = 'loading-'+graphId;\n",
       "\n",
       "\n",
       "            var _graph_url = that.model.get('_graph_url');\n",
       "\n",
       "            // variable plotlyDomain in the case of enterprise\n",
       "            var url_parts = _graph_url.split('/');\n",
       "            var plotlyDomain = url_parts[0] + '//' + url_parts[2];\n",
       "\n",
       "            if(!('plotlyDomains' in window)){\n",
       "                window.plotlyDomains = {};\n",
       "            }\n",
       "            window.plotlyDomains[graphId] = plotlyDomain;\n",
       "\n",
       "            // Place IFrame in output cell div `$el`\n",
       "            that.$el.css('width', '100%');\n",
       "            that.$graph = $(['<iframe id=\"'+graphId+'\"',\n",
       "                             'src=\"'+_graph_url+'.embed\"',\n",
       "                             'seamless',\n",
       "                             'style=\"border: none;\"',\n",
       "                             'width=\"100%\"',\n",
       "                             'height=\"600\">',\n",
       "                             '</iframe>'].join(' '));\n",
       "            that.$graph.appendTo(that.$el);\n",
       "\n",
       "            that.$loading = $('<div id=\"'+loadingId+'\">Initializing...</div>')\n",
       "                            .appendTo(that.$el);\n",
       "\n",
       "            // for some reason the 'width' is being changed in IPython 3.0.0\n",
       "            // for the containing `div` element. There's a flicker here, but\n",
       "            // I was unable to fix it otherwise.\n",
       "            setTimeout(function ()  {\n",
       "                if (IPYTHON_VERSION === '3') {\n",
       "                    $('#' + graphId)[0].parentElement.style.width = '100%';\n",
       "                }\n",
       "            }, 500);\n",
       "\n",
       "            // initialize communication with the iframe\n",
       "            if(!('pingers' in window)){\n",
       "                window.pingers = {};\n",
       "            }\n",
       "\n",
       "            window.pingers[graphId] = setInterval(function() {\n",
       "                that.graphContentWindow = $('#'+graphId)[0].contentWindow;\n",
       "                that.graphContentWindow.postMessage({task: 'ping'}, plotlyDomain);\n",
       "            }, 200);\n",
       "\n",
       "            // Assign a message listener to the 'message' events\n",
       "            // from iframe's postMessage protocol.\n",
       "            // Filter the messages by iframe src so that the right message\n",
       "            // gets passed to the right widget\n",
       "            if(!('messageListeners' in window)){\n",
       "                 window.messageListeners = {};\n",
       "            }\n",
       "\n",
       "            window.messageListeners[graphId] = function(e) {\n",
       "                if(_graph_url.indexOf(e.origin)>-1) {\n",
       "                    var frame = document.getElementById(graphId);\n",
       "\n",
       "                    if(frame === null){\n",
       "                        // frame doesn't exist in the dom anymore, clean up it's old event listener\n",
       "                        window.removeEventListener('message', window.messageListeners[graphId]);\n",
       "                        clearInterval(window.pingers[graphId]);\n",
       "                    } else if(frame.contentWindow === e.source) {\n",
       "                        // TODO: Stop event propagation, so each frame doesn't listen and filter\n",
       "                        var frameContentWindow = $('#'+graphId)[0].contentWindow;\n",
       "                        var message = e.data;\n",
       "\n",
       "                        if('pong' in message && message.pong) {\n",
       "                            $('#loading-'+graphId).hide();\n",
       "                            clearInterval(window.pingers[graphId]);\n",
       "                            that.send({event: 'pong', graphId: graphId});\n",
       "                        } else if (message.type==='hover' ||\n",
       "                                   message.type==='zoom'  ||\n",
       "                                   message.type==='click' ||\n",
       "                                   message.type==='unhover') {\n",
       "\n",
       "                            // click and hover events contain all of the data in the traces,\n",
       "                            // which can be a very large object and may take a ton of time\n",
       "                            // to pass to the python backend. Strip out the data, and require\n",
       "                            // the user to call get_figure if they need trace information\n",
       "                            if(message.type !== 'zoom') {\n",
       "                                for(var i in message.points) {\n",
       "                                    delete message.points[i].data;\n",
       "                                    delete message.points[i].fullData;\n",
       "                                }\n",
       "                            }\n",
       "                            that.send({event: message.type, message: message, graphId: graphId});\n",
       "                        } else if (message.task === 'getAttributes') {\n",
       "                            that.send({event: 'getAttributes', response: message.response});\n",
       "                        }\n",
       "                    }\n",
       "                }\n",
       "            };\n",
       "\n",
       "            window.removeEventListener('message', window.messageListeners[graphId]);\n",
       "            window.addEventListener('message', window.messageListeners[graphId]);\n",
       "\n",
       "        },\n",
       "\n",
       "        update: function() {\n",
       "            // Listen for messages from the graph widget in python\n",
       "            var jmessage = this.model.get('_message');\n",
       "            var message = JSON.parse(jmessage);\n",
       "\n",
       "            // check for duplicate messages\n",
       "            if(!('messageIds' in window)){\n",
       "                window.messageIds = {};\n",
       "            }\n",
       "\n",
       "            if(!(message.uid in window.messageIds)){\n",
       "                // message hasn't been received yet, do stuff\n",
       "                window.messageIds[message.uid] = true;\n",
       "\n",
       "                if (message.fadeTo) {\n",
       "                    this.fadeTo(message);\n",
       "                } else {\n",
       "                    var plot = $('#' + message.graphId)[0].contentWindow;\n",
       "                    plot.postMessage(message, window.plotlyDomains[message.graphId]);\n",
       "                }\n",
       "            }\n",
       "\n",
       "            return GraphView.__super__.update.apply(this);\n",
       "        },\n",
       "\n",
       "        /**\n",
       "         * Wrapper for jquery's `fadeTo` function.\n",
       "         *\n",
       "         * @param message Contains the id we need to find the element.\n",
       "         */\n",
       "        fadeTo: function (message) {\n",
       "            var plot = $('#' + message.graphId);\n",
       "            plot.fadeTo(message.duration, message.opacity);\n",
       "        }\n",
       "    });\n",
       "\n",
       "    // Register the GraphView with the widget manager.\n",
       "    return {\n",
       "        GraphView: GraphView\n",
       "    }\n",
       "\n",
       "});\n",
       "\n",
       "//@ sourceURL=graphWidget.js\n"
      ],
      "text/plain": [
       "<IPython.core.display.Javascript object>"
      ]
     },
     "metadata": {},
     "output_type": "display_data"
    },
    {
     "data": {
      "text/html": [
       "        <script type=\"text/javascript\">\n",
       "        window.PlotlyConfig = {MathJaxConfig: 'local'};\n",
       "        if (window.MathJax) {MathJax.Hub.Config({SVG: {font: \"STIX-Web\"}});}\n",
       "        if (typeof require !== 'undefined') {\n",
       "        require.undef(\"plotly\");\n",
       "        requirejs.config({\n",
       "            paths: {\n",
       "                'plotly': ['https://cdn.plot.ly/plotly-latest.min']\n",
       "            }\n",
       "        });\n",
       "        require(['plotly'], function(Plotly) {\n",
       "            window._Plotly = Plotly;\n",
       "        });\n",
       "        }\n",
       "        </script>\n",
       "        "
      ]
     },
     "metadata": {},
     "output_type": "display_data"
    }
   ],
   "source": [
    "#Plotly\n",
    "import numpy as np\n",
    "import plotly\n",
    "import chart_studio.plotly as py\n",
    "import plotly.graph_objs as go\n",
    "from plotly.offline import iplot, init_notebook_mode\n",
    "from ipywidgets import widgets\n",
    "from chart_studio.widgets import GraphWidget\n",
    "\n",
    "init_notebook_mode(connected=True)\n",
    "\n",
    "# generate a function to handle changes in the widget\n",
    "# add top_n functionality!!!\n",
    "def timeline(t,y,date_col,colorby,aggregate=\"nunique\",timeinterval=None):\n",
    "\n",
    "    plot_dat = t.copy()\n",
    "    plot_dat[date_col] = pd.to_datetime(plot_dat[date_col]).dt.week\n",
    "        \n",
    "    plot_dat = plot_dat.groupby([date_col,colorby])[y].agg(aggregate)\n",
    "    dat = plot_dat.reset_index()\n",
    "    \n",
    "    dataset = []\n",
    "    for gr in dat[colorby].unique():\n",
    "        dataset.append(go.Bar(\n",
    "        x=dat[dat[colorby]==gr][date_col],\n",
    "        y=dat[dat[colorby]==gr][y],\n",
    "        name=gr\n",
    "    ))\n",
    "\n",
    "    layout = go.Layout(\n",
    "        autosize=True,\n",
    "        barmode='stack',\n",
    "        showlegend = True,\n",
    "        legend=dict(orientation=\"h\",x=0.1,y=1.5),\n",
    "        yaxis = dict(title = \"Publish-Count\"),\n",
    "        xaxis = dict(title=\"Week number\")\n",
    "    )\n",
    "    \n",
    "    \n",
    "    fig = go.Figure(data=dataset, layout=layout)\n",
    "    return iplot(fig, filename=analysiscode+'stacked-bar')\n",
    "\n",
    "# generate a function to handle changes in the widget\n",
    "def hist(t,x,colorby=\"topic_terms\",logx = False):\n",
    "\n",
    "    plot_dat = t.copy()\n",
    "    \n",
    "    if logx:\n",
    "        plot_dat[x]=np.log(plot_dat[x])\n",
    "        #typ = 'log'\n",
    "    #else:\n",
    "        #typ=\"normal\"\n",
    "    data = []\n",
    "    for gr in plot_dat[colorby].unique():\n",
    "        data.append(go.Histogram(\n",
    "            x=plot_dat.loc[plot_dat[colorby]==gr,x],\n",
    "            name=gr\n",
    "            \n",
    "    ))\n",
    "\n",
    "    layout = go.Layout(barmode='stack',legend=dict(orientation=\"h\",x=0.1,y=1.5),\n",
    "                       autosize=True,\n",
    "                #width=800,\n",
    "                #height=550,\n",
    "                       xaxis=dict(title=x,type=\"normal\",autorange=True,\n",
    "                                 exponentformat= \"e\" if logx else \"none\"),\n",
    "                      yaxis = dict(title=\"count\"))\n",
    "    fig = go.Figure(data=data, layout=layout)\n",
    "\n",
    "    \n",
    "    return iplot(fig, filename=analysiscode+'stacked histogram')\n",
    "\n",
    "# add top_n functionality!!!\n",
    "def scatter(t,x,y,groupby,colorby = None,sizeby = \"fixed\", aggregate = {\"x\":\"sum\",\"y\":\"sum\",\"colorby\":\"sum\"},\n",
    "            axistype = {\"x\":\"linear\",\"y\":\"linear\"},\n",
    "            xtitle=\"\", ytitle=\"\"):\n",
    "    \n",
    "    plot_dat = t.copy()\n",
    "    if sizeby==\"fixed\":\n",
    "        s=15\n",
    "    if colorby == None:\n",
    "        colorby = groupby\n",
    "        \n",
    "    if plot_dat[colorby].dtype == np.object:\n",
    "        plot_datx = plot_dat.groupby([colorby,groupby])[x].agg(aggregate[\"x\"])\n",
    "        plot_daty = plot_dat.groupby([colorby,groupby])[y].agg(aggregate[\"y\"])\n",
    "        \n",
    "        dat = []\n",
    "        for cat in plot_dat[colorby].unique():\n",
    "            \n",
    "            dat.append({\"x\":plot_datx[cat].values,\n",
    "                       \"y\":plot_daty[cat].values,\n",
    "                        \"text\":plot_daty[cat].index,\n",
    "                       \"name\":cat,\n",
    "                       \"mode\":\"markers\",\n",
    "                       \"marker\":dict(size=s)})\n",
    "        fig = {\n",
    "            'data': dat,\n",
    "            'layout': {\"legend\":dict(orientation=\"h\",x=0.1,y=1.5),\"showlegend\": True,\n",
    "                'xaxis': {'title': xtitle,\"type\":axistype[\"x\"],\"exponentformat\": \"e\" if axistype[\"x\"]==\"log\" else \"none\"},\n",
    "                'yaxis': {'title': ytitle,\"type\":axistype[\"y\"],\"exponentformat\": \"e\" if axistype[\"y\"]==\"log\" else \"none\"},\n",
    "                \"autosize\":True\n",
    "            }\n",
    "        }\n",
    "    else:\n",
    "        plot_datx = plot_dat.groupby(groupby)[x].agg(aggregate[\"x\"])\n",
    "        plot_daty = plot_dat.groupby(groupby)[y].agg(aggregate[\"y\"])\n",
    "        plot_datcol = plot_dat.groupby(groupby)[colorby].agg(aggregate[\"colorby\"])\n",
    "        \n",
    "        trace1 = go.Scatter(\n",
    "            y = plot_daty.values,\n",
    "            x = plot_datx.values,\n",
    "            mode='markers',\n",
    "            marker=dict(\n",
    "                size=s,\n",
    "                color = plot_datcol.values, #set color equal to a variable\n",
    "                colorscale='Viridis',\n",
    "                showscale=True\n",
    "            )\n",
    "        )\n",
    "        layout = dict(xaxis=dic(title=xtitle,type=axistype[\"x\"],exponentformat= \"e\" if axistype[\"x\"]==\"log\" else \"none\"),\n",
    "                      yaxis=dic(title=ytitle,type=axistype[\"y\"],exponentformat= \"e\" if axistype[\"y\"]==\"log\" else \"none\"))\n",
    "        fig = go.Figure(data=[trace1],layout = layout)\n",
    "        \n",
    "    return iplot(fig, filename=analysiscode+'bar')\n",
    "\n",
    "# add top_n functionality!!!\n",
    "def bar_continuous(t):\n",
    "    plot_dat = t.copy()\n",
    "    \n",
    "    plot_dat = plot_dat.groupby(groupby)[x].agg(aggregate)\n",
    "    data =[\n",
    "        go.Bar(\n",
    "        y=plot_dat.index.values,\n",
    "        x=plot_dat.values,\n",
    "        orientation = 'h')\n",
    "    ]\n",
    "    fig = go.Figure(data=data)\n",
    "    \n",
    "    return iplot(fig, filename='bar_cont')\n",
    "        \n",
    "def bar(t,x,groupby,xtitle=\"\",colorby = \"topic_terms\", aggregate = \"sum\"):\n",
    "    plot_dat = t.copy()\n",
    "    \n",
    "    data = []\n",
    "    plot_dat = plot_dat.groupby([colorby,groupby])[x].agg(aggregate)\n",
    "    for gr in plot_dat.index.levels[0]: \n",
    "        data.append(go.Bar(\n",
    "        y=plot_dat[gr].index.values,\n",
    "        x=plot_dat[gr].values,\n",
    "        name=gr,\n",
    "        orientation = 'h'\n",
    "    ))\n",
    "\n",
    "    layout = go.Layout(\n",
    "        autosize=False,\n",
    "    width=1000,\n",
    "    height=550,\n",
    "        barmode='stack',\n",
    "        showlegend = True,\n",
    "        xaxis = dict(title=xtitle),#,position=-1.\n",
    "        yaxis = dict(),\n",
    "        legend=dict(orientation=\"v\",x=1,y=1.2),\n",
    "        margin = go.Margin(l=350,r=10)\n",
    "    )\n",
    "\n",
    "    fig = go.Figure(data=data, layout=layout)\n",
    "    \n",
    "    return iplot(fig, filename=analysiscode+'bar_cat')"
   ]
  },
  {
   "cell_type": "markdown",
   "metadata": {
    "slideshow": {
     "slide_type": "skip"
    }
   },
   "source": [
    "# Exploratory analysis"
   ]
  },
  {
   "cell_type": "markdown",
   "metadata": {
    "slideshow": {
     "slide_type": "slide"
    }
   },
   "source": [
    "### Der Geruch und die Begeisterung für das Produkt generiert am meisten positive Reviews. Der Bestellprozess hingegen generiert schlechtere Bewertungen aber auch geringere Aufmerksamkeit."
   ]
  },
  {
   "cell_type": "code",
   "execution_count": 55,
   "metadata": {
    "slideshow": {
     "slide_type": "fragment"
    }
   },
   "outputs": [
    {
     "data": {
      "application/vnd.plotly.v1+json": {
       "config": {
        "linkText": "Export to plot.ly",
        "plotlyServerURL": "https://plot.ly",
        "showLink": false
       },
       "data": [
        {
         "marker": {
          "size": 15
         },
         "mode": "markers",
         "name": "Produktbegeisterung",
         "text": [
          "Produktbegeisterung"
         ],
         "type": "scatter",
         "x": [
          4.846153846153846
         ],
         "y": [
          156
         ]
        },
        {
         "marker": {
          "size": 15
         },
         "mode": "markers",
         "name": "Dose",
         "text": [
          "Dose"
         ],
         "type": "scatter",
         "x": [
          4.357142857142857
         ],
         "y": [
          14
         ]
        },
        {
         "marker": {
          "size": 15
         },
         "mode": "markers",
         "name": "Geruch",
         "text": [
          "Geruch"
         ],
         "type": "scatter",
         "x": [
          4.710659898477157
         ],
         "y": [
          197
         ]
        },
        {
         "marker": {
          "size": 15
         },
         "mode": "markers",
         "name": "Haut",
         "text": [
          "Haut"
         ],
         "type": "scatter",
         "x": [
          5
         ],
         "y": [
          4
         ]
        },
        {
         "marker": {
          "size": 15
         },
         "mode": "markers",
         "name": "Haar und Shampoo",
         "text": [
          "Haar und Shampoo"
         ],
         "type": "scatter",
         "x": [
          4.9411764705882355
         ],
         "y": [
          17
         ]
        },
        {
         "marker": {
          "size": 15
         },
         "mode": "markers",
         "name": "Bestellung",
         "text": [
          "Bestellung"
         ],
         "type": "scatter",
         "x": [
          3.8
         ],
         "y": [
          5
         ]
        }
       ],
       "layout": {
        "autosize": true,
        "legend": {
         "orientation": "h",
         "x": 0.1,
         "y": 1.5
        },
        "showlegend": true,
        "template": {
         "data": {
          "bar": [
           {
            "error_x": {
             "color": "rgb(36,36,36)"
            },
            "error_y": {
             "color": "rgb(36,36,36)"
            },
            "marker": {
             "line": {
              "color": "white",
              "width": 0.5
             }
            },
            "type": "bar"
           }
          ],
          "barpolar": [
           {
            "marker": {
             "line": {
              "color": "white",
              "width": 0.5
             }
            },
            "type": "barpolar"
           }
          ],
          "carpet": [
           {
            "aaxis": {
             "endlinecolor": "rgb(36,36,36)",
             "gridcolor": "white",
             "linecolor": "white",
             "minorgridcolor": "white",
             "startlinecolor": "rgb(36,36,36)"
            },
            "baxis": {
             "endlinecolor": "rgb(36,36,36)",
             "gridcolor": "white",
             "linecolor": "white",
             "minorgridcolor": "white",
             "startlinecolor": "rgb(36,36,36)"
            },
            "type": "carpet"
           }
          ],
          "choropleth": [
           {
            "colorbar": {
             "outlinewidth": 1,
             "tickcolor": "rgb(36,36,36)",
             "ticks": "outside"
            },
            "type": "choropleth"
           }
          ],
          "contour": [
           {
            "colorbar": {
             "outlinewidth": 1,
             "tickcolor": "rgb(36,36,36)",
             "ticks": "outside"
            },
            "colorscale": [
             [
              0,
              "#440154"
             ],
             [
              0.1111111111111111,
              "#482878"
             ],
             [
              0.2222222222222222,
              "#3e4989"
             ],
             [
              0.3333333333333333,
              "#31688e"
             ],
             [
              0.4444444444444444,
              "#26828e"
             ],
             [
              0.5555555555555556,
              "#1f9e89"
             ],
             [
              0.6666666666666666,
              "#35b779"
             ],
             [
              0.7777777777777778,
              "#6ece58"
             ],
             [
              0.8888888888888888,
              "#b5de2b"
             ],
             [
              1,
              "#fde725"
             ]
            ],
            "type": "contour"
           }
          ],
          "contourcarpet": [
           {
            "colorbar": {
             "outlinewidth": 1,
             "tickcolor": "rgb(36,36,36)",
             "ticks": "outside"
            },
            "type": "contourcarpet"
           }
          ],
          "heatmap": [
           {
            "colorbar": {
             "outlinewidth": 1,
             "tickcolor": "rgb(36,36,36)",
             "ticks": "outside"
            },
            "colorscale": [
             [
              0,
              "#440154"
             ],
             [
              0.1111111111111111,
              "#482878"
             ],
             [
              0.2222222222222222,
              "#3e4989"
             ],
             [
              0.3333333333333333,
              "#31688e"
             ],
             [
              0.4444444444444444,
              "#26828e"
             ],
             [
              0.5555555555555556,
              "#1f9e89"
             ],
             [
              0.6666666666666666,
              "#35b779"
             ],
             [
              0.7777777777777778,
              "#6ece58"
             ],
             [
              0.8888888888888888,
              "#b5de2b"
             ],
             [
              1,
              "#fde725"
             ]
            ],
            "type": "heatmap"
           }
          ],
          "heatmapgl": [
           {
            "colorbar": {
             "outlinewidth": 1,
             "tickcolor": "rgb(36,36,36)",
             "ticks": "outside"
            },
            "colorscale": [
             [
              0,
              "#440154"
             ],
             [
              0.1111111111111111,
              "#482878"
             ],
             [
              0.2222222222222222,
              "#3e4989"
             ],
             [
              0.3333333333333333,
              "#31688e"
             ],
             [
              0.4444444444444444,
              "#26828e"
             ],
             [
              0.5555555555555556,
              "#1f9e89"
             ],
             [
              0.6666666666666666,
              "#35b779"
             ],
             [
              0.7777777777777778,
              "#6ece58"
             ],
             [
              0.8888888888888888,
              "#b5de2b"
             ],
             [
              1,
              "#fde725"
             ]
            ],
            "type": "heatmapgl"
           }
          ],
          "histogram": [
           {
            "marker": {
             "line": {
              "color": "white",
              "width": 0.6
             }
            },
            "type": "histogram"
           }
          ],
          "histogram2d": [
           {
            "colorbar": {
             "outlinewidth": 1,
             "tickcolor": "rgb(36,36,36)",
             "ticks": "outside"
            },
            "colorscale": [
             [
              0,
              "#440154"
             ],
             [
              0.1111111111111111,
              "#482878"
             ],
             [
              0.2222222222222222,
              "#3e4989"
             ],
             [
              0.3333333333333333,
              "#31688e"
             ],
             [
              0.4444444444444444,
              "#26828e"
             ],
             [
              0.5555555555555556,
              "#1f9e89"
             ],
             [
              0.6666666666666666,
              "#35b779"
             ],
             [
              0.7777777777777778,
              "#6ece58"
             ],
             [
              0.8888888888888888,
              "#b5de2b"
             ],
             [
              1,
              "#fde725"
             ]
            ],
            "type": "histogram2d"
           }
          ],
          "histogram2dcontour": [
           {
            "colorbar": {
             "outlinewidth": 1,
             "tickcolor": "rgb(36,36,36)",
             "ticks": "outside"
            },
            "colorscale": [
             [
              0,
              "#440154"
             ],
             [
              0.1111111111111111,
              "#482878"
             ],
             [
              0.2222222222222222,
              "#3e4989"
             ],
             [
              0.3333333333333333,
              "#31688e"
             ],
             [
              0.4444444444444444,
              "#26828e"
             ],
             [
              0.5555555555555556,
              "#1f9e89"
             ],
             [
              0.6666666666666666,
              "#35b779"
             ],
             [
              0.7777777777777778,
              "#6ece58"
             ],
             [
              0.8888888888888888,
              "#b5de2b"
             ],
             [
              1,
              "#fde725"
             ]
            ],
            "type": "histogram2dcontour"
           }
          ],
          "mesh3d": [
           {
            "colorbar": {
             "outlinewidth": 1,
             "tickcolor": "rgb(36,36,36)",
             "ticks": "outside"
            },
            "type": "mesh3d"
           }
          ],
          "parcoords": [
           {
            "line": {
             "colorbar": {
              "outlinewidth": 1,
              "tickcolor": "rgb(36,36,36)",
              "ticks": "outside"
             }
            },
            "type": "parcoords"
           }
          ],
          "pie": [
           {
            "automargin": true,
            "type": "pie"
           }
          ],
          "scatter": [
           {
            "marker": {
             "colorbar": {
              "outlinewidth": 1,
              "tickcolor": "rgb(36,36,36)",
              "ticks": "outside"
             }
            },
            "type": "scatter"
           }
          ],
          "scatter3d": [
           {
            "line": {
             "colorbar": {
              "outlinewidth": 1,
              "tickcolor": "rgb(36,36,36)",
              "ticks": "outside"
             }
            },
            "marker": {
             "colorbar": {
              "outlinewidth": 1,
              "tickcolor": "rgb(36,36,36)",
              "ticks": "outside"
             }
            },
            "type": "scatter3d"
           }
          ],
          "scattercarpet": [
           {
            "marker": {
             "colorbar": {
              "outlinewidth": 1,
              "tickcolor": "rgb(36,36,36)",
              "ticks": "outside"
             }
            },
            "type": "scattercarpet"
           }
          ],
          "scattergeo": [
           {
            "marker": {
             "colorbar": {
              "outlinewidth": 1,
              "tickcolor": "rgb(36,36,36)",
              "ticks": "outside"
             }
            },
            "type": "scattergeo"
           }
          ],
          "scattergl": [
           {
            "marker": {
             "colorbar": {
              "outlinewidth": 1,
              "tickcolor": "rgb(36,36,36)",
              "ticks": "outside"
             }
            },
            "type": "scattergl"
           }
          ],
          "scattermapbox": [
           {
            "marker": {
             "colorbar": {
              "outlinewidth": 1,
              "tickcolor": "rgb(36,36,36)",
              "ticks": "outside"
             }
            },
            "type": "scattermapbox"
           }
          ],
          "scatterpolar": [
           {
            "marker": {
             "colorbar": {
              "outlinewidth": 1,
              "tickcolor": "rgb(36,36,36)",
              "ticks": "outside"
             }
            },
            "type": "scatterpolar"
           }
          ],
          "scatterpolargl": [
           {
            "marker": {
             "colorbar": {
              "outlinewidth": 1,
              "tickcolor": "rgb(36,36,36)",
              "ticks": "outside"
             }
            },
            "type": "scatterpolargl"
           }
          ],
          "scatterternary": [
           {
            "marker": {
             "colorbar": {
              "outlinewidth": 1,
              "tickcolor": "rgb(36,36,36)",
              "ticks": "outside"
             }
            },
            "type": "scatterternary"
           }
          ],
          "surface": [
           {
            "colorbar": {
             "outlinewidth": 1,
             "tickcolor": "rgb(36,36,36)",
             "ticks": "outside"
            },
            "colorscale": [
             [
              0,
              "#440154"
             ],
             [
              0.1111111111111111,
              "#482878"
             ],
             [
              0.2222222222222222,
              "#3e4989"
             ],
             [
              0.3333333333333333,
              "#31688e"
             ],
             [
              0.4444444444444444,
              "#26828e"
             ],
             [
              0.5555555555555556,
              "#1f9e89"
             ],
             [
              0.6666666666666666,
              "#35b779"
             ],
             [
              0.7777777777777778,
              "#6ece58"
             ],
             [
              0.8888888888888888,
              "#b5de2b"
             ],
             [
              1,
              "#fde725"
             ]
            ],
            "type": "surface"
           }
          ],
          "table": [
           {
            "cells": {
             "fill": {
              "color": "rgb(237,237,237)"
             },
             "line": {
              "color": "white"
             }
            },
            "header": {
             "fill": {
              "color": "rgb(217,217,217)"
             },
             "line": {
              "color": "white"
             }
            },
            "type": "table"
           }
          ]
         },
         "layout": {
          "annotationdefaults": {
           "arrowhead": 0,
           "arrowwidth": 1
          },
          "coloraxis": {
           "colorbar": {
            "outlinewidth": 1,
            "tickcolor": "rgb(36,36,36)",
            "ticks": "outside"
           }
          },
          "colorscale": {
           "diverging": [
            [
             0,
             "rgb(103,0,31)"
            ],
            [
             0.1,
             "rgb(178,24,43)"
            ],
            [
             0.2,
             "rgb(214,96,77)"
            ],
            [
             0.3,
             "rgb(244,165,130)"
            ],
            [
             0.4,
             "rgb(253,219,199)"
            ],
            [
             0.5,
             "rgb(247,247,247)"
            ],
            [
             0.6,
             "rgb(209,229,240)"
            ],
            [
             0.7,
             "rgb(146,197,222)"
            ],
            [
             0.8,
             "rgb(67,147,195)"
            ],
            [
             0.9,
             "rgb(33,102,172)"
            ],
            [
             1,
             "rgb(5,48,97)"
            ]
           ],
           "sequential": [
            [
             0,
             "#440154"
            ],
            [
             0.1111111111111111,
             "#482878"
            ],
            [
             0.2222222222222222,
             "#3e4989"
            ],
            [
             0.3333333333333333,
             "#31688e"
            ],
            [
             0.4444444444444444,
             "#26828e"
            ],
            [
             0.5555555555555556,
             "#1f9e89"
            ],
            [
             0.6666666666666666,
             "#35b779"
            ],
            [
             0.7777777777777778,
             "#6ece58"
            ],
            [
             0.8888888888888888,
             "#b5de2b"
            ],
            [
             1,
             "#fde725"
            ]
           ],
           "sequentialminus": [
            [
             0,
             "#440154"
            ],
            [
             0.1111111111111111,
             "#482878"
            ],
            [
             0.2222222222222222,
             "#3e4989"
            ],
            [
             0.3333333333333333,
             "#31688e"
            ],
            [
             0.4444444444444444,
             "#26828e"
            ],
            [
             0.5555555555555556,
             "#1f9e89"
            ],
            [
             0.6666666666666666,
             "#35b779"
            ],
            [
             0.7777777777777778,
             "#6ece58"
            ],
            [
             0.8888888888888888,
             "#b5de2b"
            ],
            [
             1,
             "#fde725"
            ]
           ]
          },
          "colorway": [
           "#1F77B4",
           "#FF7F0E",
           "#2CA02C",
           "#D62728",
           "#9467BD",
           "#8C564B",
           "#E377C2",
           "#7F7F7F",
           "#BCBD22",
           "#17BECF"
          ],
          "font": {
           "color": "rgb(36,36,36)"
          },
          "geo": {
           "bgcolor": "white",
           "lakecolor": "white",
           "landcolor": "white",
           "showlakes": true,
           "showland": true,
           "subunitcolor": "white"
          },
          "hoverlabel": {
           "align": "left"
          },
          "hovermode": "closest",
          "mapbox": {
           "style": "light"
          },
          "paper_bgcolor": "white",
          "plot_bgcolor": "white",
          "polar": {
           "angularaxis": {
            "gridcolor": "rgb(232,232,232)",
            "linecolor": "rgb(36,36,36)",
            "showgrid": false,
            "showline": true,
            "ticks": "outside"
           },
           "bgcolor": "white",
           "radialaxis": {
            "gridcolor": "rgb(232,232,232)",
            "linecolor": "rgb(36,36,36)",
            "showgrid": false,
            "showline": true,
            "ticks": "outside"
           }
          },
          "scene": {
           "xaxis": {
            "backgroundcolor": "white",
            "gridcolor": "rgb(232,232,232)",
            "gridwidth": 2,
            "linecolor": "rgb(36,36,36)",
            "showbackground": true,
            "showgrid": false,
            "showline": true,
            "ticks": "outside",
            "zeroline": false,
            "zerolinecolor": "rgb(36,36,36)"
           },
           "yaxis": {
            "backgroundcolor": "white",
            "gridcolor": "rgb(232,232,232)",
            "gridwidth": 2,
            "linecolor": "rgb(36,36,36)",
            "showbackground": true,
            "showgrid": false,
            "showline": true,
            "ticks": "outside",
            "zeroline": false,
            "zerolinecolor": "rgb(36,36,36)"
           },
           "zaxis": {
            "backgroundcolor": "white",
            "gridcolor": "rgb(232,232,232)",
            "gridwidth": 2,
            "linecolor": "rgb(36,36,36)",
            "showbackground": true,
            "showgrid": false,
            "showline": true,
            "ticks": "outside",
            "zeroline": false,
            "zerolinecolor": "rgb(36,36,36)"
           }
          },
          "shapedefaults": {
           "fillcolor": "black",
           "line": {
            "width": 0
           },
           "opacity": 0.3
          },
          "ternary": {
           "aaxis": {
            "gridcolor": "rgb(232,232,232)",
            "linecolor": "rgb(36,36,36)",
            "showgrid": false,
            "showline": true,
            "ticks": "outside"
           },
           "baxis": {
            "gridcolor": "rgb(232,232,232)",
            "linecolor": "rgb(36,36,36)",
            "showgrid": false,
            "showline": true,
            "ticks": "outside"
           },
           "bgcolor": "white",
           "caxis": {
            "gridcolor": "rgb(232,232,232)",
            "linecolor": "rgb(36,36,36)",
            "showgrid": false,
            "showline": true,
            "ticks": "outside"
           }
          },
          "title": {
           "x": 0.05
          },
          "xaxis": {
           "automargin": true,
           "gridcolor": "rgb(232,232,232)",
           "linecolor": "rgb(36,36,36)",
           "showgrid": false,
           "showline": true,
           "ticks": "outside",
           "title": {
            "standoff": 15
           },
           "zeroline": false,
           "zerolinecolor": "rgb(36,36,36)"
          },
          "yaxis": {
           "automargin": true,
           "gridcolor": "rgb(232,232,232)",
           "linecolor": "rgb(36,36,36)",
           "showgrid": false,
           "showline": true,
           "ticks": "outside",
           "title": {
            "standoff": 15
           },
           "zeroline": false,
           "zerolinecolor": "rgb(36,36,36)"
          }
         }
        },
        "xaxis": {
         "exponentformat": "none",
         "title": {
          "text": "Rating"
         },
         "type": "linear"
        },
        "yaxis": {
         "exponentformat": "none",
         "title": {
          "text": "Anzahl Reviews"
         },
         "type": "linear"
        }
       }
      },
      "text/html": [
       "<div>\n",
       "        \n",
       "        \n",
       "            <div id=\"153cc361-402d-4037-ac41-4104983c4165\" class=\"plotly-graph-div\" style=\"height:525px; width:100%;\"></div>\n",
       "            <script type=\"text/javascript\">\n",
       "                require([\"plotly\"], function(Plotly) {\n",
       "                    window.PLOTLYENV=window.PLOTLYENV || {};\n",
       "                    \n",
       "                if (document.getElementById(\"153cc361-402d-4037-ac41-4104983c4165\")) {\n",
       "                    Plotly.newPlot(\n",
       "                        '153cc361-402d-4037-ac41-4104983c4165',\n",
       "                        [{\"marker\": {\"size\": 15}, \"mode\": \"markers\", \"name\": \"Produktbegeisterung\", \"text\": [\"Produktbegeisterung\"], \"type\": \"scatter\", \"x\": [4.846153846153846], \"y\": [156]}, {\"marker\": {\"size\": 15}, \"mode\": \"markers\", \"name\": \"Dose\", \"text\": [\"Dose\"], \"type\": \"scatter\", \"x\": [4.357142857142857], \"y\": [14]}, {\"marker\": {\"size\": 15}, \"mode\": \"markers\", \"name\": \"Geruch\", \"text\": [\"Geruch\"], \"type\": \"scatter\", \"x\": [4.710659898477157], \"y\": [197]}, {\"marker\": {\"size\": 15}, \"mode\": \"markers\", \"name\": \"Haut\", \"text\": [\"Haut\"], \"type\": \"scatter\", \"x\": [5.0], \"y\": [4]}, {\"marker\": {\"size\": 15}, \"mode\": \"markers\", \"name\": \"Haar und Shampoo\", \"text\": [\"Haar und Shampoo\"], \"type\": \"scatter\", \"x\": [4.9411764705882355], \"y\": [17]}, {\"marker\": {\"size\": 15}, \"mode\": \"markers\", \"name\": \"Bestellung\", \"text\": [\"Bestellung\"], \"type\": \"scatter\", \"x\": [3.8], \"y\": [5]}],\n",
       "                        {\"autosize\": true, \"legend\": {\"orientation\": \"h\", \"x\": 0.1, \"y\": 1.5}, \"showlegend\": true, \"template\": {\"data\": {\"bar\": [{\"error_x\": {\"color\": \"rgb(36,36,36)\"}, \"error_y\": {\"color\": \"rgb(36,36,36)\"}, \"marker\": {\"line\": {\"color\": \"white\", \"width\": 0.5}}, \"type\": \"bar\"}], \"barpolar\": [{\"marker\": {\"line\": {\"color\": \"white\", \"width\": 0.5}}, \"type\": \"barpolar\"}], \"carpet\": [{\"aaxis\": {\"endlinecolor\": \"rgb(36,36,36)\", \"gridcolor\": \"white\", \"linecolor\": \"white\", \"minorgridcolor\": \"white\", \"startlinecolor\": \"rgb(36,36,36)\"}, \"baxis\": {\"endlinecolor\": \"rgb(36,36,36)\", \"gridcolor\": \"white\", \"linecolor\": \"white\", \"minorgridcolor\": \"white\", \"startlinecolor\": \"rgb(36,36,36)\"}, \"type\": \"carpet\"}], \"choropleth\": [{\"colorbar\": {\"outlinewidth\": 1, \"tickcolor\": \"rgb(36,36,36)\", \"ticks\": \"outside\"}, \"type\": \"choropleth\"}], \"contour\": [{\"colorbar\": {\"outlinewidth\": 1, \"tickcolor\": \"rgb(36,36,36)\", \"ticks\": \"outside\"}, \"colorscale\": [[0.0, \"#440154\"], [0.1111111111111111, \"#482878\"], [0.2222222222222222, \"#3e4989\"], [0.3333333333333333, \"#31688e\"], [0.4444444444444444, \"#26828e\"], [0.5555555555555556, \"#1f9e89\"], [0.6666666666666666, \"#35b779\"], [0.7777777777777778, \"#6ece58\"], [0.8888888888888888, \"#b5de2b\"], [1.0, \"#fde725\"]], \"type\": \"contour\"}], \"contourcarpet\": [{\"colorbar\": {\"outlinewidth\": 1, \"tickcolor\": \"rgb(36,36,36)\", \"ticks\": \"outside\"}, \"type\": \"contourcarpet\"}], \"heatmap\": [{\"colorbar\": {\"outlinewidth\": 1, \"tickcolor\": \"rgb(36,36,36)\", \"ticks\": \"outside\"}, \"colorscale\": [[0.0, \"#440154\"], [0.1111111111111111, \"#482878\"], [0.2222222222222222, \"#3e4989\"], [0.3333333333333333, \"#31688e\"], [0.4444444444444444, \"#26828e\"], [0.5555555555555556, \"#1f9e89\"], [0.6666666666666666, \"#35b779\"], [0.7777777777777778, \"#6ece58\"], [0.8888888888888888, \"#b5de2b\"], [1.0, \"#fde725\"]], \"type\": \"heatmap\"}], \"heatmapgl\": [{\"colorbar\": {\"outlinewidth\": 1, \"tickcolor\": \"rgb(36,36,36)\", \"ticks\": \"outside\"}, \"colorscale\": [[0.0, \"#440154\"], [0.1111111111111111, \"#482878\"], [0.2222222222222222, \"#3e4989\"], [0.3333333333333333, \"#31688e\"], [0.4444444444444444, \"#26828e\"], [0.5555555555555556, \"#1f9e89\"], [0.6666666666666666, \"#35b779\"], [0.7777777777777778, \"#6ece58\"], [0.8888888888888888, \"#b5de2b\"], [1.0, \"#fde725\"]], \"type\": \"heatmapgl\"}], \"histogram\": [{\"marker\": {\"line\": {\"color\": \"white\", \"width\": 0.6}}, \"type\": \"histogram\"}], \"histogram2d\": [{\"colorbar\": {\"outlinewidth\": 1, \"tickcolor\": \"rgb(36,36,36)\", \"ticks\": \"outside\"}, \"colorscale\": [[0.0, \"#440154\"], [0.1111111111111111, \"#482878\"], [0.2222222222222222, \"#3e4989\"], [0.3333333333333333, \"#31688e\"], [0.4444444444444444, \"#26828e\"], [0.5555555555555556, \"#1f9e89\"], [0.6666666666666666, \"#35b779\"], [0.7777777777777778, \"#6ece58\"], [0.8888888888888888, \"#b5de2b\"], [1.0, \"#fde725\"]], \"type\": \"histogram2d\"}], \"histogram2dcontour\": [{\"colorbar\": {\"outlinewidth\": 1, \"tickcolor\": \"rgb(36,36,36)\", \"ticks\": \"outside\"}, \"colorscale\": [[0.0, \"#440154\"], [0.1111111111111111, \"#482878\"], [0.2222222222222222, \"#3e4989\"], [0.3333333333333333, \"#31688e\"], [0.4444444444444444, \"#26828e\"], [0.5555555555555556, \"#1f9e89\"], [0.6666666666666666, \"#35b779\"], [0.7777777777777778, \"#6ece58\"], [0.8888888888888888, \"#b5de2b\"], [1.0, \"#fde725\"]], \"type\": \"histogram2dcontour\"}], \"mesh3d\": [{\"colorbar\": {\"outlinewidth\": 1, \"tickcolor\": \"rgb(36,36,36)\", \"ticks\": \"outside\"}, \"type\": \"mesh3d\"}], \"parcoords\": [{\"line\": {\"colorbar\": {\"outlinewidth\": 1, \"tickcolor\": \"rgb(36,36,36)\", \"ticks\": \"outside\"}}, \"type\": \"parcoords\"}], \"pie\": [{\"automargin\": true, \"type\": \"pie\"}], \"scatter\": [{\"marker\": {\"colorbar\": {\"outlinewidth\": 1, \"tickcolor\": \"rgb(36,36,36)\", \"ticks\": \"outside\"}}, \"type\": \"scatter\"}], \"scatter3d\": [{\"line\": {\"colorbar\": {\"outlinewidth\": 1, \"tickcolor\": \"rgb(36,36,36)\", \"ticks\": \"outside\"}}, \"marker\": {\"colorbar\": {\"outlinewidth\": 1, \"tickcolor\": \"rgb(36,36,36)\", \"ticks\": \"outside\"}}, \"type\": \"scatter3d\"}], \"scattercarpet\": [{\"marker\": {\"colorbar\": {\"outlinewidth\": 1, \"tickcolor\": \"rgb(36,36,36)\", \"ticks\": \"outside\"}}, \"type\": \"scattercarpet\"}], \"scattergeo\": [{\"marker\": {\"colorbar\": {\"outlinewidth\": 1, \"tickcolor\": \"rgb(36,36,36)\", \"ticks\": \"outside\"}}, \"type\": \"scattergeo\"}], \"scattergl\": [{\"marker\": {\"colorbar\": {\"outlinewidth\": 1, \"tickcolor\": \"rgb(36,36,36)\", \"ticks\": \"outside\"}}, \"type\": \"scattergl\"}], \"scattermapbox\": [{\"marker\": {\"colorbar\": {\"outlinewidth\": 1, \"tickcolor\": \"rgb(36,36,36)\", \"ticks\": \"outside\"}}, \"type\": \"scattermapbox\"}], \"scatterpolar\": [{\"marker\": {\"colorbar\": {\"outlinewidth\": 1, \"tickcolor\": \"rgb(36,36,36)\", \"ticks\": \"outside\"}}, \"type\": \"scatterpolar\"}], \"scatterpolargl\": [{\"marker\": {\"colorbar\": {\"outlinewidth\": 1, \"tickcolor\": \"rgb(36,36,36)\", \"ticks\": \"outside\"}}, \"type\": \"scatterpolargl\"}], \"scatterternary\": [{\"marker\": {\"colorbar\": {\"outlinewidth\": 1, \"tickcolor\": \"rgb(36,36,36)\", \"ticks\": \"outside\"}}, \"type\": \"scatterternary\"}], \"surface\": [{\"colorbar\": {\"outlinewidth\": 1, \"tickcolor\": \"rgb(36,36,36)\", \"ticks\": \"outside\"}, \"colorscale\": [[0.0, \"#440154\"], [0.1111111111111111, \"#482878\"], [0.2222222222222222, \"#3e4989\"], [0.3333333333333333, \"#31688e\"], [0.4444444444444444, \"#26828e\"], [0.5555555555555556, \"#1f9e89\"], [0.6666666666666666, \"#35b779\"], [0.7777777777777778, \"#6ece58\"], [0.8888888888888888, \"#b5de2b\"], [1.0, \"#fde725\"]], \"type\": \"surface\"}], \"table\": [{\"cells\": {\"fill\": {\"color\": \"rgb(237,237,237)\"}, \"line\": {\"color\": \"white\"}}, \"header\": {\"fill\": {\"color\": \"rgb(217,217,217)\"}, \"line\": {\"color\": \"white\"}}, \"type\": \"table\"}]}, \"layout\": {\"annotationdefaults\": {\"arrowhead\": 0, \"arrowwidth\": 1}, \"coloraxis\": {\"colorbar\": {\"outlinewidth\": 1, \"tickcolor\": \"rgb(36,36,36)\", \"ticks\": \"outside\"}}, \"colorscale\": {\"diverging\": [[0.0, \"rgb(103,0,31)\"], [0.1, \"rgb(178,24,43)\"], [0.2, \"rgb(214,96,77)\"], [0.3, \"rgb(244,165,130)\"], [0.4, \"rgb(253,219,199)\"], [0.5, \"rgb(247,247,247)\"], [0.6, \"rgb(209,229,240)\"], [0.7, \"rgb(146,197,222)\"], [0.8, \"rgb(67,147,195)\"], [0.9, \"rgb(33,102,172)\"], [1.0, \"rgb(5,48,97)\"]], \"sequential\": [[0.0, \"#440154\"], [0.1111111111111111, \"#482878\"], [0.2222222222222222, \"#3e4989\"], [0.3333333333333333, \"#31688e\"], [0.4444444444444444, \"#26828e\"], [0.5555555555555556, \"#1f9e89\"], [0.6666666666666666, \"#35b779\"], [0.7777777777777778, \"#6ece58\"], [0.8888888888888888, \"#b5de2b\"], [1.0, \"#fde725\"]], \"sequentialminus\": [[0.0, \"#440154\"], [0.1111111111111111, \"#482878\"], [0.2222222222222222, \"#3e4989\"], [0.3333333333333333, \"#31688e\"], [0.4444444444444444, \"#26828e\"], [0.5555555555555556, \"#1f9e89\"], [0.6666666666666666, \"#35b779\"], [0.7777777777777778, \"#6ece58\"], [0.8888888888888888, \"#b5de2b\"], [1.0, \"#fde725\"]]}, \"colorway\": [\"#1F77B4\", \"#FF7F0E\", \"#2CA02C\", \"#D62728\", \"#9467BD\", \"#8C564B\", \"#E377C2\", \"#7F7F7F\", \"#BCBD22\", \"#17BECF\"], \"font\": {\"color\": \"rgb(36,36,36)\"}, \"geo\": {\"bgcolor\": \"white\", \"lakecolor\": \"white\", \"landcolor\": \"white\", \"showlakes\": true, \"showland\": true, \"subunitcolor\": \"white\"}, \"hoverlabel\": {\"align\": \"left\"}, \"hovermode\": \"closest\", \"mapbox\": {\"style\": \"light\"}, \"paper_bgcolor\": \"white\", \"plot_bgcolor\": \"white\", \"polar\": {\"angularaxis\": {\"gridcolor\": \"rgb(232,232,232)\", \"linecolor\": \"rgb(36,36,36)\", \"showgrid\": false, \"showline\": true, \"ticks\": \"outside\"}, \"bgcolor\": \"white\", \"radialaxis\": {\"gridcolor\": \"rgb(232,232,232)\", \"linecolor\": \"rgb(36,36,36)\", \"showgrid\": false, \"showline\": true, \"ticks\": \"outside\"}}, \"scene\": {\"xaxis\": {\"backgroundcolor\": \"white\", \"gridcolor\": \"rgb(232,232,232)\", \"gridwidth\": 2, \"linecolor\": \"rgb(36,36,36)\", \"showbackground\": true, \"showgrid\": false, \"showline\": true, \"ticks\": \"outside\", \"zeroline\": false, \"zerolinecolor\": \"rgb(36,36,36)\"}, \"yaxis\": {\"backgroundcolor\": \"white\", \"gridcolor\": \"rgb(232,232,232)\", \"gridwidth\": 2, \"linecolor\": \"rgb(36,36,36)\", \"showbackground\": true, \"showgrid\": false, \"showline\": true, \"ticks\": \"outside\", \"zeroline\": false, \"zerolinecolor\": \"rgb(36,36,36)\"}, \"zaxis\": {\"backgroundcolor\": \"white\", \"gridcolor\": \"rgb(232,232,232)\", \"gridwidth\": 2, \"linecolor\": \"rgb(36,36,36)\", \"showbackground\": true, \"showgrid\": false, \"showline\": true, \"ticks\": \"outside\", \"zeroline\": false, \"zerolinecolor\": \"rgb(36,36,36)\"}}, \"shapedefaults\": {\"fillcolor\": \"black\", \"line\": {\"width\": 0}, \"opacity\": 0.3}, \"ternary\": {\"aaxis\": {\"gridcolor\": \"rgb(232,232,232)\", \"linecolor\": \"rgb(36,36,36)\", \"showgrid\": false, \"showline\": true, \"ticks\": \"outside\"}, \"baxis\": {\"gridcolor\": \"rgb(232,232,232)\", \"linecolor\": \"rgb(36,36,36)\", \"showgrid\": false, \"showline\": true, \"ticks\": \"outside\"}, \"bgcolor\": \"white\", \"caxis\": {\"gridcolor\": \"rgb(232,232,232)\", \"linecolor\": \"rgb(36,36,36)\", \"showgrid\": false, \"showline\": true, \"ticks\": \"outside\"}}, \"title\": {\"x\": 0.05}, \"xaxis\": {\"automargin\": true, \"gridcolor\": \"rgb(232,232,232)\", \"linecolor\": \"rgb(36,36,36)\", \"showgrid\": false, \"showline\": true, \"ticks\": \"outside\", \"title\": {\"standoff\": 15}, \"zeroline\": false, \"zerolinecolor\": \"rgb(36,36,36)\"}, \"yaxis\": {\"automargin\": true, \"gridcolor\": \"rgb(232,232,232)\", \"linecolor\": \"rgb(36,36,36)\", \"showgrid\": false, \"showline\": true, \"ticks\": \"outside\", \"title\": {\"standoff\": 15}, \"zeroline\": false, \"zerolinecolor\": \"rgb(36,36,36)\"}}}, \"xaxis\": {\"exponentformat\": \"none\", \"title\": {\"text\": \"Rating\"}, \"type\": \"linear\"}, \"yaxis\": {\"exponentformat\": \"none\", \"title\": {\"text\": \"Anzahl Reviews\"}, \"type\": \"linear\"}},\n",
       "                        {\"responsive\": true}\n",
       "                    ).then(function(){\n",
       "                            \n",
       "var gd = document.getElementById('153cc361-402d-4037-ac41-4104983c4165');\n",
       "var x = new MutationObserver(function (mutations, observer) {{\n",
       "        var display = window.getComputedStyle(gd).display;\n",
       "        if (!display || display === 'none') {{\n",
       "            console.log([gd, 'removed!']);\n",
       "            Plotly.purge(gd);\n",
       "            observer.disconnect();\n",
       "        }}\n",
       "}});\n",
       "\n",
       "// Listen for the removal of the full notebook cells\n",
       "var notebookContainer = gd.closest('#notebook-container');\n",
       "if (notebookContainer) {{\n",
       "    x.observe(notebookContainer, {childList: true});\n",
       "}}\n",
       "\n",
       "// Listen for the clearing of the current output cell\n",
       "var outputEl = gd.closest('.output');\n",
       "if (outputEl) {{\n",
       "    x.observe(outputEl, {childList: true});\n",
       "}}\n",
       "\n",
       "                        })\n",
       "                };\n",
       "                });\n",
       "            </script>\n",
       "        </div>"
      ]
     },
     "metadata": {},
     "output_type": "display_data"
    }
   ],
   "source": [
    "scatter(t.df,x=\"rating\",y=\"review_id\",groupby=\"topic\",colorby = \"topic\",sizeby = \"fixed\", aggregate = {\"x\":\"mean\",\"y\":\"count\",\n",
    "                                                                                                       \"colorby\":\"sum\"},\n",
    "            axistype = {\"x\":\"linear\",\"y\":\"linear\"},\n",
    "            xtitle=\"Rating\", ytitle=\"Anzahl Reviews\")"
   ]
  },
  {
   "cell_type": "markdown",
   "metadata": {},
   "source": [
    "### Ab Kalenderwoche 17 sind die Reviews deutlich angestiegen und das Thema mit der Dose und das Haarverhalten hat begonnen Aufmerksamkeit zu erregen."
   ]
  },
  {
   "cell_type": "code",
   "execution_count": 57,
   "metadata": {},
   "outputs": [
    {
     "data": {
      "application/vnd.plotly.v1+json": {
       "config": {
        "linkText": "Export to plot.ly",
        "plotlyServerURL": "https://plot.ly",
        "showLink": false
       },
       "data": [
        {
         "name": "Dose",
         "type": "bar",
         "x": [
          9,
          14,
          16,
          17,
          18,
          19,
          20,
          21
         ],
         "y": [
          1,
          1,
          1,
          2,
          3,
          1,
          4,
          1
         ]
        },
        {
         "name": "Geruch",
         "type": "bar",
         "x": [
          9,
          10,
          11,
          12,
          13,
          14,
          15,
          16,
          17,
          18,
          19,
          20,
          21,
          22
         ],
         "y": [
          12,
          3,
          18,
          13,
          7,
          13,
          7,
          9,
          34,
          19,
          29,
          20,
          9,
          4
         ]
        },
        {
         "name": "Haut",
         "type": "bar",
         "x": [
          9,
          11,
          17
         ],
         "y": [
          1,
          2,
          1
         ]
        },
        {
         "name": "Produktbegeisterung",
         "type": "bar",
         "x": [
          9,
          10,
          11,
          12,
          13,
          14,
          15,
          16,
          17,
          18,
          19,
          20,
          21,
          22
         ],
         "y": [
          4,
          1,
          12,
          8,
          2,
          9,
          7,
          10,
          25,
          15,
          38,
          14,
          3,
          8
         ]
        },
        {
         "name": "Haar und Shampoo",
         "type": "bar",
         "x": [
          11,
          13,
          17,
          18,
          19,
          20,
          21,
          22
         ],
         "y": [
          3,
          1,
          4,
          2,
          2,
          2,
          2,
          1
         ]
        },
        {
         "name": "Bestellung",
         "type": "bar",
         "x": [
          17,
          18,
          19,
          20
         ],
         "y": [
          2,
          1,
          1,
          1
         ]
        }
       ],
       "layout": {
        "autosize": true,
        "barmode": "stack",
        "legend": {
         "orientation": "h",
         "x": 0.1,
         "y": 1.5
        },
        "showlegend": true,
        "template": {
         "data": {
          "bar": [
           {
            "error_x": {
             "color": "rgb(36,36,36)"
            },
            "error_y": {
             "color": "rgb(36,36,36)"
            },
            "marker": {
             "line": {
              "color": "white",
              "width": 0.5
             }
            },
            "type": "bar"
           }
          ],
          "barpolar": [
           {
            "marker": {
             "line": {
              "color": "white",
              "width": 0.5
             }
            },
            "type": "barpolar"
           }
          ],
          "carpet": [
           {
            "aaxis": {
             "endlinecolor": "rgb(36,36,36)",
             "gridcolor": "white",
             "linecolor": "white",
             "minorgridcolor": "white",
             "startlinecolor": "rgb(36,36,36)"
            },
            "baxis": {
             "endlinecolor": "rgb(36,36,36)",
             "gridcolor": "white",
             "linecolor": "white",
             "minorgridcolor": "white",
             "startlinecolor": "rgb(36,36,36)"
            },
            "type": "carpet"
           }
          ],
          "choropleth": [
           {
            "colorbar": {
             "outlinewidth": 1,
             "tickcolor": "rgb(36,36,36)",
             "ticks": "outside"
            },
            "type": "choropleth"
           }
          ],
          "contour": [
           {
            "colorbar": {
             "outlinewidth": 1,
             "tickcolor": "rgb(36,36,36)",
             "ticks": "outside"
            },
            "colorscale": [
             [
              0,
              "#440154"
             ],
             [
              0.1111111111111111,
              "#482878"
             ],
             [
              0.2222222222222222,
              "#3e4989"
             ],
             [
              0.3333333333333333,
              "#31688e"
             ],
             [
              0.4444444444444444,
              "#26828e"
             ],
             [
              0.5555555555555556,
              "#1f9e89"
             ],
             [
              0.6666666666666666,
              "#35b779"
             ],
             [
              0.7777777777777778,
              "#6ece58"
             ],
             [
              0.8888888888888888,
              "#b5de2b"
             ],
             [
              1,
              "#fde725"
             ]
            ],
            "type": "contour"
           }
          ],
          "contourcarpet": [
           {
            "colorbar": {
             "outlinewidth": 1,
             "tickcolor": "rgb(36,36,36)",
             "ticks": "outside"
            },
            "type": "contourcarpet"
           }
          ],
          "heatmap": [
           {
            "colorbar": {
             "outlinewidth": 1,
             "tickcolor": "rgb(36,36,36)",
             "ticks": "outside"
            },
            "colorscale": [
             [
              0,
              "#440154"
             ],
             [
              0.1111111111111111,
              "#482878"
             ],
             [
              0.2222222222222222,
              "#3e4989"
             ],
             [
              0.3333333333333333,
              "#31688e"
             ],
             [
              0.4444444444444444,
              "#26828e"
             ],
             [
              0.5555555555555556,
              "#1f9e89"
             ],
             [
              0.6666666666666666,
              "#35b779"
             ],
             [
              0.7777777777777778,
              "#6ece58"
             ],
             [
              0.8888888888888888,
              "#b5de2b"
             ],
             [
              1,
              "#fde725"
             ]
            ],
            "type": "heatmap"
           }
          ],
          "heatmapgl": [
           {
            "colorbar": {
             "outlinewidth": 1,
             "tickcolor": "rgb(36,36,36)",
             "ticks": "outside"
            },
            "colorscale": [
             [
              0,
              "#440154"
             ],
             [
              0.1111111111111111,
              "#482878"
             ],
             [
              0.2222222222222222,
              "#3e4989"
             ],
             [
              0.3333333333333333,
              "#31688e"
             ],
             [
              0.4444444444444444,
              "#26828e"
             ],
             [
              0.5555555555555556,
              "#1f9e89"
             ],
             [
              0.6666666666666666,
              "#35b779"
             ],
             [
              0.7777777777777778,
              "#6ece58"
             ],
             [
              0.8888888888888888,
              "#b5de2b"
             ],
             [
              1,
              "#fde725"
             ]
            ],
            "type": "heatmapgl"
           }
          ],
          "histogram": [
           {
            "marker": {
             "line": {
              "color": "white",
              "width": 0.6
             }
            },
            "type": "histogram"
           }
          ],
          "histogram2d": [
           {
            "colorbar": {
             "outlinewidth": 1,
             "tickcolor": "rgb(36,36,36)",
             "ticks": "outside"
            },
            "colorscale": [
             [
              0,
              "#440154"
             ],
             [
              0.1111111111111111,
              "#482878"
             ],
             [
              0.2222222222222222,
              "#3e4989"
             ],
             [
              0.3333333333333333,
              "#31688e"
             ],
             [
              0.4444444444444444,
              "#26828e"
             ],
             [
              0.5555555555555556,
              "#1f9e89"
             ],
             [
              0.6666666666666666,
              "#35b779"
             ],
             [
              0.7777777777777778,
              "#6ece58"
             ],
             [
              0.8888888888888888,
              "#b5de2b"
             ],
             [
              1,
              "#fde725"
             ]
            ],
            "type": "histogram2d"
           }
          ],
          "histogram2dcontour": [
           {
            "colorbar": {
             "outlinewidth": 1,
             "tickcolor": "rgb(36,36,36)",
             "ticks": "outside"
            },
            "colorscale": [
             [
              0,
              "#440154"
             ],
             [
              0.1111111111111111,
              "#482878"
             ],
             [
              0.2222222222222222,
              "#3e4989"
             ],
             [
              0.3333333333333333,
              "#31688e"
             ],
             [
              0.4444444444444444,
              "#26828e"
             ],
             [
              0.5555555555555556,
              "#1f9e89"
             ],
             [
              0.6666666666666666,
              "#35b779"
             ],
             [
              0.7777777777777778,
              "#6ece58"
             ],
             [
              0.8888888888888888,
              "#b5de2b"
             ],
             [
              1,
              "#fde725"
             ]
            ],
            "type": "histogram2dcontour"
           }
          ],
          "mesh3d": [
           {
            "colorbar": {
             "outlinewidth": 1,
             "tickcolor": "rgb(36,36,36)",
             "ticks": "outside"
            },
            "type": "mesh3d"
           }
          ],
          "parcoords": [
           {
            "line": {
             "colorbar": {
              "outlinewidth": 1,
              "tickcolor": "rgb(36,36,36)",
              "ticks": "outside"
             }
            },
            "type": "parcoords"
           }
          ],
          "pie": [
           {
            "automargin": true,
            "type": "pie"
           }
          ],
          "scatter": [
           {
            "marker": {
             "colorbar": {
              "outlinewidth": 1,
              "tickcolor": "rgb(36,36,36)",
              "ticks": "outside"
             }
            },
            "type": "scatter"
           }
          ],
          "scatter3d": [
           {
            "line": {
             "colorbar": {
              "outlinewidth": 1,
              "tickcolor": "rgb(36,36,36)",
              "ticks": "outside"
             }
            },
            "marker": {
             "colorbar": {
              "outlinewidth": 1,
              "tickcolor": "rgb(36,36,36)",
              "ticks": "outside"
             }
            },
            "type": "scatter3d"
           }
          ],
          "scattercarpet": [
           {
            "marker": {
             "colorbar": {
              "outlinewidth": 1,
              "tickcolor": "rgb(36,36,36)",
              "ticks": "outside"
             }
            },
            "type": "scattercarpet"
           }
          ],
          "scattergeo": [
           {
            "marker": {
             "colorbar": {
              "outlinewidth": 1,
              "tickcolor": "rgb(36,36,36)",
              "ticks": "outside"
             }
            },
            "type": "scattergeo"
           }
          ],
          "scattergl": [
           {
            "marker": {
             "colorbar": {
              "outlinewidth": 1,
              "tickcolor": "rgb(36,36,36)",
              "ticks": "outside"
             }
            },
            "type": "scattergl"
           }
          ],
          "scattermapbox": [
           {
            "marker": {
             "colorbar": {
              "outlinewidth": 1,
              "tickcolor": "rgb(36,36,36)",
              "ticks": "outside"
             }
            },
            "type": "scattermapbox"
           }
          ],
          "scatterpolar": [
           {
            "marker": {
             "colorbar": {
              "outlinewidth": 1,
              "tickcolor": "rgb(36,36,36)",
              "ticks": "outside"
             }
            },
            "type": "scatterpolar"
           }
          ],
          "scatterpolargl": [
           {
            "marker": {
             "colorbar": {
              "outlinewidth": 1,
              "tickcolor": "rgb(36,36,36)",
              "ticks": "outside"
             }
            },
            "type": "scatterpolargl"
           }
          ],
          "scatterternary": [
           {
            "marker": {
             "colorbar": {
              "outlinewidth": 1,
              "tickcolor": "rgb(36,36,36)",
              "ticks": "outside"
             }
            },
            "type": "scatterternary"
           }
          ],
          "surface": [
           {
            "colorbar": {
             "outlinewidth": 1,
             "tickcolor": "rgb(36,36,36)",
             "ticks": "outside"
            },
            "colorscale": [
             [
              0,
              "#440154"
             ],
             [
              0.1111111111111111,
              "#482878"
             ],
             [
              0.2222222222222222,
              "#3e4989"
             ],
             [
              0.3333333333333333,
              "#31688e"
             ],
             [
              0.4444444444444444,
              "#26828e"
             ],
             [
              0.5555555555555556,
              "#1f9e89"
             ],
             [
              0.6666666666666666,
              "#35b779"
             ],
             [
              0.7777777777777778,
              "#6ece58"
             ],
             [
              0.8888888888888888,
              "#b5de2b"
             ],
             [
              1,
              "#fde725"
             ]
            ],
            "type": "surface"
           }
          ],
          "table": [
           {
            "cells": {
             "fill": {
              "color": "rgb(237,237,237)"
             },
             "line": {
              "color": "white"
             }
            },
            "header": {
             "fill": {
              "color": "rgb(217,217,217)"
             },
             "line": {
              "color": "white"
             }
            },
            "type": "table"
           }
          ]
         },
         "layout": {
          "annotationdefaults": {
           "arrowhead": 0,
           "arrowwidth": 1
          },
          "coloraxis": {
           "colorbar": {
            "outlinewidth": 1,
            "tickcolor": "rgb(36,36,36)",
            "ticks": "outside"
           }
          },
          "colorscale": {
           "diverging": [
            [
             0,
             "rgb(103,0,31)"
            ],
            [
             0.1,
             "rgb(178,24,43)"
            ],
            [
             0.2,
             "rgb(214,96,77)"
            ],
            [
             0.3,
             "rgb(244,165,130)"
            ],
            [
             0.4,
             "rgb(253,219,199)"
            ],
            [
             0.5,
             "rgb(247,247,247)"
            ],
            [
             0.6,
             "rgb(209,229,240)"
            ],
            [
             0.7,
             "rgb(146,197,222)"
            ],
            [
             0.8,
             "rgb(67,147,195)"
            ],
            [
             0.9,
             "rgb(33,102,172)"
            ],
            [
             1,
             "rgb(5,48,97)"
            ]
           ],
           "sequential": [
            [
             0,
             "#440154"
            ],
            [
             0.1111111111111111,
             "#482878"
            ],
            [
             0.2222222222222222,
             "#3e4989"
            ],
            [
             0.3333333333333333,
             "#31688e"
            ],
            [
             0.4444444444444444,
             "#26828e"
            ],
            [
             0.5555555555555556,
             "#1f9e89"
            ],
            [
             0.6666666666666666,
             "#35b779"
            ],
            [
             0.7777777777777778,
             "#6ece58"
            ],
            [
             0.8888888888888888,
             "#b5de2b"
            ],
            [
             1,
             "#fde725"
            ]
           ],
           "sequentialminus": [
            [
             0,
             "#440154"
            ],
            [
             0.1111111111111111,
             "#482878"
            ],
            [
             0.2222222222222222,
             "#3e4989"
            ],
            [
             0.3333333333333333,
             "#31688e"
            ],
            [
             0.4444444444444444,
             "#26828e"
            ],
            [
             0.5555555555555556,
             "#1f9e89"
            ],
            [
             0.6666666666666666,
             "#35b779"
            ],
            [
             0.7777777777777778,
             "#6ece58"
            ],
            [
             0.8888888888888888,
             "#b5de2b"
            ],
            [
             1,
             "#fde725"
            ]
           ]
          },
          "colorway": [
           "#1F77B4",
           "#FF7F0E",
           "#2CA02C",
           "#D62728",
           "#9467BD",
           "#8C564B",
           "#E377C2",
           "#7F7F7F",
           "#BCBD22",
           "#17BECF"
          ],
          "font": {
           "color": "rgb(36,36,36)"
          },
          "geo": {
           "bgcolor": "white",
           "lakecolor": "white",
           "landcolor": "white",
           "showlakes": true,
           "showland": true,
           "subunitcolor": "white"
          },
          "hoverlabel": {
           "align": "left"
          },
          "hovermode": "closest",
          "mapbox": {
           "style": "light"
          },
          "paper_bgcolor": "white",
          "plot_bgcolor": "white",
          "polar": {
           "angularaxis": {
            "gridcolor": "rgb(232,232,232)",
            "linecolor": "rgb(36,36,36)",
            "showgrid": false,
            "showline": true,
            "ticks": "outside"
           },
           "bgcolor": "white",
           "radialaxis": {
            "gridcolor": "rgb(232,232,232)",
            "linecolor": "rgb(36,36,36)",
            "showgrid": false,
            "showline": true,
            "ticks": "outside"
           }
          },
          "scene": {
           "xaxis": {
            "backgroundcolor": "white",
            "gridcolor": "rgb(232,232,232)",
            "gridwidth": 2,
            "linecolor": "rgb(36,36,36)",
            "showbackground": true,
            "showgrid": false,
            "showline": true,
            "ticks": "outside",
            "zeroline": false,
            "zerolinecolor": "rgb(36,36,36)"
           },
           "yaxis": {
            "backgroundcolor": "white",
            "gridcolor": "rgb(232,232,232)",
            "gridwidth": 2,
            "linecolor": "rgb(36,36,36)",
            "showbackground": true,
            "showgrid": false,
            "showline": true,
            "ticks": "outside",
            "zeroline": false,
            "zerolinecolor": "rgb(36,36,36)"
           },
           "zaxis": {
            "backgroundcolor": "white",
            "gridcolor": "rgb(232,232,232)",
            "gridwidth": 2,
            "linecolor": "rgb(36,36,36)",
            "showbackground": true,
            "showgrid": false,
            "showline": true,
            "ticks": "outside",
            "zeroline": false,
            "zerolinecolor": "rgb(36,36,36)"
           }
          },
          "shapedefaults": {
           "fillcolor": "black",
           "line": {
            "width": 0
           },
           "opacity": 0.3
          },
          "ternary": {
           "aaxis": {
            "gridcolor": "rgb(232,232,232)",
            "linecolor": "rgb(36,36,36)",
            "showgrid": false,
            "showline": true,
            "ticks": "outside"
           },
           "baxis": {
            "gridcolor": "rgb(232,232,232)",
            "linecolor": "rgb(36,36,36)",
            "showgrid": false,
            "showline": true,
            "ticks": "outside"
           },
           "bgcolor": "white",
           "caxis": {
            "gridcolor": "rgb(232,232,232)",
            "linecolor": "rgb(36,36,36)",
            "showgrid": false,
            "showline": true,
            "ticks": "outside"
           }
          },
          "title": {
           "x": 0.05
          },
          "xaxis": {
           "automargin": true,
           "gridcolor": "rgb(232,232,232)",
           "linecolor": "rgb(36,36,36)",
           "showgrid": false,
           "showline": true,
           "ticks": "outside",
           "title": {
            "standoff": 15
           },
           "zeroline": false,
           "zerolinecolor": "rgb(36,36,36)"
          },
          "yaxis": {
           "automargin": true,
           "gridcolor": "rgb(232,232,232)",
           "linecolor": "rgb(36,36,36)",
           "showgrid": false,
           "showline": true,
           "ticks": "outside",
           "title": {
            "standoff": 15
           },
           "zeroline": false,
           "zerolinecolor": "rgb(36,36,36)"
          }
         }
        },
        "xaxis": {
         "title": {
          "text": "Week number"
         }
        },
        "yaxis": {
         "title": {
          "text": "Publish-Count"
         }
        }
       }
      },
      "text/html": [
       "<div>\n",
       "        \n",
       "        \n",
       "            <div id=\"e5df797b-51dd-4f17-b898-044766790012\" class=\"plotly-graph-div\" style=\"height:525px; width:100%;\"></div>\n",
       "            <script type=\"text/javascript\">\n",
       "                require([\"plotly\"], function(Plotly) {\n",
       "                    window.PLOTLYENV=window.PLOTLYENV || {};\n",
       "                    \n",
       "                if (document.getElementById(\"e5df797b-51dd-4f17-b898-044766790012\")) {\n",
       "                    Plotly.newPlot(\n",
       "                        'e5df797b-51dd-4f17-b898-044766790012',\n",
       "                        [{\"name\": \"Dose\", \"type\": \"bar\", \"x\": [9, 14, 16, 17, 18, 19, 20, 21], \"y\": [1, 1, 1, 2, 3, 1, 4, 1]}, {\"name\": \"Geruch\", \"type\": \"bar\", \"x\": [9, 10, 11, 12, 13, 14, 15, 16, 17, 18, 19, 20, 21, 22], \"y\": [12, 3, 18, 13, 7, 13, 7, 9, 34, 19, 29, 20, 9, 4]}, {\"name\": \"Haut\", \"type\": \"bar\", \"x\": [9, 11, 17], \"y\": [1, 2, 1]}, {\"name\": \"Produktbegeisterung\", \"type\": \"bar\", \"x\": [9, 10, 11, 12, 13, 14, 15, 16, 17, 18, 19, 20, 21, 22], \"y\": [4, 1, 12, 8, 2, 9, 7, 10, 25, 15, 38, 14, 3, 8]}, {\"name\": \"Haar und Shampoo\", \"type\": \"bar\", \"x\": [11, 13, 17, 18, 19, 20, 21, 22], \"y\": [3, 1, 4, 2, 2, 2, 2, 1]}, {\"name\": \"Bestellung\", \"type\": \"bar\", \"x\": [17, 18, 19, 20], \"y\": [2, 1, 1, 1]}],\n",
       "                        {\"autosize\": true, \"barmode\": \"stack\", \"legend\": {\"orientation\": \"h\", \"x\": 0.1, \"y\": 1.5}, \"showlegend\": true, \"template\": {\"data\": {\"bar\": [{\"error_x\": {\"color\": \"rgb(36,36,36)\"}, \"error_y\": {\"color\": \"rgb(36,36,36)\"}, \"marker\": {\"line\": {\"color\": \"white\", \"width\": 0.5}}, \"type\": \"bar\"}], \"barpolar\": [{\"marker\": {\"line\": {\"color\": \"white\", \"width\": 0.5}}, \"type\": \"barpolar\"}], \"carpet\": [{\"aaxis\": {\"endlinecolor\": \"rgb(36,36,36)\", \"gridcolor\": \"white\", \"linecolor\": \"white\", \"minorgridcolor\": \"white\", \"startlinecolor\": \"rgb(36,36,36)\"}, \"baxis\": {\"endlinecolor\": \"rgb(36,36,36)\", \"gridcolor\": \"white\", \"linecolor\": \"white\", \"minorgridcolor\": \"white\", \"startlinecolor\": \"rgb(36,36,36)\"}, \"type\": \"carpet\"}], \"choropleth\": [{\"colorbar\": {\"outlinewidth\": 1, \"tickcolor\": \"rgb(36,36,36)\", \"ticks\": \"outside\"}, \"type\": \"choropleth\"}], \"contour\": [{\"colorbar\": {\"outlinewidth\": 1, \"tickcolor\": \"rgb(36,36,36)\", \"ticks\": \"outside\"}, \"colorscale\": [[0.0, \"#440154\"], [0.1111111111111111, \"#482878\"], [0.2222222222222222, \"#3e4989\"], [0.3333333333333333, \"#31688e\"], [0.4444444444444444, \"#26828e\"], [0.5555555555555556, \"#1f9e89\"], [0.6666666666666666, \"#35b779\"], [0.7777777777777778, \"#6ece58\"], [0.8888888888888888, \"#b5de2b\"], [1.0, \"#fde725\"]], \"type\": \"contour\"}], \"contourcarpet\": [{\"colorbar\": {\"outlinewidth\": 1, \"tickcolor\": \"rgb(36,36,36)\", \"ticks\": \"outside\"}, \"type\": \"contourcarpet\"}], \"heatmap\": [{\"colorbar\": {\"outlinewidth\": 1, \"tickcolor\": \"rgb(36,36,36)\", \"ticks\": \"outside\"}, \"colorscale\": [[0.0, \"#440154\"], [0.1111111111111111, \"#482878\"], [0.2222222222222222, \"#3e4989\"], [0.3333333333333333, \"#31688e\"], [0.4444444444444444, \"#26828e\"], [0.5555555555555556, \"#1f9e89\"], [0.6666666666666666, \"#35b779\"], [0.7777777777777778, \"#6ece58\"], [0.8888888888888888, \"#b5de2b\"], [1.0, \"#fde725\"]], \"type\": \"heatmap\"}], \"heatmapgl\": [{\"colorbar\": {\"outlinewidth\": 1, \"tickcolor\": \"rgb(36,36,36)\", \"ticks\": \"outside\"}, \"colorscale\": [[0.0, \"#440154\"], [0.1111111111111111, \"#482878\"], [0.2222222222222222, \"#3e4989\"], [0.3333333333333333, \"#31688e\"], [0.4444444444444444, \"#26828e\"], [0.5555555555555556, \"#1f9e89\"], [0.6666666666666666, \"#35b779\"], [0.7777777777777778, \"#6ece58\"], [0.8888888888888888, \"#b5de2b\"], [1.0, \"#fde725\"]], \"type\": \"heatmapgl\"}], \"histogram\": [{\"marker\": {\"line\": {\"color\": \"white\", \"width\": 0.6}}, \"type\": \"histogram\"}], \"histogram2d\": [{\"colorbar\": {\"outlinewidth\": 1, \"tickcolor\": \"rgb(36,36,36)\", \"ticks\": \"outside\"}, \"colorscale\": [[0.0, \"#440154\"], [0.1111111111111111, \"#482878\"], [0.2222222222222222, \"#3e4989\"], [0.3333333333333333, \"#31688e\"], [0.4444444444444444, \"#26828e\"], [0.5555555555555556, \"#1f9e89\"], [0.6666666666666666, \"#35b779\"], [0.7777777777777778, \"#6ece58\"], [0.8888888888888888, \"#b5de2b\"], [1.0, \"#fde725\"]], \"type\": \"histogram2d\"}], \"histogram2dcontour\": [{\"colorbar\": {\"outlinewidth\": 1, \"tickcolor\": \"rgb(36,36,36)\", \"ticks\": \"outside\"}, \"colorscale\": [[0.0, \"#440154\"], [0.1111111111111111, \"#482878\"], [0.2222222222222222, \"#3e4989\"], [0.3333333333333333, \"#31688e\"], [0.4444444444444444, \"#26828e\"], [0.5555555555555556, \"#1f9e89\"], [0.6666666666666666, \"#35b779\"], [0.7777777777777778, \"#6ece58\"], [0.8888888888888888, \"#b5de2b\"], [1.0, \"#fde725\"]], \"type\": \"histogram2dcontour\"}], \"mesh3d\": [{\"colorbar\": {\"outlinewidth\": 1, \"tickcolor\": \"rgb(36,36,36)\", \"ticks\": \"outside\"}, \"type\": \"mesh3d\"}], \"parcoords\": [{\"line\": {\"colorbar\": {\"outlinewidth\": 1, \"tickcolor\": \"rgb(36,36,36)\", \"ticks\": \"outside\"}}, \"type\": \"parcoords\"}], \"pie\": [{\"automargin\": true, \"type\": \"pie\"}], \"scatter\": [{\"marker\": {\"colorbar\": {\"outlinewidth\": 1, \"tickcolor\": \"rgb(36,36,36)\", \"ticks\": \"outside\"}}, \"type\": \"scatter\"}], \"scatter3d\": [{\"line\": {\"colorbar\": {\"outlinewidth\": 1, \"tickcolor\": \"rgb(36,36,36)\", \"ticks\": \"outside\"}}, \"marker\": {\"colorbar\": {\"outlinewidth\": 1, \"tickcolor\": \"rgb(36,36,36)\", \"ticks\": \"outside\"}}, \"type\": \"scatter3d\"}], \"scattercarpet\": [{\"marker\": {\"colorbar\": {\"outlinewidth\": 1, \"tickcolor\": \"rgb(36,36,36)\", \"ticks\": \"outside\"}}, \"type\": \"scattercarpet\"}], \"scattergeo\": [{\"marker\": {\"colorbar\": {\"outlinewidth\": 1, \"tickcolor\": \"rgb(36,36,36)\", \"ticks\": \"outside\"}}, \"type\": \"scattergeo\"}], \"scattergl\": [{\"marker\": {\"colorbar\": {\"outlinewidth\": 1, \"tickcolor\": \"rgb(36,36,36)\", \"ticks\": \"outside\"}}, \"type\": \"scattergl\"}], \"scattermapbox\": [{\"marker\": {\"colorbar\": {\"outlinewidth\": 1, \"tickcolor\": \"rgb(36,36,36)\", \"ticks\": \"outside\"}}, \"type\": \"scattermapbox\"}], \"scatterpolar\": [{\"marker\": {\"colorbar\": {\"outlinewidth\": 1, \"tickcolor\": \"rgb(36,36,36)\", \"ticks\": \"outside\"}}, \"type\": \"scatterpolar\"}], \"scatterpolargl\": [{\"marker\": {\"colorbar\": {\"outlinewidth\": 1, \"tickcolor\": \"rgb(36,36,36)\", \"ticks\": \"outside\"}}, \"type\": \"scatterpolargl\"}], \"scatterternary\": [{\"marker\": {\"colorbar\": {\"outlinewidth\": 1, \"tickcolor\": \"rgb(36,36,36)\", \"ticks\": \"outside\"}}, \"type\": \"scatterternary\"}], \"surface\": [{\"colorbar\": {\"outlinewidth\": 1, \"tickcolor\": \"rgb(36,36,36)\", \"ticks\": \"outside\"}, \"colorscale\": [[0.0, \"#440154\"], [0.1111111111111111, \"#482878\"], [0.2222222222222222, \"#3e4989\"], [0.3333333333333333, \"#31688e\"], [0.4444444444444444, \"#26828e\"], [0.5555555555555556, \"#1f9e89\"], [0.6666666666666666, \"#35b779\"], [0.7777777777777778, \"#6ece58\"], [0.8888888888888888, \"#b5de2b\"], [1.0, \"#fde725\"]], \"type\": \"surface\"}], \"table\": [{\"cells\": {\"fill\": {\"color\": \"rgb(237,237,237)\"}, \"line\": {\"color\": \"white\"}}, \"header\": {\"fill\": {\"color\": \"rgb(217,217,217)\"}, \"line\": {\"color\": \"white\"}}, \"type\": \"table\"}]}, \"layout\": {\"annotationdefaults\": {\"arrowhead\": 0, \"arrowwidth\": 1}, \"coloraxis\": {\"colorbar\": {\"outlinewidth\": 1, \"tickcolor\": \"rgb(36,36,36)\", \"ticks\": \"outside\"}}, \"colorscale\": {\"diverging\": [[0.0, \"rgb(103,0,31)\"], [0.1, \"rgb(178,24,43)\"], [0.2, \"rgb(214,96,77)\"], [0.3, \"rgb(244,165,130)\"], [0.4, \"rgb(253,219,199)\"], [0.5, \"rgb(247,247,247)\"], [0.6, \"rgb(209,229,240)\"], [0.7, \"rgb(146,197,222)\"], [0.8, \"rgb(67,147,195)\"], [0.9, \"rgb(33,102,172)\"], [1.0, \"rgb(5,48,97)\"]], \"sequential\": [[0.0, \"#440154\"], [0.1111111111111111, \"#482878\"], [0.2222222222222222, \"#3e4989\"], [0.3333333333333333, \"#31688e\"], [0.4444444444444444, \"#26828e\"], [0.5555555555555556, \"#1f9e89\"], [0.6666666666666666, \"#35b779\"], [0.7777777777777778, \"#6ece58\"], [0.8888888888888888, \"#b5de2b\"], [1.0, \"#fde725\"]], \"sequentialminus\": [[0.0, \"#440154\"], [0.1111111111111111, \"#482878\"], [0.2222222222222222, \"#3e4989\"], [0.3333333333333333, \"#31688e\"], [0.4444444444444444, \"#26828e\"], [0.5555555555555556, \"#1f9e89\"], [0.6666666666666666, \"#35b779\"], [0.7777777777777778, \"#6ece58\"], [0.8888888888888888, \"#b5de2b\"], [1.0, \"#fde725\"]]}, \"colorway\": [\"#1F77B4\", \"#FF7F0E\", \"#2CA02C\", \"#D62728\", \"#9467BD\", \"#8C564B\", \"#E377C2\", \"#7F7F7F\", \"#BCBD22\", \"#17BECF\"], \"font\": {\"color\": \"rgb(36,36,36)\"}, \"geo\": {\"bgcolor\": \"white\", \"lakecolor\": \"white\", \"landcolor\": \"white\", \"showlakes\": true, \"showland\": true, \"subunitcolor\": \"white\"}, \"hoverlabel\": {\"align\": \"left\"}, \"hovermode\": \"closest\", \"mapbox\": {\"style\": \"light\"}, \"paper_bgcolor\": \"white\", \"plot_bgcolor\": \"white\", \"polar\": {\"angularaxis\": {\"gridcolor\": \"rgb(232,232,232)\", \"linecolor\": \"rgb(36,36,36)\", \"showgrid\": false, \"showline\": true, \"ticks\": \"outside\"}, \"bgcolor\": \"white\", \"radialaxis\": {\"gridcolor\": \"rgb(232,232,232)\", \"linecolor\": \"rgb(36,36,36)\", \"showgrid\": false, \"showline\": true, \"ticks\": \"outside\"}}, \"scene\": {\"xaxis\": {\"backgroundcolor\": \"white\", \"gridcolor\": \"rgb(232,232,232)\", \"gridwidth\": 2, \"linecolor\": \"rgb(36,36,36)\", \"showbackground\": true, \"showgrid\": false, \"showline\": true, \"ticks\": \"outside\", \"zeroline\": false, \"zerolinecolor\": \"rgb(36,36,36)\"}, \"yaxis\": {\"backgroundcolor\": \"white\", \"gridcolor\": \"rgb(232,232,232)\", \"gridwidth\": 2, \"linecolor\": \"rgb(36,36,36)\", \"showbackground\": true, \"showgrid\": false, \"showline\": true, \"ticks\": \"outside\", \"zeroline\": false, \"zerolinecolor\": \"rgb(36,36,36)\"}, \"zaxis\": {\"backgroundcolor\": \"white\", \"gridcolor\": \"rgb(232,232,232)\", \"gridwidth\": 2, \"linecolor\": \"rgb(36,36,36)\", \"showbackground\": true, \"showgrid\": false, \"showline\": true, \"ticks\": \"outside\", \"zeroline\": false, \"zerolinecolor\": \"rgb(36,36,36)\"}}, \"shapedefaults\": {\"fillcolor\": \"black\", \"line\": {\"width\": 0}, \"opacity\": 0.3}, \"ternary\": {\"aaxis\": {\"gridcolor\": \"rgb(232,232,232)\", \"linecolor\": \"rgb(36,36,36)\", \"showgrid\": false, \"showline\": true, \"ticks\": \"outside\"}, \"baxis\": {\"gridcolor\": \"rgb(232,232,232)\", \"linecolor\": \"rgb(36,36,36)\", \"showgrid\": false, \"showline\": true, \"ticks\": \"outside\"}, \"bgcolor\": \"white\", \"caxis\": {\"gridcolor\": \"rgb(232,232,232)\", \"linecolor\": \"rgb(36,36,36)\", \"showgrid\": false, \"showline\": true, \"ticks\": \"outside\"}}, \"title\": {\"x\": 0.05}, \"xaxis\": {\"automargin\": true, \"gridcolor\": \"rgb(232,232,232)\", \"linecolor\": \"rgb(36,36,36)\", \"showgrid\": false, \"showline\": true, \"ticks\": \"outside\", \"title\": {\"standoff\": 15}, \"zeroline\": false, \"zerolinecolor\": \"rgb(36,36,36)\"}, \"yaxis\": {\"automargin\": true, \"gridcolor\": \"rgb(232,232,232)\", \"linecolor\": \"rgb(36,36,36)\", \"showgrid\": false, \"showline\": true, \"ticks\": \"outside\", \"title\": {\"standoff\": 15}, \"zeroline\": false, \"zerolinecolor\": \"rgb(36,36,36)\"}}}, \"xaxis\": {\"title\": {\"text\": \"Week number\"}}, \"yaxis\": {\"title\": {\"text\": \"Publish-Count\"}}},\n",
       "                        {\"responsive\": true}\n",
       "                    ).then(function(){\n",
       "                            \n",
       "var gd = document.getElementById('e5df797b-51dd-4f17-b898-044766790012');\n",
       "var x = new MutationObserver(function (mutations, observer) {{\n",
       "        var display = window.getComputedStyle(gd).display;\n",
       "        if (!display || display === 'none') {{\n",
       "            console.log([gd, 'removed!']);\n",
       "            Plotly.purge(gd);\n",
       "            observer.disconnect();\n",
       "        }}\n",
       "}});\n",
       "\n",
       "// Listen for the removal of the full notebook cells\n",
       "var notebookContainer = gd.closest('#notebook-container');\n",
       "if (notebookContainer) {{\n",
       "    x.observe(notebookContainer, {childList: true});\n",
       "}}\n",
       "\n",
       "// Listen for the clearing of the current output cell\n",
       "var outputEl = gd.closest('.output');\n",
       "if (outputEl) {{\n",
       "    x.observe(outputEl, {childList: true});\n",
       "}}\n",
       "\n",
       "                        })\n",
       "                };\n",
       "                });\n",
       "            </script>\n",
       "        </div>"
      ]
     },
     "metadata": {},
     "output_type": "display_data"
    }
   ],
   "source": [
    "timeline(t.df,y=\"review_id\",date_col=\"createdat\",colorby=\"topic\",aggregate=\"nunique\",timeinterval=None)"
   ]
  }
 ],
 "metadata": {
  "celltoolbar": "Slideshow",
  "hide_input": false,
  "kernelspec": {
   "display_name": "Python 3",
   "language": "python",
   "name": "python3"
  },
  "language_info": {
   "codemirror_mode": {
    "name": "ipython",
    "version": 3
   },
   "file_extension": ".py",
   "mimetype": "text/x-python",
   "name": "python",
   "nbconvert_exporter": "python",
   "pygments_lexer": "ipython3",
   "version": "3.7.6"
  },
  "toc": {
   "base_numbering": 1,
   "nav_menu": {},
   "number_sections": false,
   "sideBar": true,
   "skip_h1_title": false,
   "title_cell": "Table of Contents",
   "title_sidebar": "Contents",
   "toc_cell": false,
   "toc_position": {},
   "toc_section_display": true,
   "toc_window_display": true
  },
  "varInspector": {
   "cols": {
    "lenName": 16,
    "lenType": 16,
    "lenVar": 40
   },
   "kernels_config": {
    "python": {
     "delete_cmd_postfix": "",
     "delete_cmd_prefix": "del ",
     "library": "var_list.py",
     "varRefreshCmd": "print(var_dic_list())"
    },
    "r": {
     "delete_cmd_postfix": ") ",
     "delete_cmd_prefix": "rm(",
     "library": "var_list.r",
     "varRefreshCmd": "cat(var_dic_list()) "
    }
   },
   "types_to_exclude": [
    "module",
    "function",
    "builtin_function_or_method",
    "instance",
    "_Feature"
   ],
   "window_display": false
  },
  "widgets": {
   "application/vnd.jupyter.widget-state+json": {
    "state": {},
    "version_major": 2,
    "version_minor": 0
   }
  }
 },
 "nbformat": 4,
 "nbformat_minor": 2
}
