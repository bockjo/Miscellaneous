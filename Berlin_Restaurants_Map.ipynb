{
 "cells": [
  {
   "cell_type": "code",
   "execution_count": 8,
   "metadata": {},
   "outputs": [
    {
     "data": {
      "text/html": [
       "<script>\n",
       "code_show=true; \n",
       "function code_toggle() {\n",
       " if (code_show){\n",
       " $('div.input').hide();\n",
       " } else {\n",
       " $('div.input').show();\n",
       " }\n",
       " code_show = !code_show\n",
       "} \n",
       "$( document ).ready(code_toggle);\n",
       "</script>\n",
       "The raw code for this notebook is by default hidden for easier reading.\n",
       "To toggle on/off the raw code, click <a href=\"javascript:code_toggle()\">here</a>."
      ],
      "text/plain": [
       "<IPython.core.display.HTML object>"
      ]
     },
     "execution_count": 8,
     "metadata": {},
     "output_type": "execute_result"
    }
   ],
   "source": [
    "from IPython.display import HTML\n",
    "\n",
    "HTML('''<script>\n",
    "code_show=true; \n",
    "function code_toggle() {\n",
    " if (code_show){\n",
    " $('div.input').hide();\n",
    " } else {\n",
    " $('div.input').show();\n",
    " }\n",
    " code_show = !code_show\n",
    "} \n",
    "$( document ).ready(code_toggle);\n",
    "</script>\n",
    "The raw code for this notebook is by default hidden for easier reading.\n",
    "To toggle on/off the raw code, click <a href=\"javascript:code_toggle()\">here</a>.''')\n"
   ]
  },
  {
   "cell_type": "markdown",
   "metadata": {},
   "source": [
    "# Best-Value Restaurants in Berlin"
   ]
  },
  {
   "cell_type": "markdown",
   "metadata": {},
   "source": [
    "There are so many good restaurants in Berlin , but it is sometimes hard to find both cheap and good places. It turns out that the Yelp database might help. I looked at 5,000 restaurants in Berlin and would like to share the results."
   ]
  },
  {
   "cell_type": "markdown",
   "metadata": {},
   "source": [
    "**Dark green** = Highest value restaurants (Highest rating, lowest prices and many reviews)\n",
    "\n",
    "**Dark red** = Lowest value restaurants (Lower rating, higher prices and fewer reviews)\n",
    "\n",
    "**Bubble size** = Relative number of reviews on Yelp\n",
    "<br><br>\n"
   ]
  },
  {
   "cell_type": "markdown",
   "metadata": {},
   "source": [
    "*Note: The following weights apply:*\n",
    "\n",
    "*45% Raing, 36% Price & 19% Number of reviews*"
   ]
  },
  {
   "cell_type": "code",
   "execution_count": 1,
   "metadata": {
    "collapsed": true
   },
   "outputs": [],
   "source": [
    "import gmaps\n",
    "import pandas as pd \n",
    "import matplotlib.pyplot as plt\n",
    "import seaborn as sns\n",
    "import numpy as np\n",
    "\n",
    "%matplotlib inline\n",
    "\n",
    "gmaps.configure(api_key=\"YourKey\")\n",
    "\n",
    "df = pd.read_csv(\"BER_restaurants.csv\")\n",
    "df = df.drop_duplicates(subset = \"id\")"
   ]
  },
  {
   "cell_type": "code",
   "execution_count": 2,
   "metadata": {},
   "outputs": [],
   "source": [
    "# Scale rating and price to same range (1-4)\n",
    "rating = df[\"rating\"]\n",
    "price = df[\"price\"]\n",
    "\n",
    "rating = ((rating - rating.min(axis=0)) / (rating.max(axis=0) - rating.min(axis=0)))* (4. - 1.) + 1. #scaled\n",
    "price = ((price - price.min(axis=0)) / (price.max(axis=0) - price.min(axis=0)))* (4. - 1.) + 1. #scaled\n",
    "\n",
    "\n",
    "#Review counts for plotting\n",
    "df[\"true_review_count\"] = df[\"review_count\"]\n",
    "df[\"log_true_review_count\"],review_count = np.log(df[\"true_review_count\"]),np.log(df[\"true_review_count\"])\n",
    "df[\"scaled_true_review_count\"] = ((df[\"true_review_count\"] - df[\"true_review_count\"].min(axis=0)) / \n",
    "                                  (df[\"true_review_count\"].max(axis=0) - df[\"true_review_count\"].min(axis=0)))* (8. - 4.) + 4. #scaled\n",
    "\n",
    "log_count = df[\"log_true_review_count\"]\n",
    "df[\"scaled_log_true_review_count\"] = ((log_count - log_count.min(axis=0)) / \n",
    "                                  (log_count.max(axis=0) - log_count.min(axis=0)))* (4. - 1.) + 1. #scaled\n",
    "\n",
    "\n",
    "#Calculate Value (Gwichtung: 40% = Preis, 60% = Qualitaet)\n",
    "rat_weig = 0.6\n",
    "price_weig = 0.4\n",
    "df[\"value\"] = rat_weig*rating-(price_weig*price)\n",
    "\n",
    "#Calculate hype-value\n",
    "\n",
    "rat_weig = 0.5\n",
    "price_weig = 0.4\n",
    "hype_weig = 0.2\n",
    "df[\"hype_value\"] = rat_weig*rating-(price_weig*price)+hype_weig*df[\"scaled_log_true_review_count\"]"
   ]
  },
  {
   "cell_type": "code",
   "execution_count": 3,
   "metadata": {
    "collapsed": true
   },
   "outputs": [],
   "source": [
    "##########################################\n",
    "# Remove all that have less than 50 reviews and Sort by\n",
    "##########################################\n",
    "\n",
    "df = df[df[\"true_review_count\"]>=50] # This removes all 5 star restaurants \n",
    "\n",
    "\n",
    "df.sort_values([\"hype_value\",\"true_review_count\"], axis=0, ascending=[False, False], inplace=True) # Sort data by value & Reviews counts\n",
    "\n",
    "df = df.reset_index(drop = True)\n",
    "\n",
    "#Reference vars\n",
    "num_display = 500 ###### <<<----- Display Top X restaurants\n",
    "\n",
    "locations = df.loc[0:num_display,[\"lat\", \"long\"]]\n",
    "name = df.loc[0:num_display,[\"id\"]]\n",
    "value = df.loc[0:num_display,[\"value\"]]\n",
    "hype_value = df.loc[0:num_display,[\"hype_value\"]]\n",
    "size = df[\"scaled_true_review_count\"].astype(int).loc[0:num_display] ###### <<<----- bubble size by parameter"
   ]
  },
  {
   "cell_type": "code",
   "execution_count": 4,
   "metadata": {},
   "outputs": [
    {
     "name": "stdout",
     "output_type": "stream",
     "text": [
      "Number of top restaurants displayed on the map:  500 (all with at least 50 reviews)\n"
     ]
    }
   ],
   "source": [
    "print \"Number of top restaurants displayed on the map: \", num_display, \"(all with at least 50 reviews)\""
   ]
  },
  {
   "cell_type": "code",
   "execution_count": 5,
   "metadata": {
    "collapsed": true
   },
   "outputs": [],
   "source": [
    "import matplotlib.cm as cm\n",
    "import matplotlib \n",
    "\n",
    "def return_colors(data_series):\n",
    "    minima = data_series.min()\n",
    "    maxima = data_series.max()\n",
    "\n",
    "    norm = matplotlib.colors.Normalize(vmin=minima, vmax=maxima, clip=True)\n",
    "    mapper = cm.ScalarMappable(norm=norm, cmap=cm.RdYlGn)\n",
    "    \n",
    "    colors = []\n",
    "    for v,i in data_series.iterrows():\n",
    "        colors.append(matplotlib.colors.rgb2hex(mapper.to_rgba(i.values[0])))\n",
    "    \n",
    "    return colors"
   ]
  },
  {
   "cell_type": "code",
   "execution_count": 6,
   "metadata": {
    "collapsed": true
   },
   "outputs": [],
   "source": [
    "import sys  \n",
    "\n",
    "reload(sys)  \n",
    "sys.setdefaultencoding('utf8')\n",
    "\n",
    "colors = return_colors(hype_value) ####### <<<----- Color by parameter\n",
    "name = [unicode(i.values[0]) for e,i in name.iterrows()]\n",
    "\n",
    "fig = gmaps.figure()\n",
    "symbols = gmaps.symbol_layer(locations, \n",
    "                            fill_color=colors,\n",
    "                            fill_opacity=0.1,\n",
    "                            stroke_opacity=0.1,\n",
    "                            stroke_color=colors,\n",
    "                            hover_text=name,\n",
    "                            info_box_content=name,\n",
    "                            display_info_box = True,\n",
    "                            scale = size) \n",
    "fig.add_layer(symbols)"
   ]
  },
  {
   "cell_type": "code",
   "execution_count": 7,
   "metadata": {},
   "outputs": [
    {
     "data": {
      "application/vnd.jupyter.widget-view+json": {
       "model_id": "d094cac8b9454487be6439a9d0e861eb"
      }
     },
     "metadata": {},
     "output_type": "display_data"
    }
   ],
   "source": [
    "fig"
   ]
  }
 ],
 "metadata": {
  "kernelspec": {
   "display_name": "Python 2",
   "language": "python",
   "name": "python2"
  },
  "language_info": {
   "codemirror_mode": {
    "name": "ipython",
    "version": 2
   },
   "file_extension": ".py",
   "mimetype": "text/x-python",
   "name": "python",
   "nbconvert_exporter": "python",
   "pygments_lexer": "ipython2",
   "version": "2.7.13"
  }
 },
 "nbformat": 4,
 "nbformat_minor": 2
}
